{
 "cells": [
  {
   "cell_type": "markdown",
   "metadata": {},
   "source": [
    "<div align=\"center\"><a href=\"https://colab.research.google.com/github/institutohumai/cursos-python/blob/master/Automatizacion/Extras/gsheets_pytrends.ipynb\"> <img src='https://colab.research.google.com/assets/colab-badge.svg'/> </a>"
   ]
  },
  {
   "cell_type": "markdown",
   "metadata": {},
   "source": [
    "# Práctica: GSheet y PyTrends\n",
    "\n",
    "En esta clase veremos:\n",
    "\n",
    "- Repaso Python\n",
    "- Interactuando con Google Sheets\n",
    "- Manipulación de strings \n",
    "- Diccionario\n",
    "- Función Enviar Mail\n",
    "- Pytrends"
   ]
  },
  {
   "cell_type": "markdown",
   "metadata": {
    "id": "ZRxKUvj97Vil"
   },
   "source": [
    "## Preparación"
   ]
  },
  {
   "cell_type": "markdown",
   "metadata": {},
   "source": [
    "Para operar sobre Google Sheets desde Python, tenemos que contar con un archivo de autenticación y compartir el archivo a manipular con el servicio o \"bot\" creado. Desde Colab, vamos a poder autenticar a nuestro usuario directamente:"
   ]
  },
  {
   "cell_type": "code",
   "execution_count": null,
   "metadata": {
    "colab": {
     "base_uri": "https://localhost:8080/",
     "height": 309
    },
    "id": "Ol1mSiayXbHz",
    "outputId": "40d100ad-82bc-46e4-a846-4556349681f2"
   },
   "outputs": [],
   "source": [
    "import gspread\n",
    "\n",
    "# Colab\n",
    "from google.colab import auth\n",
    "from oauth2client.client import GoogleCredentials\n",
    "#auth.authenticate_user()\n",
    "#gc = gspread.authorize(GoogleCredentials.get_application_default())\n",
    "\n",
    "# Local\n",
    "!pip install gspread --upgrade\n",
    "gc = gspread.service_account(filename='alumnos.json')"
   ]
  },
  {
   "cell_type": "code",
   "execution_count": null,
   "metadata": {
    "id": "uEunjNIOavxi"
   },
   "outputs": [],
   "source": [
    "sheet_name = 'Alumnos'\n",
    "sh = gc.open(sheet_name)\n",
    "data = sh.sheet1.get_all_records()"
   ]
  },
  {
   "cell_type": "code",
   "execution_count": null,
   "metadata": {
    "colab": {
     "base_uri": "https://localhost:8080/",
     "height": 51
    },
    "id": "E2ch-qWFguIA",
    "outputId": "b65787b3-1820-46a8-dd3c-be1896fa2f3b"
   },
   "outputs": [
    {
     "name": "stdout",
     "output_type": "stream",
     "text": [
      "<class 'list'>\n",
      "<class 'dict'>\n"
     ]
    }
   ],
   "source": [
    "print(type(data))\n",
    "print(type(data[0]))"
   ]
  },
  {
   "cell_type": "code",
   "execution_count": null,
   "metadata": {
    "id": "7PmHNs8V7Y0Q"
   },
   "outputs": [],
   "source": [
    "data"
   ]
  },
  {
   "cell_type": "code",
   "execution_count": null,
   "metadata": {
    "colab": {
     "base_uri": "https://localhost:8080/",
     "height": 289
    },
    "id": "l35EtijmmHGp",
    "outputId": "64a66a7e-0be0-4ad6-d1a2-6169209036da"
   },
   "outputs": [],
   "source": [
    "for d in data:\n",
    "    print(d['Mail'].split('@')[0])"
   ]
  },
  {
   "cell_type": "markdown",
   "metadata": {
    "id": "cK4vLHaehXoe"
   },
   "source": [
    "### Ejercicio:\n",
    "- ¿Qué estructura de datos es?\n",
    "- Los nombres donde aparece el apellido primero, darlos vuelta a la forma \"Nombre Apellido\"\n"
   ]
  },
  {
   "cell_type": "markdown",
   "metadata": {
    "id": "lVWqep0tibgy"
   },
   "source": [
    "Pseudocódigo:\n",
    "  \n",
    "\n",
    "```\n",
    " para cada elemento:\n",
    "     si el nombre está al revés:\n",
    "        separar el nombre por la coma\n",
    "        invertirlo\n",
    "        unirlo\n",
    "```"
   ]
  },
  {
   "cell_type": "code",
   "execution_count": null,
   "metadata": {
    "colab": {
     "base_uri": "https://localhost:8080/",
     "height": 733
    },
    "id": "l1ie6jU0ap0F",
    "outputId": "d2817152-b9da-40ff-ce2b-f915deeea06c"
   },
   "outputs": [],
   "source": [
    "for d in data:\n",
    "    if ',' in d['Nombre']:\n",
    "        d['Nombre'] = ' '.join(d['Nombre'].split(',')[::-1]).strip()\n",
    "data"
   ]
  },
  {
   "cell_type": "markdown",
   "metadata": {
    "id": "8Cqv1fENivPC"
   },
   "source": [
    "### Ejercicio:\n",
    "\n",
    "Definir la llave \"Primer nombre\" con el primer nombre en cada entrada\n",
    "\n",
    "Pseudocódigo\n",
    "\n",
    "```\n",
    "para cada elemento:\n",
    "   separar el string\n",
    "   guardar la primer palabra en el dict con el key \"primer nombre\"\n",
    "```\n",
    "\n"
   ]
  },
  {
   "cell_type": "code",
   "execution_count": null,
   "metadata": {
    "colab": {
     "base_uri": "https://localhost:8080/",
     "height": 1000
    },
    "id": "cCTWIV1j8Z9j",
    "outputId": "d216d5a2-ac68-42e9-985e-f29c059a2d3b"
   },
   "outputs": [],
   "source": [
    "for d in data:\n",
    "    d['Primer Nombre'] = d['Nombre'].split()[0]\n",
    "data"
   ]
  },
  {
   "cell_type": "markdown",
   "metadata": {
    "id": "Qnk0g3ptjsTJ"
   },
   "source": [
    "### Ejercicio:\n",
    "\n",
    "Guardar una lista con los dominios únicos de los mails\n",
    "\n",
    "Pseudocódigo\n",
    "\n",
    "```\n",
    "para cada elemento:\n",
    "   tomar el mail\n",
    "   extraer el dominio\n",
    "   si no está en la lista\n",
    "      guardarlo\n",
    "```\n",
    "\n"
   ]
  },
  {
   "cell_type": "code",
   "execution_count": null,
   "metadata": {
    "colab": {
     "base_uri": "https://localhost:8080/",
     "height": 33
    },
    "id": "z2XlUDjVjhbb",
    "outputId": "3390a288-4739-48e3-97f3-81935af2b323"
   },
   "outputs": [
    {
     "data": {
      "text/plain": [
       "['gmail', 'intalbid', 'iadb', 'outlook', 'live', 'connectamericas', 'ihum']"
      ]
     },
     "execution_count": 26,
     "metadata": {
      "tags": []
     },
     "output_type": "execute_result"
    }
   ],
   "source": [
    "dominios = []\n",
    "\n",
    "for d in data:\n",
    "    dominio = d['Mail'].split('@')[1].split('.')[0]\n",
    "    if dominio not in dominios:\n",
    "        dominios.append(dominio)\n",
    "\n",
    "dominios"
   ]
  },
  {
   "cell_type": "markdown",
   "metadata": {
    "id": "Qul3MpJ486yv"
   },
   "source": [
    "### Bonus:\n",
    "\n",
    "- Usar regular expressions"
   ]
  },
  {
   "cell_type": "code",
   "execution_count": null,
   "metadata": {
    "colab": {
     "base_uri": "https://localhost:8080/",
     "height": 33
    },
    "id": "HMnEvesv9Hnh",
    "outputId": "7cb77a27-4cd7-4dd5-cbb6-66f26b57e507"
   },
   "outputs": [
    {
     "data": {
      "text/plain": [
       "['gmail', 'intalbid', 'iadb', 'outlook', 'live', 'connectamericas', 'ihum']"
      ]
     },
     "execution_count": 27,
     "metadata": {
      "tags": []
     },
     "output_type": "execute_result"
    }
   ],
   "source": [
    "import re\n",
    "\n",
    "dominios = []\n",
    "\n",
    "for d in data:\n",
    "    dominio = re.findall('@(\\w+)\\.', d['Mail'])[0]\n",
    "    if dominio not in dominios:\n",
    "        dominios.append(dominio)\n",
    "\n",
    "dominios"
   ]
  },
  {
   "cell_type": "markdown",
   "metadata": {
    "id": "iU-98_K79ast"
   },
   "source": [
    "### Bonus:\n",
    "\n",
    "- En vez de una lista, hacer un diccionario con la frecuencia de cada dominio"
   ]
  },
  {
   "cell_type": "code",
   "execution_count": null,
   "metadata": {
    "colab": {
     "base_uri": "https://localhost:8080/",
     "height": 133
    },
    "id": "wka6vY3b9iK5",
    "outputId": "16f72ba2-dd16-427a-f283-9f1cbd3222a6"
   },
   "outputs": [
    {
     "data": {
      "text/plain": [
       "{'connectamericas': 1,\n",
       " 'gmail': 3,\n",
       " 'iadb': 8,\n",
       " 'ihum': 1,\n",
       " 'intalbid': 2,\n",
       " 'live': 1,\n",
       " 'outlook': 1}"
      ]
     },
     "execution_count": 28,
     "metadata": {
      "tags": []
     },
     "output_type": "execute_result"
    }
   ],
   "source": [
    "import re\n",
    "\n",
    "dominios = {}\n",
    "\n",
    "for d in data:\n",
    "    dominio = re.findall('@(\\w+)\\.', d['Mail'])[0]\n",
    "    if dominio not in dominios:\n",
    "        dominios[dominio] = 1\n",
    "    else:\n",
    "        dominios[dominio] += 1\n",
    "\n",
    "dominios"
   ]
  },
  {
   "cell_type": "markdown",
   "metadata": {
    "id": "PgMNpdyykBDu"
   },
   "source": [
    "### Mandando mails"
   ]
  },
  {
   "cell_type": "code",
   "execution_count": null,
   "metadata": {
    "id": "ExAHZOBDaclJ"
   },
   "outputs": [],
   "source": [
    "import smtplib\n",
    "from email.mime.multipart import MIMEMultipart\n",
    "from email.mime.text import MIMEText\n",
    "\n",
    "msg = MIMEMultipart()\n",
    "\n",
    "# Contenido\n",
    "msg['From']=\"ejemplo.cuenta.246@gmail.com\"\n",
    "msg['To']=\"mg@ihum.ai\"\n",
    "msg['Subject']= \"Probando mandar mails!\"\n",
    "msg.attach(MIMEText('Este es un mail enviado con Python', 'plain'))\n",
    "\n",
    "# No se queden en los detalles aquí\n",
    "server = smtplib.SMTP('smtp.gmail.com', 587)\n",
    "server.starttls()\n",
    "\n",
    "# Usuario y contraseña\n",
    "server.login(\"ejemplo.cuenta.246@gmail.com\", \"Ejemplo246\")\n",
    "\n",
    "# enviar\n",
    "server.send_message(msg)\n",
    "server.quit();"
   ]
  },
  {
   "cell_type": "markdown",
   "metadata": {
    "id": "CTPMCrXghRIb"
   },
   "source": [
    "### Ejercicio: \n",
    "- Hacer una función con el código anterior para mandar mails"
   ]
  },
  {
   "cell_type": "code",
   "execution_count": null,
   "metadata": {
    "id": "S2NErnBtcYAT"
   },
   "outputs": [],
   "source": [
    "def mandar_mail(usuario, contra, receptor, asunto, contenido):\n",
    "    msg = MIMEMultipart()\n",
    "\n",
    "    # Contenido\n",
    "    msg['From']= usuario\n",
    "    msg['To']= receptor\n",
    "    msg['Subject']= asunto\n",
    "    msg.attach(MIMEText(contenido, 'plain'))\n",
    "\n",
    "    # No se queden en los detalles aquí\n",
    "    server = smtplib.SMTP('smtp.gmail.com', 587)\n",
    "    server.starttls()\n",
    "\n",
    "    # Usuario y contraseña\n",
    "    server.login(usuario, contra)\n",
    "\n",
    "    # enviar\n",
    "    server.send_message(msg)\n",
    "    server.quit();"
   ]
  },
  {
   "cell_type": "markdown",
   "metadata": {
    "id": "cmjdjOAR732d"
   },
   "source": [
    "### Ejercicio\n",
    "\n",
    "Enviando mail\n",
    "\n",
    "- Hacer un búcle que rellene la plantilla para cada diccionario\n",
    "- Definir un string como plantilla para rellenar con \"Primer Nombre\" y \"Tema\"\n",
    "- Si el mail es el tuyo... enviar el mail con la plantilla. Si no, hacer print\n",
    "- Mostrar \"Enviando mail a...\" con el mail a quien se envió"
   ]
  },
  {
   "cell_type": "code",
   "execution_count": null,
   "metadata": {
    "colab": {
     "base_uri": "https://localhost:8080/",
     "height": 300
    },
    "id": "RAZk9N258M3d",
    "outputId": "d6abc7c9-e019-4568-a486-682656050e14"
   },
   "outputs": [],
   "source": [
    "mi_nombre = 'Matías Grinberg'\n",
    "plantilla = '¡Hola! {nombre}. Tu tema es {tema}'\n",
    "\n",
    "for d in data:\n",
    "    texto = plantilla.format(nombre=d['Primer Nombre'], tema=d['Tema'])\n",
    "\n",
    "    if d['Nombre'] == mi_nombre:\n",
    "        mandar_mail(\"ejemplo.cuenta.246@gmail.com\", \"Ejemplo246\", d['Mail'], \"Tema\", texto)\n",
    "        print(f'Enviando Mail a {d[\"Mail\"]}')\n",
    "    else:\n",
    "        print(texto)"
   ]
  },
  {
   "cell_type": "markdown",
   "metadata": {
    "id": "GWGPAAfGFBm4"
   },
   "source": [
    "### Bonus\n",
    "\n",
    "Usar la función .update_cell() del objeto sh para anotar \"OK\" en una nueva columna llamada \"Mail Enviado\", donde corresponda"
   ]
  },
  {
   "cell_type": "code",
   "execution_count": null,
   "metadata": {
    "id": "eQ7-OMLCFS4N"
   },
   "outputs": [],
   "source": [
    "enviado_idx = sheet.find('Enviado').col\n",
    "\n",
    "mi_nombre = 'Matías Grinberg'\n",
    "plantilla = '¡Hola! {nombre}. Tu tema es {tema}'\n",
    "\n",
    "for d in data:\n",
    "\n",
    "    texto = plantilla.format(nombre=d['Primer Nombre'], tema=d['Tema'])\n",
    "\n",
    "    if d['Nombre'] == mi_nombre:\n",
    "        mandar_mail(\"ejemplo.cuenta.246@gmail.com\", \"Ejemplo246\", d['Mail'], \"Tema\", texto)\n",
    "        print(f'Enviando Mail a {d[\"Mail\"]}')\n",
    "        sh.update_cell(row_idx, enviado_idx, 'OK')\n",
    "    else:\n",
    "        print(texto)"
   ]
  },
  {
   "cell_type": "markdown",
   "metadata": {
    "id": "B9th96soHwhR"
   },
   "source": [
    "### Bonus\n",
    "\n",
    "Usar la siguiente función para conseguir las  tendencias de Google para el tema de cada persona"
   ]
  },
  {
   "cell_type": "code",
   "execution_count": null,
   "metadata": {
    "colab": {
     "base_uri": "https://localhost:8080/",
     "height": 216
    },
    "id": "0SEb9VCTG87c",
    "outputId": "70b73f85-014b-453e-9639-75cc9ee2543c"
   },
   "outputs": [
    {
     "name": "stdout",
     "output_type": "stream",
     "text": [
      "Requirement already satisfied: pytrends in /usr/local/lib/python3.6/dist-packages (4.7.3)\n",
      "Requirement already satisfied: lxml in /usr/local/lib/python3.6/dist-packages (from pytrends) (4.2.6)\n",
      "Requirement already satisfied: requests in /usr/local/lib/python3.6/dist-packages (from pytrends) (2.23.0)\n",
      "Requirement already satisfied: pandas>=0.25 in /usr/local/lib/python3.6/dist-packages (from pytrends) (1.0.5)\n",
      "Requirement already satisfied: chardet<4,>=3.0.2 in /usr/local/lib/python3.6/dist-packages (from requests->pytrends) (3.0.4)\n",
      "Requirement already satisfied: certifi>=2017.4.17 in /usr/local/lib/python3.6/dist-packages (from requests->pytrends) (2020.6.20)\n",
      "Requirement already satisfied: urllib3!=1.25.0,!=1.25.1,<1.26,>=1.21.1 in /usr/local/lib/python3.6/dist-packages (from requests->pytrends) (1.24.3)\n",
      "Requirement already satisfied: idna<3,>=2.5 in /usr/local/lib/python3.6/dist-packages (from requests->pytrends) (2.10)\n",
      "Requirement already satisfied: pytz>=2017.2 in /usr/local/lib/python3.6/dist-packages (from pandas>=0.25->pytrends) (2018.9)\n",
      "Requirement already satisfied: python-dateutil>=2.6.1 in /usr/local/lib/python3.6/dist-packages (from pandas>=0.25->pytrends) (2.8.1)\n",
      "Requirement already satisfied: numpy>=1.13.3 in /usr/local/lib/python3.6/dist-packages (from pandas>=0.25->pytrends) (1.18.5)\n",
      "Requirement already satisfied: six>=1.5 in /usr/local/lib/python3.6/dist-packages (from python-dateutil>=2.6.1->pandas>=0.25->pytrends) (1.15.0)\n"
     ]
    }
   ],
   "source": [
    "!pip install pytrends"
   ]
  },
  {
   "cell_type": "code",
   "execution_count": null,
   "metadata": {
    "id": "r19MlOhCG9TZ"
   },
   "outputs": [],
   "source": [
    "import pandas as pd                        \n",
    "from pytrends.request import TrendReq\n",
    "\n",
    "def get_trends(query):\n",
    "    pytrend = TrendReq()\n",
    "    pytrend.build_payload(kw_list=[query])\n",
    "    df = pytrend.interest_by_region()\n",
    "    return df.sort_values(query, ascending=False)[query].to_dict()"
   ]
  },
  {
   "cell_type": "code",
   "execution_count": null,
   "metadata": {
    "id": "ZA9WNhmmHPE5"
   },
   "outputs": [],
   "source": [
    "query = 'Python'\n",
    "tendencias = get_trends(query)"
   ]
  },
  {
   "cell_type": "code",
   "execution_count": null,
   "metadata": {
    "colab": {
     "base_uri": "https://localhost:8080/",
     "height": 1000
    },
    "id": "y-zo9gdyI7Rr",
    "outputId": "951c677c-5304-4129-9b9c-9f2f30331d50"
   },
   "outputs": [
    {
     "data": {
      "text/plain": [
       "{'Afghanistan': 0,\n",
       " 'Albania': 0,\n",
       " 'Algeria': 0,\n",
       " 'American Samoa': 0,\n",
       " 'Andorra': 0,\n",
       " 'Angola': 0,\n",
       " 'Anguilla': 0,\n",
       " 'Antarctica': 0,\n",
       " 'Antigua & Barbuda': 0,\n",
       " 'Argentina': 1,\n",
       " 'Armenia': 0,\n",
       " 'Aruba': 0,\n",
       " 'Australia': 4,\n",
       " 'Austria': 3,\n",
       " 'Azerbaijan': 0,\n",
       " 'Bahamas': 0,\n",
       " 'Bahrain': 0,\n",
       " 'Bangladesh': 2,\n",
       " 'Barbados': 0,\n",
       " 'Belarus': 3,\n",
       " 'Belgium': 3,\n",
       " 'Belize': 0,\n",
       " 'Benin': 0,\n",
       " 'Bermuda': 0,\n",
       " 'Bhutan': 0,\n",
       " 'Bolivia': 0,\n",
       " 'Bosnia & Herzegovina': 0,\n",
       " 'Botswana': 0,\n",
       " 'Bouvet Island': 0,\n",
       " 'Brazil': 1,\n",
       " 'British Indian Ocean Territory': 0,\n",
       " 'British Virgin Islands': 0,\n",
       " 'Brunei': 0,\n",
       " 'Bulgaria': 2,\n",
       " 'Burkina Faso': 0,\n",
       " 'Burundi': 0,\n",
       " 'Cambodia': 0,\n",
       " 'Cameroon': 0,\n",
       " 'Canada': 4,\n",
       " 'Cape Verde': 0,\n",
       " 'Caribbean Netherlands': 0,\n",
       " 'Cayman Islands': 0,\n",
       " 'Central African Republic': 0,\n",
       " 'Chad': 0,\n",
       " 'Chile': 2,\n",
       " 'China': 100,\n",
       " 'Christmas Island': 0,\n",
       " 'Cocos (Keeling) Islands': 0,\n",
       " 'Colombia': 2,\n",
       " 'Comoros': 0,\n",
       " 'Congo - Brazzaville': 0,\n",
       " 'Congo - Kinshasa': 0,\n",
       " 'Cook Islands': 0,\n",
       " 'Costa Rica': 0,\n",
       " 'Croatia': 3,\n",
       " 'Cuba': 0,\n",
       " 'Curaçao': 0,\n",
       " 'Cyprus': 0,\n",
       " 'Czechia': 4,\n",
       " 'Côte d’Ivoire': 0,\n",
       " 'Denmark': 4,\n",
       " 'Djibouti': 0,\n",
       " 'Dominica': 0,\n",
       " 'Dominican Republic': 0,\n",
       " 'Ecuador': 1,\n",
       " 'Egypt': 1,\n",
       " 'El Salvador': 0,\n",
       " 'Equatorial Guinea': 0,\n",
       " 'Eritrea': 0,\n",
       " 'Estonia': 0,\n",
       " 'Eswatini': 0,\n",
       " 'Ethiopia': 0,\n",
       " 'Falkland Islands (Islas Malvinas)': 0,\n",
       " 'Faroe Islands': 0,\n",
       " 'Fiji': 0,\n",
       " 'Finland': 4,\n",
       " 'France': 3,\n",
       " 'French Guiana': 0,\n",
       " 'French Polynesia': 0,\n",
       " 'French Southern Territories': 0,\n",
       " 'Gabon': 0,\n",
       " 'Gambia': 0,\n",
       " 'Georgia': 0,\n",
       " 'Germany': 4,\n",
       " 'Ghana': 0,\n",
       " 'Gibraltar': 0,\n",
       " 'Greece': 2,\n",
       " 'Greenland': 0,\n",
       " 'Grenada': 0,\n",
       " 'Guadeloupe': 0,\n",
       " 'Guam': 0,\n",
       " 'Guatemala': 0,\n",
       " 'Guernsey': 0,\n",
       " 'Guinea': 0,\n",
       " 'Guinea-Bissau': 0,\n",
       " 'Guyana': 0,\n",
       " 'Haiti': 0,\n",
       " 'Heard & McDonald Islands': 0,\n",
       " 'Honduras': 0,\n",
       " 'Hong Kong': 6,\n",
       " 'Hungary': 2,\n",
       " 'Iceland': 0,\n",
       " 'India': 5,\n",
       " 'Indonesia': 1,\n",
       " 'Iran': 1,\n",
       " 'Iraq': 0,\n",
       " 'Ireland': 4,\n",
       " 'Isle of Man': 0,\n",
       " 'Israel': 9,\n",
       " 'Italy': 1,\n",
       " 'Jamaica': 0,\n",
       " 'Japan': 3,\n",
       " 'Jersey': 0,\n",
       " 'Jordan': 0,\n",
       " 'Kazakhstan': 1,\n",
       " 'Kenya': 2,\n",
       " 'Kiribati': 0,\n",
       " 'Kosovo': 0,\n",
       " 'Kuwait': 0,\n",
       " 'Kyrgyzstan': 0,\n",
       " 'Laos': 0,\n",
       " 'Latvia': 0,\n",
       " 'Lebanon': 0,\n",
       " 'Lesotho': 0,\n",
       " 'Liberia': 0,\n",
       " 'Libya': 0,\n",
       " 'Liechtenstein': 0,\n",
       " 'Lithuania': 0,\n",
       " 'Luxembourg': 0,\n",
       " 'Macao': 0,\n",
       " 'Madagascar': 0,\n",
       " 'Malawi': 0,\n",
       " 'Malaysia': 2,\n",
       " 'Maldives': 0,\n",
       " 'Mali': 0,\n",
       " 'Malta': 0,\n",
       " 'Marshall Islands': 0,\n",
       " 'Martinique': 0,\n",
       " 'Mauritania': 0,\n",
       " 'Mauritius': 0,\n",
       " 'Mayotte': 0,\n",
       " 'Mexico': 1,\n",
       " 'Micronesia': 0,\n",
       " 'Moldova': 0,\n",
       " 'Monaco': 0,\n",
       " 'Mongolia': 0,\n",
       " 'Montenegro': 0,\n",
       " 'Montserrat': 0,\n",
       " 'Morocco': 2,\n",
       " 'Mozambique': 0,\n",
       " 'Myanmar (Burma)': 0,\n",
       " 'Namibia': 0,\n",
       " 'Nauru': 0,\n",
       " 'Nepal': 0,\n",
       " 'Netherlands': 4,\n",
       " 'New Caledonia': 0,\n",
       " 'New Zealand': 4,\n",
       " 'Nicaragua': 0,\n",
       " 'Niger': 0,\n",
       " 'Nigeria': 2,\n",
       " 'Niue': 0,\n",
       " 'Norfolk Island': 0,\n",
       " 'North Korea': 0,\n",
       " 'North Macedonia': 0,\n",
       " 'Northern Mariana Islands': 0,\n",
       " 'Norway': 4,\n",
       " 'Oman': 0,\n",
       " 'Pakistan': 2,\n",
       " 'Palau': 0,\n",
       " 'Palestine': 0,\n",
       " 'Panama': 0,\n",
       " 'Papua New Guinea': 0,\n",
       " 'Paraguay': 0,\n",
       " 'Peru': 1,\n",
       " 'Philippines': 2,\n",
       " 'Pitcairn Islands': 0,\n",
       " 'Poland': 2,\n",
       " 'Portugal': 3,\n",
       " 'Puerto Rico': 0,\n",
       " 'Qatar': 0,\n",
       " 'Romania': 2,\n",
       " 'Russia': 3,\n",
       " 'Rwanda': 0,\n",
       " 'Réunion': 0,\n",
       " 'Samoa': 0,\n",
       " 'San Marino': 0,\n",
       " 'Saudi Arabia': 1,\n",
       " 'Senegal': 0,\n",
       " 'Serbia': 2,\n",
       " 'Seychelles': 0,\n",
       " 'Sierra Leone': 0,\n",
       " 'Singapore': 9,\n",
       " 'Sint Maarten': 0,\n",
       " 'Slovakia': 2,\n",
       " 'Slovenia': 4,\n",
       " 'Solomon Islands': 0,\n",
       " 'Somalia': 0,\n",
       " 'South Africa': 3,\n",
       " 'South Georgia & South Sandwich Islands': 0,\n",
       " 'South Korea': 8,\n",
       " 'South Sudan': 0,\n",
       " 'Spain': 2,\n",
       " 'Sri Lanka': 3,\n",
       " 'St. Barthélemy': 0,\n",
       " 'St. Helena': 12,\n",
       " 'St. Kitts & Nevis': 0,\n",
       " 'St. Lucia': 0,\n",
       " 'St. Martin': 0,\n",
       " 'St. Pierre & Miquelon': 0,\n",
       " 'St. Vincent & Grenadines': 0,\n",
       " 'Sudan': 0,\n",
       " 'Suriname': 0,\n",
       " 'Svalbard & Jan Mayen': 0,\n",
       " 'Sweden': 4,\n",
       " 'Switzerland': 5,\n",
       " 'Syria': 0,\n",
       " 'São Tomé & Príncipe': 0,\n",
       " 'Taiwan': 5,\n",
       " 'Tajikistan': 0,\n",
       " 'Tanzania': 0,\n",
       " 'Thailand': 1,\n",
       " 'Timor-Leste': 0,\n",
       " 'Togo': 0,\n",
       " 'Tokelau': 0,\n",
       " 'Tonga': 0,\n",
       " 'Trinidad & Tobago': 0,\n",
       " 'Tunisia': 3,\n",
       " 'Turkey': 1,\n",
       " 'Turkmenistan': 0,\n",
       " 'Turks & Caicos Islands': 0,\n",
       " 'Tuvalu': 0,\n",
       " 'U.S. Outlying Islands': 0,\n",
       " 'U.S. Virgin Islands': 0,\n",
       " 'Uganda': 0,\n",
       " 'Ukraine': 2,\n",
       " 'United Arab Emirates': 2,\n",
       " 'United Kingdom': 4,\n",
       " 'United States': 5,\n",
       " 'Uruguay': 0,\n",
       " 'Uzbekistan': 0,\n",
       " 'Vanuatu': 0,\n",
       " 'Vatican City': 0,\n",
       " 'Venezuela': 0,\n",
       " 'Vietnam': 1,\n",
       " 'Wallis & Futuna': 0,\n",
       " 'Western Sahara': 0,\n",
       " 'Yemen': 0,\n",
       " 'Zambia': 0,\n",
       " 'Zimbabwe': 0,\n",
       " 'Åland Islands': 0}"
      ]
     },
     "execution_count": 35,
     "metadata": {
      "tags": []
     },
     "output_type": "execute_result"
    }
   ],
   "source": [
    "tendencias"
   ]
  },
  {
   "cell_type": "code",
   "execution_count": null,
   "metadata": {
    "colab": {
     "base_uri": "https://localhost:8080/",
     "height": 586
    },
    "id": "wpChi4YbI9Zt",
    "outputId": "66067c1e-9b35-415c-ea76-665c90b2c5be"
   },
   "outputs": [],
   "source": [
    "mi_nombre = 'Matías Grinberg'\n",
    "plantilla = '¡Hola! {nombre}. Tu búsqueda de <b>\"{tema}\"</b> trajo los siguientes resultados: \\n {resultados} \\n ¡Saludos! MatiBot'\n",
    "\n",
    "for d in data:\n",
    "    tendencias = get_trends(d['Tema'])  \n",
    "    texto = plantilla.format(nombre=d['Primer Nombre'], tema=d['Tema'], resultados=tendencias)\n",
    "\n",
    "    if d['Nombre'] == mi_nombre:\n",
    "        mandar_mail(\"ejemplo.cuenta.246@gmail.com\", \"Ejemplo246\", d['Mail'], \"Tema\", texto)\n",
    "        print(f'Enviando Mail a {d[\"Mail\"]}')\n",
    "    else:\n",
    "        print(texto)"
   ]
  },
  {
   "cell_type": "markdown",
   "metadata": {
    "id": "tBcHNSZxKeup"
   },
   "source": [
    "¡Eso es todo por hoy!"
   ]
  }
 ],
 "metadata": {
  "kernelspec": {
   "display_name": "Python 3",
   "language": "python",
   "name": "python3"
  },
  "language_info": {
   "codemirror_mode": {
    "name": "ipython",
    "version": 3
   },
   "file_extension": ".py",
   "mimetype": "text/x-python",
   "name": "python",
   "nbconvert_exporter": "python",
   "pygments_lexer": "ipython3",
   "version": "3.8.8"
  }
 },
 "nbformat": 4,
 "nbformat_minor": 4
}
