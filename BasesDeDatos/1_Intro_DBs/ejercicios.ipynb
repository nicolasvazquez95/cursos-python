{
 "cells": [
  {
   "cell_type": "markdown",
   "metadata": {},
   "source": [
    "<a href=\"https://colab.research.google.com/github/institutohumai/cursos-python/blob/master/BasesDeDatos/1_Intro_DBs/ejercicios.ipynb\"> <img src='https://colab.research.google.com/assets/colab-badge.svg' /> </a>"
   ]
  },
  {
   "cell_type": "markdown",
   "metadata": {},
   "source": [
    "## Ejercicios SQL I:\n",
    "\n",
    "**DML:**\n",
    "1. Ingresar dos nuevos clientes en la tabla Customers.\n",
    "2. Actualizar el valor de la orden con order_id 5 a $200.\n",
    "3. Eliminar uno de los clientes agregados a la tabla Customers.\n",
    "4. Insertar una orden y su envio.\n",
    "\n",
    "**DDL:**\n",
    "\n",
    "\n",
    "1. Calcular la cantidad de ventas realizadas en el 2022.\n",
    "2. Retornar la fecha de la primera venta registrada.\n",
    "3. Retornar la venta de mayor dinero de cada cliente que tenga ventas.\n",
    "4. Retornar la cantidad de envios a cada ciudad que no sea Belgrano.\n",
    "5. Calcular la cantidad de dias activos que tiene cada cliente que aún no se han dado de baja.\n",
    "6. Calcular el promedio de cantidad de dias activos que tienen los clientes que aún no se han dado de baja.\n",
    "7. Retornar la cantidad de envios realizados entre enero y junio del 2022 para Mar del Plata.\n",
    "8. Retornar la cantidad gastada por cliente con sus nombres para aquellos clientes que hayan gastado mas de $20.\n",
    "\n"
   ]
  }
 ],
 "metadata": {
  "language_info": {
   "name": "python"
  },
  "orig_nbformat": 4
 },
 "nbformat": 4,
 "nbformat_minor": 2
}
