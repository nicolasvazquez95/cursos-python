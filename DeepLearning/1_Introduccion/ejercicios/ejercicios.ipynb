{
  "cells": [
    {
      "cell_type": "markdown",
      "metadata": {
        "id": "view-in-github",
        "colab_type": "text"
      },
      "source": [
        "<a href=\"https://colab.research.google.com/github/nicolasvazquez95/cursos-python/blob/master/DeepLearning/1_Introduccion/ejercicios/ejercicios.ipynb\" target=\"_parent\"><img src=\"https://colab.research.google.com/assets/colab-badge.svg\" alt=\"Open In Colab\"/></a>"
      ]
    },
    {
      "cell_type": "markdown",
      "metadata": {
        "id": "L_lL-IT9yU4F"
      },
      "source": [
        "<a href=\"https://colab.research.google.com/github/institutohumai/cursos-python/blob/master/DeepLearning/1_Introduccion/ejercicios/ejercicios.ipynb\"> <img src='https://colab.research.google.com/assets/colab-badge.svg' /> </a>"
      ]
    },
    {
      "cell_type": "code",
      "source": [
        "import torch"
      ],
      "metadata": {
        "id": "4sW88zwVmyaP"
      },
      "execution_count": 2,
      "outputs": []
    },
    {
      "cell_type": "markdown",
      "metadata": {
        "id": "ZIyMzJmXpDdH"
      },
      "source": [
        "### Ejercicio 1\n",
        "Generar un tensor llamado x cuyo contenido sea el siguiente:\n",
        "\n",
        "![Imgur](https://i.imgur.com/rfaKGUG.png)"
      ]
    },
    {
      "cell_type": "code",
      "execution_count": 15,
      "metadata": {
        "id": "A5cbS3G9nQyg",
        "outputId": "1a775886-73c6-4a84-b4a6-0616d55e42e9",
        "colab": {
          "base_uri": "https://localhost:8080/"
        }
      },
      "outputs": [
        {
          "output_type": "stream",
          "name": "stdout",
          "text": [
            "tensor([[[ 0,  2,  4,  6,  8],\n",
            "         [10, 12, 14, 16, 18],\n",
            "         [20, 22, 24, 26, 28]],\n",
            "\n",
            "        [[30, 32, 34, 36, 38],\n",
            "         [40, 42, 44, 46, 48],\n",
            "         [50, 52, 54, 56, 58]]])\n"
          ]
        }
      ],
      "source": [
        "#inserte su código aquí\n",
        "import numpy as np\n",
        "\n",
        "ej1 = torch.from_numpy(np.arange(0,60,2).reshape(2,3,-1))\n",
        "print(ej1)"
      ]
    },
    {
      "cell_type": "markdown",
      "metadata": {
        "id": "dm_PLDM_ov2z"
      },
      "source": [
        "### Ejercicio 2\n",
        "Realizar los cambios necesarios en los siguientes tensores para que sea posible multiplicar cada columna del tensor \"X\" por el vector \"y\"."
      ]
    },
    {
      "cell_type": "code",
      "execution_count": 24,
      "metadata": {
        "id": "iYigasJnqJDe",
        "outputId": "fc59225f-73b9-4f4e-c1af-ad29be0a52a6",
        "colab": {
          "base_uri": "https://localhost:8080/"
        }
      },
      "outputs": [
        {
          "output_type": "execute_result",
          "data": {
            "text/plain": [
              "tensor([[[[1., 1., 1.],\n",
              "          [2., 2., 2.],\n",
              "          [3., 3., 3.],\n",
              "          [4., 4., 4.],\n",
              "          [5., 5., 5.]],\n",
              "\n",
              "         [[1., 1., 1.],\n",
              "          [2., 2., 2.],\n",
              "          [3., 3., 3.],\n",
              "          [4., 4., 4.],\n",
              "          [5., 5., 5.]],\n",
              "\n",
              "         [[1., 1., 1.],\n",
              "          [2., 2., 2.],\n",
              "          [3., 3., 3.],\n",
              "          [4., 4., 4.],\n",
              "          [5., 5., 5.]],\n",
              "\n",
              "         [[1., 1., 1.],\n",
              "          [2., 2., 2.],\n",
              "          [3., 3., 3.],\n",
              "          [4., 4., 4.],\n",
              "          [5., 5., 5.]]],\n",
              "\n",
              "\n",
              "        [[[1., 1., 1.],\n",
              "          [2., 2., 2.],\n",
              "          [3., 3., 3.],\n",
              "          [4., 4., 4.],\n",
              "          [5., 5., 5.]],\n",
              "\n",
              "         [[1., 1., 1.],\n",
              "          [2., 2., 2.],\n",
              "          [3., 3., 3.],\n",
              "          [4., 4., 4.],\n",
              "          [5., 5., 5.]],\n",
              "\n",
              "         [[1., 1., 1.],\n",
              "          [2., 2., 2.],\n",
              "          [3., 3., 3.],\n",
              "          [4., 4., 4.],\n",
              "          [5., 5., 5.]],\n",
              "\n",
              "         [[1., 1., 1.],\n",
              "          [2., 2., 2.],\n",
              "          [3., 3., 3.],\n",
              "          [4., 4., 4.],\n",
              "          [5., 5., 5.]]]])"
            ]
          },
          "metadata": {},
          "execution_count": 24
        }
      ],
      "source": [
        "X = torch.ones(2, 4, 5, 3)\n",
        "y = torch.tensor([1,2,3,4,5])\n",
        "#inserte su código aquí\n",
        "X*y.unsqueeze(-1)"
      ]
    },
    {
      "cell_type": "markdown",
      "metadata": {
        "id": "CTyfGqySrJ8B"
      },
      "source": [
        "###Ejercicio 3\n",
        "Descargar el dataset FashionMNIST y guardar en un tensor todas las imágenes de bolsos (label 8). \n",
        "\n",
        "Tip: use la función torch.stack para apilar una lista de tensores en uno solo"
      ]
    },
    {
      "cell_type": "code",
      "execution_count": 40,
      "metadata": {
        "id": "wQDjkQUjzqjE",
        "outputId": "31c870be-7433-4be3-9491-f6d91bedcc0e",
        "colab": {
          "base_uri": "https://localhost:8080/",
          "height": 265
        }
      },
      "outputs": [
        {
          "output_type": "stream",
          "name": "stdout",
          "text": [
            "torch.Size([6000, 28, 28])\n"
          ]
        },
        {
          "output_type": "display_data",
          "data": {
            "text/plain": [
              "<Figure size 432x288 with 1 Axes>"
            ],
            "image/png": "[encoded data removed]"
          },
          "metadata": {
            "needs_background": "light"
          }
        }
      ],
      "source": [
        "#inserte su código aquí\n",
        "from torch.utils.data import Dataset\n",
        "from torchvision import datasets\n",
        "from torchvision.transforms import ToTensor\n",
        "from matplotlib import pyplot as plt\n",
        "training_data = datasets.FashionMNIST(\n",
        "    root=\"data\",\n",
        "    train=True,\n",
        "    download=True,\n",
        "    transform=ToTensor()\n",
        ")\n",
        "\n",
        "label_8 = training_data.data[training_data.targets==8]\n",
        "print(label_8.shape)\n",
        "idx = torch.randint(len(label_8), size=(1,)).item()\n",
        "plt.axis(\"off\")\n",
        "plt.imshow(label_8[idx,:,:], cmap=\"gray\")\n",
        "plt.show()"
      ]
    },
    {
      "cell_type": "markdown",
      "metadata": {
        "id": "_AO78OtBvwuu"
      },
      "source": [
        "###Ejercicio 4\n",
        "Use autograd para graficar el gradiente de la siguiente función aplicada sobre el tensor \"x\".\n",
        "\n",
        "$$f(x) = \\tan(2x+ \\frac{\\pi}{2}) $$\n",
        "\n",
        "Graficar entre 0 y 2$\\pi$."
      ]
    },
    {
      "cell_type": "code",
      "execution_count": 54,
      "metadata": {
        "id": "O3NaD8_XtUBw",
        "outputId": "0a1473a0-9e41-4cae-cb6c-51212c96b5f8",
        "colab": {
          "base_uri": "https://localhost:8080/",
          "height": 293
        }
      },
      "outputs": [
        {
          "output_type": "execute_result",
          "data": {
            "text/plain": [
              "[<matplotlib.lines.Line2D at 0x7f834cfaad10>]"
            ]
          },
          "metadata": {},
          "execution_count": 54
        },
        {
          "output_type": "display_data",
          "data": {
            "text/plain": [
              "<Figure size 432x288 with 1 Axes>"
            ],
            "image/png": "[encoded data removed]"
          },
          "metadata": {
            "needs_background": "light"
          }
        }
      ],
      "source": [
        "#inserte su código aquí\n",
        "x = torch.linspace(0,2*torch.pi,steps=10000,requires_grad=True)\n",
        "y = torch.tan(2*x + (torch.pi/2)).sum()\n",
        "\n",
        "y.backward()\n",
        "plt.plot(x.detach(),x.grad.detach())"
      ]
    }
  ],
  "metadata": {
    "colab": {
      "collapsed_sections": [],
      "name": "Ejercicios_Clase1",
      "provenance": [],
      "include_colab_link": true
    },
    "kernelspec": {
      "display_name": "Python 3",
      "name": "python3"
    },
    "language_info": {
      "name": "python"
    }
  },
  "nbformat": 4,
  "nbformat_minor": 0
}