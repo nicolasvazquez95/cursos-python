{
  "cells": [
    {
      "cell_type": "markdown",
      "source": [
        "<a href=\"https://colab.research.google.com/github/institutohumai/cursos-python/blob/master/DeepLearning/4_PyTorch_Avanzado/ejercicios/ejercicios_solucion.ipynb\" target=\"_parent\"><img src=\"https://colab.research.google.com/assets/colab-badge.svg\" alt=\"Open in Colab\"/></a>\n",
        "\n",
        "#Ejercicios de la clase 4"
      ],
      "metadata": {
        "id": "28SKmp_EoGYC"
      }
    },
    {
      "cell_type": "markdown",
      "metadata": {
        "id": "dFXIv9qNpKzt",
        "tags": []
      },
      "source": [
        "## Setup"
      ]
    },
    {
      "cell_type": "code",
      "execution_count": 1,
      "metadata": {
        "id": "TFSU3FCOpKzu"
      },
      "outputs": [],
      "source": [
        "import sys"
      ]
    },
    {
      "cell_type": "code",
      "execution_count": 2,
      "metadata": {
        "id": "YqCwW7cMpKzw"
      },
      "outputs": [],
      "source": [
        "import sklearn"
      ]
    },
    {
      "cell_type": "code",
      "execution_count": 3,
      "metadata": {
        "id": "0Piq5se2pKzx"
      },
      "outputs": [],
      "source": [
        "import torch\n",
        "from torchvision import transforms\n",
        "from torch.utils import data\n",
        "import torchvision\n"
      ]
    },
    {
      "cell_type": "markdown",
      "metadata": {
        "id": "DDaDoLQTpKzx"
      },
      "source": [
        "Definiciones adicionales pra que nuestras figuras se vean \"bonitas\""
      ]
    },
    {
      "cell_type": "code",
      "execution_count": 4,
      "metadata": {
        "id": "8d4TH3NbpKzx"
      },
      "outputs": [],
      "source": [
        "import matplotlib.pyplot as plt\n",
        "\n",
        "plt.rc('font', size=14)\n",
        "plt.rc('axes', labelsize=14, titlesize=14)\n",
        "plt.rc('legend', fontsize=14)\n",
        "plt.rc('xtick', labelsize=10)\n",
        "plt.rc('ytick', labelsize=10)"
      ]
    },
    {
      "cell_type": "markdown",
      "metadata": {
        "id": "JafadovRyLhH"
      },
      "source": [
        "## Aprendiendo a quitar el ruido de imágenes\n",
        "\n",
        "En este notebook vamos a seguir trabajando sobre el dataset FashionMNIST, pero esta vez, en vez de clasificar las imágenes según la prenda que contienen, vamos a modificar las imágenes agregando un ruido aleatorio que una de nuestras redes neuronales aprenderá a quitar. \n",
        "\n"
      ]
    },
    {
      "cell_type": "markdown",
      "metadata": {
        "id": "NdMv5zGbyLhH"
      },
      "source": [
        "Arranquemos cargando el dataset."
      ]
    },
    {
      "cell_type": "code",
      "source": [
        "torch.manual_seed(42)  # fijamos la semilla para generar reproducibilidad\n",
        "batch_size = 256\n",
        "\n",
        "# Dataloader para FashionMNIST\n",
        "mnist_train = torchvision.datasets.FashionMNIST(transform=transforms.ToTensor(),\n",
        "        root=\"../data\", train=True, download=True)\n",
        "mnist_test = torchvision.datasets.FashionMNIST(transform=transforms.ToTensor(),\n",
        "        root=\"../data\", train=False, download=True)\n",
        "iter_train, iter_valid =  (data.DataLoader(mnist_train, batch_size, shuffle=True,\n",
        "                            num_workers=2),\n",
        "            data.DataLoader(mnist_test, batch_size, shuffle=True,\n",
        "                            num_workers=2))"
      ],
      "metadata": {
        "colab": {
          "base_uri": "https://localhost:8080/",
          "height": 423,
          "referenced_widgets": [
            "aed279a5d8e547f7afd1d9401c0a6f32",
            "cf548a04d85f498782a9721019e0987b",
            "0f26c52700e04d0dbb3048c0d4c697dc",
            "0f19f716556c48c5b0ce5efa432ece5b",
            "bd1f8be53f694291aca98345aba4541d",
            "904d2aa9049e4adaa8ddea1b5f2f7b2a",
            "c5d726afaa344038be03890ef7300fb5",
            "c6e596b4c5e34818b19b1e2c021d87e5",
            "f49c453f59ff47079164a69ed919978d",
            "a97486f46adb489d817c84642fdd5643",
            "74916fdc4b1c43ea9b0cd19d352223a5",
            "717f603c04df4678b656e9419905a677",
            "471a331d647d46b18822ef59add695ec",
            "d5bee67ff78444b5ac3fe87a946e19d3",
            "c6defb5038c14455a414be53c6c67dbb",
            "f710ab9cc4814817810cc606e1482b77",
            "7128cb0cf6e446e493d16902ba66cae4",
            "c9d189a1adcb4a279adfd2b87c72fda6",
            "e17e54a326dc47c49ba54d25a798334e",
            "819d1b6ae1ea4608937815146ed11674",
            "6f029a225a014d2fb2f84443292e3bb3",
            "10fa71acf0e54cb88031051574910766",
            "e40fb8dd8302486680565f2f69eb167b",
            "fa81ab718a4d4852b121b3672d38b72e",
            "47120ac82dee4854aae8d0a00b7fd5f7",
            "97e2d8af236c4111a8ab0b4770086901",
            "d513f4366113417d972232fe2a6da7b5",
            "a50ede2531ea44dd824e0652250658e5",
            "2454007f108a42c68e245971bd828fc0",
            "9032f75b6a5149c683bbefd411d17431",
            "7fdbfb29538c43939a884c6415a45b17",
            "14c465d317654b7cbb86ba073cdf925d",
            "43ed7877d91f4b7dbf2c7c4d15ac9a02",
            "6615185311f446319208402b335be770",
            "0beed73be4a44ab7a2c5be616bf4f8dd",
            "8210d5e8113640288033d4912890c996",
            "e0d6bda42cde4bc7bf810d5fdb80e89c",
            "51562a7f81ae45458875d0093d243848",
            "9a774051a8c74f17a517b8f9458e809c",
            "588b5b92f7ac4d79aad9e37736b4ff3a",
            "2099228612d841529475c2186bb2f301",
            "a746a44f9e0040498baed41072a8f985",
            "10b07cada8d445a79eaf4d5780436fa3",
            "40cd9de247b64bdca3e1d58a3ea1a0f5"
          ]
        },
        "id": "p6orCqUz9uS4",
        "outputId": "d717ad32-32f6-4502-ee43-959020ce6b80"
      },
      "execution_count": 5,
      "outputs": [
        {
          "output_type": "stream",
          "name": "stdout",
          "text": [
            "Downloading http://fashion-mnist.s3-website.eu-central-1.amazonaws.com/train-images-idx3-ubyte.gz\n",
            "Downloading http://fashion-mnist.s3-website.eu-central-1.amazonaws.com/train-images-idx3-ubyte.gz to ../data/FashionMNIST/raw/train-images-idx3-ubyte.gz\n"
          ]
        },
        {
          "output_type": "display_data",
          "data": {
            "text/plain": [
              "  0%|          | 0/26421880 [00:00<?, ?it/s]"
            ],
            "application/vnd.jupyter.widget-view+json": {
              "version_major": 2,
              "version_minor": 0,
              "model_id": "aed279a5d8e547f7afd1d9401c0a6f32"
            }
          },
          "metadata": {}
        },
        {
          "output_type": "stream",
          "name": "stdout",
          "text": [
            "Extracting ../data/FashionMNIST/raw/train-images-idx3-ubyte.gz to ../data/FashionMNIST/raw\n",
            "\n",
            "Downloading http://fashion-mnist.s3-website.eu-central-1.amazonaws.com/train-labels-idx1-ubyte.gz\n",
            "Downloading http://fashion-mnist.s3-website.eu-central-1.amazonaws.com/train-labels-idx1-ubyte.gz to ../data/FashionMNIST/raw/train-labels-idx1-ubyte.gz\n"
          ]
        },
        {
          "output_type": "display_data",
          "data": {
            "text/plain": [
              "  0%|          | 0/29515 [00:00<?, ?it/s]"
            ],
            "application/vnd.jupyter.widget-view+json": {
              "version_major": 2,
              "version_minor": 0,
              "model_id": "717f603c04df4678b656e9419905a677"
            }
          },
          "metadata": {}
        },
        {
          "output_type": "stream",
          "name": "stdout",
          "text": [
            "Extracting ../data/FashionMNIST/raw/train-labels-idx1-ubyte.gz to ../data/FashionMNIST/raw\n",
            "\n",
            "Downloading http://fashion-mnist.s3-website.eu-central-1.amazonaws.com/t10k-images-idx3-ubyte.gz\n",
            "Downloading http://fashion-mnist.s3-website.eu-central-1.amazonaws.com/t10k-images-idx3-ubyte.gz to ../data/FashionMNIST/raw/t10k-images-idx3-ubyte.gz\n"
          ]
        },
        {
          "output_type": "display_data",
          "data": {
            "text/plain": [
              "  0%|          | 0/4422102 [00:00<?, ?it/s]"
            ],
            "application/vnd.jupyter.widget-view+json": {
              "version_major": 2,
              "version_minor": 0,
              "model_id": "e40fb8dd8302486680565f2f69eb167b"
            }
          },
          "metadata": {}
        },
        {
          "output_type": "stream",
          "name": "stdout",
          "text": [
            "Extracting ../data/FashionMNIST/raw/t10k-images-idx3-ubyte.gz to ../data/FashionMNIST/raw\n",
            "\n",
            "Downloading http://fashion-mnist.s3-website.eu-central-1.amazonaws.com/t10k-labels-idx1-ubyte.gz\n",
            "Downloading http://fashion-mnist.s3-website.eu-central-1.amazonaws.com/t10k-labels-idx1-ubyte.gz to ../data/FashionMNIST/raw/t10k-labels-idx1-ubyte.gz\n"
          ]
        },
        {
          "output_type": "display_data",
          "data": {
            "text/plain": [
              "  0%|          | 0/5148 [00:00<?, ?it/s]"
            ],
            "application/vnd.jupyter.widget-view+json": {
              "version_major": 2,
              "version_minor": 0,
              "model_id": "6615185311f446319208402b335be770"
            }
          },
          "metadata": {}
        },
        {
          "output_type": "stream",
          "name": "stdout",
          "text": [
            "Extracting ../data/FashionMNIST/raw/t10k-labels-idx1-ubyte.gz to ../data/FashionMNIST/raw\n",
            "\n"
          ]
        }
      ]
    },
    {
      "cell_type": "markdown",
      "source": [
        "Luego vamos a crear un bloque que genere ruido mediante la capa Dropout. Esta capa multiplica por cero pixeles aleatorios de las imágenes con una probabilidad igual a un escalar que pasamos como parámetro."
      ],
      "metadata": {
        "id": "57zQLgOW-Pfw"
      }
    },
    {
      "cell_type": "code",
      "source": [
        "p=0.5 #probabilidad de que un pixel sea eliminado\n",
        "noise = torch.nn.Sequential(torch.nn.Dropout(p))\n",
        "\n",
        "images,_ = next(iter(iter_train))\n",
        "noise_images = noise(images)\n",
        "\n",
        "n_images = 10\n",
        "fig = plt.figure(figsize=(n_images * 2, 4))\n",
        "for image_index in range(n_images):\n",
        "        plt.subplot(2, n_images, 1 + image_index)\n",
        "        plt.imshow(images[image_index].squeeze(),\n",
        "                   cmap=\"binary\")\n",
        "        plt.axis(\"off\")\n",
        "        plt.subplot(2, n_images, 1 + n_images + image_index)\n",
        "        plt.imshow(noise_images[image_index].squeeze(),\n",
        "                   cmap=\"binary\")\n",
        "        plt.axis(\"off\")\n",
        "\n",
        "    \n",
        "    "
      ],
      "metadata": {
        "colab": {
          "base_uri": "https://localhost:8080/",
          "height": 244
        },
        "id": "L-Rrt-VB-uI5",
        "outputId": "cd22376b-730b-466a-9570-a1823a1379c7"
      },
      "execution_count": 6,
      "outputs": [
        {
          "output_type": "display_data",
          "data": {
            "text/plain": [
              "<Figure size 1440x288 with 20 Axes>"
            ],
            "image/png": "[encoded data removed]"
          },
          "metadata": {
            "needs_background": "light"
          }
        }
      ]
    },
    {
      "cell_type": "markdown",
      "source": [
        "## Denoising Autoencoders\n",
        "\n",
        "A muy alto nivel, un `autoencoder` (codificador automático) contiene un `encoder` (codificador) y un `decoder` (decodificador). Estas dos partes funcionan automáticamente y dan lugar al nombre de `autoencoder`. El encoder transforma la entrada de alta dimensión en una dimensión más baja (espacio latente, donde la entrada está más comprimida), mientras que un decoder hace el trabajo inverso del encoder en el resultado codificado y reconstruye la imagen original. \n",
        "\n",
        "![Imgur](https://i.imgur.com/iOp5Vdu.png)"
      ],
      "metadata": {
        "id": "s05Y0ci8DzLM"
      }
    },
    {
      "cell_type": "markdown",
      "source": [
        "En la tarea de eliminación de ruido, los datos se corrompen de alguna manera para que el modelo pueda aprender a predecir la imagen original. En este caso, la idea es almacenar la salida generada por el encoder como un vector de características de la entrada (llamado vector latente) que está tan comprimido que de alguna manera guarda información solamente de la imagen subyacente y no del ruido. De esta forma, al reconstruir la imagen con el decoder teniendo en cuenta solamente el vector latente como entrada, la salida sería la imagen original sin ruido."
      ],
      "metadata": {
        "id": "v9UwU6EwFIKI"
      }
    },
    {
      "cell_type": "markdown",
      "source": [
        "## Ejercicio 1: Construcción del Encoder"
      ],
      "metadata": {
        "id": "Wgk8pc0WG2_g"
      }
    },
    {
      "cell_type": "markdown",
      "source": [
        "En este ejercicio usted deberá crear con pytorch un MLP de 2 capas (con 100 y 30 neuronas respectivamente) que reciba como entrada imágenes de 28*28 y produzca como salida vectores latentes de 30 elementos. No olvide que los MLP necesitan funciones de activación para poder apilar sus capas!!"
      ],
      "metadata": {
        "id": "NvfXeeOmG-cn"
      }
    },
    {
      "cell_type": "code",
      "source": [
        "Input = 28 * 28\n",
        "Hidden1 = 100\n",
        "Hidden2 = 30\n",
        "encoder = torch.nn.Sequential(\n",
        "    torch.nn.Flatten(),\n",
        "    torch.nn.Linear(Input, Hidden1),\n",
        "    torch.nn.ReLU(),\n",
        "    torch.nn.Linear(Hidden1, Hidden2),\n",
        "    torch.nn.ReLU()\n",
        ")"
      ],
      "metadata": {
        "id": "v5J5Tuf9G9YW"
      },
      "execution_count": 7,
      "outputs": []
    },
    {
      "cell_type": "code",
      "source": [
        "#@title Test N° 1\n",
        "#@markdown Ejecutar para confirmar que su código es correcto\n",
        "images,_ = next(iter(iter_train))\n",
        "\n",
        "try:\n",
        "  latentes = encoder(images)\n",
        "  assert latentes.shape[1] == 30, \"La salida de su red no es un vector de 30 elementos\"\n",
        "  print(\"Al parecer está todo bien. Puedes avanzar al siguiente test\")\n",
        "except: \n",
        "  print(\"Su encoder no generó una salida válida.\\nLa entrada no pudo recorrer todo el camino hasta el final de su red.\\nRevise que la dimensionalidad de sus capas sean compatibles\")\n",
        "\n"
      ],
      "metadata": {
        "colab": {
          "base_uri": "https://localhost:8080/"
        },
        "cellView": "form",
        "id": "Ai5pjZ-6I7TD",
        "outputId": "d9d98486-a344-43ec-8630-b9d74a264972"
      },
      "execution_count": 8,
      "outputs": [
        {
          "output_type": "stream",
          "name": "stdout",
          "text": [
            "Al parecer está todo bien. Puedes avanzar al siguiente test\n"
          ]
        }
      ]
    },
    {
      "cell_type": "code",
      "source": [
        "#@title Test N° 2\n",
        "#@markdown Ejecutar para confirmar que su código es correcto\n",
        "assert encoder[1].weight.shape == torch.Size([100, 784]), \"Las dimensiones de su primera capa densa están mal\"\n",
        "assert encoder[3].weight.shape == torch.Size([30, 100]), \"Las dimensiones de su segunda capa densa están mal\"\n",
        "print(\"Al parecer está todo bien. Puedes avanzar al siguiente ejercicio\")"
      ],
      "metadata": {
        "colab": {
          "base_uri": "https://localhost:8080/"
        },
        "cellView": "form",
        "id": "yINiAMBCOLa2",
        "outputId": "8722346d-ed8a-47da-b697-75d4b0a7bf2e"
      },
      "execution_count": 9,
      "outputs": [
        {
          "output_type": "stream",
          "name": "stdout",
          "text": [
            "Al parecer está todo bien. Puedes avanzar al siguiente ejercicio\n"
          ]
        }
      ]
    },
    {
      "cell_type": "markdown",
      "source": [
        "## Ejercicio 2: Construcción del Decoder"
      ],
      "metadata": {
        "id": "mqSa5_sIPBkG"
      }
    },
    {
      "cell_type": "markdown",
      "source": [
        "En este ejercicio usted deberá crear con pytorch un MLP de 2 capas que sea inverso al decoder que construyo en el ejercicio anterior (con 30 y 100 neuronas respectivamente) que reciba como entrada vectores latentes de 30 elementos y produzca como salida imágenes de 28*28 . No olvide que los MLP necesitan funciones de activación para poder apilar sus capas!! \n",
        "Tip: para revertir un Flatten() debe usar Unflatten()"
      ],
      "metadata": {
        "id": "5qDFGXGIPoFA"
      }
    },
    {
      "cell_type": "code",
      "source": [
        "decoder = torch.nn.Sequential(\n",
        "    torch.nn.Linear(Hidden2, Hidden1),\n",
        "    torch.nn.ReLU(),\n",
        "    torch.nn.Linear(Hidden1, Input),\n",
        "    torch.nn.Unflatten(-1, torch.Size([28, 28]))\n",
        ")"
      ],
      "metadata": {
        "id": "dRo8QI2XP_mS"
      },
      "execution_count": 10,
      "outputs": []
    },
    {
      "cell_type": "code",
      "source": [
        "#@title Test N° 1\n",
        "#@markdown Ejecutar para confirmar que su código es correcto\n",
        "try:\n",
        "  salidas = decoder(latentes)\n",
        "  assert salidas.shape[1] == 28 and salidas.shape[2] == 28, \"La salida de su red no es una imagen de 28*28\"\n",
        "  print(\"Al parecer está todo bien. Puedes avanzar al siguiente test\")\n",
        "except: \n",
        "  print(\"Su encoder no generó una salida válida.\\nLa entrada no pudo recorrer todo el camino hasta el final de su red.\\nRevise que la dimensionalidad de sus capas sean compatibles\")\n",
        "\n",
        "\n"
      ],
      "metadata": {
        "colab": {
          "base_uri": "https://localhost:8080/"
        },
        "cellView": "form",
        "outputId": "48525040-a253-4de3-e832-e41762796551",
        "id": "MJHQfxauRx9b"
      },
      "execution_count": 12,
      "outputs": [
        {
          "output_type": "stream",
          "name": "stdout",
          "text": [
            "Al parecer está todo bien. Puedes avanzar al siguiente test\n"
          ]
        }
      ]
    },
    {
      "cell_type": "code",
      "source": [
        "#@title Test N° 2\n",
        "#@markdown Ejecutar para confirmar que su código es correcto\n",
        "assert decoder[0].weight.shape == torch.Size([100, 30]), \"Las dimensiones de su primera capa densa están mal\"\n",
        "assert decoder[2].weight.shape == torch.Size([784, 100]), \"Las dimensiones de su segunda capa densa están mal\"\n",
        "print(\"Al parecer está todo bien. Puedes avanzar al siguiente ejercicio\")"
      ],
      "metadata": {
        "colab": {
          "base_uri": "https://localhost:8080/"
        },
        "cellView": "form",
        "outputId": "027de86c-0e4c-461e-fb65-66d2b56f5506",
        "id": "9n4z-NUQRzxz"
      },
      "execution_count": 13,
      "outputs": [
        {
          "output_type": "stream",
          "name": "stdout",
          "text": [
            "Al parecer está todo bien. Puedes avanzar al siguiente ejercicio\n"
          ]
        }
      ]
    },
    {
      "cell_type": "markdown",
      "source": [
        "## Ejercicio 3: Crear un autoencoder\n",
        "En este ejercicio deberás crear un bloque que consista en los bloques noise, encoder y decoder creados anteriormente encadenados. Tanto la slaida como la entrada de este bloque deben ser imágenes de 28*28"
      ],
      "metadata": {
        "id": "TbZPKYHBUYN_"
      }
    },
    {
      "cell_type": "code",
      "source": [
        "net = torch.nn.Sequential(noise, encoder, decoder)"
      ],
      "metadata": {
        "id": "jXen3ZG1U4NG"
      },
      "execution_count": 14,
      "outputs": []
    },
    {
      "cell_type": "code",
      "source": [
        "#@title Test N° 1\n",
        "#@markdown Ejecutar para confirmar que su código es correcto\n",
        "try:\n",
        "  salidas = net(images)\n",
        "  assert salidas.size == salidas.size, \"La salida de su red no tiene el mismo tamaño que la entrada\"\n",
        "  print(\"Al parecer está todo bien. Puedes avanzar al siguiente test\")\n",
        "except: \n",
        "  print(\"Su encoder no generó una salida válida.\\nLa entrada no pudo recorrer todo el camino hasta el final de su red.\\nRevise que la dimensionalidad de sus capas sean compatibles\")\n",
        "\n",
        "\n"
      ],
      "metadata": {
        "colab": {
          "base_uri": "https://localhost:8080/"
        },
        "cellView": "form",
        "outputId": "b51548cb-f893-418c-f50e-25c987df8d46",
        "id": "UiwXkyb1Nx0i"
      },
      "execution_count": 36,
      "outputs": [
        {
          "output_type": "stream",
          "name": "stdout",
          "text": [
            "Al parecer está todo bien. Puedes avanzar al siguiente test\n"
          ]
        }
      ]
    },
    {
      "cell_type": "code",
      "source": [
        "#@title Test N° 2\n",
        "#@markdown Ejecutar para confirmar que su código es correcto\n",
        "assert net[0] == noise, \"Tu primer bloque no es el correcto\"\n",
        "assert net[1] == encoder, \"Tu segundo bloque no es el correcto\"\n",
        "assert net[2] == decoder, \"Tu tercer bloque no es el correcto\"\n",
        "print(\"Al parecer está todo bien. Puedes avanzar al siguiente test\")\n"
      ],
      "metadata": {
        "colab": {
          "base_uri": "https://localhost:8080/"
        },
        "cellView": "form",
        "id": "efxchl-tN2x-",
        "outputId": "d9be0180-d7da-49fd-cd5b-b85ff1a6a227"
      },
      "execution_count": 37,
      "outputs": [
        {
          "output_type": "stream",
          "name": "stdout",
          "text": [
            "Al parecer está todo bien. Puedes avanzar al siguiente test\n"
          ]
        }
      ]
    },
    {
      "cell_type": "markdown",
      "source": [
        "## Ejercicio 4: Entrenar el Autoencoder"
      ],
      "metadata": {
        "id": "CZvcWShTQ6NS"
      }
    },
    {
      "cell_type": "markdown",
      "source": [
        "Antes de entrenar debemos definir la pérdida. Nuestro objetivo es que la salida de la red sea exactamente igual que la entrada. Por lo tanto, debemos establecer como etiquetas a las imágenes de entrada y compararlas mediante el error cuadrático medio."
      ],
      "metadata": {
        "id": "MW34JiYnRDjy"
      }
    },
    {
      "cell_type": "code",
      "source": [
        "loss = torch.nn.MSELoss()"
      ],
      "metadata": {
        "id": "ybQ88L32SWEG"
      },
      "execution_count": 38,
      "outputs": []
    },
    {
      "cell_type": "markdown",
      "source": [
        "Para obtener un mejor rendimiento usaremos Adam como algoritmo de optimización en lugar de SGD. En la última clase explicaremos algunas diferencias entre ambos."
      ],
      "metadata": {
        "id": "IfppMXrOSnB2"
      }
    },
    {
      "cell_type": "code",
      "source": [
        "trainer = torch.optim.Adam(net.parameters())\n"
      ],
      "metadata": {
        "id": "fN61NypCSprU"
      },
      "execution_count": 39,
      "outputs": []
    },
    {
      "cell_type": "markdown",
      "source": [
        "Un último detalle es que la capa Dropout se comporta diferente si la red está entrenando o prediciendo. Así que debemos indicarle a PyTorch que la red está en modo entrenamiento con la función `train()` "
      ],
      "metadata": {
        "id": "gpCPCiKrSwRy"
      }
    },
    {
      "cell_type": "code",
      "source": [
        "net.train()"
      ],
      "metadata": {
        "id": "6ptrFs_mTdRE"
      },
      "execution_count": null,
      "outputs": []
    },
    {
      "cell_type": "markdown",
      "source": [
        "En la siguiente celda deberá entrenar la red por 10 épocas"
      ],
      "metadata": {
        "id": "82Q5EjxVThNV"
      }
    },
    {
      "cell_type": "code",
      "execution_count": 49,
      "metadata": {
        "id": "wTKWjK3EyLhH",
        "outputId": "165fe60b-06a0-4efa-bb35-34a47cac65a8",
        "colab": {
          "base_uri": "https://localhost:8080/"
        }
      },
      "outputs": [
        {
          "output_type": "stream",
          "name": "stdout",
          "text": [
            "epoch 1, loss 0.058956\n",
            "epoch 2, loss 0.034702\n",
            "epoch 3, loss 0.026333\n",
            "epoch 4, loss 0.024275\n",
            "epoch 5, loss 0.022935\n",
            "epoch 6, loss 0.022160\n",
            "epoch 7, loss 0.021672\n",
            "epoch 8, loss 0.021265\n",
            "epoch 9, loss 0.020847\n",
            "epoch 10, loss 0.020417\n",
            "epoch 11, loss 0.020008\n",
            "epoch 12, loss 0.019712\n",
            "epoch 13, loss 0.019475\n",
            "epoch 14, loss 0.019285\n",
            "epoch 15, loss 0.019133\n",
            "epoch 16, loss 0.019000\n",
            "epoch 17, loss 0.018874\n",
            "epoch 18, loss 0.018768\n",
            "epoch 19, loss 0.018662\n",
            "epoch 20, loss 0.018589\n",
            "epoch 21, loss 0.018507\n",
            "epoch 22, loss 0.018437\n",
            "epoch 23, loss 0.018369\n",
            "epoch 24, loss 0.018314\n",
            "epoch 25, loss 0.018269\n",
            "epoch 26, loss 0.018205\n",
            "epoch 27, loss 0.018139\n",
            "epoch 28, loss 0.018081\n",
            "epoch 29, loss 0.018036\n",
            "epoch 30, loss 0.018010\n",
            "epoch 31, loss 0.017977\n",
            "epoch 32, loss 0.017944\n",
            "epoch 33, loss 0.017913\n",
            "epoch 34, loss 0.017881\n",
            "epoch 35, loss 0.017859\n",
            "epoch 36, loss 0.017831\n",
            "epoch 37, loss 0.017803\n",
            "epoch 38, loss 0.017775\n",
            "epoch 39, loss 0.017753\n",
            "epoch 40, loss 0.017722\n",
            "epoch 41, loss 0.017701\n",
            "epoch 42, loss 0.017689\n",
            "epoch 43, loss 0.017659\n",
            "epoch 44, loss 0.017642\n",
            "epoch 45, loss 0.017616\n",
            "epoch 46, loss 0.017595\n",
            "epoch 47, loss 0.017587\n",
            "epoch 48, loss 0.017572\n",
            "epoch 49, loss 0.017554\n",
            "epoch 50, loss 0.017532\n"
          ]
        }
      ],
      "source": [
        "num_epochs = 50\n",
        "\n",
        "# Ciclo de entrenamiento\n",
        "def init_weights(m):\n",
        "    if type(m) == torch.nn.Linear:\n",
        "        torch.nn.init.normal_(m.weight, std=0.01)\n",
        "\n",
        "net.apply(init_weights);\n",
        "for epoch in range(num_epochs):\n",
        "    L = 0.0\n",
        "    N = 0\n",
        "    for X, _ in iter_train:\n",
        "        Y = X.squeeze().detach().clone()\n",
        "        #Y += 0.1 * torch.randn_like(X)\n",
        "        l = loss(net(X), Y)\n",
        "        trainer.zero_grad()\n",
        "        l.mean().backward()\n",
        "        trainer.step()\n",
        "        L += l.sum()\n",
        "        N += l.numel()\n",
        "    print(f'epoch {epoch + 1}, loss {(L/N):f}')\n",
        "\n"
      ]
    },
    {
      "cell_type": "code",
      "execution_count": 51,
      "metadata": {
        "id": "Pucj7MI3yLhI",
        "outputId": "68aada2f-629a-4f3e-aa5e-f1e04194e645",
        "colab": {
          "base_uri": "https://localhost:8080/",
          "height": 248
        },
        "cellView": "form"
      },
      "outputs": [
        {
          "output_type": "display_data",
          "data": {
            "text/plain": [
              "<Figure size 1440x288 with 30 Axes>"
            ],
            "image/png": "[encoded data removed]"
          },
          "metadata": {
            "needs_background": "light"
          }
        }
      ],
      "source": [
        "#@title Grafique Predicciones de Validación\n",
        "# Codigo adicional para generar imágenes.\n",
        "import numpy as np\n",
        "\n",
        "\n",
        "def plot_reconstructions(model, images=iter_valid, n_images=10):\n",
        "    noise = torch.nn.Sequential(torch.nn.Dropout(0.5))\n",
        "    noise.train()\n",
        "    input = noise(images)\n",
        "    noise.eval()\n",
        "    model.eval()\n",
        "    reconstructions = np.clip(input[:n_images].squeeze().detach(), 0, 1)\n",
        "    reconstructions = model(reconstructions).squeeze().detach()\n",
        "    fig = plt.figure(figsize=(n_images * 2, 4))\n",
        "    for image_index in range(n_images):\n",
        "        plt.subplot(3, n_images, 1 + image_index)\n",
        "        plt.imshow(images[image_index].squeeze(),\n",
        "                   cmap=\"binary\")\n",
        "        plt.axis(\"off\")\n",
        "        plt.subplot(3, n_images, 1 + n_images + image_index)\n",
        "        plt.imshow(input[image_index].squeeze(),\n",
        "                   cmap=\"binary\")\n",
        "        plt.axis(\"off\")\n",
        "        plt.subplot(3, n_images, 1 + 2 * n_images + image_index)\n",
        "        plt.imshow(reconstructions[image_index], cmap=\"binary\")\n",
        "        plt.axis(\"off\")\n",
        "\n",
        "net.eval()\n",
        "plot_reconstructions(net, next(iter(iter_valid))[0])\n",
        "plt.show()"
      ]
    },
    {
      "cell_type": "code",
      "source": [
        ""
      ],
      "metadata": {
        "id": "IlAPEUms9t5y"
      },
      "execution_count": 6,
      "outputs": []
    },
    {
      "cell_type": "markdown",
      "source": [
        "## Ejercicio 5: Modificar la fuente del Ruido\n",
        "\n",
        "Intentemos usar un modelo similar, pero esta vez generemos un error gaussiano sobre las imágenes en vez de simplemente eliminar píxeles al azar. La siguiente función altera las imágenes agregando un error gaussiano."
      ],
      "metadata": {
        "id": "Fq6FDhxmXI1Q"
      }
    },
    {
      "cell_type": "code",
      "source": [
        "def addGaussianNoise(tensor, mean, std):\n",
        "  return tensor + torch.randn_like(tensor) * std + mean\n",
        "\n",
        "images,_ = next(iter(iter_train))\n",
        "noise_images = addGaussianNoise(images,0,0.15)\n",
        "\n",
        "n_images = 10\n",
        "fig = plt.figure(figsize=(n_images * 2, 4))\n",
        "for image_index in range(n_images):\n",
        "        plt.subplot(2, n_images, 1 + image_index)\n",
        "        plt.imshow(images[image_index].squeeze(),\n",
        "                   cmap=\"binary\")\n",
        "        plt.axis(\"off\")\n",
        "        plt.subplot(2, n_images, 1 + n_images + image_index)\n",
        "        plt.imshow(noise_images[image_index].squeeze(),\n",
        "                   cmap=\"binary\")\n",
        "        plt.axis(\"off\")"
      ],
      "metadata": {
        "colab": {
          "base_uri": "https://localhost:8080/",
          "height": 244
        },
        "id": "GX8o3daxX-Of",
        "outputId": "312de810-cfe4-4dac-ce06-7221bfed90a8"
      },
      "execution_count": 54,
      "outputs": [
        {
          "output_type": "display_data",
          "data": {
            "text/plain": [
              "<Figure size 1440x288 with 20 Axes>"
            ],
            "image/png": "[encoded data removed]"
          },
          "metadata": {
            "needs_background": "light"
          }
        }
      ]
    },
    {
      "cell_type": "markdown",
      "source": [
        "Ahora generemos una nueva red que en vez de eliminar un ruido producido por dropout, elimine un ruido gaussiano producido por la función `addGaussianNoise()`. Para hacerlo tenga en cuenta los siguientes detalles:\n",
        "\n",
        "\n",
        "1.   El paquete nn.Module nos permite crear tanto capas como modelos completos personalizados. Utilice alguna de estas opciones para implementar este modelo.\n",
        "2.   Tenga en cuenta que el ruido gaussiano solo debe agregarse a la imagen si el modelo está siendo entrenado. El atributo `training` de cualquier bloque que herede de nn.Module funciona como bandera que se pone en `True` si el modelo está entrenando y en `False` si ya está entrenada y se la usa para generar predicciones. El método `train()` pone esta bandera en `True` y el método `eval()` la pone en `False`\n",
        "\n"
      ],
      "metadata": {
        "id": "e9AjjEvoY-7G"
      }
    },
    {
      "cell_type": "code",
      "source": [
        "## Solución 1: generar una capa para addGaussianNoise()\n",
        "from torch import nn\n",
        "\n",
        "class GaussianLayer(nn.Module):\n",
        "    def __init__(self, std, mean):\n",
        "        super().__init__()\n",
        "        self.std = std\n",
        "        self.mean = mean\n",
        "    def forward(self, X):\n",
        "        if self.training:\n",
        "          return addGaussianNoise(X,self.std,self.mean)\n",
        "        else: \n",
        "          return X\n",
        "\n",
        "gaussian = GaussianLayer(0,0.15)\n",
        "netGaussian1 = nn.Sequential(gaussian, encoder, decoder)\n"
      ],
      "metadata": {
        "id": "0vNPUVmRY-DP"
      },
      "execution_count": 62,
      "outputs": []
    },
    {
      "cell_type": "code",
      "source": [
        "## Solución 2: generar un autoencoder con un forward personalizado\n",
        "class GaussianAutoencoder(nn.Module):\n",
        "    def __init__(self, encoder, decoder, std, mean):\n",
        "        super().__init__()\n",
        "        self.encoder = encoder\n",
        "        self.decoder = decoder\n",
        "        self.std = std\n",
        "        self.mean = mean\n",
        "    def forward(self, X):\n",
        "        if self.training:\n",
        "          X_noise = addGaussianNoise(X,self.std,self.mean)\n",
        "        else:\n",
        "          X_noise = X\n",
        "        return decoder(encoder(X_noise))\n",
        "netGaussian2 = GaussianAutoencoder(encoder,decoder,0,0.15)"
      ],
      "metadata": {
        "id": "vyq_s6cjbf_H"
      },
      "execution_count": 64,
      "outputs": []
    },
    {
      "cell_type": "code",
      "source": [
        "num_epochs = 50\n",
        "\n",
        "# Ciclo de entrenamiento\n",
        "def init_weights(m):\n",
        "    if type(m) == torch.nn.Linear:\n",
        "        torch.nn.init.normal_(m.weight, std=0.01)\n",
        "\n",
        "net = netGaussian1\n",
        "net.apply(init_weights);\n",
        "for epoch in range(num_epochs):\n",
        "    L = 0.0\n",
        "    N = 0\n",
        "    for X, _ in iter_train:\n",
        "        Y = X.squeeze().detach().clone()\n",
        "        #Y += 0.1 * torch.randn_like(X)\n",
        "        l = loss(net(X), Y)\n",
        "        trainer.zero_grad()\n",
        "        l.mean().backward()\n",
        "        trainer.step()\n",
        "        L += l.sum()\n",
        "        N += l.numel()\n",
        "    print(f'epoch {epoch + 1}, loss {(L/N):f}')"
      ],
      "metadata": {
        "colab": {
          "base_uri": "https://localhost:8080/"
        },
        "id": "1MZPbTo4gYFF",
        "outputId": "ef9f7489-2486-4671-d610-137b45448ee4"
      },
      "execution_count": 65,
      "outputs": [
        {
          "output_type": "stream",
          "name": "stdout",
          "text": [
            "epoch 1, loss 0.059181\n",
            "epoch 2, loss 0.030913\n",
            "epoch 3, loss 0.026301\n",
            "epoch 4, loss 0.025347\n",
            "epoch 5, loss 0.024841\n",
            "epoch 6, loss 0.024276\n",
            "epoch 7, loss 0.023698\n",
            "epoch 8, loss 0.023204\n",
            "epoch 9, loss 0.022690\n",
            "epoch 10, loss 0.022236\n",
            "epoch 11, loss 0.021848\n",
            "epoch 12, loss 0.021537\n",
            "epoch 13, loss 0.021269\n",
            "epoch 14, loss 0.021035\n",
            "epoch 15, loss 0.020802\n",
            "epoch 16, loss 0.020547\n",
            "epoch 17, loss 0.020292\n",
            "epoch 18, loss 0.020068\n",
            "epoch 19, loss 0.019874\n",
            "epoch 20, loss 0.019732\n",
            "epoch 21, loss 0.019617\n",
            "epoch 22, loss 0.019521\n",
            "epoch 23, loss 0.019451\n",
            "epoch 24, loss 0.019379\n",
            "epoch 25, loss 0.019335\n",
            "epoch 26, loss 0.019262\n",
            "epoch 27, loss 0.019220\n",
            "epoch 28, loss 0.019176\n",
            "epoch 29, loss 0.019126\n",
            "epoch 30, loss 0.019104\n",
            "epoch 31, loss 0.019059\n",
            "epoch 32, loss 0.019039\n",
            "epoch 33, loss 0.019011\n",
            "epoch 34, loss 0.018984\n",
            "epoch 35, loss 0.018958\n",
            "epoch 36, loss 0.018953\n",
            "epoch 37, loss 0.018936\n",
            "epoch 38, loss 0.018910\n",
            "epoch 39, loss 0.018889\n",
            "epoch 40, loss 0.018881\n",
            "epoch 41, loss 0.018877\n",
            "epoch 42, loss 0.018856\n",
            "epoch 43, loss 0.018829\n",
            "epoch 44, loss 0.018826\n",
            "epoch 45, loss 0.018819\n",
            "epoch 46, loss 0.018801\n",
            "epoch 47, loss 0.018789\n",
            "epoch 48, loss 0.018778\n",
            "epoch 49, loss 0.018760\n",
            "epoch 50, loss 0.018755\n"
          ]
        }
      ]
    },
    {
      "cell_type": "code",
      "execution_count": 66,
      "metadata": {
        "outputId": "b5f3ba49-787b-4dd4-dade-c24762ff8acc",
        "colab": {
          "base_uri": "https://localhost:8080/",
          "height": 248
        },
        "id": "8SZwohlLipJU"
      },
      "outputs": [
        {
          "output_type": "display_data",
          "data": {
            "text/plain": [
              "<Figure size 1440x288 with 30 Axes>"
            ],
            "image/png": "[encoded data removed]"
          },
          "metadata": {
            "needs_background": "light"
          }
        }
      ],
      "source": [
        "#@title Grafique Predicciones de Validación\n",
        "# Codigo adicional para generar imágenes.\n",
        "import numpy as np\n",
        "\n",
        "\n",
        "def plot_reconstructions(model, images=iter_valid, n_images=10):\n",
        "    input = addGaussianNoise(images,0,0.15)\n",
        "    model.eval()\n",
        "    reconstructions = np.clip(input[:n_images].squeeze().detach(), 0, 1)\n",
        "    reconstructions = model(reconstructions).squeeze().detach()\n",
        "    fig = plt.figure(figsize=(n_images * 2, 4))\n",
        "    for image_index in range(n_images):\n",
        "        plt.subplot(3, n_images, 1 + image_index)\n",
        "        plt.imshow(images[image_index].squeeze(),\n",
        "                   cmap=\"binary\")\n",
        "        plt.axis(\"off\")\n",
        "        plt.subplot(3, n_images, 1 + n_images + image_index)\n",
        "        plt.imshow(input[image_index].squeeze(),\n",
        "                   cmap=\"binary\")\n",
        "        plt.axis(\"off\")\n",
        "        plt.subplot(3, n_images, 1 + 2 * n_images + image_index)\n",
        "        plt.imshow(reconstructions[image_index], cmap=\"binary\")\n",
        "        plt.axis(\"off\")\n",
        "\n",
        "net.eval()\n",
        "plot_reconstructions(netGaussian1, next(iter(iter_valid))[0])\n",
        "plt.show()"
      ]
    },
    {
      "cell_type": "code",
      "source": [
        ""
      ],
      "metadata": {
        "id": "swq_BVMyioYl"
      },
      "execution_count": null,
      "outputs": []
    }
  ],
  "metadata": {
    "accelerator": "GPU",
    "colab": {
      "name": "ejercicios_solucion",
      "provenance": [],
      "collapsed_sections": [],
      "toc_visible": true
    },
    "kernelspec": {
      "display_name": "Python 3",
      "language": "python",
      "name": "python3"
    },
    "language_info": {
      "codemirror_mode": {
        "name": "ipython",
        "version": 3
      },
      "file_extension": ".py",
      "mimetype": "text/x-python",
      "name": "python",
      "nbconvert_exporter": "python",
      "pygments_lexer": "ipython3",
      "version": "3.9.10"
    },
    "nav_menu": {
      "height": "381px",
      "width": "453px"
    },
    "toc": {
      "navigate_menu": true,
      "number_sections": true,
      "sideBar": true,
      "threshold": 6,
      "toc_cell": false,
      "toc_section_display": "block",
      "toc_window_display": false
    },
    "widgets": {
      "application/vnd.jupyter.widget-state+json": {
        "aed279a5d8e547f7afd1d9401c0a6f32": {
          "model_module": "@jupyter-widgets/controls",
          "model_name": "HBoxModel",
          "model_module_version": "1.5.0",
          "state": {
            "_dom_classes": [],
            "_model_module": "@jupyter-widgets/controls",
            "_model_module_version": "1.5.0",
            "_model_name": "HBoxModel",
            "_view_count": null,
            "_view_module": "@jupyter-widgets/controls",
            "_view_module_version": "1.5.0",
            "_view_name": "HBoxView",
            "box_style": "",
            "children": [
              "IPY_MODEL_cf548a04d85f498782a9721019e0987b",
              "IPY_MODEL_0f26c52700e04d0dbb3048c0d4c697dc",
              "IPY_MODEL_0f19f716556c48c5b0ce5efa432ece5b"
            ],
            "layout": "IPY_MODEL_bd1f8be53f694291aca98345aba4541d"
          }
        },
        "cf548a04d85f498782a9721019e0987b": {
          "model_module": "@jupyter-widgets/controls",
          "model_name": "HTMLModel",
          "model_module_version": "1.5.0",
          "state": {
            "_dom_classes": [],
            "_model_module": "@jupyter-widgets/controls",
            "_model_module_version": "1.5.0",
            "_model_name": "HTMLModel",
            "_view_count": null,
            "_view_module": "@jupyter-widgets/controls",
            "_view_module_version": "1.5.0",
            "_view_name": "HTMLView",
            "description": "",
            "description_tooltip": null,
            "layout": "IPY_MODEL_904d2aa9049e4adaa8ddea1b5f2f7b2a",
            "placeholder": "​",
            "style": "IPY_MODEL_c5d726afaa344038be03890ef7300fb5",
            "value": "100%"
          }
        },
        "0f26c52700e04d0dbb3048c0d4c697dc": {
          "model_module": "@jupyter-widgets/controls",
          "model_name": "FloatProgressModel",
          "model_module_version": "1.5.0",
          "state": {
            "_dom_classes": [],
            "_model_module": "@jupyter-widgets/controls",
            "_model_module_version": "1.5.0",
            "_model_name": "FloatProgressModel",
            "_view_count": null,
            "_view_module": "@jupyter-widgets/controls",
            "_view_module_version": "1.5.0",
            "_view_name": "ProgressView",
            "bar_style": "success",
            "description": "",
            "description_tooltip": null,
            "layout": "IPY_MODEL_c6e596b4c5e34818b19b1e2c021d87e5",
            "max": 26421880,
            "min": 0,
            "orientation": "horizontal",
            "style": "IPY_MODEL_f49c453f59ff47079164a69ed919978d",
            "value": 26421880
          }
        },
        "0f19f716556c48c5b0ce5efa432ece5b": {
          "model_module": "@jupyter-widgets/controls",
          "model_name": "HTMLModel",
          "model_module_version": "1.5.0",
          "state": {
            "_dom_classes": [],
            "_model_module": "@jupyter-widgets/controls",
            "_model_module_version": "1.5.0",
            "_model_name": "HTMLModel",
            "_view_count": null,
            "_view_module": "@jupyter-widgets/controls",
            "_view_module_version": "1.5.0",
            "_view_name": "HTMLView",
            "description": "",
            "description_tooltip": null,
            "layout": "IPY_MODEL_a97486f46adb489d817c84642fdd5643",
            "placeholder": "​",
            "style": "IPY_MODEL_74916fdc4b1c43ea9b0cd19d352223a5",
            "value": " 26421880/26421880 [00:01&lt;00:00, 31270055.39it/s]"
          }
        },
        "bd1f8be53f694291aca98345aba4541d": {
          "model_module": "@jupyter-widgets/base",
          "model_name": "LayoutModel",
          "model_module_version": "1.2.0",
          "state": {
            "_model_module": "@jupyter-widgets/base",
            "_model_module_version": "1.2.0",
            "_model_name": "LayoutModel",
            "_view_count": null,
            "_view_module": "@jupyter-widgets/base",
            "_view_module_version": "1.2.0",
            "_view_name": "LayoutView",
            "align_content": null,
            "align_items": null,
            "align_self": null,
            "border": null,
            "bottom": null,
            "display": null,
            "flex": null,
            "flex_flow": null,
            "grid_area": null,
            "grid_auto_columns": null,
            "grid_auto_flow": null,
            "grid_auto_rows": null,
            "grid_column": null,
            "grid_gap": null,
            "grid_row": null,
            "grid_template_areas": null,
            "grid_template_columns": null,
            "grid_template_rows": null,
            "height": null,
            "justify_content": null,
            "justify_items": null,
            "left": null,
            "margin": null,
            "max_height": null,
            "max_width": null,
            "min_height": null,
            "min_width": null,
            "object_fit": null,
            "object_position": null,
            "order": null,
            "overflow": null,
            "overflow_x": null,
            "overflow_y": null,
            "padding": null,
            "right": null,
            "top": null,
            "visibility": null,
            "width": null
          }
        },
        "904d2aa9049e4adaa8ddea1b5f2f7b2a": {
          "model_module": "@jupyter-widgets/base",
          "model_name": "LayoutModel",
          "model_module_version": "1.2.0",
          "state": {
            "_model_module": "@jupyter-widgets/base",
            "_model_module_version": "1.2.0",
            "_model_name": "LayoutModel",
            "_view_count": null,
            "_view_module": "@jupyter-widgets/base",
            "_view_module_version": "1.2.0",
            "_view_name": "LayoutView",
            "align_content": null,
            "align_items": null,
            "align_self": null,
            "border": null,
            "bottom": null,
            "display": null,
            "flex": null,
            "flex_flow": null,
            "grid_area": null,
            "grid_auto_columns": null,
            "grid_auto_flow": null,
            "grid_auto_rows": null,
            "grid_column": null,
            "grid_gap": null,
            "grid_row": null,
            "grid_template_areas": null,
            "grid_template_columns": null,
            "grid_template_rows": null,
            "height": null,
            "justify_content": null,
            "justify_items": null,
            "left": null,
            "margin": null,
            "max_height": null,
            "max_width": null,
            "min_height": null,
            "min_width": null,
            "object_fit": null,
            "object_position": null,
            "order": null,
            "overflow": null,
            "overflow_x": null,
            "overflow_y": null,
            "padding": null,
            "right": null,
            "top": null,
            "visibility": null,
            "width": null
          }
        },
        "c5d726afaa344038be03890ef7300fb5": {
          "model_module": "@jupyter-widgets/controls",
          "model_name": "DescriptionStyleModel",
          "model_module_version": "1.5.0",
          "state": {
            "_model_module": "@jupyter-widgets/controls",
            "_model_module_version": "1.5.0",
            "_model_name": "DescriptionStyleModel",
            "_view_count": null,
            "_view_module": "@jupyter-widgets/base",
            "_view_module_version": "1.2.0",
            "_view_name": "StyleView",
            "description_width": ""
          }
        },
        "c6e596b4c5e34818b19b1e2c021d87e5": {
          "model_module": "@jupyter-widgets/base",
          "model_name": "LayoutModel",
          "model_module_version": "1.2.0",
          "state": {
            "_model_module": "@jupyter-widgets/base",
            "_model_module_version": "1.2.0",
            "_model_name": "LayoutModel",
            "_view_count": null,
            "_view_module": "@jupyter-widgets/base",
            "_view_module_version": "1.2.0",
            "_view_name": "LayoutView",
            "align_content": null,
            "align_items": null,
            "align_self": null,
            "border": null,
            "bottom": null,
            "display": null,
            "flex": null,
            "flex_flow": null,
            "grid_area": null,
            "grid_auto_columns": null,
            "grid_auto_flow": null,
            "grid_auto_rows": null,
            "grid_column": null,
            "grid_gap": null,
            "grid_row": null,
            "grid_template_areas": null,
            "grid_template_columns": null,
            "grid_template_rows": null,
            "height": null,
            "justify_content": null,
            "justify_items": null,
            "left": null,
            "margin": null,
            "max_height": null,
            "max_width": null,
            "min_height": null,
            "min_width": null,
            "object_fit": null,
            "object_position": null,
            "order": null,
            "overflow": null,
            "overflow_x": null,
            "overflow_y": null,
            "padding": null,
            "right": null,
            "top": null,
            "visibility": null,
            "width": null
          }
        },
        "f49c453f59ff47079164a69ed919978d": {
          "model_module": "@jupyter-widgets/controls",
          "model_name": "ProgressStyleModel",
          "model_module_version": "1.5.0",
          "state": {
            "_model_module": "@jupyter-widgets/controls",
            "_model_module_version": "1.5.0",
            "_model_name": "ProgressStyleModel",
            "_view_count": null,
            "_view_module": "@jupyter-widgets/base",
            "_view_module_version": "1.2.0",
            "_view_name": "StyleView",
            "bar_color": null,
            "description_width": ""
          }
        },
        "a97486f46adb489d817c84642fdd5643": {
          "model_module": "@jupyter-widgets/base",
          "model_name": "LayoutModel",
          "model_module_version": "1.2.0",
          "state": {
            "_model_module": "@jupyter-widgets/base",
            "_model_module_version": "1.2.0",
            "_model_name": "LayoutModel",
            "_view_count": null,
            "_view_module": "@jupyter-widgets/base",
            "_view_module_version": "1.2.0",
            "_view_name": "LayoutView",
            "align_content": null,
            "align_items": null,
            "align_self": null,
            "border": null,
            "bottom": null,
            "display": null,
            "flex": null,
            "flex_flow": null,
            "grid_area": null,
            "grid_auto_columns": null,
            "grid_auto_flow": null,
            "grid_auto_rows": null,
            "grid_column": null,
            "grid_gap": null,
            "grid_row": null,
            "grid_template_areas": null,
            "grid_template_columns": null,
            "grid_template_rows": null,
            "height": null,
            "justify_content": null,
            "justify_items": null,
            "left": null,
            "margin": null,
            "max_height": null,
            "max_width": null,
            "min_height": null,
            "min_width": null,
            "object_fit": null,
            "object_position": null,
            "order": null,
            "overflow": null,
            "overflow_x": null,
            "overflow_y": null,
            "padding": null,
            "right": null,
            "top": null,
            "visibility": null,
            "width": null
          }
        },
        "74916fdc4b1c43ea9b0cd19d352223a5": {
          "model_module": "@jupyter-widgets/controls",
          "model_name": "DescriptionStyleModel",
          "model_module_version": "1.5.0",
          "state": {
            "_model_module": "@jupyter-widgets/controls",
            "_model_module_version": "1.5.0",
            "_model_name": "DescriptionStyleModel",
            "_view_count": null,
            "_view_module": "@jupyter-widgets/base",
            "_view_module_version": "1.2.0",
            "_view_name": "StyleView",
            "description_width": ""
          }
        },
        "717f603c04df4678b656e9419905a677": {
          "model_module": "@jupyter-widgets/controls",
          "model_name": "HBoxModel",
          "model_module_version": "1.5.0",
          "state": {
            "_dom_classes": [],
            "_model_module": "@jupyter-widgets/controls",
            "_model_module_version": "1.5.0",
            "_model_name": "HBoxModel",
            "_view_count": null,
            "_view_module": "@jupyter-widgets/controls",
            "_view_module_version": "1.5.0",
            "_view_name": "HBoxView",
            "box_style": "",
            "children": [
              "IPY_MODEL_471a331d647d46b18822ef59add695ec",
              "IPY_MODEL_d5bee67ff78444b5ac3fe87a946e19d3",
              "IPY_MODEL_c6defb5038c14455a414be53c6c67dbb"
            ],
            "layout": "IPY_MODEL_f710ab9cc4814817810cc606e1482b77"
          }
        },
        "471a331d647d46b18822ef59add695ec": {
          "model_module": "@jupyter-widgets/controls",
          "model_name": "HTMLModel",
          "model_module_version": "1.5.0",
          "state": {
            "_dom_classes": [],
            "_model_module": "@jupyter-widgets/controls",
            "_model_module_version": "1.5.0",
            "_model_name": "HTMLModel",
            "_view_count": null,
            "_view_module": "@jupyter-widgets/controls",
            "_view_module_version": "1.5.0",
            "_view_name": "HTMLView",
            "description": "",
            "description_tooltip": null,
            "layout": "IPY_MODEL_7128cb0cf6e446e493d16902ba66cae4",
            "placeholder": "​",
            "style": "IPY_MODEL_c9d189a1adcb4a279adfd2b87c72fda6",
            "value": "100%"
          }
        },
        "d5bee67ff78444b5ac3fe87a946e19d3": {
          "model_module": "@jupyter-widgets/controls",
          "model_name": "FloatProgressModel",
          "model_module_version": "1.5.0",
          "state": {
            "_dom_classes": [],
            "_model_module": "@jupyter-widgets/controls",
            "_model_module_version": "1.5.0",
            "_model_name": "FloatProgressModel",
            "_view_count": null,
            "_view_module": "@jupyter-widgets/controls",
            "_view_module_version": "1.5.0",
            "_view_name": "ProgressView",
            "bar_style": "success",
            "description": "",
            "description_tooltip": null,
            "layout": "IPY_MODEL_e17e54a326dc47c49ba54d25a798334e",
            "max": 29515,
            "min": 0,
            "orientation": "horizontal",
            "style": "IPY_MODEL_819d1b6ae1ea4608937815146ed11674",
            "value": 29515
          }
        },
        "c6defb5038c14455a414be53c6c67dbb": {
          "model_module": "@jupyter-widgets/controls",
          "model_name": "HTMLModel",
          "model_module_version": "1.5.0",
          "state": {
            "_dom_classes": [],
            "_model_module": "@jupyter-widgets/controls",
            "_model_module_version": "1.5.0",
            "_model_name": "HTMLModel",
            "_view_count": null,
            "_view_module": "@jupyter-widgets/controls",
            "_view_module_version": "1.5.0",
            "_view_name": "HTMLView",
            "description": "",
            "description_tooltip": null,
            "layout": "IPY_MODEL_6f029a225a014d2fb2f84443292e3bb3",
            "placeholder": "​",
            "style": "IPY_MODEL_10fa71acf0e54cb88031051574910766",
            "value": " 29515/29515 [00:00&lt;00:00, 333243.29it/s]"
          }
        },
        "f710ab9cc4814817810cc606e1482b77": {
          "model_module": "@jupyter-widgets/base",
          "model_name": "LayoutModel",
          "model_module_version": "1.2.0",
          "state": {
            "_model_module": "@jupyter-widgets/base",
            "_model_module_version": "1.2.0",
            "_model_name": "LayoutModel",
            "_view_count": null,
            "_view_module": "@jupyter-widgets/base",
            "_view_module_version": "1.2.0",
            "_view_name": "LayoutView",
            "align_content": null,
            "align_items": null,
            "align_self": null,
            "border": null,
            "bottom": null,
            "display": null,
            "flex": null,
            "flex_flow": null,
            "grid_area": null,
            "grid_auto_columns": null,
            "grid_auto_flow": null,
            "grid_auto_rows": null,
            "grid_column": null,
            "grid_gap": null,
            "grid_row": null,
            "grid_template_areas": null,
            "grid_template_columns": null,
            "grid_template_rows": null,
            "height": null,
            "justify_content": null,
            "justify_items": null,
            "left": null,
            "margin": null,
            "max_height": null,
            "max_width": null,
            "min_height": null,
            "min_width": null,
            "object_fit": null,
            "object_position": null,
            "order": null,
            "overflow": null,
            "overflow_x": null,
            "overflow_y": null,
            "padding": null,
            "right": null,
            "top": null,
            "visibility": null,
            "width": null
          }
        },
        "7128cb0cf6e446e493d16902ba66cae4": {
          "model_module": "@jupyter-widgets/base",
          "model_name": "LayoutModel",
          "model_module_version": "1.2.0",
          "state": {
            "_model_module": "@jupyter-widgets/base",
            "_model_module_version": "1.2.0",
            "_model_name": "LayoutModel",
            "_view_count": null,
            "_view_module": "@jupyter-widgets/base",
            "_view_module_version": "1.2.0",
            "_view_name": "LayoutView",
            "align_content": null,
            "align_items": null,
            "align_self": null,
            "border": null,
            "bottom": null,
            "display": null,
            "flex": null,
            "flex_flow": null,
            "grid_area": null,
            "grid_auto_columns": null,
            "grid_auto_flow": null,
            "grid_auto_rows": null,
            "grid_column": null,
            "grid_gap": null,
            "grid_row": null,
            "grid_template_areas": null,
            "grid_template_columns": null,
            "grid_template_rows": null,
            "height": null,
            "justify_content": null,
            "justify_items": null,
            "left": null,
            "margin": null,
            "max_height": null,
            "max_width": null,
            "min_height": null,
            "min_width": null,
            "object_fit": null,
            "object_position": null,
            "order": null,
            "overflow": null,
            "overflow_x": null,
            "overflow_y": null,
            "padding": null,
            "right": null,
            "top": null,
            "visibility": null,
            "width": null
          }
        },
        "c9d189a1adcb4a279adfd2b87c72fda6": {
          "model_module": "@jupyter-widgets/controls",
          "model_name": "DescriptionStyleModel",
          "model_module_version": "1.5.0",
          "state": {
            "_model_module": "@jupyter-widgets/controls",
            "_model_module_version": "1.5.0",
            "_model_name": "DescriptionStyleModel",
            "_view_count": null,
            "_view_module": "@jupyter-widgets/base",
            "_view_module_version": "1.2.0",
            "_view_name": "StyleView",
            "description_width": ""
          }
        },
        "e17e54a326dc47c49ba54d25a798334e": {
          "model_module": "@jupyter-widgets/base",
          "model_name": "LayoutModel",
          "model_module_version": "1.2.0",
          "state": {
            "_model_module": "@jupyter-widgets/base",
            "_model_module_version": "1.2.0",
            "_model_name": "LayoutModel",
            "_view_count": null,
            "_view_module": "@jupyter-widgets/base",
            "_view_module_version": "1.2.0",
            "_view_name": "LayoutView",
            "align_content": null,
            "align_items": null,
            "align_self": null,
            "border": null,
            "bottom": null,
            "display": null,
            "flex": null,
            "flex_flow": null,
            "grid_area": null,
            "grid_auto_columns": null,
            "grid_auto_flow": null,
            "grid_auto_rows": null,
            "grid_column": null,
            "grid_gap": null,
            "grid_row": null,
            "grid_template_areas": null,
            "grid_template_columns": null,
            "grid_template_rows": null,
            "height": null,
            "justify_content": null,
            "justify_items": null,
            "left": null,
            "margin": null,
            "max_height": null,
            "max_width": null,
            "min_height": null,
            "min_width": null,
            "object_fit": null,
            "object_position": null,
            "order": null,
            "overflow": null,
            "overflow_x": null,
            "overflow_y": null,
            "padding": null,
            "right": null,
            "top": null,
            "visibility": null,
            "width": null
          }
        },
        "819d1b6ae1ea4608937815146ed11674": {
          "model_module": "@jupyter-widgets/controls",
          "model_name": "ProgressStyleModel",
          "model_module_version": "1.5.0",
          "state": {
            "_model_module": "@jupyter-widgets/controls",
            "_model_module_version": "1.5.0",
            "_model_name": "ProgressStyleModel",
            "_view_count": null,
            "_view_module": "@jupyter-widgets/base",
            "_view_module_version": "1.2.0",
            "_view_name": "StyleView",
            "bar_color": null,
            "description_width": ""
          }
        },
        "6f029a225a014d2fb2f84443292e3bb3": {
          "model_module": "@jupyter-widgets/base",
          "model_name": "LayoutModel",
          "model_module_version": "1.2.0",
          "state": {
            "_model_module": "@jupyter-widgets/base",
            "_model_module_version": "1.2.0",
            "_model_name": "LayoutModel",
            "_view_count": null,
            "_view_module": "@jupyter-widgets/base",
            "_view_module_version": "1.2.0",
            "_view_name": "LayoutView",
            "align_content": null,
            "align_items": null,
            "align_self": null,
            "border": null,
            "bottom": null,
            "display": null,
            "flex": null,
            "flex_flow": null,
            "grid_area": null,
            "grid_auto_columns": null,
            "grid_auto_flow": null,
            "grid_auto_rows": null,
            "grid_column": null,
            "grid_gap": null,
            "grid_row": null,
            "grid_template_areas": null,
            "grid_template_columns": null,
            "grid_template_rows": null,
            "height": null,
            "justify_content": null,
            "justify_items": null,
            "left": null,
            "margin": null,
            "max_height": null,
            "max_width": null,
            "min_height": null,
            "min_width": null,
            "object_fit": null,
            "object_position": null,
            "order": null,
            "overflow": null,
            "overflow_x": null,
            "overflow_y": null,
            "padding": null,
            "right": null,
            "top": null,
            "visibility": null,
            "width": null
          }
        },
        "10fa71acf0e54cb88031051574910766": {
          "model_module": "@jupyter-widgets/controls",
          "model_name": "DescriptionStyleModel",
          "model_module_version": "1.5.0",
          "state": {
            "_model_module": "@jupyter-widgets/controls",
            "_model_module_version": "1.5.0",
            "_model_name": "DescriptionStyleModel",
            "_view_count": null,
            "_view_module": "@jupyter-widgets/base",
            "_view_module_version": "1.2.0",
            "_view_name": "StyleView",
            "description_width": ""
          }
        },
        "e40fb8dd8302486680565f2f69eb167b": {
          "model_module": "@jupyter-widgets/controls",
          "model_name": "HBoxModel",
          "model_module_version": "1.5.0",
          "state": {
            "_dom_classes": [],
            "_model_module": "@jupyter-widgets/controls",
            "_model_module_version": "1.5.0",
            "_model_name": "HBoxModel",
            "_view_count": null,
            "_view_module": "@jupyter-widgets/controls",
            "_view_module_version": "1.5.0",
            "_view_name": "HBoxView",
            "box_style": "",
            "children": [
              "IPY_MODEL_fa81ab718a4d4852b121b3672d38b72e",
              "IPY_MODEL_47120ac82dee4854aae8d0a00b7fd5f7",
              "IPY_MODEL_97e2d8af236c4111a8ab0b4770086901"
            ],
            "layout": "IPY_MODEL_d513f4366113417d972232fe2a6da7b5"
          }
        },
        "fa81ab718a4d4852b121b3672d38b72e": {
          "model_module": "@jupyter-widgets/controls",
          "model_name": "HTMLModel",
          "model_module_version": "1.5.0",
          "state": {
            "_dom_classes": [],
            "_model_module": "@jupyter-widgets/controls",
            "_model_module_version": "1.5.0",
            "_model_name": "HTMLModel",
            "_view_count": null,
            "_view_module": "@jupyter-widgets/controls",
            "_view_module_version": "1.5.0",
            "_view_name": "HTMLView",
            "description": "",
            "description_tooltip": null,
            "layout": "IPY_MODEL_a50ede2531ea44dd824e0652250658e5",
            "placeholder": "​",
            "style": "IPY_MODEL_2454007f108a42c68e245971bd828fc0",
            "value": "100%"
          }
        },
        "47120ac82dee4854aae8d0a00b7fd5f7": {
          "model_module": "@jupyter-widgets/controls",
          "model_name": "FloatProgressModel",
          "model_module_version": "1.5.0",
          "state": {
            "_dom_classes": [],
            "_model_module": "@jupyter-widgets/controls",
            "_model_module_version": "1.5.0",
            "_model_name": "FloatProgressModel",
            "_view_count": null,
            "_view_module": "@jupyter-widgets/controls",
            "_view_module_version": "1.5.0",
            "_view_name": "ProgressView",
            "bar_style": "success",
            "description": "",
            "description_tooltip": null,
            "layout": "IPY_MODEL_9032f75b6a5149c683bbefd411d17431",
            "max": 4422102,
            "min": 0,
            "orientation": "horizontal",
            "style": "IPY_MODEL_7fdbfb29538c43939a884c6415a45b17",
            "value": 4422102
          }
        },
        "97e2d8af236c4111a8ab0b4770086901": {
          "model_module": "@jupyter-widgets/controls",
          "model_name": "HTMLModel",
          "model_module_version": "1.5.0",
          "state": {
            "_dom_classes": [],
            "_model_module": "@jupyter-widgets/controls",
            "_model_module_version": "1.5.0",
            "_model_name": "HTMLModel",
            "_view_count": null,
            "_view_module": "@jupyter-widgets/controls",
            "_view_module_version": "1.5.0",
            "_view_name": "HTMLView",
            "description": "",
            "description_tooltip": null,
            "layout": "IPY_MODEL_14c465d317654b7cbb86ba073cdf925d",
            "placeholder": "​",
            "style": "IPY_MODEL_43ed7877d91f4b7dbf2c7c4d15ac9a02",
            "value": " 4422102/4422102 [00:00&lt;00:00, 8092491.55it/s]"
          }
        },
        "d513f4366113417d972232fe2a6da7b5": {
          "model_module": "@jupyter-widgets/base",
          "model_name": "LayoutModel",
          "model_module_version": "1.2.0",
          "state": {
            "_model_module": "@jupyter-widgets/base",
            "_model_module_version": "1.2.0",
            "_model_name": "LayoutModel",
            "_view_count": null,
            "_view_module": "@jupyter-widgets/base",
            "_view_module_version": "1.2.0",
            "_view_name": "LayoutView",
            "align_content": null,
            "align_items": null,
            "align_self": null,
            "border": null,
            "bottom": null,
            "display": null,
            "flex": null,
            "flex_flow": null,
            "grid_area": null,
            "grid_auto_columns": null,
            "grid_auto_flow": null,
            "grid_auto_rows": null,
            "grid_column": null,
            "grid_gap": null,
            "grid_row": null,
            "grid_template_areas": null,
            "grid_template_columns": null,
            "grid_template_rows": null,
            "height": null,
            "justify_content": null,
            "justify_items": null,
            "left": null,
            "margin": null,
            "max_height": null,
            "max_width": null,
            "min_height": null,
            "min_width": null,
            "object_fit": null,
            "object_position": null,
            "order": null,
            "overflow": null,
            "overflow_x": null,
            "overflow_y": null,
            "padding": null,
            "right": null,
            "top": null,
            "visibility": null,
            "width": null
          }
        },
        "a50ede2531ea44dd824e0652250658e5": {
          "model_module": "@jupyter-widgets/base",
          "model_name": "LayoutModel",
          "model_module_version": "1.2.0",
          "state": {
            "_model_module": "@jupyter-widgets/base",
            "_model_module_version": "1.2.0",
            "_model_name": "LayoutModel",
            "_view_count": null,
            "_view_module": "@jupyter-widgets/base",
            "_view_module_version": "1.2.0",
            "_view_name": "LayoutView",
            "align_content": null,
            "align_items": null,
            "align_self": null,
            "border": null,
            "bottom": null,
            "display": null,
            "flex": null,
            "flex_flow": null,
            "grid_area": null,
            "grid_auto_columns": null,
            "grid_auto_flow": null,
            "grid_auto_rows": null,
            "grid_column": null,
            "grid_gap": null,
            "grid_row": null,
            "grid_template_areas": null,
            "grid_template_columns": null,
            "grid_template_rows": null,
            "height": null,
            "justify_content": null,
            "justify_items": null,
            "left": null,
            "margin": null,
            "max_height": null,
            "max_width": null,
            "min_height": null,
            "min_width": null,
            "object_fit": null,
            "object_position": null,
            "order": null,
            "overflow": null,
            "overflow_x": null,
            "overflow_y": null,
            "padding": null,
            "right": null,
            "top": null,
            "visibility": null,
            "width": null
          }
        },
        "2454007f108a42c68e245971bd828fc0": {
          "model_module": "@jupyter-widgets/controls",
          "model_name": "DescriptionStyleModel",
          "model_module_version": "1.5.0",
          "state": {
            "_model_module": "@jupyter-widgets/controls",
            "_model_module_version": "1.5.0",
            "_model_name": "DescriptionStyleModel",
            "_view_count": null,
            "_view_module": "@jupyter-widgets/base",
            "_view_module_version": "1.2.0",
            "_view_name": "StyleView",
            "description_width": ""
          }
        },
        "9032f75b6a5149c683bbefd411d17431": {
          "model_module": "@jupyter-widgets/base",
          "model_name": "LayoutModel",
          "model_module_version": "1.2.0",
          "state": {
            "_model_module": "@jupyter-widgets/base",
            "_model_module_version": "1.2.0",
            "_model_name": "LayoutModel",
            "_view_count": null,
            "_view_module": "@jupyter-widgets/base",
            "_view_module_version": "1.2.0",
            "_view_name": "LayoutView",
            "align_content": null,
            "align_items": null,
            "align_self": null,
            "border": null,
            "bottom": null,
            "display": null,
            "flex": null,
            "flex_flow": null,
            "grid_area": null,
            "grid_auto_columns": null,
            "grid_auto_flow": null,
            "grid_auto_rows": null,
            "grid_column": null,
            "grid_gap": null,
            "grid_row": null,
            "grid_template_areas": null,
            "grid_template_columns": null,
            "grid_template_rows": null,
            "height": null,
            "justify_content": null,
            "justify_items": null,
            "left": null,
            "margin": null,
            "max_height": null,
            "max_width": null,
            "min_height": null,
            "min_width": null,
            "object_fit": null,
            "object_position": null,
            "order": null,
            "overflow": null,
            "overflow_x": null,
            "overflow_y": null,
            "padding": null,
            "right": null,
            "top": null,
            "visibility": null,
            "width": null
          }
        },
        "7fdbfb29538c43939a884c6415a45b17": {
          "model_module": "@jupyter-widgets/controls",
          "model_name": "ProgressStyleModel",
          "model_module_version": "1.5.0",
          "state": {
            "_model_module": "@jupyter-widgets/controls",
            "_model_module_version": "1.5.0",
            "_model_name": "ProgressStyleModel",
            "_view_count": null,
            "_view_module": "@jupyter-widgets/base",
            "_view_module_version": "1.2.0",
            "_view_name": "StyleView",
            "bar_color": null,
            "description_width": ""
          }
        },
        "14c465d317654b7cbb86ba073cdf925d": {
          "model_module": "@jupyter-widgets/base",
          "model_name": "LayoutModel",
          "model_module_version": "1.2.0",
          "state": {
            "_model_module": "@jupyter-widgets/base",
            "_model_module_version": "1.2.0",
            "_model_name": "LayoutModel",
            "_view_count": null,
            "_view_module": "@jupyter-widgets/base",
            "_view_module_version": "1.2.0",
            "_view_name": "LayoutView",
            "align_content": null,
            "align_items": null,
            "align_self": null,
            "border": null,
            "bottom": null,
            "display": null,
            "flex": null,
            "flex_flow": null,
            "grid_area": null,
            "grid_auto_columns": null,
            "grid_auto_flow": null,
            "grid_auto_rows": null,
            "grid_column": null,
            "grid_gap": null,
            "grid_row": null,
            "grid_template_areas": null,
            "grid_template_columns": null,
            "grid_template_rows": null,
            "height": null,
            "justify_content": null,
            "justify_items": null,
            "left": null,
            "margin": null,
            "max_height": null,
            "max_width": null,
            "min_height": null,
            "min_width": null,
            "object_fit": null,
            "object_position": null,
            "order": null,
            "overflow": null,
            "overflow_x": null,
            "overflow_y": null,
            "padding": null,
            "right": null,
            "top": null,
            "visibility": null,
            "width": null
          }
        },
        "43ed7877d91f4b7dbf2c7c4d15ac9a02": {
          "model_module": "@jupyter-widgets/controls",
          "model_name": "DescriptionStyleModel",
          "model_module_version": "1.5.0",
          "state": {
            "_model_module": "@jupyter-widgets/controls",
            "_model_module_version": "1.5.0",
            "_model_name": "DescriptionStyleModel",
            "_view_count": null,
            "_view_module": "@jupyter-widgets/base",
            "_view_module_version": "1.2.0",
            "_view_name": "StyleView",
            "description_width": ""
          }
        },
        "6615185311f446319208402b335be770": {
          "model_module": "@jupyter-widgets/controls",
          "model_name": "HBoxModel",
          "model_module_version": "1.5.0",
          "state": {
            "_dom_classes": [],
            "_model_module": "@jupyter-widgets/controls",
            "_model_module_version": "1.5.0",
            "_model_name": "HBoxModel",
            "_view_count": null,
            "_view_module": "@jupyter-widgets/controls",
            "_view_module_version": "1.5.0",
            "_view_name": "HBoxView",
            "box_style": "",
            "children": [
              "IPY_MODEL_0beed73be4a44ab7a2c5be616bf4f8dd",
              "IPY_MODEL_8210d5e8113640288033d4912890c996",
              "IPY_MODEL_e0d6bda42cde4bc7bf810d5fdb80e89c"
            ],
            "layout": "IPY_MODEL_51562a7f81ae45458875d0093d243848"
          }
        },
        "0beed73be4a44ab7a2c5be616bf4f8dd": {
          "model_module": "@jupyter-widgets/controls",
          "model_name": "HTMLModel",
          "model_module_version": "1.5.0",
          "state": {
            "_dom_classes": [],
            "_model_module": "@jupyter-widgets/controls",
            "_model_module_version": "1.5.0",
            "_model_name": "HTMLModel",
            "_view_count": null,
            "_view_module": "@jupyter-widgets/controls",
            "_view_module_version": "1.5.0",
            "_view_name": "HTMLView",
            "description": "",
            "description_tooltip": null,
            "layout": "IPY_MODEL_9a774051a8c74f17a517b8f9458e809c",
            "placeholder": "​",
            "style": "IPY_MODEL_588b5b92f7ac4d79aad9e37736b4ff3a",
            "value": "100%"
          }
        },
        "8210d5e8113640288033d4912890c996": {
          "model_module": "@jupyter-widgets/controls",
          "model_name": "FloatProgressModel",
          "model_module_version": "1.5.0",
          "state": {
            "_dom_classes": [],
            "_model_module": "@jupyter-widgets/controls",
            "_model_module_version": "1.5.0",
            "_model_name": "FloatProgressModel",
            "_view_count": null,
            "_view_module": "@jupyter-widgets/controls",
            "_view_module_version": "1.5.0",
            "_view_name": "ProgressView",
            "bar_style": "success",
            "description": "",
            "description_tooltip": null,
            "layout": "IPY_MODEL_2099228612d841529475c2186bb2f301",
            "max": 5148,
            "min": 0,
            "orientation": "horizontal",
            "style": "IPY_MODEL_a746a44f9e0040498baed41072a8f985",
            "value": 5148
          }
        },
        "e0d6bda42cde4bc7bf810d5fdb80e89c": {
          "model_module": "@jupyter-widgets/controls",
          "model_name": "HTMLModel",
          "model_module_version": "1.5.0",
          "state": {
            "_dom_classes": [],
            "_model_module": "@jupyter-widgets/controls",
            "_model_module_version": "1.5.0",
            "_model_name": "HTMLModel",
            "_view_count": null,
            "_view_module": "@jupyter-widgets/controls",
            "_view_module_version": "1.5.0",
            "_view_name": "HTMLView",
            "description": "",
            "description_tooltip": null,
            "layout": "IPY_MODEL_10b07cada8d445a79eaf4d5780436fa3",
            "placeholder": "​",
            "style": "IPY_MODEL_40cd9de247b64bdca3e1d58a3ea1a0f5",
            "value": " 5148/5148 [00:00&lt;00:00, 158827.47it/s]"
          }
        },
        "51562a7f81ae45458875d0093d243848": {
          "model_module": "@jupyter-widgets/base",
          "model_name": "LayoutModel",
          "model_module_version": "1.2.0",
          "state": {
            "_model_module": "@jupyter-widgets/base",
            "_model_module_version": "1.2.0",
            "_model_name": "LayoutModel",
            "_view_count": null,
            "_view_module": "@jupyter-widgets/base",
            "_view_module_version": "1.2.0",
            "_view_name": "LayoutView",
            "align_content": null,
            "align_items": null,
            "align_self": null,
            "border": null,
            "bottom": null,
            "display": null,
            "flex": null,
            "flex_flow": null,
            "grid_area": null,
            "grid_auto_columns": null,
            "grid_auto_flow": null,
            "grid_auto_rows": null,
            "grid_column": null,
            "grid_gap": null,
            "grid_row": null,
            "grid_template_areas": null,
            "grid_template_columns": null,
            "grid_template_rows": null,
            "height": null,
            "justify_content": null,
            "justify_items": null,
            "left": null,
            "margin": null,
            "max_height": null,
            "max_width": null,
            "min_height": null,
            "min_width": null,
            "object_fit": null,
            "object_position": null,
            "order": null,
            "overflow": null,
            "overflow_x": null,
            "overflow_y": null,
            "padding": null,
            "right": null,
            "top": null,
            "visibility": null,
            "width": null
          }
        },
        "9a774051a8c74f17a517b8f9458e809c": {
          "model_module": "@jupyter-widgets/base",
          "model_name": "LayoutModel",
          "model_module_version": "1.2.0",
          "state": {
            "_model_module": "@jupyter-widgets/base",
            "_model_module_version": "1.2.0",
            "_model_name": "LayoutModel",
            "_view_count": null,
            "_view_module": "@jupyter-widgets/base",
            "_view_module_version": "1.2.0",
            "_view_name": "LayoutView",
            "align_content": null,
            "align_items": null,
            "align_self": null,
            "border": null,
            "bottom": null,
            "display": null,
            "flex": null,
            "flex_flow": null,
            "grid_area": null,
            "grid_auto_columns": null,
            "grid_auto_flow": null,
            "grid_auto_rows": null,
            "grid_column": null,
            "grid_gap": null,
            "grid_row": null,
            "grid_template_areas": null,
            "grid_template_columns": null,
            "grid_template_rows": null,
            "height": null,
            "justify_content": null,
            "justify_items": null,
            "left": null,
            "margin": null,
            "max_height": null,
            "max_width": null,
            "min_height": null,
            "min_width": null,
            "object_fit": null,
            "object_position": null,
            "order": null,
            "overflow": null,
            "overflow_x": null,
            "overflow_y": null,
            "padding": null,
            "right": null,
            "top": null,
            "visibility": null,
            "width": null
          }
        },
        "588b5b92f7ac4d79aad9e37736b4ff3a": {
          "model_module": "@jupyter-widgets/controls",
          "model_name": "DescriptionStyleModel",
          "model_module_version": "1.5.0",
          "state": {
            "_model_module": "@jupyter-widgets/controls",
            "_model_module_version": "1.5.0",
            "_model_name": "DescriptionStyleModel",
            "_view_count": null,
            "_view_module": "@jupyter-widgets/base",
            "_view_module_version": "1.2.0",
            "_view_name": "StyleView",
            "description_width": ""
          }
        },
        "2099228612d841529475c2186bb2f301": {
          "model_module": "@jupyter-widgets/base",
          "model_name": "LayoutModel",
          "model_module_version": "1.2.0",
          "state": {
            "_model_module": "@jupyter-widgets/base",
            "_model_module_version": "1.2.0",
            "_model_name": "LayoutModel",
            "_view_count": null,
            "_view_module": "@jupyter-widgets/base",
            "_view_module_version": "1.2.0",
            "_view_name": "LayoutView",
            "align_content": null,
            "align_items": null,
            "align_self": null,
            "border": null,
            "bottom": null,
            "display": null,
            "flex": null,
            "flex_flow": null,
            "grid_area": null,
            "grid_auto_columns": null,
            "grid_auto_flow": null,
            "grid_auto_rows": null,
            "grid_column": null,
            "grid_gap": null,
            "grid_row": null,
            "grid_template_areas": null,
            "grid_template_columns": null,
            "grid_template_rows": null,
            "height": null,
            "justify_content": null,
            "justify_items": null,
            "left": null,
            "margin": null,
            "max_height": null,
            "max_width": null,
            "min_height": null,
            "min_width": null,
            "object_fit": null,
            "object_position": null,
            "order": null,
            "overflow": null,
            "overflow_x": null,
            "overflow_y": null,
            "padding": null,
            "right": null,
            "top": null,
            "visibility": null,
            "width": null
          }
        },
        "a746a44f9e0040498baed41072a8f985": {
          "model_module": "@jupyter-widgets/controls",
          "model_name": "ProgressStyleModel",
          "model_module_version": "1.5.0",
          "state": {
            "_model_module": "@jupyter-widgets/controls",
            "_model_module_version": "1.5.0",
            "_model_name": "ProgressStyleModel",
            "_view_count": null,
            "_view_module": "@jupyter-widgets/base",
            "_view_module_version": "1.2.0",
            "_view_name": "StyleView",
            "bar_color": null,
            "description_width": ""
          }
        },
        "10b07cada8d445a79eaf4d5780436fa3": {
          "model_module": "@jupyter-widgets/base",
          "model_name": "LayoutModel",
          "model_module_version": "1.2.0",
          "state": {
            "_model_module": "@jupyter-widgets/base",
            "_model_module_version": "1.2.0",
            "_model_name": "LayoutModel",
            "_view_count": null,
            "_view_module": "@jupyter-widgets/base",
            "_view_module_version": "1.2.0",
            "_view_name": "LayoutView",
            "align_content": null,
            "align_items": null,
            "align_self": null,
            "border": null,
            "bottom": null,
            "display": null,
            "flex": null,
            "flex_flow": null,
            "grid_area": null,
            "grid_auto_columns": null,
            "grid_auto_flow": null,
            "grid_auto_rows": null,
            "grid_column": null,
            "grid_gap": null,
            "grid_row": null,
            "grid_template_areas": null,
            "grid_template_columns": null,
            "grid_template_rows": null,
            "height": null,
            "justify_content": null,
            "justify_items": null,
            "left": null,
            "margin": null,
            "max_height": null,
            "max_width": null,
            "min_height": null,
            "min_width": null,
            "object_fit": null,
            "object_position": null,
            "order": null,
            "overflow": null,
            "overflow_x": null,
            "overflow_y": null,
            "padding": null,
            "right": null,
            "top": null,
            "visibility": null,
            "width": null
          }
        },
        "40cd9de247b64bdca3e1d58a3ea1a0f5": {
          "model_module": "@jupyter-widgets/controls",
          "model_name": "DescriptionStyleModel",
          "model_module_version": "1.5.0",
          "state": {
            "_model_module": "@jupyter-widgets/controls",
            "_model_module_version": "1.5.0",
            "_model_name": "DescriptionStyleModel",
            "_view_count": null,
            "_view_module": "@jupyter-widgets/base",
            "_view_module_version": "1.2.0",
            "_view_name": "StyleView",
            "description_width": ""
          }
        }
      }
    }
  },
  "nbformat": 4,
  "nbformat_minor": 0
}