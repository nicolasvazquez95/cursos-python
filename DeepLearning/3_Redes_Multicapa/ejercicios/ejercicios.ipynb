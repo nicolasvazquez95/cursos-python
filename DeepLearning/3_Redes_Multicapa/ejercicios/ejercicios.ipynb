{
  "nbformat": 4,
  "nbformat_minor": 0,
  "metadata": {
    "colab": {
      "name": "ejercicios.ipynb",
      "provenance": [],
      "collapsed_sections": [],
      "toc_visible": true
    },
    "kernelspec": {
      "name": "python3",
      "display_name": "Python 3"
    },
    "language_info": {
      "name": "python"
    }
  },
  "cells": [
    {
      "cell_type": "markdown",
      "source": [
        "<a href=\"https://colab.research.google.com/github/institutohumai/cursos-python/blob/master/DeepLearning/3_Redes_Multicapa/ejercicios/ejercicios.ipynb\" target=\"_parent\"><img src=\"https://colab.research.google.com/assets/colab-badge.svg\" alt=\"Open in Colab\"/></a>"
      ],
      "metadata": {
        "id": "1vfLOURR2gHH"
      }
    },
    {
      "cell_type": "markdown",
      "source": [
        "# Ejercicios Clase 3"
      ],
      "metadata": {
        "id": "HIfRkWPFFAoh"
      }
    },
    {
      "cell_type": "markdown",
      "source": [
        "En este notebook vamos a usar MLPs para generar un modelo clasificador sobre FashionMNIST así que muchas de las funciones que usamos en los ejercicios de la clase 2 te serán muy útiles."
      ],
      "metadata": {
        "id": "XrjQc1jFzKax"
      }
    },
    {
      "cell_type": "markdown",
      "source": [
        "## Ejercicio 1:"
      ],
      "metadata": {
        "id": "wXptOn-CVs2n"
      }
    },
    {
      "cell_type": "markdown",
      "source": [
        "Generar un modelo perceptron multicapa con 2 capas ocultas de 512 y 128 neuronas respectivamente para clasificación sobre el dataset FashionMNIST "
      ],
      "metadata": {
        "id": "JVlWPVyn5PW1"
      }
    },
    {
      "cell_type": "code",
      "source": [
        "net1 = #ingresa tu código aquí"
      ],
      "metadata": {
        "id": "5s8UWRi1zqXD"
      },
      "execution_count": null,
      "outputs": []
    },
    {
      "cell_type": "markdown",
      "source": [
        "## Ejercicio 2 \n",
        "\n",
        "Entrene el modelo por 10 épocas con un tamaño de lote de 256 y un learning rate de 0.3. (Le recomendamos reutilizar las funciones modularizadas de los ejercicios de la clase 2)"
      ],
      "metadata": {
        "id": "1ntELWGPIpoB"
      }
    },
    {
      "cell_type": "code",
      "source": [
        "#ingresa tu código aquí\n"
      ],
      "metadata": {
        "id": "KIIQUloXX-PA"
      },
      "execution_count": null,
      "outputs": []
    },
    {
      "cell_type": "markdown",
      "source": [
        "## Ejercicio 3 :"
      ],
      "metadata": {
        "id": "iH0Tag93XCct"
      }
    },
    {
      "cell_type": "markdown",
      "source": [
        "A partir del modelo anterior, analice que ocurre si en lugar de entrenar 10 épocas, entrena 20"
      ],
      "metadata": {
        "id": "oJOmdokbXCcu"
      }
    },
    {
      "cell_type": "code",
      "source": [
        "#ingresa tu código aquí"
      ],
      "metadata": {
        "id": "1eOc5tisYNHZ"
      },
      "execution_count": null,
      "outputs": []
    },
    {
      "cell_type": "markdown",
      "source": [
        "## Ejercicio 4"
      ],
      "metadata": {
        "id": "ptvfEmUIcf0-"
      }
    },
    {
      "cell_type": "markdown",
      "source": [
        "Aumente el learning rate a 1 y entrene nuevamente. ¿Cómo puede explicar lo que pasó?"
      ],
      "metadata": {
        "id": "eL8cyma5ciJa"
      }
    },
    {
      "cell_type": "code",
      "source": [
        "#ingresa tu código aquí"
      ],
      "metadata": {
        "id": "gMEUXxHac3Ny"
      },
      "execution_count": null,
      "outputs": []
    },
    {
      "cell_type": "markdown",
      "source": [
        "## Ejercicio 5:"
      ],
      "metadata": {
        "id": "UpPB6eo7YcUy"
      }
    },
    {
      "cell_type": "markdown",
      "source": [
        "Analize el efecto de cambiar las funciones de activación en el accurracy"
      ],
      "metadata": {
        "id": "Tf0axPgXYcU0"
      }
    },
    {
      "cell_type": "code",
      "source": [
        "#ingresa tu código aquí"
      ],
      "metadata": {
        "id": "1aVS2IaOYcU2"
      },
      "execution_count": null,
      "outputs": []
    },
    {
      "cell_type": "markdown",
      "source": [
        "## Ejercicio 6:"
      ],
      "metadata": {
        "id": "rMzoVF_5bARh"
      }
    },
    {
      "cell_type": "markdown",
      "source": [
        "Ahora genere un tercer modelo en donde ambas capas tengan 1024 neuronas. Analice si produjo algún cambio en los rendimientos."
      ],
      "metadata": {
        "id": "qj9XuB7LbARi"
      }
    },
    {
      "cell_type": "code",
      "source": [
        "#ingresa tu código aquí\n"
      ],
      "metadata": {
        "id": "9sKhx7oDbARk"
      },
      "execution_count": null,
      "outputs": []
    }
  ]
}