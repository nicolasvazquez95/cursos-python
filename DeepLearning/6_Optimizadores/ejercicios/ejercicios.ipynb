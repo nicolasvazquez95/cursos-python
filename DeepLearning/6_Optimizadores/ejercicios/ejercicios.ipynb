{
  "nbformat": 4,
  "nbformat_minor": 0,
  "metadata": {
    "colab": {
      "name": "ejercicios.ipynb",
      "provenance": []
    },
    "kernelspec": {
      "name": "python3",
      "display_name": "Python 3"
    },
    "language_info": {
      "name": "python"
    }
  },
  "cells": [
    {
      "cell_type": "markdown",
      "source": [
        "<a href=\"https://colab.research.google.com/github/institutohumai/cursos-python/blob/master/DeepLearning/6_Optimizadores/ejercicios/ejercicios_solucion.ipynb\" target=\"_parent\"><img src=\"https://colab.research.google.com/assets/colab-badge.svg\" alt=\"Open in Colab\"/></a>"
      ],
      "metadata": {
        "id": "JGYMBIpOXSVD"
      }
    },
    {
      "cell_type": "markdown",
      "source": [
        "# Ejercicios de la clase 6"
      ],
      "metadata": {
        "id": "-cWytgKuNnUS"
      }
    },
    {
      "cell_type": "markdown",
      "source": [
        "En este notebook vamos a tratar de ver de manera gráfica las diferencias entre los distintos optimizadores cuando la función a minimizar tiene una convergencia problemática para SGD."
      ],
      "metadata": {
        "id": "c-H7UvS2NrDu"
      }
    },
    {
      "cell_type": "markdown",
      "source": [
        "## Ejercicio 1\n",
        "\n",
        "Lo primero que haremos es definir la función a minimizar. En deep learning, está función siempre es la función de pérdida que depende de los parámetros. En este caso definiremos una función con dos parámetros `x` e `y` de la siguiente manera: \n",
        "$$F(x,y) = x^2 + 4xy + 100y^2 - 4y + 20x + 4$$\n",
        "\n",
        "Defina una función de python que calcule el valor de $F(x,y)$ en la siguiente celda."
      ],
      "metadata": {
        "id": "inlFAeFXN8t_"
      }
    },
    {
      "cell_type": "code",
      "source": [
        "def F(x,y):\n",
        "# inserte su código aquí"
      ],
      "metadata": {
        "id": "CPzRyPE9NmvD"
      },
      "execution_count": null,
      "outputs": []
    },
    {
      "cell_type": "markdown",
      "source": [
        "El siguiente código genera las curvas de nivel de la función cuyo minimo se encuentra en $(-4/3, 1/3)$. Si la función está programada correctamente, el gráfico debería verse así.\n",
        "\n",
        " ![Imgur](https://i.imgur.com/8ZwZuZe.png)"
      ],
      "metadata": {
        "id": "2CMkaO78O_bR"
      }
    },
    {
      "cell_type": "code",
      "source": [
        "import torch\n",
        "import matplotlib.pyplot as plt\n",
        "\n",
        "#grilla de valores para x e y dentro de los límites del gráfico\n",
        "x, y = torch.meshgrid(torch.arange(-4.0, 3.0, 0.1),\n",
        "                      torch.arange(-1.0, 2.0, 0.1),\n",
        "                      indexing='xy')\n",
        "levels = torch.arange(2, 80.0, 4).detach()\n",
        "plt.contour(x, y, F(x, y), levels = levels,colors='#1f77b4');"
      ],
      "metadata": {
        "id": "9GyhvEJwQHGf"
      },
      "execution_count": null,
      "outputs": []
    },
    {
      "cell_type": "markdown",
      "source": [
        "## Ejercicio 2\n",
        "\n",
        "Genere una instancia de cada uno de los siguientes optimizadores:\n",
        "\n",
        "\n",
        "1.   `SGD`\n",
        "2.   `Adagrad`\n",
        "3. `RMSprop`\n",
        "4. `Adam`\n",
        "\n",
        "Guarde las instancias en la lista `opt`\n",
        "\n",
        "\n"
      ],
      "metadata": {
        "id": "JUZaaJ6G4iv5"
      }
    },
    {
      "cell_type": "code",
      "source": [
        "opt = # inserte su código aquí"
      ],
      "metadata": {
        "id": "KrfKETudRb1x"
      },
      "execution_count": null,
      "outputs": []
    },
    {
      "cell_type": "markdown",
      "source": [
        "## Ejercicio 3\n",
        "\n",
        "Cree un tensor param que contenga los parámetros x e y de la función que deberán ser optimizados. Inicialicelos con valor $-4$ y $1$ respectivamente."
      ],
      "metadata": {
        "id": "TzIIUOHcR5gL"
      }
    },
    {
      "cell_type": "code",
      "source": [
        "param = # inserte su código aquí"
      ],
      "metadata": {
        "id": "upyocQZgSVAH"
      },
      "execution_count": null,
      "outputs": []
    },
    {
      "cell_type": "markdown",
      "source": [
        "## Ejercicio 4 \n",
        "Utilizar los optimizadores guardados en la lista `opt` para modificar los parámetros `param` tratando de minimizar la función `F(x,y)`. \n",
        "\n",
        "\"Entrene\" por 20 epochs y almacene en una lista `results_i` los valores de `param` en cada una de esas 20 epochs. Por último almacene la lista `results_i` correspondiente a cada optimizador en una lista llamada `all_results`."
      ],
      "metadata": {
        "id": "mHlSZebQSp4T"
      }
    },
    {
      "cell_type": "code",
      "source": [
        "all_results = []\n",
        "for i in range(len(opt)):\n",
        "  results_i = []\n",
        "  # inserte su código aquí"
      ],
      "metadata": {
        "id": "vkvZ2v8MUIb0"
      },
      "execution_count": null,
      "outputs": []
    },
    {
      "cell_type": "markdown",
      "source": [
        "Si su código no tiene errores, la siguiente celda se encargará de graficar todos los optimizadores en un solo plot."
      ],
      "metadata": {
        "id": "PvZYC29oWlyt"
      }
    },
    {
      "cell_type": "code",
      "source": [
        "colors = ['red','green','blue','orange']\n",
        "for i in range(len(opt)):\n",
        "  plt.plot(*zip(*all_results[i]), '-o', color=colors[i])\n",
        "\n",
        "x, y = torch.meshgrid(torch.arange(-4.0, 3.0, 0.1),\n",
        "                      torch.arange(-1.0, 2.0, 0.1),\n",
        "                      indexing='xy')\n",
        "levels = torch.arange(2, 80.0, 4).detach()\n",
        "plt.contour(x, y, F(x, y), levels = levels,colors='#1f77b4');"
      ],
      "metadata": {
        "id": "h9hrtedxUivo"
      },
      "execution_count": null,
      "outputs": []
    }
  ]
}