{
  "nbformat": 4,
  "nbformat_minor": 0,
  "metadata": {
    "colab": {
      "name": "Untitled0.ipynb",
      "provenance": [],
      "toc_visible": true
    },
    "kernelspec": {
      "name": "python3",
      "display_name": "Python 3"
    },
    "language_info": {
      "name": "python"
    }
  },
  "cells": [
    {
      "cell_type": "markdown",
      "source": [
        "<a href=\"https://colab.research.google.com/github/institutohumai/cursos-python/blob/master/DeepLearning/5_Evaluacion_Modelos/ejercicios/ejercicios.ipynb\" target=\"_parent\"><img src=\"https://colab.research.google.com/assets/colab-badge.svg\" alt=\"Open in Colab\"/></a>"
      ],
      "metadata": {
        "id": "XNndA7oHay2t"
      }
    },
    {
      "cell_type": "markdown",
      "source": [
        "# Ejercicios de la clase 5"
      ],
      "metadata": {
        "id": "Cf1-htxCJLPQ"
      }
    },
    {
      "cell_type": "markdown",
      "source": [
        "Para llevar adelante los ejercicios de este notebook vamos a recuperar los modelos que construimos en la clase 3 para clasificación sobre FashionMNIST."
      ],
      "metadata": {
        "id": "kJIVioMJJUOf"
      }
    },
    {
      "cell_type": "code",
      "execution_count": 1,
      "metadata": {
        "id": "wVO-ycjBBvnY"
      },
      "outputs": [],
      "source": [
        "import torch\n",
        "from torch import nn\n",
        "\n",
        "INPUT = 28 * 28 \n",
        "OUTPUT = 10 \n",
        "\n",
        "net1 = nn.Sequential(nn.Flatten(),\n",
        "                    nn.Linear(INPUT, 512),\n",
        "                    nn.ReLU(),\n",
        "                    nn.Linear(512, 128),\n",
        "                    nn.ReLU(),\n",
        "                    nn.Linear(128, OUTPUT))\n",
        "\n",
        "net2 = nn.Sequential(nn.Flatten(),\n",
        "                    nn.Linear(INPUT, 512),\n",
        "                    nn.Sigmoid(),\n",
        "                    nn.Linear(512, 128),\n",
        "                    nn.Sigmoid(),\n",
        "                    nn.Linear(128, OUTPUT))\n",
        "\n",
        "net3 = nn.Sequential(nn.Flatten(),\n",
        "                    nn.Linear(INPUT, 1024),\n",
        "                    nn.ReLU(),\n",
        "                    nn.Linear(1024, 1024),\n",
        "                    nn.ReLU(),\n",
        "                    nn.Linear(1024, OUTPUT))"
      ]
    },
    {
      "cell_type": "markdown",
      "source": [
        "Ahora repetiremos la evaluación que hicimos en esa clase, pero llevándola adelante de manera más exhaustiva con K-fold Cross Validation. Para eso, cargaremos **solo los datos de testeo** de FasionMNIST y fingiremos que esos 10000 ejemplos son todos los que tenemos."
      ],
      "metadata": {
        "id": "bQNVbp8DJk4P"
      }
    },
    {
      "cell_type": "code",
      "source": [
        "from torchvision import transforms, datasets\n",
        "from torch.utils.data import DataLoader\n",
        "\n",
        "data_iter = datasets.FashionMNIST(\n",
        "        root=\"../data\", train=False, transform=transforms.ToTensor(), download=True)"
      ],
      "metadata": {
        "id": "6ytpnrsdBxnm"
      },
      "execution_count": 2,
      "outputs": []
    },
    {
      "cell_type": "markdown",
      "source": [
        "## Ejercicio \n",
        "Verifique cuál de los modelos anteriores es el mejor llevando adelante proceso de cross validation con 3 folds y entrenando por 20 epochs. Reutilice todas las funciones que necesite de los notebooks de teoría de la clase 5 y de todos los ejercicios anteriores.\n",
        "\n",
        "Nota: le recomendamos que guarde las accuracy tanto de testeo como de entrenamiento porque le servirán para más adelante."
      ],
      "metadata": {
        "id": "57in9CJhKirI"
      }
    },
    {
      "cell_type": "code",
      "source": [
        "#inserte su código aquí"
      ],
      "metadata": {
        "id": "S22W01CabEJt"
      },
      "execution_count": null,
      "outputs": []
    }
  ]
}