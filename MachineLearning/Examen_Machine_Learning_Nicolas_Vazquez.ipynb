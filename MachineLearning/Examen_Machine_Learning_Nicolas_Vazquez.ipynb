{
  "nbformat": 4,
  "nbformat_minor": 0,
  "metadata": {
    "colab": {
      "name": "Copia de Machine_Learning_Examen_2022.ipynb",
      "provenance": [],
      "collapsed_sections": []
    },
    "kernelspec": {
      "name": "python3",
      "display_name": "Python 3"
    },
    "language_info": {
      "name": "python"
    }
  },
  "cells": [
    {
      "cell_type": "markdown",
      "metadata": {
        "id": "9JgqXX6wjusC"
      },
      "source": [
        "<center><img src='https://humai.com.ar/static/logos/estudiante.png' width='150px' margin='100px'></img></center>\n",
        "<center><img src='https://humai.com.ar/static/logos/humai(1).png' width='150px' margin='100px'></img></center>\n",
        "\n",
        "\n",
        "<center><h2> Machine Learning / Aprendizaje Automático\n",
        "</h2>\n",
        "<h3><center> Examen </h3></center>\n",
        "\n",
        "\n",
        "\n",
        "<p align='right'>21 de Julio de 2022 </p>"
      ]
    },
    {
      "cell_type": "markdown",
      "source": [
        "## Instrucciones:"
      ],
      "metadata": {
        "id": "BlY_LcIbiVri"
      }
    },
    {
      "cell_type": "code",
      "source": [
        "# Ejecutar y reiniciar\n",
        "!pip install pyeph"
      ],
      "metadata": {
        "id": "jZeOEFmGBpkg",
        "colab": {
          "base_uri": "https://localhost:8080/"
        },
        "outputId": "acd86035-f2a6-4a24-d8c5-017199a20700"
      },
      "execution_count": 72,
      "outputs": [
        {
          "output_type": "stream",
          "name": "stdout",
          "text": [
            "Looking in indexes: https://pypi.org/simple, https://us-python.pkg.dev/colab-wheels/public/simple/\n",
            "Requirement already satisfied: pyeph in /usr/local/lib/python3.7/dist-packages (1.1.6)\n",
            "Requirement already satisfied: ipykernel<7.0.0,>=6.13.0 in /usr/local/lib/python3.7/dist-packages (from pyeph) (6.15.1)\n",
            "Requirement already satisfied: openpyxl<4.0.0,>=3.0.10 in /usr/local/lib/python3.7/dist-packages (from pyeph) (3.0.10)\n",
            "Requirement already satisfied: wget<4.0,>=3.2 in /usr/local/lib/python3.7/dist-packages (from pyeph) (3.2)\n",
            "Requirement already satisfied: pandas<2.0.0,>=1.1.5 in /usr/local/lib/python3.7/dist-packages (from pyeph) (1.3.5)\n",
            "Requirement already satisfied: xlrd<3.0.0,>=2.0.1 in /usr/local/lib/python3.7/dist-packages (from pyeph) (2.0.1)\n",
            "Requirement already satisfied: ipython>=7.23.1 in /usr/local/lib/python3.7/dist-packages (from ipykernel<7.0.0,>=6.13.0->pyeph) (7.34.0)\n",
            "Requirement already satisfied: pyzmq>=17 in /usr/local/lib/python3.7/dist-packages (from ipykernel<7.0.0,>=6.13.0->pyeph) (23.2.0)\n",
            "Requirement already satisfied: tornado>=6.1 in /usr/local/lib/python3.7/dist-packages (from ipykernel<7.0.0,>=6.13.0->pyeph) (6.2)\n",
            "Requirement already satisfied: packaging in /usr/local/lib/python3.7/dist-packages (from ipykernel<7.0.0,>=6.13.0->pyeph) (21.3)\n",
            "Requirement already satisfied: traitlets>=5.1.0 in /usr/local/lib/python3.7/dist-packages (from ipykernel<7.0.0,>=6.13.0->pyeph) (5.1.1)\n",
            "Requirement already satisfied: debugpy>=1.0 in /usr/local/lib/python3.7/dist-packages (from ipykernel<7.0.0,>=6.13.0->pyeph) (1.0.0)\n",
            "Requirement already satisfied: nest-asyncio in /usr/local/lib/python3.7/dist-packages (from ipykernel<7.0.0,>=6.13.0->pyeph) (1.5.5)\n",
            "Requirement already satisfied: matplotlib-inline>=0.1 in /usr/local/lib/python3.7/dist-packages (from ipykernel<7.0.0,>=6.13.0->pyeph) (0.1.3)\n",
            "Requirement already satisfied: jupyter-client>=6.1.12 in /usr/local/lib/python3.7/dist-packages (from ipykernel<7.0.0,>=6.13.0->pyeph) (7.3.4)\n",
            "Requirement already satisfied: psutil in /usr/local/lib/python3.7/dist-packages (from ipykernel<7.0.0,>=6.13.0->pyeph) (5.4.8)\n",
            "Requirement already satisfied: pexpect>4.3 in /usr/local/lib/python3.7/dist-packages (from ipython>=7.23.1->ipykernel<7.0.0,>=6.13.0->pyeph) (4.8.0)\n",
            "Requirement already satisfied: pickleshare in /usr/local/lib/python3.7/dist-packages (from ipython>=7.23.1->ipykernel<7.0.0,>=6.13.0->pyeph) (0.7.5)\n",
            "Requirement already satisfied: pygments in /usr/local/lib/python3.7/dist-packages (from ipython>=7.23.1->ipykernel<7.0.0,>=6.13.0->pyeph) (2.6.1)\n",
            "Requirement already satisfied: jedi>=0.16 in /usr/local/lib/python3.7/dist-packages (from ipython>=7.23.1->ipykernel<7.0.0,>=6.13.0->pyeph) (0.18.1)\n",
            "Requirement already satisfied: prompt-toolkit!=3.0.0,!=3.0.1,<3.1.0,>=2.0.0 in /usr/local/lib/python3.7/dist-packages (from ipython>=7.23.1->ipykernel<7.0.0,>=6.13.0->pyeph) (3.0.30)\n",
            "Requirement already satisfied: backcall in /usr/local/lib/python3.7/dist-packages (from ipython>=7.23.1->ipykernel<7.0.0,>=6.13.0->pyeph) (0.2.0)\n",
            "Requirement already satisfied: setuptools>=18.5 in /usr/local/lib/python3.7/dist-packages (from ipython>=7.23.1->ipykernel<7.0.0,>=6.13.0->pyeph) (57.4.0)\n",
            "Requirement already satisfied: decorator in /usr/local/lib/python3.7/dist-packages (from ipython>=7.23.1->ipykernel<7.0.0,>=6.13.0->pyeph) (4.4.2)\n",
            "Requirement already satisfied: parso<0.9.0,>=0.8.0 in /usr/local/lib/python3.7/dist-packages (from jedi>=0.16->ipython>=7.23.1->ipykernel<7.0.0,>=6.13.0->pyeph) (0.8.3)\n",
            "Requirement already satisfied: entrypoints in /usr/local/lib/python3.7/dist-packages (from jupyter-client>=6.1.12->ipykernel<7.0.0,>=6.13.0->pyeph) (0.4)\n",
            "Requirement already satisfied: python-dateutil>=2.8.2 in /usr/local/lib/python3.7/dist-packages (from jupyter-client>=6.1.12->ipykernel<7.0.0,>=6.13.0->pyeph) (2.8.2)\n",
            "Requirement already satisfied: jupyter-core>=4.9.2 in /usr/local/lib/python3.7/dist-packages (from jupyter-client>=6.1.12->ipykernel<7.0.0,>=6.13.0->pyeph) (4.11.1)\n",
            "Requirement already satisfied: et-xmlfile in /usr/local/lib/python3.7/dist-packages (from openpyxl<4.0.0,>=3.0.10->pyeph) (1.1.0)\n",
            "Requirement already satisfied: pytz>=2017.3 in /usr/local/lib/python3.7/dist-packages (from pandas<2.0.0,>=1.1.5->pyeph) (2022.1)\n",
            "Requirement already satisfied: numpy>=1.17.3 in /usr/local/lib/python3.7/dist-packages (from pandas<2.0.0,>=1.1.5->pyeph) (1.21.6)\n",
            "Requirement already satisfied: ptyprocess>=0.5 in /usr/local/lib/python3.7/dist-packages (from pexpect>4.3->ipython>=7.23.1->ipykernel<7.0.0,>=6.13.0->pyeph) (0.7.0)\n",
            "Requirement already satisfied: wcwidth in /usr/local/lib/python3.7/dist-packages (from prompt-toolkit!=3.0.0,!=3.0.1,<3.1.0,>=2.0.0->ipython>=7.23.1->ipykernel<7.0.0,>=6.13.0->pyeph) (0.2.5)\n",
            "Requirement already satisfied: six>=1.5 in /usr/local/lib/python3.7/dist-packages (from python-dateutil>=2.8.2->jupyter-client>=6.1.12->ipykernel<7.0.0,>=6.13.0->pyeph) (1.15.0)\n",
            "Requirement already satisfied: pyparsing!=3.0.5,>=2.0.2 in /usr/local/lib/python3.7/dist-packages (from packaging->ipykernel<7.0.0,>=6.13.0->pyeph) (3.0.9)\n"
          ]
        }
      ]
    },
    {
      "cell_type": "markdown",
      "metadata": {
        "id": "qma_S33zkfHR"
      },
      "source": [
        "\n",
        "\n",
        "#### Al comenzar:\n",
        "1. **Guardar una copia** de la Colab en tu Google Drive al empezar para poder guardar las respuestas.  \n",
        "```Archivo (File) -> Guardar una copia en drive (Save a copy on Drive) ```\n",
        "2. **Completar** más abajo con tu nombre completo, apellido y mail\n",
        "\n",
        "#### Al finalizar: \n",
        "3. **Ejecutar todas las celdas en orden verificando los resultados**  \n",
        "Ir a ```Entorno de ejecución -> Ejecutar todo```\n",
        "4. **Guardar el archivo con `CTRL + S`**\n",
        "5. **Descargar la notebook**  \n",
        "Para descargar, clickear en la barra de herramientas ```\"Archivo\" (File) -> \"Descargar como .ipynb\" (Download .ipynb) ```, o simplemente al terminar ejecutar la celda del final.\n",
        "\n",
        "**Por favor asegurarse que la notebook corre entera sin errores**\n",
        "\n",
        "6. **Enviar notebook a admin@humai.com.ar** \n",
        "\n",
        "El tiempo máximo es de 90 minutos. "
      ]
    },
    {
      "cell_type": "markdown",
      "source": [
        "## Código de Conducta\n",
        "Durante el examen pueden buscar en Google, ver el material de clases pasadas o apuntes propios, pero **no se permite consultar a otras personas**. \n",
        "\n",
        "Aceptar\tser\testudiante\tde Humai conlleva\tla\tobligación de\tuna\tconducta honesta,\tética,\tde\tintegridad y honestidad académica.\n",
        "\n",
        "Esta instancia de evaluación ofrecida por Humai exige un estricto apego a los valores de honestidad intelectual propias a la labor del estudiante. Fallar ante los mismos consistuye no solo un perjucio a la moral y la relación educativa en buena fe, si no que socava el propio esfuerzo de aprendizaje. \n",
        "\n",
        "El plagio y uso abusivo de material intelectual ajeno es considerado una deshonestidad académica. En caso de sospechar una falta al código de Ética, se deliberará una sanción correspondiente que puede incluir la anulación del examen, la suspensión o expulsión de la cursada. \n",
        "\n",
        "En caso de estar de acuerdo, aceptar la siguiente \n",
        "declaración:\n",
        "\n",
        "```Declaro mi compromiso en desempeñarme con honestidad académica e intelectual, y mantener los más altos estándares éticos aplicando los conocimientos contemplados en Humai```"
      ],
      "metadata": {
        "id": "003S451qNb-s"
      }
    },
    {
      "cell_type": "code",
      "source": [
        "Acepto=True #@param{type:\"boolean\"}"
      ],
      "metadata": {
        "id": "YBE_GF0hM9ro"
      },
      "execution_count": 73,
      "outputs": []
    },
    {
      "cell_type": "markdown",
      "source": [
        "No pierdan de vista el total de los ejercicios para administrar el tiempo, les sugerimos que completen primero lo que tengan más claro. Dicho eso.\n",
        "\n",
        "\n",
        "🏁 ¡Muchos éxitos 🤓! 🏁"
      ],
      "metadata": {
        "id": "0fEMC8EkSqrI"
      }
    },
    {
      "cell_type": "code",
      "metadata": {
        "id": "MkOzELdMkobR",
        "colab": {
          "base_uri": "https://localhost:8080/"
        },
        "cellView": "form",
        "outputId": "51f68c70-5bf2-40c5-c8e1-5192ddeaccce"
      },
      "source": [
        "#@markdown Datos del estudiante<br><br> \n",
        "#@markdown Ejecutar celda y dar permisos a Google Colab<br><br> \n",
        "\n",
        "# Install the PyDrive wrapper & import libraries.\n",
        "!pip install -U -q PyDrive\n",
        "from pydrive.auth import GoogleAuth\n",
        "from pydrive.drive import GoogleDrive\n",
        "from google.colab import auth, files\n",
        "from oauth2client.client import GoogleCredentials\n",
        "import requests\n",
        "\n",
        "# Authenticate and create the PyDrive client.\n",
        "gauth = GoogleAuth()\n",
        "auth.authenticate_user()\n",
        "gauth.credentials = GoogleCredentials.get_application_default()\n",
        "drive = GoogleDrive(gauth)\n",
        "\n",
        "# Traer mail autenticado en Colab\n",
        "gcloud_token = !gcloud auth print-access-token\n",
        "gcloud_tokeninfo = requests.get('https://www.googleapis.com/oauth2/v3/tokeninfo?access_token=' + gcloud_token[0]).json()\n",
        "_mail_auth = gcloud_tokeninfo['email']\n",
        "\n",
        "from datetime import datetime, timedelta\n",
        "_hora = datetime.now()\n",
        "# en arg estamos en utc-3\n",
        "_desfase = timedelta(hours=3)\n",
        "# decimos en qué formato queremos la fecha\n",
        "# ver más en https://realpython.com/python-time-module/\n",
        "_formato = \"%m-%d-%Y_%H:%M:%S\"\n",
        "_fecha_inicio = (_hora - _desfase).strftime(_formato)\n",
        "print((_hora - _desfase).strftime(\"%m/%d/%Y, %H:%M:%S\"))\n",
        "\n",
        "_nombres = 'Nicol\\xE1s' #@param {type:\"string\"}\n",
        "_apellidos = 'Vazquez' #@param {type:\"string\"}\n",
        "_mail = 'nicolasvazquez95@gmail.com' #@param {type:\"string\"}\n",
        "\n",
        "for i in range(20):\n",
        "  v = f'respuesta_{i}'\n",
        "  if v not in globals():\n",
        "    globals()[v] = ''"
      ],
      "execution_count": 74,
      "outputs": [
        {
          "output_type": "stream",
          "name": "stdout",
          "text": [
            "07/21/2022, 19:49:14\n"
          ]
        }
      ]
    },
    {
      "cell_type": "code",
      "source": [
        "# Ejecutar para arrancar\n",
        "import pandas as pd \n",
        "import numpy as np\n",
        "from sklearn.preprocessing import StandardScaler\n",
        "import warnings\n",
        "warnings.simplefilter(action='ignore', category=FutureWarning)\n",
        "np.random.seed(1)"
      ],
      "metadata": {
        "id": "QV8-apgMTy_0"
      },
      "execution_count": 75,
      "outputs": []
    },
    {
      "cell_type": "markdown",
      "source": [
        "# Preguntas:"
      ],
      "metadata": {
        "id": "koDzRaFiqtKM"
      }
    },
    {
      "cell_type": "markdown",
      "source": [
        "### ➡ 1. V o F\n",
        "\n",
        " 1. Siempre debemos imputar los valores faltantes para trabajar un problema en Machine Learning. V o F\n",
        "\n",
        " 2. Podemos hacer data leak (filtrar información) del set de validación al de entrenamiento usando selección de características. V o F\n",
        "\n",
        " 3. Una vez que terminamos por completo con todo nuestro desarrollo de ML y encontramos el mejor modelo podemos entrenar con la totalidad de datos para poner el mejor modelo posible en producción V o F. \n",
        "Justifique?\n",
        "\n",
        " 4. Siempre necesitamos separar al conjunto de datos en **al menos** 3 partes para poder **optimizar los parámetros del modelo, ajustar los hiperparámetros, y validar el grado de sobreajuste del modelo**\n",
        "\n",
        "\n",
        "5. Afortunadamente, la IA se encuentra regulada por medio de leyes y resoluciones en la mayoría de los países del mundo, con regulación clara y uniforme.\n",
        "\n",
        "6. En un dataset queremos aplicar reducción de dimensionalidad. Comprobamos que las variables se relacionan de manera no lineal. Por ende se decidió utilizar el algoritmo PCA para aplicar dicho método. La decisión es correcta? V o F\n",
        "\n"
      ],
      "metadata": {
        "id": "c8K70HaPzjK4"
      }
    },
    {
      "cell_type": "code",
      "source": [
        "# Completar las respuestas dentro de la variable\n",
        "# Ejemplo respuesta_1 = 0,0,0,1,1,1\n",
        "# 0 = F, 1 = V\n",
        "\n",
        "respuesta_1 = 0,1,1,1,0,0"
      ],
      "metadata": {
        "id": "rEmA4FIRyxe0"
      },
      "execution_count": 76,
      "outputs": []
    },
    {
      "cell_type": "markdown",
      "source": [
        "### ➡ 2. Choice"
      ],
      "metadata": {
        "id": "4A_1ZCIaxM0A"
      }
    },
    {
      "cell_type": "markdown",
      "source": [
        "1. ¿Cómo puede sucede que uno haga data leak por ajuste al set de prueba? \n",
        "Marque la correcta:  \n",
        "  a. selección de features  \n",
        "  b. probando distintas semillas aleatorias  \n",
        "  c. computando métricas contra el conjunto de prueba con modelos distintos  \n",
        "  d. regularización   \n",
        "  e. todas son correctas  \n",
        "\n",
        "\n",
        "2. La ética es:  \n",
        "  a. Una ciencia práctica fundamental en todos los aspectos de la vida humana.  \n",
        "  b. Una ciencia que nos dice como actuar, hablar, vestirnos y relacionarnos.  \n",
        "  c. Un estudio de la vida humana y su desarrollo.  \n",
        "\n",
        "\n",
        "3. Si hablamos de \"Omitir considerar información relevante\" nos referimos a:  \n",
        "  a. Transparencia  \n",
        "  b. Responsabilidad   \n",
        "  c. Sesgos\n",
        "\n",
        "4. ¿Cual de estas métricas podemos utilizar para evaluar un modelo de clusterización K-means si no conocemos las clases de nuestros datos?\n",
        "\n",
        "    a. Inertia  \n",
        "    b. Rand index  \n",
        "    c. Coeficiente Silhouette  \n",
        "    d. Calinski-Harabasz Index  \n"
      ],
      "metadata": {
        "id": "eJboUVuyqQop"
      }
    },
    {
      "cell_type": "code",
      "source": [
        "# Completar las respuestas dentro de la variable\n",
        "# Ejemplo respuesta_2 = 'a','a','c','c','b'\n",
        "\n",
        "respuesta_2 = 'e','c','c','d'"
      ],
      "metadata": {
        "id": "RDBe0PvxzKa8"
      },
      "execution_count": 77,
      "outputs": []
    },
    {
      "cell_type": "markdown",
      "source": [
        "### ➡ 3.  \n",
        "Supongamos que tenemos un problema de clasificación con tres clases y queremos utilizar **accuracy** como métrica para optimizar y utilizar un algoritmo basado en **árboles de decisión** (CARTs) de *Scikit-Learn*. ¿Que deberíamos tener en cuenta? Eliga todas las que correspondan.\n",
        "\n",
        "1. Si queremos evitar *overfitting* podemos limitar el creciemiento del árbol en profundidad. \n",
        "2. Las features de nuestro dataset tienen que estar normalizadas.\n",
        "3. Las clases deben estar balanceadas sin importar los hiperparámetros del modelo.\n",
        "4. Las features/columnas de nuestro dataset, antes de ajustar el modelo, pueden tener cualquier tipo de dato (`int`, `float`, `str`, etc.).\n",
        "5. Si las clases estan desbalanceadas podemos utilizar el hiperparámetro `class_weight`\n",
        "6. Ninguna de las anteriores.\n"
      ],
      "metadata": {
        "id": "AeeZmXQ6oEaS"
      }
    },
    {
      "cell_type": "code",
      "source": [
        "# Completar las respuestas dentro de la variable\n",
        "# Ejemplo respuesta_3 = 1,2,3\n",
        "\n",
        "respuesta_3 = 1,4,5\n",
        "# Pregunta 4 es confusa, entiendo que \"antes de ajustar el modelo\" se refiere a los datos crudos, en una instancia previa a preprocesar los datos. Al menos en scikit, los modelos no son capaces de aceptar features no numéricas (sólo aceptan float e int), asique habría que preprocesar los strings de alguna manera (Embedding, OneHot,etc.)"
      ],
      "metadata": {
        "id": "kQyl1p4spyZM"
      },
      "execution_count": 78,
      "outputs": []
    },
    {
      "cell_type": "markdown",
      "source": [
        "### ➡ 4. \n",
        "A la hora de armar todo nuestro **pipeline** de trabajo debemos tener mucho cuidado en el orden de los pasos a realizar sino podemos sobreestimar o subestimar el rendimiento de nuestro modelo. Para eso queremos construir un conjunto de desarrollo(entrenamiento/validación) y test con un esquema de **cross-validation** con 5 folds para poder elegir el mejor conjunto de hiperparmetros y reportar nuestra métrica elegida. Considerando el problema recién planteado, ordene de principio a fin los siguientes pasos a realizar (tenga en cuenta que no todos los pasos aqui listados son correctos):\n",
        "\n",
        "- **(a)** Utilizar el conjunto de desarrollo para buscar los hiperparámetros con `GridSearchCV/RandomSearchCV` usando `cv=5`.\n",
        "- **(b)** Entrenar nuestros modelos en test y finalmente evaluar en desarrollo.\n",
        "- **(c)** Particionar nuestros datos en desarrollo y test con `train_test_split`. \n",
        "- **(d)** Reentrenar el mejor modelo encontrado con los mejores hiperparámetros en test.\n",
        "- **(e)** Reentrenar el modelo en uno de los conjuntos de validación para poder evaluar correctamente el rendimiento en desarrollo.\n",
        "- **(f)** Reentrenar en todo el dataset y reportar el resultado final prediciendo los datos del conjunto de test.\n",
        "- **(g)** Reportar el resultado final del mejor modelo encontrado, reentrenado en todo el conjunto de desarrollo, prediciendo los datos del conjunto de test.\n",
        "- **(h)** Elegir la mejor profundidad del árbol en test y luego utilizar `GridSearchCV/RandomSearchCV` para elegir el resto de los hiperparámetros. "
      ],
      "metadata": {
        "id": "4MXwxy1xpwlk"
      }
    },
    {
      "cell_type": "code",
      "source": [
        "# Completar las respuestas dentro de la variable\n",
        "# Ejemplo respuesta_4 = 'a','b','c'\n",
        "\n",
        "respuesta_4 = 'c','a','g'"
      ],
      "metadata": {
        "id": "1Rjaf5q7wPk9"
      },
      "execution_count": 79,
      "outputs": []
    },
    {
      "cell_type": "markdown",
      "source": [
        "### ➡ 5.\n",
        " Queremos elegir el modelo que mejor generalice, por lo que elaboramos el siguiente gráfico para ver cuanto afecta al rendimiento el tamaño de la profundidad del árbol viendo el accuracy en un split de entrenamiento y validación. ¿Cuál sería el valor óptimo de la profundidad (complejidad del modelo según el gráfico) en este escenario? "
      ],
      "metadata": {
        "id": "EMOEqM7TpM9B"
      }
    },
    {
      "cell_type": "markdown",
      "source": [
        "![humai(1).png](data:image/png;base64,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)"
      ],
      "metadata": {
        "id": "ngll5Pcl1arq"
      }
    },
    {
      "cell_type": "code",
      "source": [
        "# Completar las respuestas dentro de la variable\n",
        "# Ejemplo respuesta_5 = 1\n",
        "\n",
        "respuesta_5 = 5"
      ],
      "metadata": {
        "id": "lX7kLWNc3Jal"
      },
      "execution_count": 80,
      "outputs": []
    },
    {
      "cell_type": "markdown",
      "source": [
        "## ➡ 6. Métricas\n",
        "Supongamos que tenemos dos algoritmos **A** y **B** para un problema de clasificación y para ver cuál de ellos es mejor realizamos una matriz de confunsión para cada algoritmo (en este caso las filas son las clases verdaderas y las columnas son las predichas).\n",
        "\n",
        "Ejecutar las celdas de código de más abajo y luego resolver el siguiente verdadero/false."
      ],
      "metadata": {
        "id": "6hxYT8DPpKqQ"
      }
    },
    {
      "cell_type": "code",
      "source": [
        "#@title Algoritmo A { display-mode: \"form\" }\n",
        "import seaborn as sns\n",
        "import pandas as pd\n",
        "import numpy as np\n",
        "from sklearn.model_selection import train_test_split\n",
        "from IPython.display import display\n",
        "import matplotlib.pyplot as plt\n",
        "from sklearn.datasets import make_classification\n",
        "from sklearn.metrics import accuracy_score, classification_report, confusion_matrix, plot_confusion_matrix\n",
        "from sklearn.linear_model import LogisticRegression\n",
        "from sklearn.tree import DecisionTreeClassifier\n",
        "from sklearn.utils.multiclass import unique_labels\n",
        "from mlxtend.plotting import plot_decision_regions\n",
        "from sklearn.metrics import roc_curve, auc\n",
        "from sklearn.multiclass import OneVsRestClassifier\n",
        "%matplotlib inline\n",
        "\n",
        "def train_validation_test_split(\n",
        "    X, y, train_size=0.8, val_size=0.1, test_size=0.1, \n",
        "    random_state=None, shuffle=True):\n",
        "        \n",
        "    assert train_size + val_size + test_size == 1\n",
        "    \n",
        "    X_train_val, X_test, y_train_val, y_test = train_test_split(\n",
        "        X, y, test_size=test_size, random_state=random_state, shuffle=shuffle)\n",
        "    \n",
        "    X_train, X_val, y_train, y_val = train_test_split(\n",
        "        X_train_val, y_train_val, test_size=val_size/(train_size+val_size), \n",
        "        random_state=random_state, shuffle=shuffle)\n",
        "    \n",
        "    return X_train, X_val, X_test, y_train, y_val, y_test\n",
        "\n",
        "#def plot_confusion_matrix(y_true, y_pred):\n",
        "#    labels = unique_labels(y_true)\n",
        "#    columns = [f'Predicted {label}' for label in labels]\n",
        "#    index = [f'Actual {label}' for label in labels]\n",
        "#    table = pd.DataFrame(confusion_matrix(y_true, y_pred), \n",
        "#                         columns=columns, index=index)\n",
        "#    return sns.heatmap(table, annot=True, fmt='d', cmap='viridis')\n",
        "    \n",
        "#plot_confusion_matrix(y_val, y_pred);\n",
        "\n",
        "def main_A():\n",
        "  np.random.seed(0)\n",
        "  n_samples = 1000\n",
        "  weights = (0.60, 0.25,0.15)\n",
        "  class_sep = 0.8\n",
        "\n",
        "  X, y = make_classification(n_samples=n_samples, n_features=10, n_informative=2, \n",
        "                           n_redundant=0, n_repeated=0, n_classes=3, \n",
        "                           n_clusters_per_class=1, weights=weights, \n",
        "                           class_sep=class_sep, random_state=0)\n",
        "\n",
        "\n",
        "  X_train, X_val, X_test, y_train, y_val, y_test = train_validation_test_split(\n",
        "    X, y, train_size=0.8, val_size=0.1, test_size=0.1, random_state=1)\n",
        "  \n",
        "  class_weight = 'balanced'\n",
        "\n",
        "  model = LogisticRegression(solver='lbfgs', class_weight=class_weight)\n",
        "  model.fit(X_train, y_train)\n",
        "\n",
        "  y_pred = model.predict(X_val)\n",
        "  conf_mat = confusion_matrix(y_val, y_pred)\n",
        "  sns.heatmap(conf_mat, annot=True)\n",
        "  #plt.figure(figsize=(10, 6))\n",
        "  #plot_decision_regions(X_val, y_val, model, legend=0);\n",
        "  plt.ylabel('True')\n",
        "  plt.xlabel('Predicted')\n",
        "\n",
        "main_A()"
      ],
      "metadata": {
        "colab": {
          "base_uri": "https://localhost:8080/",
          "height": 283
        },
        "id": "EU5Rpbw966WI",
        "outputId": "792afa70-23f1-4054-e9b2-5de30ca29ff4"
      },
      "execution_count": 81,
      "outputs": [
        {
          "output_type": "display_data",
          "data": {
            "text/plain": [
              "<Figure size 432x288 with 2 Axes>"
            ],
            "image/png": "[encoded data removed]"
          },
          "metadata": {
            "needs_background": "light"
          }
        }
      ]
    },
    {
      "cell_type": "code",
      "source": [
        "#@title Algoritmo B\n",
        "def main_B():\n",
        "  np.random.seed(0)\n",
        "  n_samples = 1000\n",
        "  weights = (0.60, 0.25,0.15)\n",
        "  class_sep = 0.8\n",
        "\n",
        "  X, y = make_classification(n_samples=n_samples, n_features=10, n_informative=2, \n",
        "                           n_redundant=0, n_repeated=0, n_classes=3, \n",
        "                           n_clusters_per_class=1, weights=weights, \n",
        "                           class_sep=class_sep, random_state=0)\n",
        "\n",
        "\n",
        "  X_train, X_val, X_test, y_train, y_val, y_test = train_validation_test_split(\n",
        "    X, y, train_size=0.8, val_size=0.1, test_size=0.1, random_state=1)\n",
        "  \n",
        "  class_weight = 'balanced'\n",
        "\n",
        "  model = DecisionTreeClassifier(max_depth=4,class_weight=class_weight)\n",
        "  model.fit(X_train, y_train)\n",
        "\n",
        "  y_pred = model.predict(X_val)\n",
        "  #plot_confusion_matrix(y_val, y_pred)\n",
        "  #plot_confusion_matrix(y_val)\n",
        "  conf_mat = confusion_matrix(y_val, y_pred)\n",
        "  sns.heatmap(conf_mat, annot=True)\n",
        "  #plt.figure(figsize=(10, 6))\n",
        "  #plot_decision_regions(X_val, y_val, model, legend=0);\n",
        "  plt.ylabel('True')\n",
        "  plt.xlabel('Predicted')\n",
        "\n",
        "main_B()"
      ],
      "metadata": {
        "colab": {
          "base_uri": "https://localhost:8080/",
          "height": 279
        },
        "id": "X0n6lgYg7WOf",
        "outputId": "293c110d-3bb3-45af-ee1e-175617d23f86"
      },
      "execution_count": 82,
      "outputs": [
        {
          "output_type": "display_data",
          "data": {
            "text/plain": [
              "<Figure size 432x288 with 2 Axes>"
            ],
            "image/png": "[encoded data removed]"
          },
          "metadata": {
            "needs_background": "light"
          }
        }
      ]
    },
    {
      "cell_type": "markdown",
      "source": [
        "\n",
        "1. El algoritmo **A** es sin dudas mejor que el **B** si usamos accuracy como métrica principal\n",
        "2. El algoritmo **B** comete la mayor cantidad de errores al confundir la clase verdadera 0 clasificandola como clase 1.\n",
        "3. Al mirar la clase 1, el algoritmo que tendrá el mejor *Recall* para la misma es el **A**.\n",
        "4. Si la métrica a optimizar fuera la *Precision* para la clase 0, el mejor algoritmo sería el **A**.\n",
        "5. Si asumimos estratificación en la separación de datos, podemos inferir que las clases estan balanceadas en el dataset.\n",
        "\n"
      ],
      "metadata": {
        "id": "5WZFhrnR7ZQe"
      }
    },
    {
      "cell_type": "code",
      "source": [
        "# Completar las respuestas dentro de la variable\n",
        "# Ejemplo respuesta_6 = 0,0,0,1,1,1\n",
        "\n",
        "respuesta_6 = 1,0,0,1,0\n",
        "# Pregunta 2 es confusa, no se entiende si hablan de la mayor cantidad de errores cometidos por B, o específicamente comparando el valor (0,1) de la matriz de confusión de A y la de B"
      ],
      "metadata": {
        "id": "F1ynqCEm7Zux"
      },
      "execution_count": 83,
      "outputs": []
    },
    {
      "cell_type": "markdown",
      "source": [
        "Como nos fue difícil con el análisis previo, decidimos elaborar una curva ROC para cada modelo y AUC, ¿que modelo resultó mejor? "
      ],
      "metadata": {
        "id": "hQnR3mEDEPym"
      }
    },
    {
      "cell_type": "markdown",
      "source": [
        "## ➡ 7."
      ],
      "metadata": {
        "id": "l1SMiqbTeKsL"
      }
    },
    {
      "cell_type": "code",
      "source": [
        "#@title Curvas ROC de A y B\n",
        "from sklearn.preprocessing import label_binarize\n",
        "def fit_plot_roc_A():\n",
        "  # Compute ROC curve and ROC area for each class\n",
        "  np.random.seed(0)\n",
        "  n_samples = 1000\n",
        "  weights = (0.60, 0.25,0.15)\n",
        "  class_sep = 0.8\n",
        "\n",
        "  X, y = make_classification(n_samples=n_samples, n_features=10, n_informative=2, \n",
        "                           n_redundant=0, n_repeated=0, n_classes=3, \n",
        "                           n_clusters_per_class=1, weights=weights, \n",
        "                           class_sep=class_sep, random_state=0)\n",
        "\n",
        "  y = label_binarize(y, classes=[0, 1, 2]) \n",
        "  X_train, X_val, X_test, y_train, y_val, y_test = train_validation_test_split(\n",
        "    X, y, train_size=0.8, val_size=0.1, test_size=0.1, random_state=1)\n",
        "  \n",
        "  class_weight = 'balanced'\n",
        "\n",
        "  model = OneVsRestClassifier(LogisticRegression(solver='lbfgs', class_weight=class_weight))\n",
        "  model.fit(X_train, y_train)\n",
        "\n",
        "  fpr = dict()\n",
        "  tpr = dict()\n",
        "  roc_auc = dict()\n",
        "  y_score = model.decision_function(X_val)\n",
        "  print(y_val.shape)\n",
        "  for i in range(3):\n",
        "    fpr[i], tpr[i], _ = roc_curve(y_val[:, i], y_score[:, i])\n",
        "    roc_auc[i] = auc(fpr[i], tpr[i])\n",
        "\n",
        "  # Compute micro-average ROC curve and ROC area\n",
        "  fpr[\"micro\"], tpr[\"micro\"], _ = roc_curve(y_val.ravel(), y_score.ravel())\n",
        "  roc_auc[\"micro\"] = auc(fpr[\"micro\"], tpr[\"micro\"])\n",
        "\n",
        "  #return y_pred, y_val\n",
        "  return fpr, tpr, roc_auc\n",
        "\n",
        "def fit_plot_roc_B():\n",
        "  np.random.seed(0)\n",
        "  n_samples = 1000\n",
        "  weights = (0.60, 0.25,0.15)\n",
        "  class_sep = 0.8\n",
        "\n",
        "  X, y = make_classification(n_samples=n_samples, n_features=10, n_informative=2, \n",
        "                           n_redundant=0, n_repeated=0, n_classes=3, \n",
        "                           n_clusters_per_class=1, weights=weights, \n",
        "                           class_sep=class_sep, random_state=0)\n",
        "\n",
        "  y = label_binarize(y, classes=[0, 1, 2]) \n",
        "  X_train, X_val, X_test, y_train, y_val, y_test = train_validation_test_split(\n",
        "    X, y, train_size=0.8, val_size=0.1, test_size=0.1, random_state=1)\n",
        "  \n",
        "  class_weight = 'balanced'\n",
        "\n",
        "  model = OneVsRestClassifier(DecisionTreeClassifier(max_depth=4,class_weight=class_weight))\n",
        "  model.fit(X_train, y_train)\n",
        "\n",
        "  fpr = dict()\n",
        "  tpr = dict()\n",
        "  roc_auc = dict()\n",
        "  y_score = model.predict_proba(X_val)\n",
        "  for i in range(3):\n",
        "    fpr[i], tpr[i], _ = roc_curve(y_val[:, i], y_score[:, i])\n",
        "    roc_auc[i] = auc(fpr[i], tpr[i])\n",
        "\n",
        "  # Compute micro-average ROC curve and ROC area\n",
        "  fpr[\"micro\"], tpr[\"micro\"], _ = roc_curve(y_val.ravel(), y_score.ravel())\n",
        "  roc_auc[\"micro\"] = auc(fpr[\"micro\"], tpr[\"micro\"])\n",
        "\n",
        "  #return y_pred, y_val\n",
        "  return fpr, tpr, roc_auc\n",
        "\n",
        "# correr y plotear\n",
        "fpr_A, tpr_A, roc_auc_A = fit_plot_roc_A()\n",
        "fpr_B, tpr_B, roc_auc_B = fit_plot_roc_B()\n",
        "\n",
        "lw=2\n",
        "plt.plot(fpr_A[2], tpr_A[2], color='darkorange',\n",
        "         lw=lw, label='ROC algoritmo A(AUC = %0.2f)' % roc_auc_A[2])\n",
        "plt.plot(fpr_B[2], tpr_B[2], color='darkgreen',\n",
        "         lw=lw, label='ROC algoritmo B(AUC = %0.2f)' % roc_auc_B[2])\n",
        "plt.plot([0, 1], [0, 1], color='navy', lw=lw, linestyle='--')\n",
        "plt.xlim([0.0, 1.0])\n",
        "plt.ylim([0.0, 1.05])\n",
        "plt.xlabel('False Positive Rate')\n",
        "plt.ylabel('True Positive Rate')\n",
        "plt.title('ROC de A y B')\n",
        "plt.legend(loc=\"lower right\")\n",
        "plt.show()"
      ],
      "metadata": {
        "colab": {
          "base_uri": "https://localhost:8080/",
          "height": 312
        },
        "id": "Ln0FakE6EsDv",
        "outputId": "c11977c5-444e-498c-8914-95fa0cd480a3",
        "cellView": "form"
      },
      "execution_count": 84,
      "outputs": [
        {
          "output_type": "stream",
          "name": "stdout",
          "text": [
            "(100, 3)\n"
          ]
        },
        {
          "output_type": "display_data",
          "data": {
            "text/plain": [
              "<Figure size 432x288 with 1 Axes>"
            ],
            "image/png": "[encoded data removed]"
          },
          "metadata": {
            "needs_background": "light"
          }
        }
      ]
    },
    {
      "cell_type": "code",
      "source": [
        "respuesta_7 = 'Algoritmo A' #@param ['-','Algoritmo A', 'Algoritmo B']"
      ],
      "metadata": {
        "id": "SIsiv3qQNZED",
        "cellView": "form"
      },
      "execution_count": 85,
      "outputs": []
    },
    {
      "cell_type": "markdown",
      "source": [
        "# Código"
      ],
      "metadata": {
        "id": "wn2ab0DAqyXW"
      }
    },
    {
      "cell_type": "markdown",
      "source": [
        "## Parte 1: NPS"
      ],
      "metadata": {
        "id": "UWfKTkPa6PCX"
      }
    },
    {
      "cell_type": "markdown",
      "source": [
        "Los siguientes datos (inéditos!) fueron tomados en una Clínica y Laboratorio de Neuropsicología. Representan variables neurocognitivas relacionadas con la atención, lenguaje, memoria, funciones ejecutivas, habilidades motoras y visuoespaciales. \n",
        "\n",
        "En estos ejercicios, ajustamos una regresión para modelar la relación de estas variable con el target **edad**. A continuación les damos una preparación de los datos que vamos a utilizar. Puede mostrar el código siguiente para ver el procesamiento.\n",
        "\n",
        "_(ignorar la advertencia)_"
      ],
      "metadata": {
        "id": "rGjHCo0LOL-X"
      }
    },
    {
      "cell_type": "code",
      "source": [
        "#@title Ejecutar para preparar datos X e y\n",
        "# Descargamos los datos\n",
        "df = pd.read_csv('https://unket.s3.sa-east-1.amazonaws.com/data/nps.csv', index_col=0)\n",
        "# Limpieza\n",
        "df = df.replace('x', np.nan)\n",
        "df['LATERALIDAD'] = (df['LATERALIDAD'].str.strip() == '1').astype(int)\n",
        "df['AÑOS_DE_EDUCACIÓN'] = pd.to_numeric(df['AÑOS_DE_EDUCACIÓN'], errors='coerce')\n",
        "df = df.drop('AÑOS_DE_EDUCACIÓN', axis=1)\n",
        "df = df.apply(pd.to_numeric, errors='ignore')\n",
        "df['SEXO'] = (df['SEXO'] == 1.).astype(int)\n",
        "# Imputamos nulos, rellenando con la mediana\n",
        "df = df.fillna(df.median())\n",
        "\n",
        "# Separamos X e y\n",
        "col = 'EDAD'\n",
        "y = df[col].values\n",
        "# Nos quedamos solo con columnas numéricas para este ejemplo\n",
        "X = df.select_dtypes([np.number])\n",
        "#X.loc[:] = StandardScaler().fit_transform(X)\n",
        "# Definimos variable objetivo y la sacamos de nuestra matriz X\n",
        "X = X.drop(col, axis=1)"
      ],
      "metadata": {
        "id": "RoXhLDbKOKJA"
      },
      "execution_count": 86,
      "outputs": []
    },
    {
      "cell_type": "code",
      "source": [
        "X.head()"
      ],
      "metadata": {
        "colab": {
          "base_uri": "https://localhost:8080/",
          "height": 317
        },
        "id": "DUkqYWW_bQcO",
        "outputId": "bb441bac-fbdb-42f8-f671-58c19e359b89"
      },
      "execution_count": 87,
      "outputs": [
        {
          "output_type": "execute_result",
          "data": {
            "text/plain": [
              "   LATERALIDAD  SEXO  WATBA_PB  Cordoba_T  ACE_At_ OT  ACE_At_ OE  \\\n",
              "0            1     0      42.0       17.0           0           0   \n",
              "1            1     1      42.0       20.0           4           5   \n",
              "2            1     1      42.0       17.0           5           5   \n",
              "3            1     0      42.0       17.0           5           5   \n",
              "4            1     0      42.0       17.0           5           5   \n",
              "\n",
              "   ACE_At_Registro  ACE_At_Substr  ACE_Puntaje_At  ACE_M_Recuerdo  ...  \\\n",
              "0                3            4.0             7.0             1.0  ...   \n",
              "1                3            3.0            15.0             1.0  ...   \n",
              "2                3            4.0            17.0             1.0  ...   \n",
              "3                3            1.0            17.0             0.0  ...   \n",
              "4                3            1.0            17.0             0.0  ...   \n",
              "\n",
              "   LD_6_IntrusionesB  LDR_Diferido  LDR_Diferido_IntrusionesB  \\\n",
              "0                0.0           4.0                        0.0   \n",
              "1                1.0           2.0                        0.0   \n",
              "2                0.0           3.0                        0.0   \n",
              "3                0.0           6.0                        0.0   \n",
              "4                0.0           6.0                        0.0   \n",
              "\n",
              "   LDR_Diferido_Confabulaciones  LDR_Reconocimiento_A  LDR_Rec_IntrusionesB  \\\n",
              "0                           0.0                  11.5                     0   \n",
              "1                           2.0                  10.0                     7   \n",
              "2                           8.0                  13.0                     5   \n",
              "3                           2.0                  13.0                     5   \n",
              "4                           2.0                  13.0                     5   \n",
              "\n",
              "   LDR_Rec_Confabulaciones  FCR_COPIA_PB  FCR_DIF_PB  FCR_REC_PB  \n",
              "0                        0          26.0         1.5        19.0  \n",
              "1                        5          29.0         2.5        17.0  \n",
              "2                        4          19.0         4.0        15.0  \n",
              "3                        5          16.0         6.5        19.0  \n",
              "4                        5          16.0         6.5        19.0  \n",
              "\n",
              "[5 rows x 70 columns]"
            ],
            "text/html": [
              "\n",
              "  <div id=\"df-e066fbe2-3434-4a57-93d7-016643719388\">\n",
              "    <div class=\"colab-df-container\">\n",
              "      <div>\n",
              "<style scoped>\n",
              "    .dataframe tbody tr th:only-of-type {\n",
              "        vertical-align: middle;\n",
              "    }\n",
              "\n",
              "    .dataframe tbody tr th {\n",
              "        vertical-align: top;\n",
              "    }\n",
              "\n",
              "    .dataframe thead th {\n",
              "        text-align: right;\n",
              "    }\n",
              "</style>\n",
              "<table border=\"1\" class=\"dataframe\">\n",
              "  <thead>\n",
              "    <tr style=\"text-align: right;\">\n",
              "      <th></th>\n",
              "      <th>LATERALIDAD</th>\n",
              "      <th>SEXO</th>\n",
              "      <th>WATBA_PB</th>\n",
              "      <th>Cordoba_T</th>\n",
              "      <th>ACE_At_ OT</th>\n",
              "      <th>ACE_At_ OE</th>\n",
              "      <th>ACE_At_Registro</th>\n",
              "      <th>ACE_At_Substr</th>\n",
              "      <th>ACE_Puntaje_At</th>\n",
              "      <th>ACE_M_Recuerdo</th>\n",
              "      <th>...</th>\n",
              "      <th>LD_6_IntrusionesB</th>\n",
              "      <th>LDR_Diferido</th>\n",
              "      <th>LDR_Diferido_IntrusionesB</th>\n",
              "      <th>LDR_Diferido_Confabulaciones</th>\n",
              "      <th>LDR_Reconocimiento_A</th>\n",
              "      <th>LDR_Rec_IntrusionesB</th>\n",
              "      <th>LDR_Rec_Confabulaciones</th>\n",
              "      <th>FCR_COPIA_PB</th>\n",
              "      <th>FCR_DIF_PB</th>\n",
              "      <th>FCR_REC_PB</th>\n",
              "    </tr>\n",
              "  </thead>\n",
              "  <tbody>\n",
              "    <tr>\n",
              "      <th>0</th>\n",
              "      <td>1</td>\n",
              "      <td>0</td>\n",
              "      <td>42.0</td>\n",
              "      <td>17.0</td>\n",
              "      <td>0</td>\n",
              "      <td>0</td>\n",
              "      <td>3</td>\n",
              "      <td>4.0</td>\n",
              "      <td>7.0</td>\n",
              "      <td>1.0</td>\n",
              "      <td>...</td>\n",
              "      <td>0.0</td>\n",
              "      <td>4.0</td>\n",
              "      <td>0.0</td>\n",
              "      <td>0.0</td>\n",
              "      <td>11.5</td>\n",
              "      <td>0</td>\n",
              "      <td>0</td>\n",
              "      <td>26.0</td>\n",
              "      <td>1.5</td>\n",
              "      <td>19.0</td>\n",
              "    </tr>\n",
              "    <tr>\n",
              "      <th>1</th>\n",
              "      <td>1</td>\n",
              "      <td>1</td>\n",
              "      <td>42.0</td>\n",
              "      <td>20.0</td>\n",
              "      <td>4</td>\n",
              "      <td>5</td>\n",
              "      <td>3</td>\n",
              "      <td>3.0</td>\n",
              "      <td>15.0</td>\n",
              "      <td>1.0</td>\n",
              "      <td>...</td>\n",
              "      <td>1.0</td>\n",
              "      <td>2.0</td>\n",
              "      <td>0.0</td>\n",
              "      <td>2.0</td>\n",
              "      <td>10.0</td>\n",
              "      <td>7</td>\n",
              "      <td>5</td>\n",
              "      <td>29.0</td>\n",
              "      <td>2.5</td>\n",
              "      <td>17.0</td>\n",
              "    </tr>\n",
              "    <tr>\n",
              "      <th>2</th>\n",
              "      <td>1</td>\n",
              "      <td>1</td>\n",
              "      <td>42.0</td>\n",
              "      <td>17.0</td>\n",
              "      <td>5</td>\n",
              "      <td>5</td>\n",
              "      <td>3</td>\n",
              "      <td>4.0</td>\n",
              "      <td>17.0</td>\n",
              "      <td>1.0</td>\n",
              "      <td>...</td>\n",
              "      <td>0.0</td>\n",
              "      <td>3.0</td>\n",
              "      <td>0.0</td>\n",
              "      <td>8.0</td>\n",
              "      <td>13.0</td>\n",
              "      <td>5</td>\n",
              "      <td>4</td>\n",
              "      <td>19.0</td>\n",
              "      <td>4.0</td>\n",
              "      <td>15.0</td>\n",
              "    </tr>\n",
              "    <tr>\n",
              "      <th>3</th>\n",
              "      <td>1</td>\n",
              "      <td>0</td>\n",
              "      <td>42.0</td>\n",
              "      <td>17.0</td>\n",
              "      <td>5</td>\n",
              "      <td>5</td>\n",
              "      <td>3</td>\n",
              "      <td>1.0</td>\n",
              "      <td>17.0</td>\n",
              "      <td>0.0</td>\n",
              "      <td>...</td>\n",
              "      <td>0.0</td>\n",
              "      <td>6.0</td>\n",
              "      <td>0.0</td>\n",
              "      <td>2.0</td>\n",
              "      <td>13.0</td>\n",
              "      <td>5</td>\n",
              "      <td>5</td>\n",
              "      <td>16.0</td>\n",
              "      <td>6.5</td>\n",
              "      <td>19.0</td>\n",
              "    </tr>\n",
              "    <tr>\n",
              "      <th>4</th>\n",
              "      <td>1</td>\n",
              "      <td>0</td>\n",
              "      <td>42.0</td>\n",
              "      <td>17.0</td>\n",
              "      <td>5</td>\n",
              "      <td>5</td>\n",
              "      <td>3</td>\n",
              "      <td>1.0</td>\n",
              "      <td>17.0</td>\n",
              "      <td>0.0</td>\n",
              "      <td>...</td>\n",
              "      <td>0.0</td>\n",
              "      <td>6.0</td>\n",
              "      <td>0.0</td>\n",
              "      <td>2.0</td>\n",
              "      <td>13.0</td>\n",
              "      <td>5</td>\n",
              "      <td>5</td>\n",
              "      <td>16.0</td>\n",
              "      <td>6.5</td>\n",
              "      <td>19.0</td>\n",
              "    </tr>\n",
              "  </tbody>\n",
              "</table>\n",
              "<p>5 rows × 70 columns</p>\n",
              "</div>\n",
              "      <button class=\"colab-df-convert\" onclick=\"convertToInteractive('df-e066fbe2-3434-4a57-93d7-016643719388')\"\n",
              "              title=\"Convert this dataframe to an interactive table.\"\n",
              "              style=\"display:none;\">\n",
              "        \n",
              "  <svg xmlns=\"http://www.w3.org/2000/svg\" height=\"24px\"viewBox=\"0 0 24 24\"\n",
              "       width=\"24px\">\n",
              "    <path d=\"M0 0h24v24H0V0z\" fill=\"none\"/>\n",
              "    <path d=\"M18.56 5.44l.94 2.06.94-2.06 2.06-.94-2.06-.94-.94-2.06-.94 2.06-2.06.94zm-11 1L8.5 8.5l.94-2.06 2.06-.94-2.06-.94L8.5 2.5l-.94 2.06-2.06.94zm10 10l.94 2.06.94-2.06 2.06-.94-2.06-.94-.94-2.06-.94 2.06-2.06.94z\"/><path d=\"M17.41 7.96l-1.37-1.37c-.4-.4-.92-.59-1.43-.59-.52 0-1.04.2-1.43.59L10.3 9.45l-7.72 7.72c-.78.78-.78 2.05 0 2.83L4 21.41c.39.39.9.59 1.41.59.51 0 1.02-.2 1.41-.59l7.78-7.78 2.81-2.81c.8-.78.8-2.07 0-2.86zM5.41 20L4 18.59l7.72-7.72 1.47 1.35L5.41 20z\"/>\n",
              "  </svg>\n",
              "      </button>\n",
              "      \n",
              "  <style>\n",
              "    .colab-df-container {\n",
              "      display:flex;\n",
              "      flex-wrap:wrap;\n",
              "      gap: 12px;\n",
              "    }\n",
              "\n",
              "    .colab-df-convert {\n",
              "      background-color: #E8F0FE;\n",
              "      border: none;\n",
              "      border-radius: 50%;\n",
              "      cursor: pointer;\n",
              "      display: none;\n",
              "      fill: #1967D2;\n",
              "      height: 32px;\n",
              "      padding: 0 0 0 0;\n",
              "      width: 32px;\n",
              "    }\n",
              "\n",
              "    .colab-df-convert:hover {\n",
              "      background-color: #E2EBFA;\n",
              "      box-shadow: 0px 1px 2px rgba(60, 64, 67, 0.3), 0px 1px 3px 1px rgba(60, 64, 67, 0.15);\n",
              "      fill: #174EA6;\n",
              "    }\n",
              "\n",
              "    [theme=dark] .colab-df-convert {\n",
              "      background-color: #3B4455;\n",
              "      fill: #D2E3FC;\n",
              "    }\n",
              "\n",
              "    [theme=dark] .colab-df-convert:hover {\n",
              "      background-color: #434B5C;\n",
              "      box-shadow: 0px 1px 3px 1px rgba(0, 0, 0, 0.15);\n",
              "      filter: drop-shadow(0px 1px 2px rgba(0, 0, 0, 0.3));\n",
              "      fill: #FFFFFF;\n",
              "    }\n",
              "  </style>\n",
              "\n",
              "      <script>\n",
              "        const buttonEl =\n",
              "          document.querySelector('#df-e066fbe2-3434-4a57-93d7-016643719388 button.colab-df-convert');\n",
              "        buttonEl.style.display =\n",
              "          google.colab.kernel.accessAllowed ? 'block' : 'none';\n",
              "\n",
              "        async function convertToInteractive(key) {\n",
              "          const element = document.querySelector('#df-e066fbe2-3434-4a57-93d7-016643719388');\n",
              "          const dataTable =\n",
              "            await google.colab.kernel.invokeFunction('convertToInteractive',\n",
              "                                                     [key], {});\n",
              "          if (!dataTable) return;\n",
              "\n",
              "          const docLinkHtml = 'Like what you see? Visit the ' +\n",
              "            '<a target=\"_blank\" href=https://colab.research.google.com/notebooks/data_table.ipynb>data table notebook</a>'\n",
              "            + ' to learn more about interactive tables.';\n",
              "          element.innerHTML = '';\n",
              "          dataTable['output_type'] = 'display_data';\n",
              "          await google.colab.output.renderOutput(dataTable, element);\n",
              "          const docLink = document.createElement('div');\n",
              "          docLink.innerHTML = docLinkHtml;\n",
              "          element.appendChild(docLink);\n",
              "        }\n",
              "      </script>\n",
              "    </div>\n",
              "  </div>\n",
              "  "
            ]
          },
          "metadata": {},
          "execution_count": 87
        }
      ]
    },
    {
      "cell_type": "code",
      "source": [
        "X.columns"
      ],
      "metadata": {
        "colab": {
          "base_uri": "https://localhost:8080/"
        },
        "id": "R298n7_hs1NH",
        "outputId": "109f1f2c-9231-4458-89e1-bec60ee44bfe"
      },
      "execution_count": 88,
      "outputs": [
        {
          "output_type": "execute_result",
          "data": {
            "text/plain": [
              "Index(['LATERALIDAD', 'SEXO', 'WATBA_PB', 'Cordoba_T', 'ACE_At_ OT',\n",
              "       'ACE_At_ OE', 'ACE_At_Registro', 'ACE_At_Substr', 'ACE_Puntaje_At',\n",
              "       'ACE_M_Recuerdo', 'ACE_M_Anterogr', 'ACE_M_Retrogr',\n",
              "       'ACE_M_Recuerdo_NyD', 'ACE_M_Reconoc_NyD', 'ACE_Puntaje_Mem',\n",
              "       'ACE_Flu_Verb_F_PB', 'ACE_Flu_Verb_F_PC', 'ACE_Flu_Verb_S_PB',\n",
              "       'ACE_Flu_Verb_S_PC', 'ACE_Puntaje_Flu_Verb', 'ACE_L_Comprension_LyH',\n",
              "       'ACE_L_Escrit', 'ACE_L_Rep_P', 'ACE_L_ Rep_Proverb', 'ACE_L_Denom',\n",
              "       'ACE_L_Comp_Dibujo', 'ACE_L_Lectura', 'ACE_Hab_Per_Puntos',\n",
              "       'ACE_Hab_Per_Letras', 'ACE_Hab_Viso_Diagrama', 'ACE_Hab_Viso_Reloj',\n",
              "       'ACE_Hab_Viso_Cubo', 'IFS_series_motoras', 'IFS_instruc_confl',\n",
              "       'IFS_CI_motor', 'IFS_digatras', 'IFS_meses_atras', 'IFS_mt_visual',\n",
              "       'IFS_refranes', 'IFS_CI_verbal', 'IFS_total', 'Digitos_Adelante',\n",
              "       'Digitos_Atras', 'Digitos_PB', 'Digitos_PE', 'TrailMakingA_TOTAL',\n",
              "       'TrailMakingB_TOTAL', 'Fluencia verbal fonológica',\n",
              "       'Fluencia verbal semántica', 'LDR_Inicial_1', 'LDR_2', 'LDR_3', 'LDR_4',\n",
              "       'LDR_5', 'LDR_Inmediato', 'LDR_I_Confabulaciones', 'LDR_I_Repeticiones',\n",
              "       'LDR_Distractora', 'LDR_D_IntrusionesA', 'LDR_6', 'LD_6_IntrusionesB',\n",
              "       'LDR_Diferido', 'LDR_Diferido_IntrusionesB',\n",
              "       'LDR_Diferido_Confabulaciones', 'LDR_Reconocimiento_A',\n",
              "       'LDR_Rec_IntrusionesB', 'LDR_Rec_Confabulaciones', 'FCR_COPIA_PB',\n",
              "       'FCR_DIF_PB', 'FCR_REC_PB'],\n",
              "      dtype='object')"
            ]
          },
          "metadata": {},
          "execution_count": 88
        }
      ]
    },
    {
      "cell_type": "code",
      "source": [
        "y.shape"
      ],
      "metadata": {
        "colab": {
          "base_uri": "https://localhost:8080/"
        },
        "id": "gDCjXmEIs3Y8",
        "outputId": "8eca776c-0e59-4d63-b842-e04b77ae85de"
      },
      "execution_count": 89,
      "outputs": [
        {
          "output_type": "execute_result",
          "data": {
            "text/plain": [
              "(722,)"
            ]
          },
          "metadata": {},
          "execution_count": 89
        }
      ]
    },
    {
      "cell_type": "markdown",
      "source": [
        "## ➡ 8. Split\n",
        "\n",
        "Separar los datos en **conjunto de entrenamiento y de prueba** usando *Scikit-Learn*. Utilizar un 25% de datos en el conjunto de prueba/test. Importe las librerías que necesite.\n",
        "\n",
        "**Guardar en la respuesta al vector de test**"
      ],
      "metadata": {
        "id": "MeUXnJA3PxJz"
      }
    },
    {
      "cell_type": "code",
      "source": [
        "from sklearn.model_selection import train_test_split\n",
        "X_train, X_test, y_train, y_test = train_test_split(X,y,test_size=0.25,random_state=42)"
      ],
      "metadata": {
        "id": "i0R8VhZuOwNi"
      },
      "execution_count": 90,
      "outputs": []
    },
    {
      "cell_type": "code",
      "source": [
        "respuesta_8 = y_test "
      ],
      "metadata": {
        "id": "AYDPjILJdOoK"
      },
      "execution_count": 91,
      "outputs": []
    },
    {
      "cell_type": "markdown",
      "source": [
        "## ➡ 9. Ajustar Regresión Lineal\n",
        "\n",
        "Importar y ajustar una Regresión Lineal con sklearn en el conjunto de datos correspondiente. Usar los parámetros por default. \n",
        "\n",
        "**Guardar en la respuesta los coeficientes (pesos, betas) resultantes del modelo**"
      ],
      "metadata": {
        "id": "-DWaQzh3RGHU"
      }
    },
    {
      "cell_type": "code",
      "source": [
        "from sklearn.linear_model import LinearRegression\n",
        "linreg = LinearRegression()\n",
        "linreg.fit(X_train,y_train)"
      ],
      "metadata": {
        "id": "zLJ9PW9IOsDw",
        "colab": {
          "base_uri": "https://localhost:8080/"
        },
        "outputId": "8ca6cac9-26fa-4844-91c9-65eb682cc170"
      },
      "execution_count": 92,
      "outputs": [
        {
          "output_type": "execute_result",
          "data": {
            "text/plain": [
              "LinearRegression()"
            ]
          },
          "metadata": {},
          "execution_count": 92
        }
      ]
    },
    {
      "cell_type": "code",
      "source": [
        "respuesta_9 = linreg.coef_"
      ],
      "metadata": {
        "id": "aSRT6uLedg7w"
      },
      "execution_count": 93,
      "outputs": []
    },
    {
      "cell_type": "markdown",
      "source": [
        "## ➡ 10."
      ],
      "metadata": {
        "id": "DJmlL9uLelqU"
      }
    },
    {
      "cell_type": "markdown",
      "source": [
        "Importar y calcular $R^2$ en prueba. ¿Que porcentaje de la variabilidad de la respuesta es explicada por este modelo? Reportar porcentaje con dos cifras significativas (dos decimales).\n",
        "\n",
        "Guardar este valor en `respuesta_10`"
      ],
      "metadata": {
        "id": "UThQb5CK2NMq"
      }
    },
    {
      "cell_type": "code",
      "source": [
        "from sklearn.metrics import r2_score\n",
        "y_pred = linreg.predict(X_test)\n",
        "r2 = r2_score(y_test,y_pred)\n",
        "print(round(r2,4))"
      ],
      "metadata": {
        "id": "b_vJzar21c9P",
        "colab": {
          "base_uri": "https://localhost:8080/"
        },
        "outputId": "11f42f70-4def-4c1c-a471-13d78634f1f1"
      },
      "execution_count": 94,
      "outputs": [
        {
          "output_type": "stream",
          "name": "stdout",
          "text": [
            "0.6552\n"
          ]
        }
      ]
    },
    {
      "cell_type": "code",
      "source": [
        "respuesta_10 = round(r2,4)*100 "
      ],
      "metadata": {
        "id": "vRpCxAruduKW"
      },
      "execution_count": 95,
      "outputs": []
    },
    {
      "cell_type": "markdown",
      "source": [
        "## ➡ 11. Ajustar Lasso\n",
        "\n",
        "(Regresión lineal regularizada con L1)\n",
        "\n",
        "Medir $R^2$ en train y en validación. \n",
        "\n",
        "¿Cuál/es es/son 30 de las primeras variables descartadas por Lasso con coeficientes menor al epsilon defino en el código? Modificar el coeficiente de regularización si es necesario.\n",
        "\n",
        "Guardar en `respuesta_11` las variables descartadas (considerar igual a 0 lo que < epsilon) "
      ],
      "metadata": {
        "id": "4oi48MCpyBE_"
      }
    },
    {
      "cell_type": "code",
      "source": [
        "from sklearn.linear_model import Lasso\n",
        "\n",
        "epsilon = 1e-6\n",
        "lasso_reg = Lasso()\n",
        "lasso_reg.fit(X_train,y_train)"
      ],
      "metadata": {
        "id": "QlFl6-i7rPN1",
        "colab": {
          "base_uri": "https://localhost:8080/"
        },
        "outputId": "702d6cc7-4e00-4e09-f6e0-6f7a4dbb093b"
      },
      "execution_count": 96,
      "outputs": [
        {
          "output_type": "execute_result",
          "data": {
            "text/plain": [
              "Lasso()"
            ]
          },
          "metadata": {},
          "execution_count": 96
        }
      ]
    },
    {
      "cell_type": "code",
      "source": [
        "lasso_coef = lasso_reg.coef_\n",
        "var_descartadas_30 = X.columns[lasso_coef < epsilon][:30]"
      ],
      "metadata": {
        "id": "MBpWbAhG1OGB"
      },
      "execution_count": 97,
      "outputs": []
    },
    {
      "cell_type": "code",
      "source": [
        "respuesta_11 = var_descartadas_30"
      ],
      "metadata": {
        "id": "J9lfPcAS3FL0"
      },
      "execution_count": 98,
      "outputs": []
    },
    {
      "cell_type": "markdown",
      "source": [
        "## ➡. 12 Interpretación \n",
        "\n",
        "A continuación les damos una función que nos grafica intereactivamente (pueden ver información del gráfico al pasar sobre el) los coeficientes de la regresión Lasso para cada una de las features más relevantes. En base a estos resultados responda abajo el verdadero/falso."
      ],
      "metadata": {
        "id": "yEWkwQ7jrMmt"
      }
    },
    {
      "cell_type": "code",
      "source": [
        "#@title Función Graficadora\n",
        "import plotly.express as px\n",
        "import plotly.graph_objects as go\n",
        "\n",
        "def plot_coefs(coefs, columns):\n",
        "  datos = zip(coefs, columns) # SKLearn\n",
        "  #datos = list(zip(results.params.values, results.params.index))[1:] # Statsmodels\n",
        "  datos = sorted(datos, key=lambda x: x[0])\n",
        "  datos = [d for d in datos if np.abs(d[0]) > 0.1]\n",
        "  colors = ['Positivo' if c[0] > 0 else 'Negativo' for c in datos]\n",
        "  x_, y_ = [c[0] for c in datos], [c[1] for c in datos]\n",
        "\n",
        "  fig = px.bar(\n",
        "      height=850,\n",
        "      #log_x=True,\n",
        "      x=x_, \n",
        "      y=y_, \n",
        "      color=colors,\n",
        "      color_discrete_sequence=['red', 'blue'],\n",
        "      labels=dict(x='Variable', y='Coeficiente'),\n",
        "      title='Coeficientes', \n",
        "      orientation='h',\n",
        "  )\n",
        "  fig.show()"
      ],
      "metadata": {
        "id": "_DcoLLjIwcmy"
      },
      "execution_count": 99,
      "outputs": []
    },
    {
      "cell_type": "code",
      "source": [
        "# Ejecutar, habiendo definido coeficientes y columnas:\n",
        "columnas = X.columns\n",
        "plot_coefs(lasso_coef, columnas)"
      ],
      "metadata": {
        "id": "Ca8ymRzWOeVl",
        "colab": {
          "base_uri": "https://localhost:8080/",
          "height": 867
        },
        "outputId": "197cd751-0d9c-4b57-d81d-4095e36e93ec"
      },
      "execution_count": 100,
      "outputs": [
        {
          "output_type": "display_data",
          "data": {
            "text/html": [
              "<html>\n",
              "<head><meta charset=\"utf-8\" /></head>\n",
              "<body>\n",
              "    <div>            <script src=\"https://cdnjs.cloudflare.com/ajax/libs/mathjax/2.7.5/MathJax.js?config=TeX-AMS-MML_SVG\"></script><script type=\"text/javascript\">if (window.MathJax) {MathJax.Hub.Config({SVG: {font: \"STIX-Web\"}});}</script>                <script type=\"text/javascript\">window.PlotlyConfig = {MathJaxConfig: 'local'};</script>\n",
              "        <script src=\"https://cdn.plot.ly/plotly-2.8.3.min.js\"></script>                <div id=\"b1d9bff8-0fc4-4282-a4dc-44ffe1130603\" class=\"plotly-graph-div\" style=\"height:850px; width:100%;\"></div>            <script type=\"text/javascript\">                                    window.PLOTLYENV=window.PLOTLYENV || {};                                    if (document.getElementById(\"b1d9bff8-0fc4-4282-a4dc-44ffe1130603\")) {                    Plotly.newPlot(                        \"b1d9bff8-0fc4-4282-a4dc-44ffe1130603\",                        [{\"alignmentgroup\":\"True\",\"hovertemplate\":\"color=Negativo<br>Variable=%{x}<br>Coeficiente=%{y}<extra></extra>\",\"legendgroup\":\"Negativo\",\"marker\":{\"color\":\"red\",\"pattern\":{\"shape\":\"\"}},\"name\":\"Negativo\",\"offsetgroup\":\"Negativo\",\"orientation\":\"h\",\"showlegend\":true,\"textposition\":\"auto\",\"x\":[-0.9908660827426212,-0.4737845012643035,-0.4283204484188916,-0.34544641647701596,-0.3254866504290098,-0.2852620016802387,-0.22816987828599702,-0.18801878147639461,-0.1530809489665181,-0.1466242777716525],\"xaxis\":\"x\",\"y\":[\"IFS_series_motoras\",\"IFS_CI_motor\",\"ACE_Hab_Viso_Cubo\",\"IFS_CI_verbal\",\"Cordoba_T\",\"FCR_DIF_PB\",\"Fluencia verbal sem\\u00e1ntica\",\"LDR_I_Repeticiones\",\"LDR_I_Confabulaciones\",\"LDR_Inmediato\"],\"yaxis\":\"y\",\"type\":\"bar\"},{\"alignmentgroup\":\"True\",\"hovertemplate\":\"color=Positivo<br>Variable=%{x}<br>Coeficiente=%{y}<extra></extra>\",\"legendgroup\":\"Positivo\",\"marker\":{\"color\":\"blue\",\"pattern\":{\"shape\":\"\"}},\"name\":\"Positivo\",\"offsetgroup\":\"Positivo\",\"orientation\":\"h\",\"showlegend\":true,\"textposition\":\"auto\",\"x\":[0.1647229165787013,0.22451716890308235,0.22864937114120437,0.2651045227245703,0.5857541042043658,1.2753302226694283,3.1743646656407556],\"xaxis\":\"x\",\"y\":[\"LDR_Rec_IntrusionesB\",\"ACE_Flu_Verb_F_PB\",\"ACE_L_Comprension_LyH\",\"Digitos_PB\",\"ACE_Puntaje_At\",\"ACE_At_ OE\",\"ACE_At_Registro\"],\"yaxis\":\"y\",\"type\":\"bar\"}],                        {\"template\":{\"data\":{\"bar\":[{\"error_x\":{\"color\":\"#2a3f5f\"},\"error_y\":{\"color\":\"#2a3f5f\"},\"marker\":{\"line\":{\"color\":\"#E5ECF6\",\"width\":0.5},\"pattern\":{\"fillmode\":\"overlay\",\"size\":10,\"solidity\":0.2}},\"type\":\"bar\"}],\"barpolar\":[{\"marker\":{\"line\":{\"color\":\"#E5ECF6\",\"width\":0.5},\"pattern\":{\"fillmode\":\"overlay\",\"size\":10,\"solidity\":0.2}},\"type\":\"barpolar\"}],\"carpet\":[{\"aaxis\":{\"endlinecolor\":\"#2a3f5f\",\"gridcolor\":\"white\",\"linecolor\":\"white\",\"minorgridcolor\":\"white\",\"startlinecolor\":\"#2a3f5f\"},\"baxis\":{\"endlinecolor\":\"#2a3f5f\",\"gridcolor\":\"white\",\"linecolor\":\"white\",\"minorgridcolor\":\"white\",\"startlinecolor\":\"#2a3f5f\"},\"type\":\"carpet\"}],\"choropleth\":[{\"colorbar\":{\"outlinewidth\":0,\"ticks\":\"\"},\"type\":\"choropleth\"}],\"contour\":[{\"colorbar\":{\"outlinewidth\":0,\"ticks\":\"\"},\"colorscale\":[[0.0,\"#0d0887\"],[0.1111111111111111,\"#46039f\"],[0.2222222222222222,\"#7201a8\"],[0.3333333333333333,\"#9c179e\"],[0.4444444444444444,\"#bd3786\"],[0.5555555555555556,\"#d8576b\"],[0.6666666666666666,\"#ed7953\"],[0.7777777777777778,\"#fb9f3a\"],[0.8888888888888888,\"#fdca26\"],[1.0,\"#f0f921\"]],\"type\":\"contour\"}],\"contourcarpet\":[{\"colorbar\":{\"outlinewidth\":0,\"ticks\":\"\"},\"type\":\"contourcarpet\"}],\"heatmap\":[{\"colorbar\":{\"outlinewidth\":0,\"ticks\":\"\"},\"colorscale\":[[0.0,\"#0d0887\"],[0.1111111111111111,\"#46039f\"],[0.2222222222222222,\"#7201a8\"],[0.3333333333333333,\"#9c179e\"],[0.4444444444444444,\"#bd3786\"],[0.5555555555555556,\"#d8576b\"],[0.6666666666666666,\"#ed7953\"],[0.7777777777777778,\"#fb9f3a\"],[0.8888888888888888,\"#fdca26\"],[1.0,\"#f0f921\"]],\"type\":\"heatmap\"}],\"heatmapgl\":[{\"colorbar\":{\"outlinewidth\":0,\"ticks\":\"\"},\"colorscale\":[[0.0,\"#0d0887\"],[0.1111111111111111,\"#46039f\"],[0.2222222222222222,\"#7201a8\"],[0.3333333333333333,\"#9c179e\"],[0.4444444444444444,\"#bd3786\"],[0.5555555555555556,\"#d8576b\"],[0.6666666666666666,\"#ed7953\"],[0.7777777777777778,\"#fb9f3a\"],[0.8888888888888888,\"#fdca26\"],[1.0,\"#f0f921\"]],\"type\":\"heatmapgl\"}],\"histogram\":[{\"marker\":{\"pattern\":{\"fillmode\":\"overlay\",\"size\":10,\"solidity\":0.2}},\"type\":\"histogram\"}],\"histogram2d\":[{\"colorbar\":{\"outlinewidth\":0,\"ticks\":\"\"},\"colorscale\":[[0.0,\"#0d0887\"],[0.1111111111111111,\"#46039f\"],[0.2222222222222222,\"#7201a8\"],[0.3333333333333333,\"#9c179e\"],[0.4444444444444444,\"#bd3786\"],[0.5555555555555556,\"#d8576b\"],[0.6666666666666666,\"#ed7953\"],[0.7777777777777778,\"#fb9f3a\"],[0.8888888888888888,\"#fdca26\"],[1.0,\"#f0f921\"]],\"type\":\"histogram2d\"}],\"histogram2dcontour\":[{\"colorbar\":{\"outlinewidth\":0,\"ticks\":\"\"},\"colorscale\":[[0.0,\"#0d0887\"],[0.1111111111111111,\"#46039f\"],[0.2222222222222222,\"#7201a8\"],[0.3333333333333333,\"#9c179e\"],[0.4444444444444444,\"#bd3786\"],[0.5555555555555556,\"#d8576b\"],[0.6666666666666666,\"#ed7953\"],[0.7777777777777778,\"#fb9f3a\"],[0.8888888888888888,\"#fdca26\"],[1.0,\"#f0f921\"]],\"type\":\"histogram2dcontour\"}],\"mesh3d\":[{\"colorbar\":{\"outlinewidth\":0,\"ticks\":\"\"},\"type\":\"mesh3d\"}],\"parcoords\":[{\"line\":{\"colorbar\":{\"outlinewidth\":0,\"ticks\":\"\"}},\"type\":\"parcoords\"}],\"pie\":[{\"automargin\":true,\"type\":\"pie\"}],\"scatter\":[{\"marker\":{\"colorbar\":{\"outlinewidth\":0,\"ticks\":\"\"}},\"type\":\"scatter\"}],\"scatter3d\":[{\"line\":{\"colorbar\":{\"outlinewidth\":0,\"ticks\":\"\"}},\"marker\":{\"colorbar\":{\"outlinewidth\":0,\"ticks\":\"\"}},\"type\":\"scatter3d\"}],\"scattercarpet\":[{\"marker\":{\"colorbar\":{\"outlinewidth\":0,\"ticks\":\"\"}},\"type\":\"scattercarpet\"}],\"scattergeo\":[{\"marker\":{\"colorbar\":{\"outlinewidth\":0,\"ticks\":\"\"}},\"type\":\"scattergeo\"}],\"scattergl\":[{\"marker\":{\"colorbar\":{\"outlinewidth\":0,\"ticks\":\"\"}},\"type\":\"scattergl\"}],\"scattermapbox\":[{\"marker\":{\"colorbar\":{\"outlinewidth\":0,\"ticks\":\"\"}},\"type\":\"scattermapbox\"}],\"scatterpolar\":[{\"marker\":{\"colorbar\":{\"outlinewidth\":0,\"ticks\":\"\"}},\"type\":\"scatterpolar\"}],\"scatterpolargl\":[{\"marker\":{\"colorbar\":{\"outlinewidth\":0,\"ticks\":\"\"}},\"type\":\"scatterpolargl\"}],\"scatterternary\":[{\"marker\":{\"colorbar\":{\"outlinewidth\":0,\"ticks\":\"\"}},\"type\":\"scatterternary\"}],\"surface\":[{\"colorbar\":{\"outlinewidth\":0,\"ticks\":\"\"},\"colorscale\":[[0.0,\"#0d0887\"],[0.1111111111111111,\"#46039f\"],[0.2222222222222222,\"#7201a8\"],[0.3333333333333333,\"#9c179e\"],[0.4444444444444444,\"#bd3786\"],[0.5555555555555556,\"#d8576b\"],[0.6666666666666666,\"#ed7953\"],[0.7777777777777778,\"#fb9f3a\"],[0.8888888888888888,\"#fdca26\"],[1.0,\"#f0f921\"]],\"type\":\"surface\"}],\"table\":[{\"cells\":{\"fill\":{\"color\":\"#EBF0F8\"},\"line\":{\"color\":\"white\"}},\"header\":{\"fill\":{\"color\":\"#C8D4E3\"},\"line\":{\"color\":\"white\"}},\"type\":\"table\"}]},\"layout\":{\"annotationdefaults\":{\"arrowcolor\":\"#2a3f5f\",\"arrowhead\":0,\"arrowwidth\":1},\"autotypenumbers\":\"strict\",\"coloraxis\":{\"colorbar\":{\"outlinewidth\":0,\"ticks\":\"\"}},\"colorscale\":{\"diverging\":[[0,\"#8e0152\"],[0.1,\"#c51b7d\"],[0.2,\"#de77ae\"],[0.3,\"#f1b6da\"],[0.4,\"#fde0ef\"],[0.5,\"#f7f7f7\"],[0.6,\"#e6f5d0\"],[0.7,\"#b8e186\"],[0.8,\"#7fbc41\"],[0.9,\"#4d9221\"],[1,\"#276419\"]],\"sequential\":[[0.0,\"#0d0887\"],[0.1111111111111111,\"#46039f\"],[0.2222222222222222,\"#7201a8\"],[0.3333333333333333,\"#9c179e\"],[0.4444444444444444,\"#bd3786\"],[0.5555555555555556,\"#d8576b\"],[0.6666666666666666,\"#ed7953\"],[0.7777777777777778,\"#fb9f3a\"],[0.8888888888888888,\"#fdca26\"],[1.0,\"#f0f921\"]],\"sequentialminus\":[[0.0,\"#0d0887\"],[0.1111111111111111,\"#46039f\"],[0.2222222222222222,\"#7201a8\"],[0.3333333333333333,\"#9c179e\"],[0.4444444444444444,\"#bd3786\"],[0.5555555555555556,\"#d8576b\"],[0.6666666666666666,\"#ed7953\"],[0.7777777777777778,\"#fb9f3a\"],[0.8888888888888888,\"#fdca26\"],[1.0,\"#f0f921\"]]},\"colorway\":[\"#636efa\",\"#EF553B\",\"#00cc96\",\"#ab63fa\",\"#FFA15A\",\"#19d3f3\",\"#FF6692\",\"#B6E880\",\"#FF97FF\",\"#FECB52\"],\"font\":{\"color\":\"#2a3f5f\"},\"geo\":{\"bgcolor\":\"white\",\"lakecolor\":\"white\",\"landcolor\":\"#E5ECF6\",\"showlakes\":true,\"showland\":true,\"subunitcolor\":\"white\"},\"hoverlabel\":{\"align\":\"left\"},\"hovermode\":\"closest\",\"mapbox\":{\"style\":\"light\"},\"paper_bgcolor\":\"white\",\"plot_bgcolor\":\"#E5ECF6\",\"polar\":{\"angularaxis\":{\"gridcolor\":\"white\",\"linecolor\":\"white\",\"ticks\":\"\"},\"bgcolor\":\"#E5ECF6\",\"radialaxis\":{\"gridcolor\":\"white\",\"linecolor\":\"white\",\"ticks\":\"\"}},\"scene\":{\"xaxis\":{\"backgroundcolor\":\"#E5ECF6\",\"gridcolor\":\"white\",\"gridwidth\":2,\"linecolor\":\"white\",\"showbackground\":true,\"ticks\":\"\",\"zerolinecolor\":\"white\"},\"yaxis\":{\"backgroundcolor\":\"#E5ECF6\",\"gridcolor\":\"white\",\"gridwidth\":2,\"linecolor\":\"white\",\"showbackground\":true,\"ticks\":\"\",\"zerolinecolor\":\"white\"},\"zaxis\":{\"backgroundcolor\":\"#E5ECF6\",\"gridcolor\":\"white\",\"gridwidth\":2,\"linecolor\":\"white\",\"showbackground\":true,\"ticks\":\"\",\"zerolinecolor\":\"white\"}},\"shapedefaults\":{\"line\":{\"color\":\"#2a3f5f\"}},\"ternary\":{\"aaxis\":{\"gridcolor\":\"white\",\"linecolor\":\"white\",\"ticks\":\"\"},\"baxis\":{\"gridcolor\":\"white\",\"linecolor\":\"white\",\"ticks\":\"\"},\"bgcolor\":\"#E5ECF6\",\"caxis\":{\"gridcolor\":\"white\",\"linecolor\":\"white\",\"ticks\":\"\"}},\"title\":{\"x\":0.05},\"xaxis\":{\"automargin\":true,\"gridcolor\":\"white\",\"linecolor\":\"white\",\"ticks\":\"\",\"title\":{\"standoff\":15},\"zerolinecolor\":\"white\",\"zerolinewidth\":2},\"yaxis\":{\"automargin\":true,\"gridcolor\":\"white\",\"linecolor\":\"white\",\"ticks\":\"\",\"title\":{\"standoff\":15},\"zerolinecolor\":\"white\",\"zerolinewidth\":2}}},\"xaxis\":{\"anchor\":\"y\",\"domain\":[0.0,1.0],\"title\":{\"text\":\"Variable\"}},\"yaxis\":{\"anchor\":\"x\",\"domain\":[0.0,1.0],\"title\":{\"text\":\"Coeficiente\"}},\"legend\":{\"title\":{\"text\":\"color\"},\"tracegroupgap\":0},\"title\":{\"text\":\"Coeficientes\"},\"barmode\":\"relative\",\"height\":850},                        {\"responsive\": true}                    ).then(function(){\n",
              "                            \n",
              "var gd = document.getElementById('b1d9bff8-0fc4-4282-a4dc-44ffe1130603');\n",
              "var x = new MutationObserver(function (mutations, observer) {{\n",
              "        var display = window.getComputedStyle(gd).display;\n",
              "        if (!display || display === 'none') {{\n",
              "            console.log([gd, 'removed!']);\n",
              "            Plotly.purge(gd);\n",
              "            observer.disconnect();\n",
              "        }}\n",
              "}});\n",
              "\n",
              "// Listen for the removal of the full notebook cells\n",
              "var notebookContainer = gd.closest('#notebook-container');\n",
              "if (notebookContainer) {{\n",
              "    x.observe(notebookContainer, {childList: true});\n",
              "}}\n",
              "\n",
              "// Listen for the clearing of the current output cell\n",
              "var outputEl = gd.closest('.output');\n",
              "if (outputEl) {{\n",
              "    x.observe(outputEl, {childList: true});\n",
              "}}\n",
              "\n",
              "                        })                };                            </script>        </div>\n",
              "</body>\n",
              "</html>"
            ]
          },
          "metadata": {}
        }
      ]
    },
    {
      "cell_type": "markdown",
      "source": [
        "1. La variable `Fluencia verbal semántica` es una de las causas en la reducción de la variable respuesta `edad`.\n",
        "2. Tener una disminución en la variable `ACE_Puntaje_At` producirá una reducción en `edad` para nuestro modelo.\n",
        "3. La variable más relevante en valor absoluto para nuestro modelo fue `IFS_series_motoras`.\n",
        "4. Tener un aumento en la variable `ACE_At_registro` nos producirá una disminución en la predicción de la variable `edad`. "
      ],
      "metadata": {
        "id": "rh6ZXhL8rD0K"
      }
    },
    {
      "cell_type": "code",
      "source": [
        "respuesta_12 = 1,0,0,0"
      ],
      "metadata": {
        "id": "z1ZPNs1QryPm"
      },
      "execution_count": 101,
      "outputs": []
    },
    {
      "cell_type": "markdown",
      "source": [
        "# Parte 2: EPH\n",
        "\n",
        "[PyEPH](https://github.com/institutohumai/pyeph). \n",
        "\n",
        "*Tip: probar el código con parametros que requieran poca memoria para agilizar*"
      ],
      "metadata": {
        "id": "Ye0Kxo_n6Sst"
      }
    },
    {
      "cell_type": "markdown",
      "source": [
        "## ➡. Ajustar ensamble"
      ],
      "metadata": {
        "id": "01eB5C0qyHaH"
      }
    },
    {
      "cell_type": "code",
      "source": [
        "#@title Preparación\n",
        "import pyeph\n",
        "import seaborn as sns\n",
        "import matplotlib.pyplot as plt\n",
        "import pandas as pd\n",
        "from  matplotlib.ticker import FuncFormatter\n",
        "import seaborn as sns \n",
        "from sklearn.preprocessing import StandardScaler\n",
        "import plotly.express as px\n",
        "import numpy as np\n",
        "\n",
        "eph = pd.concat([pyeph.get(data=\"eph\", year=2021, period=i, tipo_base='hogar') for i in range(1,5)])\n",
        "\n",
        "columnas = ['REGION', 'MAS_500', 'AGLOMERADO', 'IV1', 'IV2', 'IV3', 'V4',  'IV5', 'IV6', 'IV7',\n",
        " 'IV8', 'IV9', 'IV10', 'IV11', 'II1', 'II2', 'II3', 'II4_3', 'II7', 'II8', 'II9', \n",
        " 'ITF', 'IX_TOT', 'IX_MEN10', 'V1', 'V2', 'V21', 'V22', 'V3', 'V5', 'V6']\n",
        "# columnas = 'ITF AGLOMERADO REGION IX_TOT V1 II8 V5 MAS_500 II2 II1 II7 IV2 II4_3 IV3 V2 IX_MEN10'.split()\n",
        "eph = eph.apply(pd.to_numeric, errors='coerce')\n",
        "eph = eph.fillna(eph.median())\n",
        "# Nos quedamos solo con columnas numéricas para este ejemplo\n",
        "X = eph.select_dtypes([np.number])\n",
        "\n",
        "eph = eph[eph['ITF'] > 0]\n",
        "# Reacomodamos las columnas de tipo objeto \n",
        "eph['MAS_500']= eph['MAS_500'].apply(lambda x: 0 if x == 'N' else 1)\n",
        "# data.info()\n",
        "data = eph[columnas]\n",
        "\n",
        "X = data.drop(columns = ['ITF'])"
      ],
      "metadata": {
        "id": "R_-pCg22Asif",
        "colab": {
          "base_uri": "https://localhost:8080/"
        },
        "outputId": "e137dac4-09a3-42cf-a10f-4251788454a4",
        "cellView": "form"
      },
      "execution_count": 102,
      "outputs": [
        {
          "output_type": "stream",
          "name": "stdout",
          "text": [
            "Obtenido con exito: base_hogar_2021T1.zip \n",
            "Obtenido con exito: base_hogar_2021T2.zip \n",
            "Obtenido con exito: base_hogar_2021T3.zip \n",
            "Obtenido con exito: base_hogar_2021T4.zip \n"
          ]
        },
        {
          "output_type": "stream",
          "name": "stderr",
          "text": [
            "/usr/local/lib/python3.7/dist-packages/ipykernel_launcher.py:25: SettingWithCopyWarning:\n",
            "\n",
            "\n",
            "A value is trying to be set on a copy of a slice from a DataFrame.\n",
            "Try using .loc[row_indexer,col_indexer] = value instead\n",
            "\n",
            "See the caveats in the documentation: https://pandas.pydata.org/pandas-docs/stable/user_guide/indexing.html#returning-a-view-versus-a-copy\n",
            "\n"
          ]
        }
      ]
    },
    {
      "cell_type": "code",
      "source": [
        "y = data['ITF']\n",
        "X.head()"
      ],
      "metadata": {
        "colab": {
          "base_uri": "https://localhost:8080/",
          "height": 235
        },
        "id": "o87D9pUA6s3s",
        "outputId": "ab1464d5-8e05-488b-a990-4c25c8930125"
      },
      "execution_count": 103,
      "outputs": [
        {
          "output_type": "execute_result",
          "data": {
            "text/plain": [
              "   REGION  MAS_500  AGLOMERADO  IV1  IV2  IV3  V4  IV5  IV6  IV7  ...  II9  \\\n",
              "1      41        1          15    1   99    1   2    1    1    1  ...  1.0   \n",
              "2      40        1          19    1   99    1   2    1    1    1  ...  1.0   \n",
              "3      41        1           8    1    3    2   2    1    1    1  ...  1.0   \n",
              "4      40        1          22    1   99    1   2    1    1    1  ...  1.0   \n",
              "5      43        1           2    1    4    1   2    1    1    1  ...  1.0   \n",
              "\n",
              "   IX_TOT  IX_MEN10  V1  V2  V21  V22  V3  V5  V6  \n",
              "1       6         0   1   2    2    2   2   2   2  \n",
              "2       6         0   1   1    2    2   2   2   2  \n",
              "3       5         2   2   1    2    2   2   1   2  \n",
              "4       3         0   1   2    2    2   2   2   2  \n",
              "5       2         0   1   2    2    2   2   2   2  \n",
              "\n",
              "[5 rows x 30 columns]"
            ],
            "text/html": [
              "\n",
              "  <div id=\"df-829d8371-9b6c-422e-a478-265e12d7337d\">\n",
              "    <div class=\"colab-df-container\">\n",
              "      <div>\n",
              "<style scoped>\n",
              "    .dataframe tbody tr th:only-of-type {\n",
              "        vertical-align: middle;\n",
              "    }\n",
              "\n",
              "    .dataframe tbody tr th {\n",
              "        vertical-align: top;\n",
              "    }\n",
              "\n",
              "    .dataframe thead th {\n",
              "        text-align: right;\n",
              "    }\n",
              "</style>\n",
              "<table border=\"1\" class=\"dataframe\">\n",
              "  <thead>\n",
              "    <tr style=\"text-align: right;\">\n",
              "      <th></th>\n",
              "      <th>REGION</th>\n",
              "      <th>MAS_500</th>\n",
              "      <th>AGLOMERADO</th>\n",
              "      <th>IV1</th>\n",
              "      <th>IV2</th>\n",
              "      <th>IV3</th>\n",
              "      <th>V4</th>\n",
              "      <th>IV5</th>\n",
              "      <th>IV6</th>\n",
              "      <th>IV7</th>\n",
              "      <th>...</th>\n",
              "      <th>II9</th>\n",
              "      <th>IX_TOT</th>\n",
              "      <th>IX_MEN10</th>\n",
              "      <th>V1</th>\n",
              "      <th>V2</th>\n",
              "      <th>V21</th>\n",
              "      <th>V22</th>\n",
              "      <th>V3</th>\n",
              "      <th>V5</th>\n",
              "      <th>V6</th>\n",
              "    </tr>\n",
              "  </thead>\n",
              "  <tbody>\n",
              "    <tr>\n",
              "      <th>1</th>\n",
              "      <td>41</td>\n",
              "      <td>1</td>\n",
              "      <td>15</td>\n",
              "      <td>1</td>\n",
              "      <td>99</td>\n",
              "      <td>1</td>\n",
              "      <td>2</td>\n",
              "      <td>1</td>\n",
              "      <td>1</td>\n",
              "      <td>1</td>\n",
              "      <td>...</td>\n",
              "      <td>1.0</td>\n",
              "      <td>6</td>\n",
              "      <td>0</td>\n",
              "      <td>1</td>\n",
              "      <td>2</td>\n",
              "      <td>2</td>\n",
              "      <td>2</td>\n",
              "      <td>2</td>\n",
              "      <td>2</td>\n",
              "      <td>2</td>\n",
              "    </tr>\n",
              "    <tr>\n",
              "      <th>2</th>\n",
              "      <td>40</td>\n",
              "      <td>1</td>\n",
              "      <td>19</td>\n",
              "      <td>1</td>\n",
              "      <td>99</td>\n",
              "      <td>1</td>\n",
              "      <td>2</td>\n",
              "      <td>1</td>\n",
              "      <td>1</td>\n",
              "      <td>1</td>\n",
              "      <td>...</td>\n",
              "      <td>1.0</td>\n",
              "      <td>6</td>\n",
              "      <td>0</td>\n",
              "      <td>1</td>\n",
              "      <td>1</td>\n",
              "      <td>2</td>\n",
              "      <td>2</td>\n",
              "      <td>2</td>\n",
              "      <td>2</td>\n",
              "      <td>2</td>\n",
              "    </tr>\n",
              "    <tr>\n",
              "      <th>3</th>\n",
              "      <td>41</td>\n",
              "      <td>1</td>\n",
              "      <td>8</td>\n",
              "      <td>1</td>\n",
              "      <td>3</td>\n",
              "      <td>2</td>\n",
              "      <td>2</td>\n",
              "      <td>1</td>\n",
              "      <td>1</td>\n",
              "      <td>1</td>\n",
              "      <td>...</td>\n",
              "      <td>1.0</td>\n",
              "      <td>5</td>\n",
              "      <td>2</td>\n",
              "      <td>2</td>\n",
              "      <td>1</td>\n",
              "      <td>2</td>\n",
              "      <td>2</td>\n",
              "      <td>2</td>\n",
              "      <td>1</td>\n",
              "      <td>2</td>\n",
              "    </tr>\n",
              "    <tr>\n",
              "      <th>4</th>\n",
              "      <td>40</td>\n",
              "      <td>1</td>\n",
              "      <td>22</td>\n",
              "      <td>1</td>\n",
              "      <td>99</td>\n",
              "      <td>1</td>\n",
              "      <td>2</td>\n",
              "      <td>1</td>\n",
              "      <td>1</td>\n",
              "      <td>1</td>\n",
              "      <td>...</td>\n",
              "      <td>1.0</td>\n",
              "      <td>3</td>\n",
              "      <td>0</td>\n",
              "      <td>1</td>\n",
              "      <td>2</td>\n",
              "      <td>2</td>\n",
              "      <td>2</td>\n",
              "      <td>2</td>\n",
              "      <td>2</td>\n",
              "      <td>2</td>\n",
              "    </tr>\n",
              "    <tr>\n",
              "      <th>5</th>\n",
              "      <td>43</td>\n",
              "      <td>1</td>\n",
              "      <td>2</td>\n",
              "      <td>1</td>\n",
              "      <td>4</td>\n",
              "      <td>1</td>\n",
              "      <td>2</td>\n",
              "      <td>1</td>\n",
              "      <td>1</td>\n",
              "      <td>1</td>\n",
              "      <td>...</td>\n",
              "      <td>1.0</td>\n",
              "      <td>2</td>\n",
              "      <td>0</td>\n",
              "      <td>1</td>\n",
              "      <td>2</td>\n",
              "      <td>2</td>\n",
              "      <td>2</td>\n",
              "      <td>2</td>\n",
              "      <td>2</td>\n",
              "      <td>2</td>\n",
              "    </tr>\n",
              "  </tbody>\n",
              "</table>\n",
              "<p>5 rows × 30 columns</p>\n",
              "</div>\n",
              "      <button class=\"colab-df-convert\" onclick=\"convertToInteractive('df-829d8371-9b6c-422e-a478-265e12d7337d')\"\n",
              "              title=\"Convert this dataframe to an interactive table.\"\n",
              "              style=\"display:none;\">\n",
              "        \n",
              "  <svg xmlns=\"http://www.w3.org/2000/svg\" height=\"24px\"viewBox=\"0 0 24 24\"\n",
              "       width=\"24px\">\n",
              "    <path d=\"M0 0h24v24H0V0z\" fill=\"none\"/>\n",
              "    <path d=\"M18.56 5.44l.94 2.06.94-2.06 2.06-.94-2.06-.94-.94-2.06-.94 2.06-2.06.94zm-11 1L8.5 8.5l.94-2.06 2.06-.94-2.06-.94L8.5 2.5l-.94 2.06-2.06.94zm10 10l.94 2.06.94-2.06 2.06-.94-2.06-.94-.94-2.06-.94 2.06-2.06.94z\"/><path d=\"M17.41 7.96l-1.37-1.37c-.4-.4-.92-.59-1.43-.59-.52 0-1.04.2-1.43.59L10.3 9.45l-7.72 7.72c-.78.78-.78 2.05 0 2.83L4 21.41c.39.39.9.59 1.41.59.51 0 1.02-.2 1.41-.59l7.78-7.78 2.81-2.81c.8-.78.8-2.07 0-2.86zM5.41 20L4 18.59l7.72-7.72 1.47 1.35L5.41 20z\"/>\n",
              "  </svg>\n",
              "      </button>\n",
              "      \n",
              "  <style>\n",
              "    .colab-df-container {\n",
              "      display:flex;\n",
              "      flex-wrap:wrap;\n",
              "      gap: 12px;\n",
              "    }\n",
              "\n",
              "    .colab-df-convert {\n",
              "      background-color: #E8F0FE;\n",
              "      border: none;\n",
              "      border-radius: 50%;\n",
              "      cursor: pointer;\n",
              "      display: none;\n",
              "      fill: #1967D2;\n",
              "      height: 32px;\n",
              "      padding: 0 0 0 0;\n",
              "      width: 32px;\n",
              "    }\n",
              "\n",
              "    .colab-df-convert:hover {\n",
              "      background-color: #E2EBFA;\n",
              "      box-shadow: 0px 1px 2px rgba(60, 64, 67, 0.3), 0px 1px 3px 1px rgba(60, 64, 67, 0.15);\n",
              "      fill: #174EA6;\n",
              "    }\n",
              "\n",
              "    [theme=dark] .colab-df-convert {\n",
              "      background-color: #3B4455;\n",
              "      fill: #D2E3FC;\n",
              "    }\n",
              "\n",
              "    [theme=dark] .colab-df-convert:hover {\n",
              "      background-color: #434B5C;\n",
              "      box-shadow: 0px 1px 3px 1px rgba(0, 0, 0, 0.15);\n",
              "      filter: drop-shadow(0px 1px 2px rgba(0, 0, 0, 0.3));\n",
              "      fill: #FFFFFF;\n",
              "    }\n",
              "  </style>\n",
              "\n",
              "      <script>\n",
              "        const buttonEl =\n",
              "          document.querySelector('#df-829d8371-9b6c-422e-a478-265e12d7337d button.colab-df-convert');\n",
              "        buttonEl.style.display =\n",
              "          google.colab.kernel.accessAllowed ? 'block' : 'none';\n",
              "\n",
              "        async function convertToInteractive(key) {\n",
              "          const element = document.querySelector('#df-829d8371-9b6c-422e-a478-265e12d7337d');\n",
              "          const dataTable =\n",
              "            await google.colab.kernel.invokeFunction('convertToInteractive',\n",
              "                                                     [key], {});\n",
              "          if (!dataTable) return;\n",
              "\n",
              "          const docLinkHtml = 'Like what you see? Visit the ' +\n",
              "            '<a target=\"_blank\" href=https://colab.research.google.com/notebooks/data_table.ipynb>data table notebook</a>'\n",
              "            + ' to learn more about interactive tables.';\n",
              "          element.innerHTML = '';\n",
              "          dataTable['output_type'] = 'display_data';\n",
              "          await google.colab.output.renderOutput(dataTable, element);\n",
              "          const docLink = document.createElement('div');\n",
              "          docLink.innerHTML = docLinkHtml;\n",
              "          element.appendChild(docLink);\n",
              "        }\n",
              "      </script>\n",
              "    </div>\n",
              "  </div>\n",
              "  "
            ]
          },
          "metadata": {},
          "execution_count": 103
        }
      ]
    },
    {
      "cell_type": "markdown",
      "source": [
        "Separamos en Entrenamiento (80%), Validación (10%) y Prueba (10%)"
      ],
      "metadata": {
        "id": "Z1MV25jz6aZP"
      }
    },
    {
      "cell_type": "code",
      "source": [
        "from sklearn.ensemble import RandomForestRegressor\n",
        "from sklearn.model_selection import train_test_split\n",
        "\n",
        "train_ratio = 0.80\n",
        "validation_ratio = 0.10\n",
        "test_ratio = 0.10\n",
        "\n",
        "X_train, X_test, y_train, y_test = train_test_split(X, y, test_size= 1 - train_ratio)\n",
        "X_val, X_test, y_val, y_test = train_test_split(X_test, y_test, test_size=test_ratio/(test_ratio + validation_ratio)) \n",
        "X_train.shape, X_val.shape, X_test.shape"
      ],
      "metadata": {
        "colab": {
          "base_uri": "https://localhost:8080/"
        },
        "id": "dCkZb9QFGJz2",
        "outputId": "a202856c-5546-41ac-9ee7-f8750cf61914"
      },
      "execution_count": 104,
      "outputs": [
        {
          "output_type": "execute_result",
          "data": {
            "text/plain": [
              "((41319, 30), (5165, 30), (5165, 30))"
            ]
          },
          "metadata": {},
          "execution_count": 104
        }
      ]
    },
    {
      "cell_type": "markdown",
      "source": [
        "## ➡ 13. Ensamble: regresión\n",
        "\n",
        "- Ajustar un modelo de ensamble para regresión: RandomForestRegressor\n",
        "- Calcular r2 en entrenamiento y en validación\n",
        "\n",
        "**Guardar ambos r2 como una tupla en `respuesta_13`**"
      ],
      "metadata": {
        "id": "ritRaJt97lvi"
      }
    },
    {
      "cell_type": "code",
      "source": [
        "from sklearn.ensemble import RandomForestRegressor\n",
        "rf_reg = RandomForestRegressor()\n",
        "rf_reg.fit(X_train,y_train)\n",
        "y_pred = rf_reg.predict(X_val)\n",
        "r2_train = r2_score(y_train,rf_reg.predict(X_train))\n",
        "r2_val = r2_score(y_val,rf_reg.predict(X_val))"
      ],
      "metadata": {
        "id": "8Jpx6Uzj3yl0"
      },
      "execution_count": 105,
      "outputs": []
    },
    {
      "cell_type": "code",
      "source": [
        "respuesta_13 = r2_train,r2_val"
      ],
      "metadata": {
        "id": "MerFm61fgDtw"
      },
      "execution_count": 106,
      "outputs": []
    },
    {
      "cell_type": "markdown",
      "source": [
        "## ➡. 14 "
      ],
      "metadata": {
        "id": "jVhoTvcj-3cp"
      }
    },
    {
      "cell_type": "markdown",
      "source": [
        "¿Qué problema podemos afirmar que sufre nuestro modelo?\n"
      ],
      "metadata": {
        "id": "-lqTfEHq2Kg1"
      }
    },
    {
      "cell_type": "code",
      "source": [
        "respuesta_14 = 'Sobreajuste (Overfitting)' #@param ['-', 'Regularizacion', 'Subajuste (Underfitting)', 'Sobreajuste (Overfitting)', 'Maldicion de la dimensionalidad', 'Sesgo en la variable objetivo (target)']"
      ],
      "metadata": {
        "cellView": "form",
        "id": "qDmwM-Zgg882"
      },
      "execution_count": 107,
      "outputs": []
    },
    {
      "cell_type": "markdown",
      "source": [
        "### Bonus si te sobra tiempo! "
      ],
      "metadata": {
        "id": "rMsEnWYChE4e"
      }
    },
    {
      "cell_type": "markdown",
      "source": [
        "\n",
        "- Optimizar el número de estimadores del ensamble usando GridSearch y CrossValidation. Tener cuidado cómo se deben usar los conjuntos de datos.\n"
      ],
      "metadata": {
        "id": "xQk5xTQS7uZT"
      }
    },
    {
      "cell_type": "code",
      "source": [
        "from sklearn.model_selection import GridSearchCV\n",
        "params_grid = {'n_estimators':[10,50,100,150,200,500]}\n",
        "grid_cv = GridSearchCV(RandomForestRegressor(),params_grid,cv=3,n_jobs=-1)\n",
        "grid_cv.fit(X_train,y_train)\n",
        "\n",
        "print(grid_cv.best_params_)"
      ],
      "metadata": {
        "id": "vGoI7YjB720T"
      },
      "execution_count": null,
      "outputs": []
    },
    {
      "cell_type": "markdown",
      "source": [
        "- Graficar la curva de validación en función de K o un parámetro que implique regularización\n",
        "\n",
        "_Pueden usar el método de sklearn o directamente matplotlibt con puntajes en train y val_"
      ],
      "metadata": {
        "id": "07HQ-V4073i0"
      }
    },
    {
      "cell_type": "code",
      "source": [
        "min_samples_split = [2,4,8,16,32]\n",
        "scores_train = []\n",
        "scores_val = []\n",
        "for value in min_samples_split:\n",
        "  rf_reg = RandomForestRegressor(min_samples_split=value)\n",
        "  rf_reg.fit(X_train,y_train)\n",
        "  scores_train.append(rf_reg.score(X_train,y_train))\n",
        "  scores_val.append(rf_reg.score(X_val,y_val))"
      ],
      "metadata": {
        "id": "HrORetyk9Ud4"
      },
      "execution_count": null,
      "outputs": []
    },
    {
      "cell_type": "code",
      "source": [
        "from matplotlib import pyplot as plt\n",
        "plt.plot(min_samples_split,scores_train,label='Train')\n",
        "plt.plot(min_samples_split,scores_val,label='Val')\n",
        "plt.xlabel('min_samples_split');plt.ylabel('r2_score')\n",
        "plt.legend()\n",
        "plt.grid()\n",
        "plt.show()"
      ],
      "metadata": {
        "id": "SXqL_dXP8moo"
      },
      "execution_count": null,
      "outputs": []
    },
    {
      "cell_type": "markdown",
      "source": [
        "¿Qué cosas podríamos hacer para mejorar el rendimiento del modelo?"
      ],
      "metadata": {
        "id": "MvJiDFc4hLch"
      }
    },
    {
      "cell_type": "code",
      "source": [
        "# Comentar\n",
        "# Para evitar sobre ajuste, hay que trabajar sobre los hiperparámetros del modelo, tales como n_estimators, min_samples_leaf, min_samples_split, o max_depth"
      ],
      "metadata": {
        "id": "QnErULXEj0lT"
      },
      "execution_count": null,
      "outputs": []
    },
    {
      "cell_type": "markdown",
      "source": [
        "# Finalizar examen\n",
        "1. **Asegurarse de haber ejecutado todo en orden (de ser necesario, reiniciar el entorno y ejecutar todo)**\n",
        "2. **Asegurarse de guardar la última versión presionando `Control + S` o con la barra de herramientas.**\n",
        "3. **Descargar la notebook resuelta ingresando a \"Archivo\" -> \"Descargar como .ipynb\" y enviarla adjunta en un mail a admin@humai.com.ar**"
      ],
      "metadata": {
        "id": "CoDTmg0mXf-r"
      }
    },
    {
      "cell_type": "code",
      "source": [
        "#@markdown Opcional: Ejecutar para descargar CSV ↓↓↓\n",
        "\n",
        "### A MODIFICAR CON CADA EXAMEN\n",
        "n_ejs = 14\n",
        "ejs = {str(n): f'respuesta_{n}' for n in range(1, n_ejs+1)}\n",
        "\n",
        "key = 'examen_mate'\n",
        "\n",
        "from datetime import datetime, timedelta\n",
        "import inspect\n",
        "import requests\n",
        "import pandas as pd\n",
        "import json\n",
        "import os\n",
        "import re\n",
        "import ipykernel\n",
        "from urllib.parse import urljoin\n",
        "from notebook.notebookapp import list_running_servers\n",
        "import numpy as np\n",
        "pd.set_option('display.max_colwidth', 100)\n",
        "\n",
        "def get_answer(obj_name):\n",
        "  \"\"\"Funcion para inspeccionar y traer respuestas o codigo fuente.\n",
        "     Si es un valor, lo devuelve directo. \n",
        "     Si no lo encuentra, intenta traerlo con inspect\"\"\"\n",
        "  obj = eval(obj_name)\n",
        "  if type(obj) in [list, str, int, float, bool, np.ndarray]:\n",
        "    try:\n",
        "      return globals()[obj_name]\n",
        "    except KeyError:\n",
        "      print('No se encontró objeto')\n",
        "  else: #func, class\n",
        "    try:\n",
        "      return inspect.getsource(obj)\n",
        "    except:\n",
        "      print(f'No se pudo traer código fuente para {obj_name}')\n",
        "\n",
        "# Timestamp\n",
        "_hora = datetime.now()\n",
        "_formato = \"%m-%d-%Y_%H:%M:%S\"\n",
        "_fecha_final = (_hora - _desfase).strftime(_formato)\n",
        "\n",
        "respuestas = {i: get_answer(v) for i, v in ejs.items()}\n",
        "\n",
        "respuestas[\"nombres\"] = _nombres\n",
        "respuestas[\"apellidos\"] = _apellidos\n",
        "respuestas[\"mail\"] = _mail\n",
        "respuestas[\"mail_auth\"] = _mail_auth\n",
        "respuestas[\"fecha_inicio\"] = _fecha_inicio\n",
        "respuestas[\"fecha_final\"] = _fecha_final\n",
        "\n",
        "df = pd.DataFrame([respuestas])\n",
        "exam_path = f\"{key}_{_nombres}_{_apellidos}_{_fecha_final}\".replace(' ', '_')\n",
        "df.to_csv(exam_path + '.csv',index=False)\n",
        "\n",
        "#from IPython.display import HTML, display\n",
        "#display(HTML(df.to_html()))\n",
        "files.download(exam_path+'.csv')\n",
        "\n",
        "# Acá podríamos enviar el csv al servidor\n",
        "#url = 'https://humai.com.ar/data-server/postdata'\n",
        "# url = 'https://humai.com.ar/backend/contact'\n",
        "#data = {'email': _mail_auth, \n",
        "#        'first_name': _nombres, \n",
        "#        'last_name': _apellidos, \n",
        "#        'message': df.to_json()}\n",
        "# data = {'data':df.to_json()}\n",
        "# r = requests.post(url, json=data, headers={'Referer':'https://humai.com.ar/examen/examen/', \n",
        "#                                             'Content-Type': 'application/x-www-form-urlencoded'})\n",
        "# def get_notebook_name():\n",
        "#     \"\"\"\n",
        "#     Return the full path of the jupyter notebook.\n",
        "#     \"\"\"\n",
        "#     kernel_id = re.search(\n",
        "#         \"kernel-(.*).json\", ipykernel.connect.get_connection_file()\n",
        "#     ).group(1)\n",
        "#     servers = list_running_servers()\n",
        "#     for ss in servers:\n",
        "#         response = requests.get(\n",
        "#             urljoin(ss[\"url\"], \"api/sessions\"), params={\"token\": ss.get(\"token\", \"\")}\n",
        "#         )\n",
        "#         for nn in json.loads(response.text):\n",
        "#             if nn[\"kernel\"][\"id\"] == kernel_id:\n",
        "#                 relative_path = nn[\"notebook\"][\"path\"]\n",
        "#                 return os.path.join(ss[\"notebook_dir\"], relative_path)\n",
        "\n",
        "# # Traer nombre del archivo actual (la nb)\n",
        "# nb_name = get_notebook_name()\n",
        "# file_id = nb_name.split('=')[-1]\n",
        "\n",
        "# # Download file_id to exam_path\n",
        "# downloaded = drive.CreateFile({'id':file_id})\n",
        "# downloaded.FetchMetadata(fetch_all=True)\n",
        "# downloaded.GetContentFile(exam_path + '.ipynb')\n",
        "# with open(exam_path+'.ipynb', 'r') as inp:\n",
        "#   c = inp.read()\n",
        "# files.download(exam_path+'.ipynb')\n",
        "# # Acá podríamos enviar la IPYNB al servidor\n",
        "df"
      ],
      "metadata": {
        "id": "1P5t2t_fm2qH"
      },
      "execution_count": null,
      "outputs": []
    },
    {
      "cell_type": "markdown",
      "source": [
        "Te enviaremos tu resultado próximamente. Cualquier consulta estamos a disposición por el canal de <a href='https://discord.gg/7G86d7p5'>Discord</a> y por correo.  \n",
        "\n",
        "<center><h3> <b>¡Muchas gracias! </b> </h3></center>\n",
        "<br>\n",
        "<table>\n",
        "<td>\n",
        "<center><img src='https://humai.com.ar/static/logos/estudiante.png' width='150px' margin='100px'></img></center>\n",
        "<center><img src='https://humai.com.ar/static/logos/humai(1).png' width='150px' margin='100px'></img></center>\n",
        "\n",
        "\n",
        "<a href=\"https://discord.gg/wYCA2chQvb\"><img\n",
        "        src=\"https://cdn-icons-png.flaticon.com/512/5968/5968898.png\" width=\"30px\" alt=\"discord\"></a>\n",
        "<a href=\"https://www.instagram.com/institutohumai\"> \n",
        "<img src=\"https://humai.com.ar/static/icons/ig.png\" width=\"30px\" alt=\"IG\"></a><a href=\"https://github.com/institutohumai\"><img src=\"https://humai.com.ar/static/icons/github_b.png\" width=\"30px\" alt=\"Git\"></a><a href=\"https://www.linkedin.com/company/instituto-humai/\"><img src=\"https://ihum.ai/static/icons/linkedin.png\" width=\"30px\" alt=\"LinkedIn\"></a><a href=\"https://www.facebook.com/iHumai\"><img src=\"https://ihum.ai/static/icons/facebook.png\" width=\"30px\" alt=\"FB\"></a>"
      ],
      "metadata": {
        "id": "-57BTGRzXd3q"
      }
    }
  ]
}