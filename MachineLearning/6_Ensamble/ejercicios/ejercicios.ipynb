{
  "cells": [
    {
      "cell_type": "markdown",
      "metadata": {},
      "source": [
        "<a href=\"https://colab.research.google.com/github/institutohumai/cursos-python/blob/master/MachineLearning/6_Ensamble/ejercicios/ejercicios.ipynb\"> <img src='https://colab.research.google.com/assets/colab-badge.svg' /> </a>"
      ]
    },
    {
      "cell_type": "markdown",
      "metadata": {
        "id": "28R3qlO5IsKR"
      },
      "source": [
        "# Práctica Ensambles I\n",
        "\n",
        "## Consignas\n",
        "El objetivo de esta práctica es comparar la performance de diferentes clasificadores basados en ensamble learning y un clasificador simple (árbol de decisión, regresión logística u otros).\n",
        "\n",
        "**1. Cargamos los paquetes a utilizar**\n"
      ]
    },
    {
      "cell_type": "code",
      "execution_count": null,
      "metadata": {
        "id": "kNlndivZ2wL1"
      },
      "outputs": [],
      "source": [
        "from sklearn.ensemble import RandomForestClassifier, ExtraTreesClassifier, AdaBoostClassifier, GradientBoostingClassifier\n",
        "from sklearn.model_selection import train_test_split\n",
        "from sklearn.svm import LinearSVC\n",
        "from sklearn.neural_network import MLPClassifier\n",
        "from sklearn.linear_model import LogisticRegression\n",
        "from sklearn.preprocessing import StandardScaler\n",
        "from sklearn.tree import DecisionTreeClassifier\n",
        "from sklearn.datasets import fetch_openml\n",
        "import numpy as np\n",
        "from matplotlib import pyplot as plt"
      ]
    },
    {
      "cell_type": "markdown",
      "metadata": {
        "id": "h_5Uhr7TJsYI"
      },
      "source": [
        "**2. Importamos el dataset mnist**"
      ]
    },
    {
      "cell_type": "code",
      "execution_count": null,
      "metadata": {
        "id": "oDijUpkd3R14"
      },
      "outputs": [],
      "source": [
        "mnist = fetch_openml('mnist_784', version=1, as_frame=False)\n",
        "mnist.target = mnist.target.astype(np.uint8)"
      ]
    },
    {
      "cell_type": "markdown",
      "metadata": {
        "id": "BsCfgaPKMS1_"
      },
      "source": [
        "Se trata de un dataset de digitos escritos a mano. \n",
        "\n",
        "Los dígitos se normalizaron en tamaño y se centraron en una imagen de tamaño fijo. Es una buena base de datos para las personas que desean probar técnicas de aprendizaje y métodos de reconocimiento de patrones en datos del mundo real mientras dedican un esfuerzo mínimo al preprocesamiento y formateo. \n",
        "\n",
        "Las imágenes originales en blanco y negro (dos niveles) del NIST se normalizaron en tamaño para que cupieran en un cuadro de 20 x 20 píxeles conservando su relación de aspecto. \n",
        "\n",
        "Las imágenes resultantes contienen niveles de gris como resultado de la técnica de suavizado utilizada por el algoritmo de normalización. las imágenes se centraron en una imagen de 28x28 calculando el centro de masa de los píxeles y traduciendo la imagen para posicionar este punto en el centro del campo de 28x28."
      ]
    },
    {
      "cell_type": "code",
      "execution_count": null,
      "metadata": {
        "colab": {
          "base_uri": "https://localhost:8080/",
          "height": 353
        },
        "id": "D-s7o6xyKC7G",
        "outputId": "cc29a62c-2cd7-4149-ee72-a50a2b50e77e"
      },
      "outputs": [
        {
          "data": {
            "image/png": "[encoded data removed]",
            "text/plain": [
              "<Figure size 432x288 with 1 Axes>"
            ]
          },
          "metadata": {
            "needs_background": "light"
          },
          "output_type": "display_data"
        },
        {
          "data": {
            "image/png": "[encoded data removed]",
            "text/plain": [
              "<Figure size 432x288 with 1 Axes>"
            ]
          },
          "metadata": {
            "needs_background": "light"
          },
          "output_type": "display_data"
        },
        {
          "data": {
            "image/png": "[encoded data removed]",
            "text/plain": [
              "<Figure size 432x288 with 1 Axes>"
            ]
          },
          "metadata": {
            "needs_background": "light"
          },
          "output_type": "display_data"
        }
      ],
      "source": [
        "for i in range(0,3):\n",
        "  plt.subplot(130 + 1 + i)\n",
        "  d = np.array(mnist.data[i,:]).reshape(28, 28)\n",
        "  plt.imshow(d, cmap=plt.get_cmap('gray'))\n",
        "  plt.axis('off')\n",
        "  plt.show()"
      ]
    },
    {
      "cell_type": "markdown",
      "metadata": {
        "id": "8mTqX7MaKBQu"
      },
      "source": [
        "**3. Dividimos en train y test**"
      ]
    },
    {
      "cell_type": "code",
      "execution_count": null,
      "metadata": {
        "id": "QH7e-WdG3fH1"
      },
      "outputs": [],
      "source": [
        "X_train, X_test, y_train, y_test = train_test_split(\n",
        "        mnist.data, mnist.target, test_size=10000, random_state=42)"
      ]
    },
    {
      "cell_type": "markdown",
      "metadata": {
        "id": "VvBtA4_RNVZD"
      },
      "source": [
        ">> ¿Qué forma/dimensión tienen los datos?"
      ]
    },
    {
      "cell_type": "markdown",
      "metadata": {
        "id": "q0u66DD_NBiX"
      },
      "source": [
        "**4. Instanciamos los clasificadores**"
      ]
    },
    {
      "cell_type": "code",
      "execution_count": null,
      "metadata": {
        "id": "VLc9E5OD34t9"
      },
      "outputs": [],
      "source": [
        "random_forest_clf = RandomForestClassifier(n_estimators=100, random_state=42)\n",
        "extra_trees_clf = ExtraTreesClassifier(n_estimators=100, random_state=42)\n",
        "svm_clf = LinearSVC(max_iter=100, tol=20, random_state=42)\n",
        "tree_clf = DecisionTreeClassifier(random_state=42)\n",
        "adboost_clf = AdaBoostClassifier(random_state=42)"
      ]
    },
    {
      "cell_type": "markdown",
      "metadata": {
        "id": "zZIiKa5oNChh"
      },
      "source": [
        "**5. Hacemos el entrenamiento de cada uno de los modelos elegidos**"
      ]
    },
    {
      "cell_type": "code",
      "execution_count": null,
      "metadata": {
        "colab": {
          "base_uri": "https://localhost:8080/"
        },
        "id": "49FsJQvt4ABj",
        "outputId": "72bc8d93-61a8-4e57-9f68-9cf3c2051739"
      },
      "outputs": [
        {
          "name": "stdout",
          "output_type": "stream",
          "text": [
            "Training the DecisionTreeClassifier(random_state=42)\n",
            "Training the LinearSVC(max_iter=100, random_state=42, tol=20)\n",
            "Training the RandomForestClassifier(random_state=42)\n",
            "Training the ExtraTreesClassifier(random_state=42)\n",
            "Training the AdaBoostClassifier(random_state=42)\n"
          ]
        }
      ],
      "source": [
        "estimators = [tree_clf, svm_clf, random_forest_clf, extra_trees_clf, adboost_clf]\n",
        "for estimator in estimators:\n",
        "    print(\"Training the\", estimator)\n",
        "    estimator.fit(X_train, y_train)"
      ]
    },
    {
      "cell_type": "markdown",
      "metadata": {
        "id": "KKzP-jggNmzW"
      },
      "source": [
        "**6. Evaluamos los resultados**\n",
        "\n",
        "> ¿Cuál sería la métrica más adecuada para evaluar estos modelos?\n",
        "\n",
        "> ¿Cuál es el mejor modelo?\n",
        "\n",
        "> ¿Qué diferencias ven entre los clasificadores?\n"
      ]
    },
    {
      "cell_type": "markdown",
      "metadata": {
        "id": "cj0KvuXhvqs9"
      },
      "source": [
        "Una solución rápida para revisar la performance global..."
      ]
    },
    {
      "cell_type": "code",
      "execution_count": null,
      "metadata": {
        "colab": {
          "base_uri": "https://localhost:8080/"
        },
        "id": "7SgpUSK54GRT",
        "outputId": "5d2c921b-6702-4f44-9ba9-187a03442612"
      },
      "outputs": [
        {
          "data": {
            "text/plain": [
              "[{'DecisionTreeClassifier': 0.8703},\n",
              " {'LinearSVC': 0.8416},\n",
              " {'RandomForestClassifier': 0.9674},\n",
              " {'ExtraTreesClassifier': 0.9682},\n",
              " {'AdaBoostClassifier': 0.7331}]"
            ]
          },
          "execution_count": 9,
          "metadata": {},
          "output_type": "execute_result"
        }
      ],
      "source": [
        "[{(estimator.__class__.__name__):estimator.score(X_test, y_test)} for estimator in estimators]"
      ]
    },
    {
      "cell_type": "markdown",
      "metadata": {
        "id": "GDg5-u8YE3w1"
      },
      "source": [
        "Una solución rápida para revisar la performance por cada clase..."
      ]
    },
    {
      "cell_type": "code",
      "execution_count": null,
      "metadata": {
        "id": "AMAv8fd5SKES"
      },
      "outputs": [],
      "source": [
        "from sklearn.metrics import f1_score, precision_score, recall_score, classification_report\n",
        "import pandas as pd"
      ]
    },
    {
      "cell_type": "code",
      "execution_count": null,
      "metadata": {
        "colab": {
          "base_uri": "https://localhost:8080/"
        },
        "id": "tybSWA8U4Lhm",
        "outputId": "ff4ae2e7-cbbc-439d-a6e9-fddaa0d89ad4"
      },
      "outputs": [
        {
          "name": "stdout",
          "output_type": "stream",
          "text": [
            "DecisionTreeClassifier\n",
            "              precision    recall  f1-score   support\n",
            "\n",
            "           0       0.92      0.93      0.92       974\n",
            "           1       0.96      0.95      0.95      1172\n",
            "           2       0.85      0.82      0.84       998\n",
            "           3       0.83      0.83      0.83      1035\n",
            "           4       0.86      0.86      0.86       912\n",
            "           5       0.81      0.83      0.82       920\n",
            "           6       0.90      0.89      0.90       973\n",
            "           7       0.91      0.91      0.91      1051\n",
            "           8       0.78      0.82      0.80       927\n",
            "           9       0.85      0.85      0.85      1038\n",
            "\n",
            "    accuracy                           0.87     10000\n",
            "   macro avg       0.87      0.87      0.87     10000\n",
            "weighted avg       0.87      0.87      0.87     10000\n",
            "\n",
            "LinearSVC\n",
            "              precision    recall  f1-score   support\n",
            "\n",
            "           0       0.96      0.91      0.93      1045\n",
            "           1       0.98      0.88      0.93      1276\n",
            "           2       0.81      0.87      0.84       907\n",
            "           3       0.78      0.91      0.84       881\n",
            "           4       0.82      0.93      0.87       801\n",
            "           5       0.78      0.81      0.79       903\n",
            "           6       0.96      0.86      0.91      1068\n",
            "           7       0.94      0.74      0.83      1338\n",
            "           8       0.83      0.69      0.75      1167\n",
            "           9       0.55      0.93      0.69       614\n",
            "\n",
            "    accuracy                           0.84     10000\n",
            "   macro avg       0.84      0.85      0.84     10000\n",
            "weighted avg       0.86      0.84      0.84     10000\n",
            "\n",
            "RandomForestClassifier\n",
            "              precision    recall  f1-score   support\n",
            "\n",
            "           0       0.98      0.98      0.98       984\n",
            "           1       0.99      0.99      0.99      1152\n",
            "           2       0.97      0.94      0.96       998\n",
            "           3       0.95      0.96      0.95      1026\n",
            "           4       0.97      0.96      0.97       916\n",
            "           5       0.96      0.98      0.97       922\n",
            "           6       0.99      0.98      0.98       967\n",
            "           7       0.97      0.97      0.97      1051\n",
            "           8       0.95      0.96      0.96       963\n",
            "           9       0.94      0.96      0.95      1021\n",
            "\n",
            "    accuracy                           0.97     10000\n",
            "   macro avg       0.97      0.97      0.97     10000\n",
            "weighted avg       0.97      0.97      0.97     10000\n",
            "\n",
            "ExtraTreesClassifier\n",
            "              precision    recall  f1-score   support\n",
            "\n",
            "           0       0.99      0.99      0.99       980\n",
            "           1       0.99      0.98      0.99      1155\n",
            "           2       0.97      0.95      0.96       995\n",
            "           3       0.95      0.95      0.95      1036\n",
            "           4       0.97      0.97      0.97       906\n",
            "           5       0.96      0.98      0.97       921\n",
            "           6       0.99      0.98      0.98       968\n",
            "           7       0.97      0.97      0.97      1053\n",
            "           8       0.95      0.96      0.95       959\n",
            "           9       0.95      0.96      0.96      1027\n",
            "\n",
            "    accuracy                           0.97     10000\n",
            "   macro avg       0.97      0.97      0.97     10000\n",
            "weighted avg       0.97      0.97      0.97     10000\n",
            "\n",
            "AdaBoostClassifier\n",
            "              precision    recall  f1-score   support\n",
            "\n",
            "           0       0.87      0.84      0.86      1012\n",
            "           1       0.93      0.89      0.91      1212\n",
            "           2       0.51      0.72      0.59       684\n",
            "           3       0.72      0.65      0.69      1146\n",
            "           4       0.75      0.72      0.74       938\n",
            "           5       0.58      0.67      0.62       812\n",
            "           6       0.88      0.67      0.76      1253\n",
            "           7       0.73      0.77      0.75      1006\n",
            "           8       0.65      0.69      0.67       918\n",
            "           9       0.67      0.68      0.68      1019\n",
            "\n",
            "    accuracy                           0.73     10000\n",
            "   macro avg       0.73      0.73      0.73     10000\n",
            "weighted avg       0.75      0.73      0.74     10000\n",
            "\n"
          ]
        }
      ],
      "source": [
        "reports = []\n",
        "for estimator in estimators:\n",
        "  y_test_pred = estimator.predict(X_test)\n",
        "  print(estimator.__class__.__name__)\n",
        "  print(classification_report(y_test_pred, y_test))"
      ]
    },
    {
      "cell_type": "markdown",
      "metadata": {
        "id": "MDUGe6igv0q2"
      },
      "source": [
        "Una solución más bonita para poder graficar y que quede todo más prolijo..."
      ]
    },
    {
      "cell_type": "code",
      "execution_count": null,
      "metadata": {
        "id": "3YB4VPU9SKUH"
      },
      "outputs": [],
      "source": [
        "def get_tidy_classification_report(estimator_list, X, y):\n",
        "  \n",
        "  reports = pd.DataFrame()\n",
        "  \n",
        "  for estimator in estimator_list:\n",
        "    y_test_pred = estimator.predict(X)\n",
        "    re = classification_report(y_test_pred, y, output_dict=True)\n",
        "    re.update({'classifier': estimator.__class__.__name__})\n",
        "    re = pd.DataFrame(re)\n",
        "    re.reset_index(inplace=True)\n",
        "    re = re.rename(columns = {'index':'metric'})\n",
        "    reports = reports.append(re, ignore_index = True)\n",
        "\n",
        "  reports = pd.melt(reports, id_vars=['classifier', 'metric'], value_vars=re.columns[1:14],\n",
        "                    var_name='class_label')\n",
        "  return(reports)"
      ]
    },
    {
      "cell_type": "code",
      "execution_count": null,
      "metadata": {
        "colab": {
          "base_uri": "https://localhost:8080/",
          "height": 206
        },
        "id": "iQsxdEafnXTI",
        "outputId": "86b475e2-4965-4683-d855-732ff9a53dc9"
      },
      "outputs": [
        {
          "data": {
            "text/html": [
              "\n",
              "  <div id=\"df-b5976fca-2f5f-404f-8e80-2f968311d85c\">\n",
              "    <div class=\"colab-df-container\">\n",
              "      <div>\n",
              "<style scoped>\n",
              "    .dataframe tbody tr th:only-of-type {\n",
              "        vertical-align: middle;\n",
              "    }\n",
              "\n",
              "    .dataframe tbody tr th {\n",
              "        vertical-align: top;\n",
              "    }\n",
              "\n",
              "    .dataframe thead th {\n",
              "        text-align: right;\n",
              "    }\n",
              "</style>\n",
              "<table border=\"1\" class=\"dataframe\">\n",
              "  <thead>\n",
              "    <tr style=\"text-align: right;\">\n",
              "      <th></th>\n",
              "      <th>classifier</th>\n",
              "      <th>metric</th>\n",
              "      <th>class_label</th>\n",
              "      <th>value</th>\n",
              "    </tr>\n",
              "  </thead>\n",
              "  <tbody>\n",
              "    <tr>\n",
              "      <th>0</th>\n",
              "      <td>DecisionTreeClassifier</td>\n",
              "      <td>precision</td>\n",
              "      <td>0</td>\n",
              "      <td>0.919634</td>\n",
              "    </tr>\n",
              "    <tr>\n",
              "      <th>1</th>\n",
              "      <td>DecisionTreeClassifier</td>\n",
              "      <td>recall</td>\n",
              "      <td>0</td>\n",
              "      <td>0.928131</td>\n",
              "    </tr>\n",
              "    <tr>\n",
              "      <th>2</th>\n",
              "      <td>DecisionTreeClassifier</td>\n",
              "      <td>f1-score</td>\n",
              "      <td>0</td>\n",
              "      <td>0.923863</td>\n",
              "    </tr>\n",
              "    <tr>\n",
              "      <th>3</th>\n",
              "      <td>DecisionTreeClassifier</td>\n",
              "      <td>support</td>\n",
              "      <td>0</td>\n",
              "      <td>974.000000</td>\n",
              "    </tr>\n",
              "    <tr>\n",
              "      <th>4</th>\n",
              "      <td>LinearSVC</td>\n",
              "      <td>precision</td>\n",
              "      <td>0</td>\n",
              "      <td>0.963377</td>\n",
              "    </tr>\n",
              "  </tbody>\n",
              "</table>\n",
              "</div>\n",
              "      <button class=\"colab-df-convert\" onclick=\"convertToInteractive('df-b5976fca-2f5f-404f-8e80-2f968311d85c')\"\n",
              "              title=\"Convert this dataframe to an interactive table.\"\n",
              "              style=\"display:none;\">\n",
              "        \n",
              "  <svg xmlns=\"http://www.w3.org/2000/svg\" height=\"24px\"viewBox=\"0 0 24 24\"\n",
              "       width=\"24px\">\n",
              "    <path d=\"M0 0h24v24H0V0z\" fill=\"none\"/>\n",
              "    <path d=\"M18.56 5.44l.94 2.06.94-2.06 2.06-.94-2.06-.94-.94-2.06-.94 2.06-2.06.94zm-11 1L8.5 8.5l.94-2.06 2.06-.94-2.06-.94L8.5 2.5l-.94 2.06-2.06.94zm10 10l.94 2.06.94-2.06 2.06-.94-2.06-.94-.94-2.06-.94 2.06-2.06.94z\"/><path d=\"M17.41 7.96l-1.37-1.37c-.4-.4-.92-.59-1.43-.59-.52 0-1.04.2-1.43.59L10.3 9.45l-7.72 7.72c-.78.78-.78 2.05 0 2.83L4 21.41c.39.39.9.59 1.41.59.51 0 1.02-.2 1.41-.59l7.78-7.78 2.81-2.81c.8-.78.8-2.07 0-2.86zM5.41 20L4 18.59l7.72-7.72 1.47 1.35L5.41 20z\"/>\n",
              "  </svg>\n",
              "      </button>\n",
              "      \n",
              "  <style>\n",
              "    .colab-df-container {\n",
              "      display:flex;\n",
              "      flex-wrap:wrap;\n",
              "      gap: 12px;\n",
              "    }\n",
              "\n",
              "    .colab-df-convert {\n",
              "      background-color: #E8F0FE;\n",
              "      border: none;\n",
              "      border-radius: 50%;\n",
              "      cursor: pointer;\n",
              "      display: none;\n",
              "      fill: #1967D2;\n",
              "      height: 32px;\n",
              "      padding: 0 0 0 0;\n",
              "      width: 32px;\n",
              "    }\n",
              "\n",
              "    .colab-df-convert:hover {\n",
              "      background-color: #E2EBFA;\n",
              "      box-shadow: 0px 1px 2px rgba(60, 64, 67, 0.3), 0px 1px 3px 1px rgba(60, 64, 67, 0.15);\n",
              "      fill: #174EA6;\n",
              "    }\n",
              "\n",
              "    [theme=dark] .colab-df-convert {\n",
              "      background-color: #3B4455;\n",
              "      fill: #D2E3FC;\n",
              "    }\n",
              "\n",
              "    [theme=dark] .colab-df-convert:hover {\n",
              "      background-color: #434B5C;\n",
              "      box-shadow: 0px 1px 3px 1px rgba(0, 0, 0, 0.15);\n",
              "      filter: drop-shadow(0px 1px 2px rgba(0, 0, 0, 0.3));\n",
              "      fill: #FFFFFF;\n",
              "    }\n",
              "  </style>\n",
              "\n",
              "      <script>\n",
              "        const buttonEl =\n",
              "          document.querySelector('#df-b5976fca-2f5f-404f-8e80-2f968311d85c button.colab-df-convert');\n",
              "        buttonEl.style.display =\n",
              "          google.colab.kernel.accessAllowed ? 'block' : 'none';\n",
              "\n",
              "        async function convertToInteractive(key) {\n",
              "          const element = document.querySelector('#df-b5976fca-2f5f-404f-8e80-2f968311d85c');\n",
              "          const dataTable =\n",
              "            await google.colab.kernel.invokeFunction('convertToInteractive',\n",
              "                                                     [key], {});\n",
              "          if (!dataTable) return;\n",
              "\n",
              "          const docLinkHtml = 'Like what you see? Visit the ' +\n",
              "            '<a target=\"_blank\" href=https://colab.research.google.com/notebooks/data_table.ipynb>data table notebook</a>'\n",
              "            + ' to learn more about interactive tables.';\n",
              "          element.innerHTML = '';\n",
              "          dataTable['output_type'] = 'display_data';\n",
              "          await google.colab.output.renderOutput(dataTable, element);\n",
              "          const docLink = document.createElement('div');\n",
              "          docLink.innerHTML = docLinkHtml;\n",
              "          element.appendChild(docLink);\n",
              "        }\n",
              "      </script>\n",
              "    </div>\n",
              "  </div>\n",
              "  "
            ],
            "text/plain": [
              "               classifier     metric class_label       value\n",
              "0  DecisionTreeClassifier  precision           0    0.919634\n",
              "1  DecisionTreeClassifier     recall           0    0.928131\n",
              "2  DecisionTreeClassifier   f1-score           0    0.923863\n",
              "3  DecisionTreeClassifier    support           0  974.000000\n",
              "4               LinearSVC  precision           0    0.963377"
            ]
          },
          "execution_count": 13,
          "metadata": {},
          "output_type": "execute_result"
        }
      ],
      "source": [
        "class_reports = get_tidy_classification_report(estimator_list=estimators,\n",
        "                                                X=X_test,\n",
        "                                                y=y_test)\n",
        "\n",
        "class_reports.head()"
      ]
    },
    {
      "cell_type": "code",
      "execution_count": null,
      "metadata": {
        "colab": {
          "base_uri": "https://localhost:8080/",
          "height": 405
        },
        "id": "EL5KO5byoaXa",
        "outputId": "603a7a36-1030-4f68-a09d-c7da2870d184"
      },
      "outputs": [
        {
          "data": {
            "text/plain": [
              "<seaborn.axisgrid.FacetGrid at 0x7f04e06ec450>"
            ]
          },
          "execution_count": 15,
          "metadata": {},
          "output_type": "execute_result"
        },
        {
          "data": {
            "text/plain": [
              "<Figure size 1080x576 with 0 Axes>"
            ]
          },
          "metadata": {},
          "output_type": "display_data"
        },
        {
          "data": {
            "image/png": "[encoded data removed]",
            "text/plain": [
              "<Figure size 1233.62x360 with 3 Axes>"
            ]
          },
          "metadata": {},
          "output_type": "display_data"
        }
      ],
      "source": [
        "import seaborn as sns\n",
        "plt.figure(figsize=(15,8))\n",
        "\n",
        "sns.set_style(style='white') \n",
        "\n",
        "g = sns.relplot(\n",
        "    data=class_reports[(class_reports['metric']!='support') & ~(class_reports['class_label'].isin(['weighted avg', 'macro avg', 'accuracy']))], # Filtramos las métricas agregadas\n",
        "    x=\"class_label\", y=\"value\", col=\"metric\", hue=\"classifier\",\n",
        "    kind=\"line\", palette=\"tab10\", linewidth=4, zorder=5,\n",
        "    col_wrap=3,legend=True,\n",
        ");\n",
        "\n",
        "g"
      ]
    },
    {
      "cell_type": "markdown",
      "metadata": {
        "id": "MLyGTuhwOJBx"
      },
      "source": [
        "**7. Mejorando los resultados?**\n",
        "\n",
        "> ¿Qué podría hacerse para mejorar la performance de los diferentes modelos?\n",
        "\n",
        "> ¿Cuál es el modelo que podría tunearse de forma mpas efectiva?  Avanzar en el tuneo de los hiperparámetros del mismo"
      ]
    },
    {
      "cell_type": "code",
      "execution_count": null,
      "metadata": {
        "colab": {
          "base_uri": "https://localhost:8080/"
        },
        "id": "wzi3TOMfOnW1",
        "outputId": "017d4e20-9491-4c1a-8c67-41fd901d92ce"
      },
      "outputs": [
        {
          "name": "stdout",
          "output_type": "stream",
          "text": [
            "Fitting 2 folds for each of 8 candidates, totalling 16 fits\n"
          ]
        },
        {
          "name": "stderr",
          "output_type": "stream",
          "text": [
            "/usr/local/lib/python3.7/dist-packages/sklearn/model_selection/_search.py:972: UserWarning: One or more of the test scores are non-finite: [nan nan nan nan nan nan nan nan]\n",
            "  category=UserWarning,\n"
          ]
        },
        {
          "name": "stdout",
          "output_type": "stream",
          "text": [
            "CPU times: user 2min 52s, sys: 3.1 s, total: 2min 55s\n",
            "Wall time: 51min 27s\n"
          ]
        }
      ],
      "source": [
        "## No correr ahora porque tarda mucho\n",
        "from sklearn.model_selection import StratifiedKFold, GridSearchCV, RandomizedSearchCV\n",
        "\n",
        "\n",
        "# Definimos la grilla de valores sobre los que vamos a buscar\n",
        "grid = dict()\n",
        "grid['n_estimators'] = [100, 250, 500]\n",
        "grid['learning_rate'] = [0.0001, 0.001 0.01, 0.1, 1.0]\n",
        "\n",
        "# Seteamos el modo de evaluación\n",
        "cv = StratifiedKFold(n_splits=5, random_state=1, shuffle=True)\n",
        "\n",
        "# Definimos el proceso de búsqueda (en este caso, exhaustivo)\n",
        "grid_search = GridSearchCV(estimator=adboost_clf, \n",
        "                           param_grid=grid, \n",
        "                           n_jobs=-1, \n",
        "                           cv=cv, \n",
        "                           scoring='f1',\n",
        "                           verbose=1)\n",
        "\n",
        "# Ejecutamos la búsqueda\n",
        "grid_result = grid_search.fit(X_train, y_train)"
      ]
    }
  ],
  "metadata": {
    "colab": {
      "collapsed_sections": [],
      "name": "Practica_independiente_Solution.ipynb",
      "provenance": []
    },
    "kernelspec": {
      "display_name": "Python 3",
      "name": "python3"
    },
    "language_info": {
      "name": "python"
    }
  },
  "nbformat": 4,
  "nbformat_minor": 0
}
