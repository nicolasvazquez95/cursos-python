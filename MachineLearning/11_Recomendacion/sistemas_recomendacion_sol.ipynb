{
 "cells": [
  {
   "cell_type": "markdown",
   "metadata": {
    "id": "lVyEa-VZHBkc"
   },
   "source": [
    "# Sistemas de Recomendación"
   ]
  },
  {
   "cell_type": "markdown",
   "metadata": {},
   "source": [
    "<div align=\"center\"><a href=\"https://colab.research.google.com/github/institutohumai/cursos-python/blob/master/MachineLearning/11_Recomendacion/sistemas_recomendacion_sol.ipynb\"> <img src='https://colab.research.google.com/assets/colab-badge.svg'/> </a> <br> Recordá abrir en una nueva pestaña </div>"
   ]
  },
  {
   "cell_type": "code",
   "execution_count": 1,
   "metadata": {
    "executionInfo": {
     "elapsed": 6,
     "status": "ok",
     "timestamp": 1631879732853,
     "user": {
      "displayName": "Leonardo Cordoba",
      "photoUrl": "https://lh3.googleusercontent.com/a/default-user=s64",
      "userId": "00295365646100838500"
     },
     "user_tz": 180
    },
    "id": "QjZzwtiVHC2o"
   },
   "outputs": [],
   "source": [
    "import pandas as pd\n",
    "import numpy as np"
   ]
  },
  {
   "cell_type": "markdown",
   "metadata": {
    "id": "lDdCuUc-HFVc"
   },
   "source": [
    "## Similitud coseno\n",
    "\n",
    "$$sim(\\pmb x, \\pmb y) = \\frac {\\pmb x \\cdot \\pmb y}{||\\pmb x|| \\cdot ||\\pmb y||}$$\n",
    "\n",
    "¿Cómo calcularla en Python?\n",
    "\n",
    "Supongamos que tenemos la siguiente matriz:\n",
    "\n",
    "|  \t| Libro A \t| Libro B \t| Libro C \t|\n",
    "|-------\t|---------\t|---------\t|---------\t|\n",
    "| Juan \t| 5 \t| 4 \t| 4 \t|\n",
    "| Diego \t| 4 \t| 5 \t| 5 \t|\n",
    "\n",
    "\n",
    "Podemos calcular la similitud coseno empleando sklearn:"
   ]
  },
  {
   "cell_type": "code",
   "execution_count": 2,
   "metadata": {
    "colab": {
     "base_uri": "https://localhost:8080/"
    },
    "executionInfo": {
     "elapsed": 1200,
     "status": "ok",
     "timestamp": 1631879734048,
     "user": {
      "displayName": "Leonardo Cordoba",
      "photoUrl": "https://lh3.googleusercontent.com/a/default-user=s64",
      "userId": "00295365646100838500"
     },
     "user_tz": 180
    },
    "id": "bBz04zsD-8F7",
    "outputId": "467b8838-d8eb-4570-af8e-b4734e3d78a1"
   },
   "outputs": [
    {
     "data": {
      "text/plain": [
       "array([[1.        , 0.97823198],\n",
       "       [0.97823198, 1.        ]])"
      ]
     },
     "execution_count": 2,
     "metadata": {},
     "output_type": "execute_result"
    }
   ],
   "source": [
    "from sklearn.metrics.pairwise import cosine_similarity\n",
    "Juan = [5,4,4]\n",
    "Diego = [4,5,5]\n",
    "cosine_similarity([Juan, Diego])"
   ]
  },
  {
   "cell_type": "markdown",
   "metadata": {
    "id": "5x0cVhgjHIyH"
   },
   "source": [
    "También podemos calcular la similitud a mano:"
   ]
  },
  {
   "cell_type": "code",
   "execution_count": null,
   "metadata": {
    "colab": {
     "base_uri": "https://localhost:8080/"
    },
    "executionInfo": {
     "elapsed": 12,
     "status": "ok",
     "timestamp": 1631859032832,
     "user": {
      "displayName": "Matías Grinberg",
      "photoUrl": "https://lh3.googleusercontent.com/a/default-user=s64",
      "userId": "14116156229443883163"
     },
     "user_tz": 180
    },
    "id": "eShcK8FWHGvO",
    "outputId": "5692fef8-7f73-45af-a3ec-2afd2a2cc453"
   },
   "outputs": [
    {
     "data": {
      "text/plain": [
       "0.9782319760890369"
      ]
     },
     "execution_count": 3,
     "metadata": {},
     "output_type": "execute_result"
    }
   ],
   "source": [
    "(5*4 + 4*5 + 4*5)/(np.sqrt(5**2+4**2+4**2)*np.sqrt(4**2+5**2+5**2))"
   ]
  },
  {
   "cell_type": "markdown",
   "metadata": {
    "id": "u5IhuB1oHL4c"
   },
   "source": [
    "O empleando Numpy"
   ]
  },
  {
   "cell_type": "markdown",
   "metadata": {
    "id": "EqtKORcEHNUB"
   },
   "source": [
    "Calcular la similitud coseno usando numpy (con np.dot y np.linalg.norm)"
   ]
  },
  {
   "cell_type": "code",
   "execution_count": null,
   "metadata": {
    "colab": {
     "base_uri": "https://localhost:8080/"
    },
    "executionInfo": {
     "elapsed": 10,
     "status": "ok",
     "timestamp": 1631859032832,
     "user": {
      "displayName": "Matías Grinberg",
      "photoUrl": "https://lh3.googleusercontent.com/a/default-user=s64",
      "userId": "14116156229443883163"
     },
     "user_tz": 180
    },
    "id": "jDaFAUXEHGxY",
    "outputId": "84702cc9-9564-4b07-fb8f-b3cd770ed554"
   },
   "outputs": [
    {
     "data": {
      "text/plain": [
       "0.9782319760890369"
      ]
     },
     "execution_count": 4,
     "metadata": {},
     "output_type": "execute_result"
    }
   ],
   "source": [
    "np.dot(Juan,Diego)/np.dot(np.linalg.norm(Juan), np.linalg.norm(Diego))"
   ]
  },
  {
   "cell_type": "markdown",
   "metadata": {
    "id": "_WpFW_ptHQLE"
   },
   "source": [
    "Ahora bien, cuando tenemos una matriz user-item de la vida real, tenemos muchos casos faltantes. En esta situación, no podremos calcular la similitud coseno tan fácilmente... "
   ]
  },
  {
   "cell_type": "code",
   "execution_count": null,
   "metadata": {
    "colab": {
     "base_uri": "https://localhost:8080/"
    },
    "executionInfo": {
     "elapsed": 7,
     "status": "ok",
     "timestamp": 1631859032832,
     "user": {
      "displayName": "Matías Grinberg",
      "photoUrl": "https://lh3.googleusercontent.com/a/default-user=s64",
      "userId": "14116156229443883163"
     },
     "user_tz": 180
    },
    "id": "cAbQ0-haHO4j",
    "outputId": "81737e97-4248-4f8f-82e0-eadec4d89b8d"
   },
   "outputs": [
    {
     "data": {
      "text/plain": [
       "array([[ 5., nan,  4.],\n",
       "       [ 4.,  3.,  5.],\n",
       "       [ 4.,  5.,  5.],\n",
       "       [nan,  5., nan],\n",
       "       [nan,  5.,  3.]])"
      ]
     },
     "execution_count": 5,
     "metadata": {},
     "output_type": "execute_result"
    }
   ],
   "source": [
    "user_item = np.array([[5, np.nan, 4],[4,3,5],[4,5,5],[np.nan, 5, np.nan], [np.nan, 5, 3]])\n",
    "user_item"
   ]
  },
  {
   "cell_type": "markdown",
   "metadata": {
    "id": "KKvEn5JwHUz7"
   },
   "source": [
    "## Surprise\n",
    "\n",
    "En esta notebook vamos a emplear la librería surprise. Esta es una librería que se basa en la API de scikit-learn y permite implementar varios algoritmos básicos de recomendación."
   ]
  },
  {
   "cell_type": "markdown",
   "metadata": {
    "id": "HDGfsEZrHXuo"
   },
   "source": [
    "Comencemos cargando un dataset clásico en sistemas de recomendación: MovieLens (https://movielens.org/). Esta es una página de recomendación de películas que abrió información histórica. "
   ]
  },
  {
   "cell_type": "code",
   "execution_count": null,
   "metadata": {
    "colab": {
     "base_uri": "https://localhost:8080/"
    },
    "executionInfo": {
     "elapsed": 32473,
     "status": "ok",
     "timestamp": 1631859065300,
     "user": {
      "displayName": "Matías Grinberg",
      "photoUrl": "https://lh3.googleusercontent.com/a/default-user=s64",
      "userId": "14116156229443883163"
     },
     "user_tz": 180
    },
    "id": "nS9o7coRHY7B",
    "outputId": "58b7230c-5179-4f7a-dc00-07378206f122"
   },
   "outputs": [
    {
     "name": "stdout",
     "output_type": "stream",
     "text": [
      "Collecting surprise\n",
      "  Downloading surprise-0.1-py2.py3-none-any.whl (1.8 kB)\n",
      "Collecting scikit-surprise\n",
      "  Downloading scikit-surprise-1.1.1.tar.gz (11.8 MB)\n",
      "\u001b[K     |████████████████████████████████| 11.8 MB 52 kB/s \n",
      "\u001b[?25hRequirement already satisfied: joblib>=0.11 in /usr/local/lib/python3.7/dist-packages (from scikit-surprise->surprise) (1.0.1)\n",
      "Requirement already satisfied: numpy>=1.11.2 in /usr/local/lib/python3.7/dist-packages (from scikit-surprise->surprise) (1.19.5)\n",
      "Requirement already satisfied: scipy>=1.0.0 in /usr/local/lib/python3.7/dist-packages (from scikit-surprise->surprise) (1.4.1)\n",
      "Requirement already satisfied: six>=1.10.0 in /usr/local/lib/python3.7/dist-packages (from scikit-surprise->surprise) (1.15.0)\n",
      "Building wheels for collected packages: scikit-surprise\n",
      "  Building wheel for scikit-surprise (setup.py) ... \u001b[?25l\u001b[?25hdone\n",
      "  Created wheel for scikit-surprise: filename=scikit_surprise-1.1.1-cp37-cp37m-linux_x86_64.whl size=1619404 sha256=d07d43081912b3dceb73b2795cb4568ab4be0734c9e7d6d5e40b3ddb53d61181\n",
      "  Stored in directory: /root/.cache/pip/wheels/76/44/74/b498c42be47b2406bd27994e16c5188e337c657025ab400c1c\n",
      "Successfully built scikit-surprise\n",
      "Installing collected packages: scikit-surprise, surprise\n",
      "Successfully installed scikit-surprise-1.1.1 surprise-0.1\n",
      "--2021-09-17 06:11:04--  https://files.grouplens.org/datasets/movielens/ml-100k/u.data\n",
      "Resolving files.grouplens.org (files.grouplens.org)... 128.101.65.152\n",
      "Connecting to files.grouplens.org (files.grouplens.org)|128.101.65.152|:443... connected.\n",
      "HTTP request sent, awaiting response... 200 OK\n",
      "Length: 1979173 (1.9M)\n",
      "Saving to: ‘u.data’\n",
      "\n",
      "u.data              100%[===================>]   1.89M  --.-KB/s    in 0.1s    \n",
      "\n",
      "2021-09-17 06:11:04 (14.3 MB/s) - ‘u.data’ saved [1979173/1979173]\n",
      "\n",
      "--2021-09-17 06:11:04--  http://./\n",
      "Resolving . (.)... failed: No address associated with hostname.\n",
      "wget: unable to resolve host address ‘.’\n",
      "FINISHED --2021-09-17 06:11:04--\n",
      "Total wall clock time: 0.3s\n",
      "Downloaded: 1 files, 1.9M in 0.1s (14.3 MB/s)\n"
     ]
    }
   ],
   "source": [
    "!pip install surprise\n",
    "# Bajamos el dataset. En windows pueden descargarlo entrando al link manualmente\n",
    "!wget https://files.grouplens.org/datasets/movielens/ml-100k/u.data ."
   ]
  },
  {
   "cell_type": "code",
   "execution_count": null,
   "metadata": {
    "id": "upr4K6xdHTKs"
   },
   "outputs": [],
   "source": [
    "import pandas as pd"
   ]
  },
  {
   "cell_type": "code",
   "execution_count": null,
   "metadata": {
    "id": "LXsGZdW3HcO5"
   },
   "outputs": [],
   "source": [
    "mlens = pd.read_csv(\"u.data\",sep=\"\\t\",header=None)\n",
    "mlens.columns = [\"user_id\",\"item_id\",\"rating\",\"timestamp\"]"
   ]
  },
  {
   "cell_type": "code",
   "execution_count": null,
   "metadata": {
    "id": "2s79cYd-HcRU"
   },
   "outputs": [],
   "source": [
    "mlens = mlens.drop(\"timestamp\", axis=1)"
   ]
  },
  {
   "cell_type": "markdown",
   "metadata": {
    "id": "QKH6q03DHf7-"
   },
   "source": [
    "El paquete surprise no recibe directamente un objeto DataFrame sino que tiene para parsear y leer un conjunto de datos debe hacerlo a través de dos nuevos objetos: Reader y Dataset. En Reader debemos especificar el valor mínimo y el valor máximo de los ratings y Dataset nos permite leer datos desde distintas fuentes."
   ]
  },
  {
   "cell_type": "code",
   "execution_count": null,
   "metadata": {
    "id": "PWFx0PlDHcTh"
   },
   "outputs": [],
   "source": [
    "from surprise import Dataset, Reader\n",
    "reader = Reader(rating_scale=(mlens[\"rating\"].min(),mlens[\"rating\"].max()))"
   ]
  },
  {
   "cell_type": "code",
   "execution_count": null,
   "metadata": {
    "id": "ci2dBtFjHcV2"
   },
   "outputs": [],
   "source": [
    "dataset = Dataset.load_from_df(mlens,reader)"
   ]
  },
  {
   "cell_type": "code",
   "execution_count": null,
   "metadata": {
    "colab": {
     "base_uri": "https://localhost:8080/"
    },
    "executionInfo": {
     "elapsed": 7,
     "status": "ok",
     "timestamp": 1631859065660,
     "user": {
      "displayName": "Matías Grinberg",
      "photoUrl": "https://lh3.googleusercontent.com/a/default-user=s64",
      "userId": "14116156229443883163"
     },
     "user_tz": 180
    },
    "id": "zqFjIQG1HhpD",
    "outputId": "2cf80c81-2715-442d-e1d8-9f631d6d8d51"
   },
   "outputs": [
    {
     "data": {
      "text/plain": [
       "<surprise.dataset.DatasetAutoFolds at 0x7fcd9f5030d0>"
      ]
     },
     "execution_count": 12,
     "metadata": {},
     "output_type": "execute_result"
    }
   ],
   "source": [
    "dataset"
   ]
  },
  {
   "cell_type": "markdown",
   "metadata": {
    "id": "6cRkUQM1HjpH"
   },
   "source": [
    "Ahora cargue SVD y GridSearchCV, ambos de surprise. Nota: GridSearchCV no está en surprise.GridSearchCV, surprise.GridSearch está deprecado."
   ]
  },
  {
   "cell_type": "code",
   "execution_count": null,
   "metadata": {
    "id": "y6vJ1l67HhrV"
   },
   "outputs": [],
   "source": [
    "from surprise import SVD\n",
    "from surprise.model_selection import GridSearchCV"
   ]
  },
  {
   "cell_type": "markdown",
   "metadata": {
    "id": "l9rASOiaHlx0"
   },
   "source": [
    "Genere una grilla de parámetros donde se prueben distintas combinaciones de:  \n",
    "  - epochs: es la cantidad de pasadas sobre el dataset que hará el algoritmo empleando descenso por el gradiente  \n",
    "  - biased: usar parámetros de sesgo o no  \n",
    "  - lr_all: learning rate para todos los parámetros  \n",
    "  - reg_all: término de regularización para todos los parámetros (lambda)  "
   ]
  },
  {
   "cell_type": "code",
   "execution_count": null,
   "metadata": {
    "id": "l0b0EXhuHk2b"
   },
   "outputs": [],
   "source": [
    "param_grid = {'n_epochs': [5, 10], 'lr_all': [0.002, 0.005], 'reg_all': [0.4, 0.6]}"
   ]
  },
  {
   "cell_type": "markdown",
   "metadata": {
    "id": "p0ixlU6SHq1A"
   },
   "source": [
    "Emplee GridSearchCV, SVD y el diccionario con los parámetros para probar, y entrene un modelo. Note que a GridSearchCV necesita pasarle un modelo sin instanciar. Además, setee el parámetro refit a True y con measures = [\"rmse\",\"fcp\"]"
   ]
  },
  {
   "cell_type": "code",
   "execution_count": null,
   "metadata": {
    "id": "V7o5DBaRHnSl"
   },
   "outputs": [],
   "source": [
    "gs = GridSearchCV(SVD, param_grid, measures=['fcp',\"rmse\"], cv=3, refit=True)"
   ]
  },
  {
   "cell_type": "code",
   "execution_count": null,
   "metadata": {
    "id": "ONYXq-WvHsFc"
   },
   "outputs": [],
   "source": [
    "gs.fit(dataset)"
   ]
  },
  {
   "cell_type": "markdown",
   "metadata": {
    "id": "QyuSp5wDHt4C"
   },
   "source": [
    "Imprima el rmse y el fcp, y la mejor combinación de parámetros"
   ]
  },
  {
   "cell_type": "code",
   "execution_count": null,
   "metadata": {
    "colab": {
     "base_uri": "https://localhost:8080/"
    },
    "executionInfo": {
     "elapsed": 23,
     "status": "ok",
     "timestamp": 1631859129014,
     "user": {
      "displayName": "Matías Grinberg",
      "photoUrl": "https://lh3.googleusercontent.com/a/default-user=s64",
      "userId": "14116156229443883163"
     },
     "user_tz": 180
    },
    "id": "79Xy07GyHsIS",
    "outputId": "7e8c0baa-861e-414d-be06-b5938b0123a7"
   },
   "outputs": [
    {
     "data": {
      "text/plain": [
       "{'fcp': 0.6986854555890827, 'rmse': 0.9640319718211173}"
      ]
     },
     "execution_count": 17,
     "metadata": {},
     "output_type": "execute_result"
    }
   ],
   "source": [
    "gs.best_score"
   ]
  },
  {
   "cell_type": "code",
   "execution_count": null,
   "metadata": {
    "colab": {
     "base_uri": "https://localhost:8080/"
    },
    "executionInfo": {
     "elapsed": 17,
     "status": "ok",
     "timestamp": 1631859129015,
     "user": {
      "displayName": "Matías Grinberg",
      "photoUrl": "https://lh3.googleusercontent.com/a/default-user=s64",
      "userId": "14116156229443883163"
     },
     "user_tz": 180
    },
    "id": "ezZrFNPqHwS5",
    "outputId": "c0aebbf4-6771-481d-8425-362cf0ffde3c"
   },
   "outputs": [
    {
     "data": {
      "text/plain": [
       "{'fcp': {'lr_all': 0.005, 'n_epochs': 10, 'reg_all': 0.4},\n",
       " 'rmse': {'lr_all': 0.005, 'n_epochs': 10, 'reg_all': 0.4}}"
      ]
     },
     "execution_count": 18,
     "metadata": {},
     "output_type": "execute_result"
    }
   ],
   "source": [
    "gs.best_params"
   ]
  },
  {
   "cell_type": "markdown",
   "metadata": {
    "id": "AGIRLMlQHwZV"
   },
   "source": [
    "Guarde el modelo con mayor fcp y prediga el rating para el user id 196 e item id 242"
   ]
  },
  {
   "cell_type": "code",
   "execution_count": null,
   "metadata": {
    "id": "JlbNlPM8HweY"
   },
   "outputs": [],
   "source": [
    "best_model = gs.best_estimator[\"fcp\"]"
   ]
  },
  {
   "cell_type": "code",
   "execution_count": null,
   "metadata": {
    "id": "lx3-D3WpH1Dx"
   },
   "outputs": [],
   "source": [
    "pred = best_model.predict(\"196\", \"242\")"
   ]
  },
  {
   "cell_type": "code",
   "execution_count": null,
   "metadata": {
    "colab": {
     "base_uri": "https://localhost:8080/"
    },
    "executionInfo": {
     "elapsed": 14,
     "status": "ok",
     "timestamp": 1631859129015,
     "user": {
      "displayName": "Matías Grinberg",
      "photoUrl": "https://lh3.googleusercontent.com/a/default-user=s64",
      "userId": "14116156229443883163"
     },
     "user_tz": 180
    },
    "id": "qGwaio03H2P0",
    "outputId": "a21cbac9-6654-4702-8cc8-d2436e68b428"
   },
   "outputs": [
    {
     "data": {
      "text/plain": [
       "3.52986"
      ]
     },
     "execution_count": 21,
     "metadata": {},
     "output_type": "execute_result"
    }
   ],
   "source": [
    "pred.est"
   ]
  },
  {
   "cell_type": "markdown",
   "metadata": {
    "id": "u4BTjjQzH5ux"
   },
   "source": [
    "Pruebe empleando otros modelos como SVDpp, NMF, KNNWithZScore e intente superar el valor obtenido"
   ]
  },
  {
   "cell_type": "code",
   "execution_count": null,
   "metadata": {
    "id": "6OSuKTDXH7Cj"
   },
   "outputs": [],
   "source": [
    "from surprise import SVDpp\n",
    "gs = GridSearchCV(SVDpp, param_grid, measures=['fcp',\"rmse\"], cv=3, refit=True)\n",
    "gs.fit(dataset)\n",
    "gs.best_score"
   ]
  },
  {
   "cell_type": "markdown",
   "metadata": {
    "id": "HW6k_jrD-8gE"
   },
   "source": [
    "# Recomendación basada en el contenido\n",
    "\n",
    "En este ejemplo vamos a tomar un corpus de textos de autores latinoamericanos para sugerir uno similar a uno dado. Para esto construiremos una matriz TFIDF, de frecuencias normalizadas de términos por documento, y usaremos la similitud coseno para medir distancias entre los distintos textos."
   ]
  },
  {
   "cell_type": "code",
   "execution_count": null,
   "metadata": {
    "colab": {
     "base_uri": "https://localhost:8080/"
    },
    "executionInfo": {
     "elapsed": 1260,
     "status": "ok",
     "timestamp": 1631861056583,
     "user": {
      "displayName": "Matías Grinberg",
      "photoUrl": "https://lh3.googleusercontent.com/a/default-user=s64",
      "userId": "14116156229443883163"
     },
     "user_tz": 180
    },
    "id": "WNwDm-RF-923",
    "outputId": "49d779dd-8e03-4afd-ae16-347f30d729df"
   },
   "outputs": [
    {
     "name": "stdout",
     "output_type": "stream",
     "text": [
      "Cloning into 'borges'...\n",
      "remote: Enumerating objects: 211, done.\u001b[K\n",
      "remote: Counting objects: 100% (211/211), done.\u001b[K\n",
      "remote: Compressing objects: 100% (158/158), done.\u001b[K\n",
      "remote: Total 211 (delta 89), reused 171 (delta 49), pack-reused 0\u001b[K\n",
      "Receiving objects: 100% (211/211), 2.21 MiB | 13.08 MiB/s, done.\n",
      "Resolving deltas: 100% (89/89), done.\n"
     ]
    }
   ],
   "source": [
    "!git clone https://github.com/karen-pal/borges"
   ]
  },
  {
   "cell_type": "code",
   "execution_count": null,
   "metadata": {
    "colab": {
     "base_uri": "https://localhost:8080/"
    },
    "executionInfo": {
     "elapsed": 588,
     "status": "ok",
     "timestamp": 1631861057169,
     "user": {
      "displayName": "Matías Grinberg",
      "photoUrl": "https://lh3.googleusercontent.com/a/default-user=s64",
      "userId": "14116156229443883163"
     },
     "user_tz": 180
    },
    "id": "WXF23-Eu--_3",
    "outputId": "a0ebf4f0-4e05-4ca3-8661-4c63ca1b9f17"
   },
   "outputs": [
    {
     "data": {
      "text/plain": [
       "(719, 3)"
      ]
     },
     "execution_count": 57,
     "metadata": {},
     "output_type": "execute_result"
    }
   ],
   "source": [
    "import pickle\n",
    "from pathlib import Path\n",
    "import pandas as pd\n",
    "\n",
    "df = pd.DataFrame()\n",
    "# usando el asterisco de \"wildcard\" traemos todos los archivos en formato pickle\n",
    "pkls = Path('.').glob('./borges/datasets/*texts.pkl')\n",
    "\n",
    "# leemos todos los pickles y concatenarlos en un DataFrame\n",
    "for pkl in pkls:\n",
    "    with open(pkl, 'rb') as inp:\n",
    "        df_ = pickle.load(inp)\n",
    "    df = pd.concat([df, df_])\n",
    "\n",
    "df.shape"
   ]
  },
  {
   "cell_type": "code",
   "execution_count": null,
   "metadata": {
    "colab": {
     "base_uri": "https://localhost:8080/",
     "height": 108
    },
    "executionInfo": {
     "elapsed": 27,
     "status": "ok",
     "timestamp": 1631861057170,
     "user": {
      "displayName": "Matías Grinberg",
      "photoUrl": "https://lh3.googleusercontent.com/a/default-user=s64",
      "userId": "14116156229443883163"
     },
     "user_tz": 180
    },
    "id": "4YD4iOYeYtkr",
    "outputId": "3d56d3d5-97d7-46b0-a504-7af0974336c5"
   },
   "outputs": [
    {
     "data": {
      "text/html": [
       "<div>\n",
       "<style scoped>\n",
       "    .dataframe tbody tr th:only-of-type {\n",
       "        vertical-align: middle;\n",
       "    }\n",
       "\n",
       "    .dataframe tbody tr th {\n",
       "        vertical-align: top;\n",
       "    }\n",
       "\n",
       "    .dataframe thead th {\n",
       "        text-align: right;\n",
       "    }\n",
       "</style>\n",
       "<table border=\"1\" class=\"dataframe\">\n",
       "  <thead>\n",
       "    <tr style=\"text-align: right;\">\n",
       "      <th></th>\n",
       "      <th>link</th>\n",
       "      <th>text_metadata</th>\n",
       "      <th>text</th>\n",
       "    </tr>\n",
       "  </thead>\n",
       "  <tbody>\n",
       "    <tr>\n",
       "      <th>2</th>\n",
       "      <td>https://ciudadseva.com/texto/alguien-sonara/</td>\n",
       "      <td>{'title': 'Alguien soñará', 'metadata': '[Mini...</td>\n",
       "      <td>¿Qué soñará el indescifrable futuro? Soñará qu...</td>\n",
       "    </tr>\n",
       "    <tr>\n",
       "      <th>15</th>\n",
       "      <td>https://ciudadseva.com/texto/el-faro/</td>\n",
       "      <td>{'title': 'El faro', 'metadata': '[Minicuento ...</td>\n",
       "      <td>Lo que hace Genaro es horrible. Se sirve de ar...</td>\n",
       "    </tr>\n",
       "  </tbody>\n",
       "</table>\n",
       "</div>"
      ],
      "text/plain": [
       "                                            link  ...                                               text\n",
       "2   https://ciudadseva.com/texto/alguien-sonara/  ...  ¿Qué soñará el indescifrable futuro? Soñará qu...\n",
       "15         https://ciudadseva.com/texto/el-faro/  ...  Lo que hace Genaro es horrible. Se sirve de ar...\n",
       "\n",
       "[2 rows x 3 columns]"
      ]
     },
     "execution_count": 58,
     "metadata": {},
     "output_type": "execute_result"
    }
   ],
   "source": [
    "df.sample(2)"
   ]
  },
  {
   "cell_type": "code",
   "execution_count": null,
   "metadata": {
    "id": "2ex6sjJe_p3f"
   },
   "outputs": [],
   "source": [
    "# separamos de la metadata el título y autor en sus propias columnas\n",
    "df['title'] = df['text_metadata'].apply(lambda x: x['title'])\n",
    "df['author'] = df['text_metadata'].apply(lambda x: x['author'])"
   ]
  },
  {
   "cell_type": "code",
   "execution_count": null,
   "metadata": {
    "colab": {
     "base_uri": "https://localhost:8080/"
    },
    "executionInfo": {
     "elapsed": 26,
     "status": "ok",
     "timestamp": 1631861057171,
     "user": {
      "displayName": "Matías Grinberg",
      "photoUrl": "https://lh3.googleusercontent.com/a/default-user=s64",
      "userId": "14116156229443883163"
     },
     "user_tz": 180
    },
    "id": "V-1IHgFs_q_8",
    "outputId": "93efd64c-723d-4253-87ec-b5618ff44365"
   },
   "outputs": [
    {
     "data": {
      "text/plain": [
       "Jorge Luis Borges             60\n",
       "Julio Cortázar                55\n",
       "Baldomero Lillo               50\n",
       "Juan José Arreola             45\n",
       "Augusto Monterroso            45\n",
       "Alfonso Reyes                 37\n",
       "Enrique Anderson Imbert       36\n",
       "Mario Benedetti               33\n",
       "Julio Ramón Ribeyro           27\n",
       "Roberto Arlt                  25\n",
       "Clarice Lispector             25\n",
       "Julio Torri                   23\n",
       "Felisberto Hernández          15\n",
       "Luis Vidales                  14\n",
       "Adolfo Bioy Casares           13\n",
       "Rubén Darío                   13\n",
       "Álvaro Mutis                  11\n",
       "Edmundo Valadés               10\n",
       "Juan Rulfo                    10\n",
       "Juan Rodolfo Wilcock          10\n",
       "Salarrué                       9\n",
       "Manuel A. Alonso               9\n",
       "Elena Garro                    9\n",
       "Eduardo Gudiño Kieffer         8\n",
       "Alejo Carpentier               8\n",
       "Juan Bosch                     8\n",
       "Virgilio Díaz Grullón          7\n",
       "Andrés Rivera                  7\n",
       "Silvina Ocampo                 7\n",
       "Ricardo Güiraldes              6\n",
       "Rodolfo Walsh                  6\n",
       "José Donoso                    5\n",
       "Manuel Romero de Terreros      5\n",
       "Pablo Palacio                  5\n",
       "Gregorio López y Fuentes       4\n",
       "Julio Garmendia                4\n",
       "[Cuento - Texto completo.]     4\n",
       "Rómulo Gallegos                3\n",
       "Octavio Paz                    3\n",
       "Rubén Bareiro Saguier          3\n",
       "José María Arguedas            3\n",
       "Virgilio Piñera                3\n",
       "Macedonio Fernández            3\n",
       "José Edwards                   3\n",
       "José Lezama Lima               3\n",
       "Amparo Dávila                  3\n",
       "Vicente Huidobro               3\n",
       "María Luisa Bombal             3\n",
       "Sergio Pitol                   3\n",
       "Inés Arredondo                 3\n",
       "Humberto Arenal                2\n",
       "Teresa de la Parra             2\n",
       "Leonora Carrington             2\n",
       "Santiago Dabove                2\n",
       "Manuel González Zeledón        1\n",
       "Esteban Echeverría             1\n",
       "Ricardo Jaimes Freyre          1\n",
       "Carmen Lyra                    1\n",
       "Name: author, dtype: int64"
      ]
     },
     "execution_count": 60,
     "metadata": {},
     "output_type": "execute_result"
    }
   ],
   "source": [
    "# vemos los autores disponibloes\n",
    "df['author'].value_counts()"
   ]
  },
  {
   "cell_type": "code",
   "execution_count": null,
   "metadata": {
    "colab": {
     "base_uri": "https://localhost:8080/"
    },
    "executionInfo": {
     "elapsed": 21,
     "status": "ok",
     "timestamp": 1631861057171,
     "user": {
      "displayName": "Matías Grinberg",
      "photoUrl": "https://lh3.googleusercontent.com/a/default-user=s64",
      "userId": "14116156229443883163"
     },
     "user_tz": 180
    },
    "id": "9inGyjhv_rCF",
    "outputId": "b5237f49-3881-4729-e40d-7942cb1888d2"
   },
   "outputs": [
    {
     "data": {
      "text/plain": [
       "(693, 5)"
      ]
     },
     "execution_count": 61,
     "metadata": {},
     "output_type": "execute_result"
    }
   ],
   "source": [
    "# quitamos duplicados y reiniciamos el índice\n",
    "df = df.drop_duplicates(subset=[c for c in df.columns if c != 'text_metadata'])\n",
    "df = df.reset_index(drop=True)\n",
    "df.shape"
   ]
  },
  {
   "cell_type": "code",
   "execution_count": null,
   "metadata": {
    "id": "4wCrn4jU_rEc"
   },
   "outputs": [],
   "source": [
    "from sklearn.feature_extraction.text import TfidfVectorizer, CountVectorizer\n",
    "from sklearn.metrics.pairwise import linear_kernel\n",
    "from pprint import pprint"
   ]
  },
  {
   "cell_type": "markdown",
   "metadata": {
    "id": "EbLpYY_iY5d0"
   },
   "source": [
    "Vamos a calcular las matrices de ocurrencias de términos usando sklearn.\n",
    "\n",
    "Ámbas clases primero construyen el vocabulario total, y luego:  \n",
    "- **CountVectorizer** nos devuelve la frecuencia absoluta de cada término por cada documento.\n",
    "- [**TF-IDF**](https://en.wikipedia.org/wiki/Tf%E2%80%93idf): calcula la frecuencia de cada término por documento, y normaliza por el total de documentos donde el término aparece.\n",
    "\n",
    "$${tf} (t,d)={\\frac {f_{t,d}}{\\sum _{t'\\in d}{f_{t',d}}}}$$\n",
    "\n",
    "$$\n",
    "idf( t, D ) = log \\frac{ \\text{| } D \\text{ |} }{ 1 + \\text{| } \\{ d \\in D : t \\in d \\} \\text{ |} }\n",
    "$$ \n",
    "\n",
    "\n",
    "$$ tfidf( t, d, D ) = tf( t, d ) \\times idf( t, D ) \n",
    "$$\n"
   ]
  },
  {
   "cell_type": "code",
   "execution_count": null,
   "metadata": {
    "colab": {
     "base_uri": "https://localhost:8080/"
    },
    "executionInfo": {
     "elapsed": 17,
     "status": "ok",
     "timestamp": 1631861057172,
     "user": {
      "displayName": "Matías Grinberg",
      "photoUrl": "https://lh3.googleusercontent.com/a/default-user=s64",
      "userId": "14116156229443883163"
     },
     "user_tz": 180
    },
    "id": "LIr21dmN_wJS",
    "outputId": "2ff37c33-8f30-4d91-f2d3-3a4da6690786"
   },
   "outputs": [
    {
     "name": "stdout",
     "output_type": "stream",
     "text": [
      "[[0 0 1 2 1 1 0 1 1 1 0 1 1 1 1 0 0 0 0 0 1]\n",
      " [1 1 0 0 0 1 1 0 0 0 1 0 0 1 0 1 1 1 1 1 1]]\n",
      "['aparecen', 'con', 'contenido', 'de', 'del', 'documento', 'en', 'frecuencias', 'información', 'la', 'las', 'matriz', 'otorga', 'palabras', 'por', 'que', 'relaciona', 'se', 'su', 'tema', 'un']\n"
     ]
    }
   ],
   "source": [
    "# Instanciamos el CV\n",
    "vectorizer = CountVectorizer()\n",
    "\n",
    "doc1 = 'la matriz de frecuencias por palabras otorga información del contenido de un documento'\n",
    "doc2 = 'las palabras que aparecen en un documento se relaciona con su tema'\n",
    "# Definimos una lista con todos los strings\n",
    "data_corpus = [doc1, doc2]\n",
    "\n",
    "# Fiteamos el CV y transformamos los datos\n",
    "X = vectorizer.fit_transform(data_corpus) \n",
    "\n",
    "# Pasamos de sparse matrix a array usando .toarray()\n",
    "\n",
    "print(X.toarray())\n",
    "# Usando el metodo .get_feature_names() del CV podemos acceder al indice de palabras\n",
    "print(vectorizer.get_feature_names())"
   ]
  },
  {
   "cell_type": "code",
   "execution_count": null,
   "metadata": {
    "colab": {
     "base_uri": "https://localhost:8080/"
    },
    "executionInfo": {
     "elapsed": 649,
     "status": "ok",
     "timestamp": 1631861057808,
     "user": {
      "displayName": "Matías Grinberg",
      "photoUrl": "https://lh3.googleusercontent.com/a/default-user=s64",
      "userId": "14116156229443883163"
     },
     "user_tz": 180
    },
    "id": "EOphjaAF_w3S",
    "outputId": "21c9b3c9-a473-45e5-d1ec-6b793faaed67"
   },
   "outputs": [
    {
     "name": "stdout",
     "output_type": "stream",
     "text": [
      "[nltk_data] Downloading package stopwords to /root/nltk_data...\n",
      "[nltk_data]   Unzipping corpora/stopwords.zip.\n"
     ]
    }
   ],
   "source": [
    "import nltk\n",
    "from nltk.corpus import stopwords\n",
    "nltk.download('stopwords')\n",
    "\n",
    "stop = list(stopwords.words('spanish'))\n",
    "# eliminamos las \"stop words\", palabras comunes no informativas\n",
    "tf = TfidfVectorizer(stop_words=stop)"
   ]
  },
  {
   "cell_type": "code",
   "execution_count": null,
   "metadata": {
    "id": "CN_uqifv_w57"
   },
   "outputs": [],
   "source": [
    "# calculamos los features para cada ítem (texto)\n",
    "tfidf_matrix = tf.fit_transform(df['text'])"
   ]
  },
  {
   "cell_type": "code",
   "execution_count": null,
   "metadata": {
    "id": "2IfVii1V_0gK"
   },
   "outputs": [],
   "source": [
    "# calculamos las similitudes entre todos los documentos\n",
    "cosine_similarities = linear_kernel(tfidf_matrix, tfidf_matrix)\n",
    "n = 6\n",
    "\n",
    "# diccionario creado para guardar el resultado en un formato (autor - titulo : puntaje, titulo, autor)\n",
    "results = {} \n",
    "for idx, row in df.iterrows():\n",
    "    # guardamos los indices similares basados en la similitud coseno. Los ordenamos en modo ascendente, siendo 0 nada de similitud y 1 total\n",
    "    similar_indices = cosine_similarities[idx].argsort()[:-n-2:-1] \n",
    "    # guardamos los N más cercanos\n",
    "    similar_items = [(f\"{df['author'][i]} - {df['title'][i]}\", round(cosine_similarities[idx][i], 3)) for i in similar_indices]\n",
    "    results[f\"{row['author']} - {row['title']}\"] = similar_items[1:]"
   ]
  },
  {
   "cell_type": "code",
   "execution_count": null,
   "metadata": {
    "colab": {
     "base_uri": "https://localhost:8080/"
    },
    "executionInfo": {
     "elapsed": 15,
     "status": "ok",
     "timestamp": 1631861058961,
     "user": {
      "displayName": "Matías Grinberg",
      "photoUrl": "https://lh3.googleusercontent.com/a/default-user=s64",
      "userId": "14116156229443883163"
     },
     "user_tz": 180
    },
    "id": "b8rlNnYF_1PE",
    "outputId": "829b5688-dfee-4da3-8c24-37428c50f3e1"
   },
   "outputs": [
    {
     "name": "stdout",
     "output_type": "stream",
     "text": [
      "[('Jorge Luis Borges - La escritura del dios', 0.144),\n",
      " ('Jorge Luis Borges - El inmortal', 0.135),\n",
      " ('Jorge Luis Borges - Utopía de un hombre que está cansado', 0.125),\n",
      " ('Felisberto Hernández - El acomodador', 0.122),\n",
      " ('Clarice Lispector - La búsqueda de la dignidad', 0.121),\n",
      " ('Jorge Luis Borges - Funes el memorioso', 0.11)]\n"
     ]
    }
   ],
   "source": [
    "pprint(results['Jorge Luis Borges - El Aleph'])"
   ]
  },
  {
   "cell_type": "code",
   "execution_count": null,
   "metadata": {
    "id": "q7U9jPXJ_3j9"
   },
   "outputs": [],
   "source": [
    "def recomendar(autor, titulo):\n",
    "    pprint(results[f\"{autor} - {titulo}\"])"
   ]
  },
  {
   "cell_type": "code",
   "execution_count": null,
   "metadata": {
    "colab": {
     "base_uri": "https://localhost:8080/"
    },
    "executionInfo": {
     "elapsed": 8,
     "status": "ok",
     "timestamp": 1631861058962,
     "user": {
      "displayName": "Matías Grinberg",
      "photoUrl": "https://lh3.googleusercontent.com/a/default-user=s64",
      "userId": "14116156229443883163"
     },
     "user_tz": 180
    },
    "id": "NV66PpBs_4iY",
    "outputId": "388f0104-6f61-4467-f179-10fad76d84d4"
   },
   "outputs": [
    {
     "name": "stdout",
     "output_type": "stream",
     "text": [
      "[('Felisberto Hernández - El acomodador', 0.134),\n",
      " ('Felisberto Hernández - El cocodrilo', 0.101),\n",
      " ('Felisberto Hernández - Menos Julia', 0.089),\n",
      " ('Julio Cortázar - Después del almuerzo', 0.088),\n",
      " ('Julio Cortázar - La noche boca arriba', 0.086),\n",
      " ('Julio Cortázar - La señorita Cora', 0.086)]\n"
     ]
    }
   ],
   "source": [
    "recomendar('Julio Cortázar', 'Axolotl')"
   ]
  }
 ],
 "metadata": {
  "accelerator": "GPU",
  "colab": {
   "collapsed_sections": [],
   "name": "RecSys.ipynb",
   "provenance": []
  },
  "kernelspec": {
   "display_name": "Python 3.8.8 ('base')",
   "language": "python",
   "name": "python3"
  },
  "language_info": {
   "codemirror_mode": {
    "name": "ipython",
    "version": 3
   },
   "file_extension": ".py",
   "mimetype": "text/x-python",
   "name": "python",
   "nbconvert_exporter": "python",
   "pygments_lexer": "ipython3",
   "version": "3.8.8"
  },
  "vscode": {
   "interpreter": {
    "hash": "c18f11b6be657996524caf5fa782642089185171ff5f6e295a3bf01a389f99eb"
   }
  },
  "widgets": {
   "application/vnd.jupyter.widget-state+json": {
    "15c040839146490290c49a7e12661c19": {
     "model_module": "@jupyter-widgets/controls",
     "model_module_version": "1.5.0",
     "model_name": "FloatProgressModel",
     "state": {
      "_dom_classes": [],
      "_model_module": "@jupyter-widgets/controls",
      "_model_module_version": "1.5.0",
      "_model_name": "FloatProgressModel",
      "_view_count": null,
      "_view_module": "@jupyter-widgets/controls",
      "_view_module_version": "1.5.0",
      "_view_name": "ProgressView",
      "bar_style": "success",
      "description": "",
      "description_tooltip": null,
      "layout": "IPY_MODEL_a97a88501a7b4893ba47d68c3517fe9c",
      "max": 20,
      "min": 0,
      "orientation": "horizontal",
      "style": "IPY_MODEL_ec4a2e233d67492c988c9a6dee62a206",
      "value": 20
     }
    },
    "1e0621fd5ae04661bd414c511e426582": {
     "model_module": "@jupyter-widgets/base",
     "model_module_version": "1.2.0",
     "model_name": "LayoutModel",
     "state": {
      "_model_module": "@jupyter-widgets/base",
      "_model_module_version": "1.2.0",
      "_model_name": "LayoutModel",
      "_view_count": null,
      "_view_module": "@jupyter-widgets/base",
      "_view_module_version": "1.2.0",
      "_view_name": "LayoutView",
      "align_content": null,
      "align_items": null,
      "align_self": null,
      "border": null,
      "bottom": null,
      "display": null,
      "flex": null,
      "flex_flow": null,
      "grid_area": null,
      "grid_auto_columns": null,
      "grid_auto_flow": null,
      "grid_auto_rows": null,
      "grid_column": null,
      "grid_gap": null,
      "grid_row": null,
      "grid_template_areas": null,
      "grid_template_columns": null,
      "grid_template_rows": null,
      "height": null,
      "justify_content": null,
      "justify_items": null,
      "left": null,
      "margin": null,
      "max_height": null,
      "max_width": null,
      "min_height": null,
      "min_width": null,
      "object_fit": null,
      "object_position": null,
      "order": null,
      "overflow": null,
      "overflow_x": null,
      "overflow_y": null,
      "padding": null,
      "right": null,
      "top": null,
      "visibility": null,
      "width": null
     }
    },
    "2e26cbf868154b42aa7939a2a2e7a0cf": {
     "model_module": "@jupyter-widgets/controls",
     "model_module_version": "1.5.0",
     "model_name": "HTMLModel",
     "state": {
      "_dom_classes": [],
      "_model_module": "@jupyter-widgets/controls",
      "_model_module_version": "1.5.0",
      "_model_name": "HTMLModel",
      "_view_count": null,
      "_view_module": "@jupyter-widgets/controls",
      "_view_module_version": "1.5.0",
      "_view_name": "HTMLView",
      "description": "",
      "description_tooltip": null,
      "layout": "IPY_MODEL_1e0621fd5ae04661bd414c511e426582",
      "placeholder": "​",
      "style": "IPY_MODEL_82d54e8da14647a7acfc3e6ee0e31dec",
      "value": " 20/20 [00:00&lt;00:00, 96.32it/s]"
     }
    },
    "7ab4a2a653b5499e853cf8f93f3f1e4e": {
     "model_module": "@jupyter-widgets/controls",
     "model_module_version": "1.5.0",
     "model_name": "HTMLModel",
     "state": {
      "_dom_classes": [],
      "_model_module": "@jupyter-widgets/controls",
      "_model_module_version": "1.5.0",
      "_model_name": "HTMLModel",
      "_view_count": null,
      "_view_module": "@jupyter-widgets/controls",
      "_view_module_version": "1.5.0",
      "_view_name": "HTMLView",
      "description": "",
      "description_tooltip": null,
      "layout": "IPY_MODEL_8e496a247cfe426cb20a3d34226c6af0",
      "placeholder": "​",
      "style": "IPY_MODEL_efb8fb651e894f9d97b080c95757d866",
      "value": "100%"
     }
    },
    "82d54e8da14647a7acfc3e6ee0e31dec": {
     "model_module": "@jupyter-widgets/controls",
     "model_module_version": "1.5.0",
     "model_name": "DescriptionStyleModel",
     "state": {
      "_model_module": "@jupyter-widgets/controls",
      "_model_module_version": "1.5.0",
      "_model_name": "DescriptionStyleModel",
      "_view_count": null,
      "_view_module": "@jupyter-widgets/base",
      "_view_module_version": "1.2.0",
      "_view_name": "StyleView",
      "description_width": ""
     }
    },
    "8e496a247cfe426cb20a3d34226c6af0": {
     "model_module": "@jupyter-widgets/base",
     "model_module_version": "1.2.0",
     "model_name": "LayoutModel",
     "state": {
      "_model_module": "@jupyter-widgets/base",
      "_model_module_version": "1.2.0",
      "_model_name": "LayoutModel",
      "_view_count": null,
      "_view_module": "@jupyter-widgets/base",
      "_view_module_version": "1.2.0",
      "_view_name": "LayoutView",
      "align_content": null,
      "align_items": null,
      "align_self": null,
      "border": null,
      "bottom": null,
      "display": null,
      "flex": null,
      "flex_flow": null,
      "grid_area": null,
      "grid_auto_columns": null,
      "grid_auto_flow": null,
      "grid_auto_rows": null,
      "grid_column": null,
      "grid_gap": null,
      "grid_row": null,
      "grid_template_areas": null,
      "grid_template_columns": null,
      "grid_template_rows": null,
      "height": null,
      "justify_content": null,
      "justify_items": null,
      "left": null,
      "margin": null,
      "max_height": null,
      "max_width": null,
      "min_height": null,
      "min_width": null,
      "object_fit": null,
      "object_position": null,
      "order": null,
      "overflow": null,
      "overflow_x": null,
      "overflow_y": null,
      "padding": null,
      "right": null,
      "top": null,
      "visibility": null,
      "width": null
     }
    },
    "a969255f2a274c16bc98d4a5d5b725b9": {
     "model_module": "@jupyter-widgets/base",
     "model_module_version": "1.2.0",
     "model_name": "LayoutModel",
     "state": {
      "_model_module": "@jupyter-widgets/base",
      "_model_module_version": "1.2.0",
      "_model_name": "LayoutModel",
      "_view_count": null,
      "_view_module": "@jupyter-widgets/base",
      "_view_module_version": "1.2.0",
      "_view_name": "LayoutView",
      "align_content": null,
      "align_items": null,
      "align_self": null,
      "border": null,
      "bottom": null,
      "display": null,
      "flex": null,
      "flex_flow": null,
      "grid_area": null,
      "grid_auto_columns": null,
      "grid_auto_flow": null,
      "grid_auto_rows": null,
      "grid_column": null,
      "grid_gap": null,
      "grid_row": null,
      "grid_template_areas": null,
      "grid_template_columns": null,
      "grid_template_rows": null,
      "height": null,
      "justify_content": null,
      "justify_items": null,
      "left": null,
      "margin": null,
      "max_height": null,
      "max_width": null,
      "min_height": null,
      "min_width": null,
      "object_fit": null,
      "object_position": null,
      "order": null,
      "overflow": null,
      "overflow_x": null,
      "overflow_y": null,
      "padding": null,
      "right": null,
      "top": null,
      "visibility": null,
      "width": null
     }
    },
    "a97a88501a7b4893ba47d68c3517fe9c": {
     "model_module": "@jupyter-widgets/base",
     "model_module_version": "1.2.0",
     "model_name": "LayoutModel",
     "state": {
      "_model_module": "@jupyter-widgets/base",
      "_model_module_version": "1.2.0",
      "_model_name": "LayoutModel",
      "_view_count": null,
      "_view_module": "@jupyter-widgets/base",
      "_view_module_version": "1.2.0",
      "_view_name": "LayoutView",
      "align_content": null,
      "align_items": null,
      "align_self": null,
      "border": null,
      "bottom": null,
      "display": null,
      "flex": null,
      "flex_flow": null,
      "grid_area": null,
      "grid_auto_columns": null,
      "grid_auto_flow": null,
      "grid_auto_rows": null,
      "grid_column": null,
      "grid_gap": null,
      "grid_row": null,
      "grid_template_areas": null,
      "grid_template_columns": null,
      "grid_template_rows": null,
      "height": null,
      "justify_content": null,
      "justify_items": null,
      "left": null,
      "margin": null,
      "max_height": null,
      "max_width": null,
      "min_height": null,
      "min_width": null,
      "object_fit": null,
      "object_position": null,
      "order": null,
      "overflow": null,
      "overflow_x": null,
      "overflow_y": null,
      "padding": null,
      "right": null,
      "top": null,
      "visibility": null,
      "width": null
     }
    },
    "e7eca1a7e4c44ef3ae83dd82ed32e540": {
     "model_module": "@jupyter-widgets/controls",
     "model_module_version": "1.5.0",
     "model_name": "HBoxModel",
     "state": {
      "_dom_classes": [],
      "_model_module": "@jupyter-widgets/controls",
      "_model_module_version": "1.5.0",
      "_model_name": "HBoxModel",
      "_view_count": null,
      "_view_module": "@jupyter-widgets/controls",
      "_view_module_version": "1.5.0",
      "_view_name": "HBoxView",
      "box_style": "",
      "children": [
       "IPY_MODEL_7ab4a2a653b5499e853cf8f93f3f1e4e",
       "IPY_MODEL_15c040839146490290c49a7e12661c19",
       "IPY_MODEL_2e26cbf868154b42aa7939a2a2e7a0cf"
      ],
      "layout": "IPY_MODEL_a969255f2a274c16bc98d4a5d5b725b9"
     }
    },
    "ec4a2e233d67492c988c9a6dee62a206": {
     "model_module": "@jupyter-widgets/controls",
     "model_module_version": "1.5.0",
     "model_name": "ProgressStyleModel",
     "state": {
      "_model_module": "@jupyter-widgets/controls",
      "_model_module_version": "1.5.0",
      "_model_name": "ProgressStyleModel",
      "_view_count": null,
      "_view_module": "@jupyter-widgets/base",
      "_view_module_version": "1.2.0",
      "_view_name": "StyleView",
      "bar_color": null,
      "description_width": ""
     }
    },
    "efb8fb651e894f9d97b080c95757d866": {
     "model_module": "@jupyter-widgets/controls",
     "model_module_version": "1.5.0",
     "model_name": "DescriptionStyleModel",
     "state": {
      "_model_module": "@jupyter-widgets/controls",
      "_model_module_version": "1.5.0",
      "_model_name": "DescriptionStyleModel",
      "_view_count": null,
      "_view_module": "@jupyter-widgets/base",
      "_view_module_version": "1.2.0",
      "_view_name": "StyleView",
      "description_width": ""
     }
    }
   }
  }
 },
 "nbformat": 4,
 "nbformat_minor": 4
}
