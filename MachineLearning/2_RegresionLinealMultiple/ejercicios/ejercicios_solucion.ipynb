{
  "cells": [
    {
      "cell_type": "markdown",
      "metadata": {},
      "source": [
        "<a href=\"https://colab.research.google.com/github/institutohumai/cursos-python/blob/master/MachineLearning/2_RegresionLinealMultiple/ejercicios/ejercicios_solucion.ipynb\"> <img src='https://colab.research.google.com/assets/colab-badge.svg' /> </a>"
      ]
    },
    {
      "cell_type": "markdown",
      "metadata": {},
      "source": [
        "## Regresión Lineal Múltiple\n",
        "\n",
        "### Práctica"
      ]
    },
    {
      "cell_type": "markdown",
      "metadata": {
        "id": "WxpOVd9wH-wy"
      },
      "source": [
        "<img src='https://i.postimg.cc/T1S4gBfm/stautistics.jpg' width=\"400\"/>"
      ]
    },
    {
      "cell_type": "markdown",
      "metadata": {},
      "source": [
        "### En base a la clase, responder:"
      ]
    },
    {
      "cell_type": "markdown",
      "metadata": {
        "id": "GwcXqi4VGf_k"
      },
      "source": [
        "- ¿Entre qué valores está acotado el R2 y por qué? \n",
        "- ¿Qué pasa si calculamos el R2 sobre un conjunto de prueba en lugar del conjunto de entrenamiento?\n",
        "- ¿Cómo se interpreta el MAE? ¿Y el MSE? \n",
        "- ¿Por qué queremos calcular el RMSE?\n",
        "- ¿Para qué se usa el R2 corregido o ajustado?\n",
        "- ¿Cómo se explica que en un modelo de predicción de precios de propiedades en función de la superficie y la cantidad de ambientes, el coeficiente (beta) de la cantidad de ambientes sea negativo?"
      ]
    },
    {
      "cell_type": "markdown",
      "metadata": {},
      "source": [
        "### Ajustando una regresión lineal a datos de inmuebles\n",
        "\n",
        "Vamos a hacer un modelo de regresión lineal usando los datos de Properati e interpretar los coeficientes"
      ]
    },
    {
      "cell_type": "markdown",
      "metadata": {},
      "source": [
        "- Descargar los datos de `https://datasets-humai.s3.amazonaws.com/datasets/properati_caba_2021.csv` y leerlo en un Dataframe"
      ]
    },
    {
      "cell_type": "code",
      "execution_count": null,
      "metadata": {
        "id": "yjlB3dHjHiiv"
      },
      "outputs": [],
      "source": [
        "import pandas as pd\n",
        "from sklearn.linear_model import LinearRegression\n",
        "df = pd.read_csv('https://datasets-humai.s3.amazonaws.com/datasets/properati_caba_2021.csv')"
      ]
    },
    {
      "cell_type": "markdown",
      "metadata": {},
      "source": [
        "- Importar la clase `LinearRegression` de scikit-learn "
      ]
    },
    {
      "cell_type": "code",
      "execution_count": null,
      "metadata": {
        "id": "346F2INFeweJ"
      },
      "outputs": [],
      "source": [
        "modelo_lineal = LinearRegression(fit_intercept=True)"
      ]
    },
    {
      "cell_type": "code",
      "execution_count": null,
      "metadata": {
        "colab": {
          "base_uri": "https://localhost:8080/"
        },
        "id": "jV5qS-pYfDN8",
        "outputId": "af58ec4f-87c3-4951-be20-732ca646c24e"
      },
      "outputs": [
        {
          "data": {
            "text/plain": [
              "Index(['id', 'lat', 'lon', 'l3', 'rooms', 'bathrooms', 'surface_total',\n",
              "       'surface_covered', 'price', 'property_type'],\n",
              "      dtype='object')"
            ]
          },
          "execution_count": 3,
          "metadata": {},
          "output_type": "execute_result"
        }
      ],
      "source": [
        "df.columns"
      ]
    },
    {
      "cell_type": "markdown",
      "metadata": {},
      "source": [
        "- Hacer una función que nos permita indicar una lista de columnas de los datos, y ajuste una regresión con respecto a 'price', devolviendo los coeficientes\n",
        "- Usando esa función, tomar 1000 muestras del conjunto de datos, guardando los coeficientes resultantes en un nuevo dataframe\n",
        "- Para cada uno de los coeficientes (de cada variable), calcular el coeficiente de variación:\n",
        "\n",
        "$$C_V = \\frac{\\sigma}{\\bar{x}}$$"
      ]
    },
    {
      "cell_type": "code",
      "execution_count": null,
      "metadata": {
        "id": "lOZKQpmifEUq"
      },
      "outputs": [],
      "source": [
        "def print_betas(col_list):\n",
        "  sample = df.sample(1000)\n",
        "  X = sample[col_list]\n",
        "  y = sample['price']\n",
        "  modelo_lineal.fit(X,y)\n",
        "  for i in range(len(col_list)): \n",
        "    print(f'El coeficiente de la variable {col_list[i]} es {modelo_lineal.coef_[i]}')"
      ]
    },
    {
      "cell_type": "code",
      "execution_count": null,
      "metadata": {
        "colab": {
          "base_uri": "https://localhost:8080/"
        },
        "id": "cVHa2ENCgjCG",
        "outputId": "e5ba190d-b771-4ad0-e11c-4c0b30c74496"
      },
      "outputs": [
        {
          "name": "stdout",
          "output_type": "stream",
          "text": [
            "El coeficiente de la variable surface_covered es 1611.3772692193947\n",
            "El coeficiente de la variable surface_total es 1457.8220917423341\n",
            "El coeficiente de la variable surface_covered es 5557.371158360028\n",
            "El coeficiente de la variable surface_total es -2163.746314739741\n",
            "El coeficiente de la variable surface_covered es 6235.800647805417\n",
            "El coeficiente de la variable surface_total es -2180.7516188901113\n"
          ]
        }
      ],
      "source": [
        "for i in range(3):\n",
        "  print_betas(['surface_covered','surface_total'])"
      ]
    },
    {
      "cell_type": "code",
      "execution_count": null,
      "metadata": {
        "colab": {
          "base_uri": "https://localhost:8080/"
        },
        "id": "YWMZaSgIgqB2",
        "outputId": "d2d20e3c-9469-4b23-c416-b5fb4c1645c7"
      },
      "outputs": [
        {
          "name": "stdout",
          "output_type": "stream",
          "text": [
            "El coeficiente de la variable bathrooms es 128621.06281087024\n",
            "El coeficiente de la variable surface_total es 1531.8782780317683\n",
            "El coeficiente de la variable bathrooms es 88231.84560570729\n",
            "El coeficiente de la variable surface_total es 2470.1425690355695\n",
            "El coeficiente de la variable bathrooms es 112725.36460848553\n",
            "El coeficiente de la variable surface_total es 1804.076120232447\n"
          ]
        }
      ],
      "source": [
        "for i in range(3):\n",
        "  print_betas(['bathrooms', 'surface_total'])"
      ]
    },
    {
      "cell_type": "code",
      "execution_count": null,
      "metadata": {
        "id": "9gzuw9vBhE6q"
      },
      "outputs": [],
      "source": [
        "def coef_model(col_list):\n",
        "  sample = df.sample(50)\n",
        "  X = sample[col_list]\n",
        "  y = sample['price']\n",
        "  modelo_lineal.fit(X,y)\n",
        "  return modelo_lineal.coef_"
      ]
    },
    {
      "cell_type": "code",
      "execution_count": null,
      "metadata": {
        "id": "Va-Nrt8IjCsm"
      },
      "outputs": [],
      "source": [
        "coefs = []\n",
        "for i in range(1000):\n",
        "  coefs.append(coef_model(['bathrooms', 'surface_total']))\n",
        "df_coef = pd.DataFrame(coefs)"
      ]
    },
    {
      "cell_type": "code",
      "execution_count": null,
      "metadata": {
        "colab": {
          "base_uri": "https://localhost:8080/"
        },
        "id": "rWcEE_wejq1n",
        "outputId": "4bc1717b-8558-4679-ba9d-02880de4e5d7"
      },
      "outputs": [
        {
          "data": {
            "text/plain": [
              "0.9104746736193776"
            ]
          },
          "execution_count": 9,
          "metadata": {},
          "output_type": "execute_result"
        }
      ],
      "source": [
        "df_coef[0].std()/df_coef[0].mean()"
      ]
    },
    {
      "cell_type": "code",
      "execution_count": null,
      "metadata": {
        "colab": {
          "base_uri": "https://localhost:8080/"
        },
        "id": "atpRYc6DjsJk",
        "outputId": "c861b977-decd-4255-b4b8-268656e08b49"
      },
      "outputs": [
        {
          "data": {
            "text/plain": [
              "0.6816389776607245"
            ]
          },
          "execution_count": 10,
          "metadata": {},
          "output_type": "execute_result"
        }
      ],
      "source": [
        "df_coef[1].std()/df_coef[1].mean()"
      ]
    },
    {
      "cell_type": "code",
      "execution_count": null,
      "metadata": {
        "id": "tzL7B580kOde"
      },
      "outputs": [],
      "source": [
        "coefs = []\n",
        "for i in range(1000):\n",
        "  coefs.append(coef_model(['surface_covered','surface_total']))\n",
        "df_coef = pd.DataFrame(coefs)"
      ]
    },
    {
      "cell_type": "code",
      "execution_count": null,
      "metadata": {
        "colab": {
          "base_uri": "https://localhost:8080/"
        },
        "id": "MbGb0xM2kXfK",
        "outputId": "a60eef65-41d8-4a0c-8a25-bd155500cb63"
      },
      "outputs": [
        {
          "data": {
            "text/plain": [
              "0.9603107800618357"
            ]
          },
          "execution_count": 12,
          "metadata": {},
          "output_type": "execute_result"
        }
      ],
      "source": [
        "df_coef[0].std()/df_coef[0].mean()"
      ]
    },
    {
      "cell_type": "code",
      "execution_count": null,
      "metadata": {
        "colab": {
          "base_uri": "https://localhost:8080/"
        },
        "id": "08gpnS53kZfN",
        "outputId": "6747898e-b365-41ce-b37b-a4c9673aa2cc"
      },
      "outputs": [
        {
          "data": {
            "text/plain": [
              "-5.2109568168500555"
            ]
          },
          "execution_count": 13,
          "metadata": {},
          "output_type": "execute_result"
        }
      ],
      "source": [
        "df_coef[1].std()/df_coef[1].mean()"
      ]
    },
    {
      "cell_type": "code",
      "execution_count": null,
      "metadata": {
        "id": "c80FYQx3kar6"
      },
      "outputs": [],
      "source": [
        "coefs = []\n",
        "for i in range(1000):\n",
        "  coefs.append(coef_model(['lon','surface_total']))\n",
        "df_coef = pd.DataFrame(coefs)"
      ]
    },
    {
      "cell_type": "code",
      "execution_count": null,
      "metadata": {
        "colab": {
          "base_uri": "https://localhost:8080/"
        },
        "id": "V2xEA3OiAPYf",
        "outputId": "0b348c62-d743-4981-f0ba-d243c7505ec3"
      },
      "outputs": [
        {
          "data": {
            "text/plain": [
              "0.8767296020866167"
            ]
          },
          "execution_count": 15,
          "metadata": {},
          "output_type": "execute_result"
        }
      ],
      "source": [
        "df_coef[0].std()/df_coef[0].mean()"
      ]
    },
    {
      "cell_type": "code",
      "execution_count": null,
      "metadata": {
        "colab": {
          "base_uri": "https://localhost:8080/"
        },
        "id": "FH6Gom0OASbq",
        "outputId": "f9bb056c-cc66-460f-af23-f5e1c7773724"
      },
      "outputs": [
        {
          "data": {
            "text/plain": [
              "0.4054497551735438"
            ]
          },
          "execution_count": 16,
          "metadata": {},
          "output_type": "execute_result"
        }
      ],
      "source": [
        "df_coef[1].std()/df_coef[1].mean()"
      ]
    }
  ],
  "metadata": {
    "colab": {
      "name": "Clase2-RegLineal.ipynb",
      "provenance": []
    },
    "kernelspec": {
      "display_name": "Python 3",
      "name": "python3"
    },
    "language_info": {
      "name": "python"
    }
  },
  "nbformat": 4,
  "nbformat_minor": 0
}
