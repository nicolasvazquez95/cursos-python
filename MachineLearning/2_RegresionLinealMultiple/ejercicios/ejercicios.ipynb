{
  "cells": [
    {
      "cell_type": "markdown",
      "metadata": {},
      "source": [
        "<a href=\"https://colab.research.google.com/github/institutohumai/cursos-python/blob/master/MachineLearning/2_RegresionLinealMultiple/ejercicios/ejercicios.ipynb\"> <img src='https://colab.research.google.com/assets/colab-badge.svg' /> </a>"
      ]
    },
    {
      "cell_type": "markdown",
      "metadata": {},
      "source": [
        "## Regresión Lineal Múltiple\n",
        "\n",
        "### Práctica"
      ]
    },
    {
      "cell_type": "markdown",
      "metadata": {
        "id": "WxpOVd9wH-wy"
      },
      "source": [
        "<img src='https://i.postimg.cc/T1S4gBfm/stautistics.jpg' width=\"400\"/>"
      ]
    },
    {
      "cell_type": "markdown",
      "metadata": {},
      "source": [
        "### En base a la clase, responder:"
      ]
    },
    {
      "cell_type": "markdown",
      "metadata": {
        "id": "GwcXqi4VGf_k"
      },
      "source": [
        "- ¿Entre qué valores está acotado el R2 y por qué? \n",
        "- ¿Qué pasa si calculamos el R2 sobre un conjunto de prueba en lugar del conjunto de entrenamiento?\n",
        "- ¿Cómo se interpreta el MAE? ¿Y el MSE? \n",
        "- ¿Por qué queremos calcular el RMSE?\n",
        "- ¿Para qué se usa el R2 corregido o ajustado?\n",
        "- ¿Cómo se explica que en un modelo de predicción de precios de propiedades en función de la superficie y la cantidad de ambientes, el coeficiente (beta) de la cantidad de ambientes sea negativo?"
      ]
    },
    {
      "cell_type": "markdown",
      "metadata": {},
      "source": [
        "### Ajustando una regresión lineal a datos de inmuebles\n",
        "\n",
        "Vamos a hacer un modelo de regresión lineal usando los datos de Properati e interpretar los coeficientes"
      ]
    },
    {
      "cell_type": "markdown",
      "metadata": {},
      "source": [
        "- Descargar los datos de `https://datasets-humai.s3.amazonaws.com/datasets/properati_caba_2021.csv` y leerlo en un Dataframe"
      ]
    },
    {
      "cell_type": "code",
      "execution_count": null,
      "metadata": {
        "id": "yjlB3dHjHiiv"
      },
      "outputs": [],
      "source": []
    },
    {
      "cell_type": "markdown",
      "metadata": {},
      "source": [
        "- Importar la clase `LinearRegression` de scikit-learn "
      ]
    },
    {
      "cell_type": "code",
      "execution_count": null,
      "metadata": {
        "id": "346F2INFeweJ"
      },
      "outputs": [],
      "source": []
    },
    {
      "cell_type": "markdown",
      "metadata": {},
      "source": [
        "- Hacer una función que nos permita indicar una lista de columnas de los datos, y ajuste una regresión con respecto a 'price', devolviendo los coeficientes\n",
        "- Usando esa función, tomar 1000 muestras del conjunto de datos, guardando los coeficientes resultantes en un nuevo dataframe\n",
        "- Para cada uno de los coeficientes (de cada variable), calcular el coeficiente de variación:\n",
        "\n",
        "$$C_V = \\frac{\\sigma}{\\bar{x}}$$"
      ]
    },
    {
      "cell_type": "code",
      "execution_count": null,
      "metadata": {},
      "outputs": [],
      "source": []
    },
    {
      "cell_type": "code",
      "execution_count": null,
      "metadata": {},
      "outputs": [],
      "source": []
    }
  ],
  "metadata": {
    "colab": {
      "name": "Clase2-RegLineal.ipynb",
      "provenance": []
    },
    "kernelspec": {
      "display_name": "Python 3",
      "name": "python3"
    },
    "language_info": {
      "name": "python"
    }
  },
  "nbformat": 4,
  "nbformat_minor": 0
}
