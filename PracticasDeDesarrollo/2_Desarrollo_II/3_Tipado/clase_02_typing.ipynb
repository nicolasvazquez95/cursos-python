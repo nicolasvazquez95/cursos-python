{
    "cells": [
        {
            "cell_type": "markdown",
            "metadata": {},
            "source": [
                "<a href=\"https://colab.research.google.com/github/institutohumai/cursos-python/blob/master/PracticasDeDesarrollo/2_Desarrollo_II/3_Tipado/clase_02_typing.ipynb\" target=\"_parent\"><img src=\"https://colab.research.google.com/assets/colab-badge.svg\" alt=\"Open In Colab\" data-canonical-src=\"https://colab.research.google.com/assets/colab-badge.svg\"></a>"
            ]
        },
        {
            "cell_type": "markdown",
            "metadata": {},
            "source": [
                "# 1. Tipado en Python\n",
                "\n",
                "<a href=\"https://pydantic-docs.helpmanual.io/\">\n",
                "<img alt=\"Logo de Pydantic\" src=\"https://raw.githubusercontent.com/institutohumai/cursos-python/master/PracticasDeDesarrollo/2_Desarrollo_II/3_Tipado/images/logo-pydantic.svg\" height=\"200px\"/>\n",
                "</a>"
            ]
        },
        {
            "cell_type": "markdown",
            "metadata": {},
            "source": [
                "## 1.1. Introducción a conceptos básicos"
            ]
        },
        {
            "cell_type": "markdown",
            "metadata": {},
            "source": [
                "&nbsp;&nbsp;&nbsp;&nbsp; En esta clase vamos a hablar de tipado en Python. Cómo sabrás para este punto, Python es un lenguaje de tipado dinámico. Esto significa que es el intérprete el que determina el tipo de una dada variable durante runtime (a diferencia de otros lenguajes en donde cada vez que declaramos una variables tenemos que especificarle el tipo. Ej. C o java). Esto hace que en Python, para que exista una variable debemos instanciarle una clase y asignarle un valor."
            ]
        },
        {
            "cell_type": "code",
            "execution_count": 1,
            "metadata": {},
            "outputs": [
                {
                    "ename": "NameError",
                    "evalue": "name 'a' is not defined",
                    "output_type": "error",
                    "traceback": [
                        "\u001b[0;31m---------------------------------------------------------------------------\u001b[0m",
                        "\u001b[0;31mNameError\u001b[0m                                 Traceback (most recent call last)",
                        "\u001b[1;32m/Users/agustindye/deployr/humai_02_typing3/clase_02_typing.ipynb Cell 4'\u001b[0m in \u001b[0;36m<cell line: 1>\u001b[0;34m()\u001b[0m\n\u001b[0;32m----> <a href='vscode-notebook-cell:/Users/agustindye/deployr/humai_02_typing3/clase_02_typing.ipynb#ch0000055?line=0'>1</a>\u001b[0m a\n",
                        "\u001b[0;31mNameError\u001b[0m: name 'a' is not defined"
                    ]
                }
            ],
            "source": [
                "a"
            ]
        },
        {
            "cell_type": "markdown",
            "metadata": {},
            "source": [
                "&nbsp;&nbsp;&nbsp;&nbsp; Como vemos no puedo \"declarar\" una nueva variable sin asignarle un valor por el simple hecho de que el interprete no tiene forma de saber *a que* me estoy refiriendo con `a`.\n",
                "\n",
                "&nbsp;&nbsp;&nbsp;&nbsp; Si en cambio les asignamos un valor:"
            ]
        },
        {
            "cell_type": "code",
            "execution_count": 2,
            "metadata": {},
            "outputs": [
                {
                    "name": "stdout",
                    "output_type": "stream",
                    "text": [
                        "Tipo de 'a':<class 'int'>\n",
                        "Tipo de 'a':<class 'str'>\n",
                        "Tipo de 'a':<class '__main__.ClassA'>\n"
                    ]
                }
            ],
            "source": [
                "a = 1\n",
                "print(f\"Tipo de 'a':{type(a)}\") # 'type' consulta la el \"tipo\" actual de la variable\n",
                "a = \"2\"\n",
                "print(f\"Tipo de 'a':{a.__class__}\") # '__class__', en python3, representa lo mismo\n",
                "\n",
                "class ClassA:\n",
                "    def display(self):\n",
                "        print(\"ClassA\")\n",
                "\n",
                "a = ClassA()\n",
                "print(f\"Tipo de 'a':{a.__class__}\")"
            ]
        },
        {
            "cell_type": "markdown",
            "metadata": {},
            "source": [
                "&nbsp;&nbsp;&nbsp;&nbsp; Ahora si el interprete puede entender de que tipo es la variable `a` a cada momento. Incluso nuestro interprete puede saber de que valor es la variable. Si hacemos hover sobre la variable en VisualStudio nos dirá de que tipo es la variable:\n",
                "\n",
                "| <img alt=\"a entero\" src=\"https://raw.githubusercontent.com/institutohumai/cursos-python/master/PracticasDeDesarrollo/2_Desarrollo_II/3_Tipado/images/a-int.png\"  height=\"125px\"/> <img alt=\"a string\" src=\"https://raw.githubusercontent.com/institutohumai/cursos-python/master/PracticasDeDesarrollo/2_Desarrollo_II/3_Tipado/images/a-str.png\" height=\"125px\"/> <img alt=\"a classA\" src=\"https://raw.githubusercontent.com/institutohumai/cursos-python/master/PracticasDeDesarrollo/2_Desarrollo_II/3_Tipado/images/a-classA.png\" height=\"125px\" /> |\n",
                "|:--:|\n",
                "|*Hover sobre `a` en diferentes instrucciones*|\n",
                "\n",
                "&nbsp;&nbsp;&nbsp;&nbsp; En este caso, nuestro entorno de desarrollo puede interpretar el tipo sabiendo que estamos haciendo una asignación sencilla. Pero, ¿qué ocurre cuando el código se complejiza y tenemos que obtener valores, por ejemplo, de una función?"
            ]
        },
        {
            "cell_type": "code",
            "execution_count": 3,
            "metadata": {},
            "outputs": [],
            "source": [
                "def multi_call(num, alt=False):\n",
                "    if alt:\n",
                "        return num * 5\n",
                "    return num * - 2\n",
                "\n",
                "b = multi_call(23)"
            ]
        },
        {
            "cell_type": "markdown",
            "metadata": {},
            "source": [
                "&nbsp;&nbsp;&nbsp;&nbsp; Sin correr el código anterior el interprete nos muestra lo siguiente:\n",
                "\n",
                "| <img alt=\"b\" src=\"https://raw.githubusercontent.com/institutohumai/cursos-python/master/PracticasDeDesarrollo/2_Desarrollo_II/3_Tipado/images/b.png\"  height=\"125px\"/> <img alt=\"multi_call\" src=\"https://raw.githubusercontent.com/institutohumai/cursos-python/master/PracticasDeDesarrollo/2_Desarrollo_II/3_Tipado/images/multi_call.png\" height=\"125px\"/> |\n",
                "|:--:|\n",
                "|*Hover sobre `b` y `multi_call`, previo a la ejecución*|\n",
                "\n",
                "&nbsp;&nbsp;&nbsp;&nbsp; En este caso podemos ver a las variables cómo tipo **Any**, lo que quiere decir que esencialmente puede ser cualquier cosa.\n",
                "\n",
                "&nbsp;&nbsp;&nbsp;&nbsp; ¿Por qué no reconoce los tipos cuando \"evidentemente\" estamos hablando de una función de enteros?...¿O floats?... ¿Strings? Ok. Más allá de que mi intención haya sido crear una función para multiplicar enteros; el interprete no lee mentes, lee código, y por tanto no puede entender que lo que va a devolver la función es un entero. Pero tal vez una pregunta más importante es: **¿Por qué nos interesa?**\n",
                "\n",
                "&nbsp;&nbsp;&nbsp;&nbsp; Nos interesa saber que tipo es cada variable por multiples razones como por ejemplo:\n",
                "* Ayuda a entender el código. El saber de que tipos son los parámetros de una función nos ayuda en su interpretabilidad.\n",
                "* Si estamos trabajando en un proyecto enorme y de pronto una función nos devuelve una variable, sería bastante postivo que nos especifiquen de que tipo es dicha variable sin tener que correr el código (lo cual no siempre es posible) o debuguear todo.\n",
                "* Permite evitar bugs. Si somos capaces de especificar que es lo que esperamos en una función cómo tipo, existen herramientas capaces de avisarnos si en algún momento la llamamos con parámetros que no corresponden."
            ]
        },
        {
            "cell_type": "markdown",
            "metadata": {},
            "source": [
                "---"
            ]
        },
        {
            "cell_type": "markdown",
            "metadata": {},
            "source": [
                "## 1.2. Type Hinting"
            ]
        },
        {
            "cell_type": "markdown",
            "metadata": {},
            "source": [
                "\n",
                "&nbsp;&nbsp;&nbsp;&nbsp; Vendido! Ahora, ¿cómo hago para que se entiendo que es lo que la función espera?. Para lograr eso vamos a utilizar **Type hints**. Si prestaste atención a la imagen anterior ya habrás podido ver uno. El formato es `':'` seguido del tipo que esperamos sea nuestra variable (en nuestro caso el `'bool'`, `'= False'` es el valor por defecto).\n",
                "\n",
                "&nbsp;&nbsp;&nbsp;&nbsp; Los type hints fueron introducidos en el [PEP 484](https://peps.python.org/pep-0484/) y si bien las anotaciones no eran nada nuevo para Python, lo que estableció fue el standard de cómo indicar tipos para que se puede hacer un análisis estático de tipos; asi como, por ejemplo, introducir la libreria standard **Typing** que nos ayuda a espeficar tipos.\n",
                "\n",
                "&nbsp;&nbsp;&nbsp;&nbsp; Dicho esto, modifiquemos el código para que sea más interpretable:\n"
            ]
        },
        {
            "cell_type": "code",
            "execution_count": 4,
            "metadata": {},
            "outputs": [],
            "source": [
                "def multi_call(num: int, alt: bool = False) -> int:\n",
                "    if alt:\n",
                "        return num * 5\n",
                "    return num * - 2\n",
                "\n",
                "b = multi_call(23)"
            ]
        },
        {
            "cell_type": "markdown",
            "metadata": {},
            "source": [
                "&nbsp;&nbsp;&nbsp;&nbsp; Si ahora chequeamos de nuevo lo que nuestro interprete nos dice...\n",
                "\n",
                "| <img alt=\"b tipado\" src=\"https://raw.githubusercontent.com/institutohumai/cursos-python/master/PracticasDeDesarrollo/2_Desarrollo_II/3_Tipado/images/b_typed.png\"  height=\"125px\"/> <img alt=\"multi_call tipado\" src=\"https://raw.githubusercontent.com/institutohumai/cursos-python/master/PracticasDeDesarrollo/2_Desarrollo_II/3_Tipado/images/multi_call_typed.png\" height=\"125px\"/> |\n",
                "|:--:|\n",
                "|*Hover sobre `b` y `multi_call`, previo a la ejecución y una vez tipado*|\n",
                "\n",
                "&nbsp;&nbsp;&nbsp;&nbsp; En este caso el interprete puede entender que `b` es de tipo entero porque se le asigna la salida de la función `multi_call`, la cual ahora declara que el tipo del resultado es entero (se indica usando `\"->\"`). Genial! Ahora sabemos:\n",
                "* Si más adelante nos encontramos con la variable `b`, vamos a poder saber de que tipo es y tratarla como corresponde.\n",
                "* Cada vez que llamemos a la función `multi_call` vamos a saber cuales son los tipos de sus argumentos asi como el de su resultado.\n",
                "\n",
                "&nbsp;&nbsp;&nbsp;&nbsp; Entonces ahora cuando llamemos a la función con los parámetros de un tipo que no corresponde, no debería funcionar:"
            ]
        },
        {
            "cell_type": "code",
            "execution_count": 5,
            "metadata": {},
            "outputs": [
                {
                    "name": "stdout",
                    "output_type": "stream",
                    "text": [
                        "-7.0\n"
                    ]
                }
            ],
            "source": [
                "print(multi_call(3.5))"
            ]
        },
        {
            "cell_type": "markdown",
            "metadata": {},
            "source": [
                "...\n",
                "\n",
                "&nbsp;&nbsp;&nbsp;&nbsp; Ok, me siento estafado. ¿Por qué me acepta un float como parámetro cuando le especifiqué que tenía que ser entero? Como mencionamos anteriormente, lo que hacemos con type hint no es forzar validación de tipos sino hacer un anotado de modo que seamos nosotros (o una herramienta) los que controlemos con que llamamos a que y con que.\n",
                "\n",
                "&nbsp;&nbsp;&nbsp;&nbsp; Si solo quisieramos aceptar enteros tendríamos que agregar el control a mano:"
            ]
        },
        {
            "cell_type": "code",
            "execution_count": 6,
            "metadata": {},
            "outputs": [
                {
                    "ename": "AssertionError",
                    "evalue": "Invalid type :<class 'float'>",
                    "output_type": "error",
                    "traceback": [
                        "\u001b[0;31m---------------------------------------------------------------------------\u001b[0m",
                        "\u001b[0;31mAssertionError\u001b[0m                            Traceback (most recent call last)",
                        "\u001b[1;32m/Users/agustindye/deployr/humai_02_typing3/clase_02_typing.ipynb Cell 17'\u001b[0m in \u001b[0;36m<cell line: 6>\u001b[0;34m()\u001b[0m\n\u001b[1;32m      <a href='vscode-notebook-cell:/Users/agustindye/deployr/humai_02_typing3/clase_02_typing.ipynb#ch0000096?line=3'>4</a>\u001b[0m         \u001b[39mreturn\u001b[39;00m num \u001b[39m*\u001b[39m \u001b[39m5\u001b[39m\n\u001b[1;32m      <a href='vscode-notebook-cell:/Users/agustindye/deployr/humai_02_typing3/clase_02_typing.ipynb#ch0000096?line=4'>5</a>\u001b[0m     \u001b[39mreturn\u001b[39;00m num \u001b[39m*\u001b[39m \u001b[39m-\u001b[39m \u001b[39m2\u001b[39m\n\u001b[0;32m----> <a href='vscode-notebook-cell:/Users/agustindye/deployr/humai_02_typing3/clase_02_typing.ipynb#ch0000096?line=5'>6</a>\u001b[0m \u001b[39mprint\u001b[39m(multi_call_control(\u001b[39m3.5\u001b[39;49m))\n",
                        "\u001b[1;32m/Users/agustindye/deployr/humai_02_typing3/clase_02_typing.ipynb Cell 17'\u001b[0m in \u001b[0;36mmulti_call_control\u001b[0;34m(num, alt)\u001b[0m\n\u001b[1;32m      <a href='vscode-notebook-cell:/Users/agustindye/deployr/humai_02_typing3/clase_02_typing.ipynb#ch0000096?line=0'>1</a>\u001b[0m \u001b[39mdef\u001b[39;00m \u001b[39mmulti_call_control\u001b[39m(num: \u001b[39mint\u001b[39m, alt: \u001b[39mbool\u001b[39m \u001b[39m=\u001b[39m \u001b[39mFalse\u001b[39;00m) \u001b[39m-\u001b[39m\u001b[39m>\u001b[39m \u001b[39mint\u001b[39m:\n\u001b[0;32m----> <a href='vscode-notebook-cell:/Users/agustindye/deployr/humai_02_typing3/clase_02_typing.ipynb#ch0000096?line=1'>2</a>\u001b[0m     \u001b[39massert\u001b[39;00m \u001b[39misinstance\u001b[39m(num, \u001b[39mint\u001b[39m), \u001b[39mf\u001b[39m\u001b[39m\"\u001b[39m\u001b[39mInvalid type :\u001b[39m\u001b[39m{\u001b[39;00m\u001b[39mtype\u001b[39m(num)\u001b[39m}\u001b[39;00m\u001b[39m\"\u001b[39m\n\u001b[1;32m      <a href='vscode-notebook-cell:/Users/agustindye/deployr/humai_02_typing3/clase_02_typing.ipynb#ch0000096?line=2'>3</a>\u001b[0m     \u001b[39mif\u001b[39;00m alt:\n\u001b[1;32m      <a href='vscode-notebook-cell:/Users/agustindye/deployr/humai_02_typing3/clase_02_typing.ipynb#ch0000096?line=3'>4</a>\u001b[0m         \u001b[39mreturn\u001b[39;00m num \u001b[39m*\u001b[39m \u001b[39m5\u001b[39m\n",
                        "\u001b[0;31mAssertionError\u001b[0m: Invalid type :<class 'float'>"
                    ]
                }
            ],
            "source": [
                "def multi_call_control(num: int, alt: bool = False) -> int:\n",
                "    assert isinstance(num, int), f\"Invalid type :{type(num)}\"\n",
                "    if alt:\n",
                "        return num * 5\n",
                "    return num * - 2\n",
                "print(multi_call_control(3.5))"
            ]
        },
        {
            "cell_type": "markdown",
            "metadata": {},
            "source": [
                "&nbsp;&nbsp;&nbsp;&nbsp; Ahora, una pregunta que deviene es: **¿Debería validar todos los tipos de todos los argumentos de todas las funciones?**. Si bien la respuesta no está escrita en piedra y cada uno codea como codea, en opinión de quien les escribe, uno no debería forzarse a uno mismo. Con esto me refiero a que si nosotros somos quienes escribimos una función (declaramos) y a la vez los usuarios (llamamos a dicha función) no deberiamos forzar a la función a validar los tipos con los que se está llamando, sino que deberiamos controlar que la estemos llamando correctamente. \n",
                "\n",
                "&nbsp;&nbsp;&nbsp;&nbsp; Obviamente no siempre es el caso. Si nosotros no somos los usuarios deberiamos hacer chequeos similares al implementeado en la función anterior. Por ejemplo, si lo que estamos desarrollando es una librería; tendriamos que chequear que el usuario este llamando a la función de la API con los datos correctos para que no rompa más abajo en el stack o mismo si estamos haciendo una API REST en donde los pedidos a un endpoint puede ser tan o más creativos que nuestra imaginación.\n",
                "\n",
                "| <img alt=\"u\" src=\"https://raw.githubusercontent.com/institutohumai/cursos-python/master/PracticasDeDesarrollo/2_Desarrollo_II/3_Tipado/images/u-shall.jpeg\"  />|\n",
                "|:--:|\n",
                "|*Gandalf devolviendo 400 en nuestra API*|\n",
                "\n",
                "&nbsp;&nbsp;&nbsp;&nbsp; Dicho esto, lo mejor para mantener consistencia en nuestro código es anotar cómo debería usarse una función y a su vez controlar cómo se está llamando.\n"
            ]
        },
        {
            "cell_type": "markdown",
            "metadata": {},
            "source": [
                "---"
            ]
        },
        {
            "cell_type": "markdown",
            "metadata": {},
            "source": [
                "## 1.3. MYPY"
            ]
        },
        {
            "cell_type": "markdown",
            "metadata": {},
            "source": [
                "\n",
                "&nbsp;&nbsp;&nbsp;&nbsp; Con respecto a este último punto, vamos a hacernos de una herramienta que sirve para automatizar el chequeo de type hints: `mypy`. Para eso vamos a instalarla:"
            ]
        },
        {
            "cell_type": "code",
            "execution_count": 7,
            "metadata": {},
            "outputs": [
                {
                    "name": "stdout",
                    "output_type": "stream",
                    "text": [
                        "Requirement already satisfied: mypy in /Users/agustindye/.pyenv/versions/3.10.2/lib/python3.10/site-packages (0.970+dev.7a6ecd3c96b61a9df59fa580acade0fde2a77d90)\n",
                        "Requirement already satisfied: tomli>=1.1.0 in /Users/agustindye/.pyenv/versions/3.10.2/lib/python3.10/site-packages (from mypy) (2.0.1)\n",
                        "Requirement already satisfied: typing-extensions>=3.10 in /Users/agustindye/.pyenv/versions/3.10.2/lib/python3.10/site-packages (from mypy) (4.2.0)\n",
                        "Requirement already satisfied: mypy-extensions>=0.4.3 in /Users/agustindye/.pyenv/versions/3.10.2/lib/python3.10/site-packages (from mypy) (0.4.3)\n"
                    ]
                }
            ],
            "source": [
                "!pip install mypy"
            ]
        },
        {
            "cell_type": "markdown",
            "metadata": {},
            "source": [
                "<details>\n",
                "<summary>\n",
                "NOTA\n",
                "</summary>\n",
                "\n",
                "Después de instalar `mypy` podemos configurarlo como el linter de VisualCode.\n",
                "\n",
                "* Ctrl + shift + P\n",
                "* \"Python: Select linter\"\n",
                "* Seleccionar mypy\n",
                "</details>\n",
                "\n",
                "&nbsp;&nbsp;&nbsp;&nbsp; Lo que **mypy** busca hacer es tratar de combinar los beneficios de tener un tipado estático en el contexto de un lenguaje dinámico. Para eso controla que los tipos que nosotros declaramos como hints coincidan con los de las variables con las que más adelante se llaman. Por ejemplo miremos el archivo `classes.py` en donde declaramos dos clases equivalentes `A` y `B`, una de la manera clásica de crear clases en Python y la otra con ayuda de la librería estandar `dataclasses` (muy recomendada para evitar codear una y otra vez `__init__`)."
            ]
        },
        {
            "cell_type": "code",
            "execution_count": null,
            "id": "1439ca94",
            "metadata": {},
            "outputs": [],
            "source": [
                "%%writefile classes.py\n",
                "\n",
                "from dataclasses import dataclass\n",
                "\n",
                "\n",
                "class A:\n",
                "    def __init__(self, a: int, b: str, c: float):\n",
                "        self.a = a\n",
                "        self.b = b\n",
                "        self.c = c\n",
                "\n",
                "\n",
                "ia = A(a=1, b=1, c=\"asdad\")\n",
                "\n",
                "\n",
                "@dataclass\n",
                "class B:\n",
                "    a: int\n",
                "    b: str\n",
                "    c: float\n",
                "\n",
                "\n",
                "ib = B(a=1, b=1, c=\"asdwqe\")\n",
                "\n",
                "print(f\"ia: {ia}\")\n",
                "print(f\"ib: {ib}\")\n"
            ]
        },
        {
            "cell_type": "markdown",
            "metadata": {},
            "source": [
                "| <img alt=\"main\" src=\"https://raw.githubusercontent.com/institutohumai/cursos-python/master/PracticasDeDesarrollo/2_Desarrollo_II/3_Tipado/images/main.png\"  />|\n",
                "|:--:|\n",
                "|*Warning al instanciar las clases*|\n",
                "\n",
                "\n",
                "&nbsp;&nbsp;&nbsp;&nbsp; En este caso, crear una nueva instancia de una clase, es tan solo un caso particular de una llamada a una función (`__init__`). Pero al igual que con las otras funciones puede ser ejecutadas y Python no nos levantará ningún warning (como mucho rompera más adelante porque el parámetro no es lo que debería ser)"
            ]
        },
        {
            "cell_type": "code",
            "execution_count": 8,
            "metadata": {},
            "outputs": [
                {
                    "name": "stdout",
                    "output_type": "stream",
                    "text": [
                        "ia: <__main__.A object at 0x102de3220>\n",
                        "ib: B(a=1, b=1, c='asdwqe')\n"
                    ]
                }
            ],
            "source": [
                "!python classes.py"
            ]
        },
        {
            "cell_type": "markdown",
            "metadata": {},
            "source": [
                "&nbsp;&nbsp;&nbsp;&nbsp; Arreglemos eso con **mypy**!\n",
                "\n",
                "&nbsp;&nbsp;&nbsp;&nbsp; Si bien **mypy**, puede usarse integrado en nuestro entorno de programación, este tambien puede usarse como modulo ejecutable sobre archivos o direcciones y obtener un analisis completo."
            ]
        },
        {
            "cell_type": "code",
            "execution_count": null,
            "id": "d61e202e",
            "metadata": {},
            "outputs": [],
            "source": [
                "%%writefile multi.py\n",
                "\n",
                "def multi_call(num, alt: bool = False):\n",
                "    if alt:\n",
                "        return num * 5\n",
                "    return num * -2\n",
                "\n",
                "\n",
                "b = multi_call(23, \"alt\")\n",
                "\n",
                "\n",
                "def multi_call_control(num: int, alt: bool = False) -> int:\n",
                "    assert isinstance(num, int), f\"Invalid type :{type(num)}\"\n",
                "    if alt:\n",
                "        return num * 5\n",
                "    return num * -2\n",
                "\n",
                "\n",
                "# print(multi_call_control(3.5)) # Descomentar esto para que salte la excepción\n"
            ]
        },
        {
            "cell_type": "code",
            "execution_count": 9,
            "metadata": {},
            "outputs": [
                {
                    "name": "stdout",
                    "output_type": "stream",
                    "text": [
                        "multi.py:1: \u001b[1m\u001b[31merror:\u001b[m Function is missing a return type annotation  \u001b[m\u001b[33m[no-untyped-def]\u001b[m\n",
                        "multi.py:1: \u001b[1m\u001b[31merror:\u001b[m Function is missing a type annotation for one or more arguments  \u001b[m\u001b[33m[no-untyped-def]\u001b[m\n",
                        "multi.py:7: \u001b[1m\u001b[31merror:\u001b[m Argument 2 to \u001b[m\u001b[1m\"multi_call\"\u001b[m has incompatible type \u001b[m\u001b[1m\"str\"\u001b[m; expected \u001b[m\u001b[1m\"bool\"\u001b[m  \u001b[m\u001b[33m[arg-type]\u001b[m\n",
                        "\u001b[1m\u001b[31mFound 3 errors in 1 file (checked 1 source file)\u001b[m\n"
                    ]
                }
            ],
            "source": [
                "!mypy multi.py # ejemplo con un archivo"
            ]
        },
        {
            "cell_type": "code",
            "execution_count": 10,
            "metadata": {},
            "outputs": [
                {
                    "name": "stdout",
                    "output_type": "stream",
                    "text": [
                        "multi.py:1: \u001b[1m\u001b[31merror:\u001b[m Function is missing a return type annotation  \u001b[m\u001b[33m[no-untyped-def]\u001b[m\n",
                        "multi.py:1: \u001b[1m\u001b[31merror:\u001b[m Function is missing a type annotation for one or more arguments  \u001b[m\u001b[33m[no-untyped-def]\u001b[m\n",
                        "multi.py:7: \u001b[1m\u001b[31merror:\u001b[m Argument 2 to \u001b[m\u001b[1m\"multi_call\"\u001b[m has incompatible type \u001b[m\u001b[1m\"str\"\u001b[m; expected \u001b[m\u001b[1m\"bool\"\u001b[m  \u001b[m\u001b[33m[arg-type]\u001b[m\n",
                        "classes.py:11: \u001b[1m\u001b[31merror:\u001b[m Argument \u001b[m\u001b[1m\"b\"\u001b[m to \u001b[m\u001b[1m\"A\"\u001b[m has incompatible type \u001b[m\u001b[1m\"int\"\u001b[m; expected \u001b[m\u001b[1m\"str\"\u001b[m  \u001b[m\u001b[33m[arg-type]\u001b[m\n",
                        "classes.py:11: \u001b[1m\u001b[31merror:\u001b[m Argument \u001b[m\u001b[1m\"c\"\u001b[m to \u001b[m\u001b[1m\"A\"\u001b[m has incompatible type \u001b[m\u001b[1m\"str\"\u001b[m; expected \u001b[m\u001b[1m\"float\"\u001b[m  \u001b[m\u001b[33m[arg-type]\u001b[m\n",
                        "classes.py:21: \u001b[1m\u001b[31merror:\u001b[m Argument \u001b[m\u001b[1m\"b\"\u001b[m to \u001b[m\u001b[1m\"B\"\u001b[m has incompatible type \u001b[m\u001b[1m\"int\"\u001b[m; expected \u001b[m\u001b[1m\"str\"\u001b[m  \u001b[m\u001b[33m[arg-type]\u001b[m\n",
                        "classes.py:21: \u001b[1m\u001b[31merror:\u001b[m Argument \u001b[m\u001b[1m\"c\"\u001b[m to \u001b[m\u001b[1m\"B\"\u001b[m has incompatible type \u001b[m\u001b[1m\"str\"\u001b[m; expected \u001b[m\u001b[1m\"float\"\u001b[m  \u001b[m\u001b[33m[arg-type]\u001b[m\n",
                        "\u001b[1m\u001b[31mFound 7 errors in 2 files (checked 3 source files)\u001b[m\n"
                    ]
                }
            ],
            "source": [
                "!mypy . # ejemplo con el pwd"
            ]
        },
        {
            "cell_type": "markdown",
            "metadata": {},
            "source": [
                "&nbsp;&nbsp;&nbsp;&nbsp; Correr **mypy** para controlar que todo sea llamado como corresponde es una muy buena práctica por ejemplo antes de comitear código y controlar que lo que hayamos agregado no rompa lo ya existente (automatizable con herramientas como `pre-commit`). \n",
                "\n",
                "&nbsp;&nbsp;&nbsp;&nbsp; Otro buen punto a mencionar es que **mypy** puede ser configurado, por ejemplo, por proyecto y en base a `pyproject.toml`\n",
                "\n",
                "| <img alt=\"pyproject\" src=\"https://raw.githubusercontent.com/institutohumai/cursos-python/master/PracticasDeDesarrollo/2_Desarrollo_II/3_Tipado/images/pyproject.png\"  />|\n",
                "|:--:|\n",
                "|*Ejemplo de configuración para mypy agregada al pyproject*|"
            ]
        },
        {
            "cell_type": "code",
            "execution_count": null,
            "id": "d99df24b",
            "metadata": {},
            "outputs": [],
            "source": [
                "%%writefile pyproject.toml\n",
                "\n",
                "[tool.poetry]\n",
                "name = \"humai_02_typing3\"\n",
                "version = \"0.1.0\"\n",
                "description = \"Paquete de ejemplo para la clase de tipado creado con poetry\"\n",
                "authors = [\"Agustin Dye <agustin@deployr.ai>\"]\n",
                "\n",
                "[tool.poetry.dependencies]\n",
                "python = \"^3.9\"\n",
                "\n",
                "[tool.poetry.dev-dependencies]\n",
                "\n",
                "[build-system]\n",
                "requires = [\"poetry-core>=1.0.0\"]\n",
                "build-backend = \"poetry.core.masonry.api\"\n",
                "\n",
                "# Confugración de ejemplo para mypy\n",
                "[tool.mypy]\n",
                "disallow_untyped_defs = true\n",
                "warn_unused_ignores = true\n",
                "show_error_codes = true"
            ]
        },
        {
            "cell_type": "markdown",
            "metadata": {},
            "source": [
                "&nbsp;&nbsp;&nbsp;&nbsp; Entonces. Teniendo **mypy**, vamos a seguir sus instrucciones y parchear lo requerido en el archivo `multi.py` (vamos a agregar los cambios en un nuevo archivo `multi_fixed.py`).\n",
                "* `multi.py:1: error: Function is missing a return type annotation  [no-untyped-def]`: Agreguemos el tipo que devuelve la función (`-> int`).\n",
                "* `multi.py:1: error: Function is missing a type annotation for one or more arguments  [no-untyped-def]`: Agreguemos el tipo a los argumentos que faltan (`num: int`).\n",
                "* `multi.py:7: error: Argument 2 to \"multi_call\" has incompatible type \"str\"; expected \"bool\"  [arg-type]`: En este caso no está hablando de la declaración de la función sino de como la estamos usando. Nos está indicando que estamos llamando a una función con un argumento de tipo `str` cuando la función espera un `bool`. Bastará con cambiar el tipo con que se lo llama (`'alt' -> True`).\n",
                "\n",
                "&nbsp;&nbsp;&nbsp;&nbsp; Con respecto a este último punto, se nos presenta un nuevo concepto: Duck Typing. Este concepto viene de la frase en ingles:\n",
                "\n",
                "> *\"If it walks like a duck and it quacks like a duck, then it must be a duck\"*\n",
                "\n",
                "&nbsp;&nbsp;&nbsp;&nbsp; Basicamente lo que nos quiere decir es que realmente no nos interesa si es un pato o no, mientras cumpla con las propiedades que nosotros deseamos. En nuestro caso, cuando usabamos un `str` no vació en el argumento `art`, lo que haciamos era que al momento de evaluar el 'if' nuestra variable era considerada truthy (cuando se lo evalua cómo booleano se considera verdadero), por lo tanto nuestro código funcionaba; pero ciertamente era más complejo de entender (usar un `str` con la funcionalidad de un `bool`).\n",
                "\n",
                "| <img alt=\"ducktyping\" src=\"https://raw.githubusercontent.com/institutohumai/cursos-python/master/PracticasDeDesarrollo/2_Desarrollo_II/3_Tipado/images/duck_typing.jpg\"  />|\n",
                "|:--:|\n",
                "|*Duck Typing*|\n",
                "\n",
                "\n",
                "&nbsp;&nbsp;&nbsp;&nbsp; Volviendo. Veamos entonces si se corrigió el archivo:"
            ]
        },
        {
            "cell_type": "code",
            "execution_count": null,
            "id": "100095a8",
            "metadata": {},
            "outputs": [],
            "source": [
                "%%writefile multi_fixed.py\n",
                "\n",
                "def multi_call(num: int, alt: bool = False) -> int:\n",
                "    if alt:\n",
                "        return num * 5\n",
                "    return num * -2\n",
                "\n",
                "\n",
                "b = multi_call(23, True)"
            ]
        },
        {
            "cell_type": "code",
            "execution_count": 11,
            "metadata": {},
            "outputs": [
                {
                    "name": "stdout",
                    "output_type": "stream",
                    "text": [
                        "\u001b[1m\u001b[32mSuccess: no issues found in 1 source file\u001b[m\n"
                    ]
                }
            ],
            "source": [
                "!mypy multi_fixed.py"
            ]
        },
        {
            "cell_type": "markdown",
            "metadata": {},
            "source": [
                "&nbsp;&nbsp;&nbsp;&nbsp; Victoria!👌. \n",
                "\n",
                "&nbsp;&nbsp;&nbsp;&nbsp; Solo a manera de ejemplo. ¿Qué hacemos si nuestro código acepta múltiples tipos? En ese caso podemos hacer uso de la mencionada librería **Typing** y especificar que lo que vamos a recibir puede ser una `Union` de multiples tipos."
            ]
        },
        {
            "cell_type": "code",
            "execution_count": 12,
            "metadata": {},
            "outputs": [],
            "source": [
                "from typing import Union\n",
                "\n",
                "def multi_call(num: Union[int, float], alt: bool = False) -> Union[int, float]:\n",
                "    if alt:\n",
                "        return num * 5\n",
                "    return num * -2\n",
                "\n",
                "\n",
                "b = multi_call(23, True)\n",
                "c = multi_call(3.4)\n"
            ]
        },
        {
            "cell_type": "markdown",
            "metadata": {},
            "source": [
                "<details>\n",
                "<summary>\n",
                "NOTA\n",
                "</summary>\n",
                "\n",
                "A partir de Python 3.10, podemos especificar la unión con el operador '|'\n",
                "\n",
                "```python\n",
                "def multi_call(num: int | float, alt: bool = False) -> int | float:\n",
                "    if alt:\n",
                "        return num * 5\n",
                "    return num * -2\n",
                "```\n",
                "\n",
                "</details>\n",
                "\n",
                "\n",
                "&nbsp;&nbsp;&nbsp;&nbsp; Si bien no vamos a ver todos, existen muchos otros tipos en **Typing** y que sirven para describir las diferentes estructuras de datos que existen en Python asi como los tipos de la data que contienen o tipos genéricos (qué puede presentar una solución alternativa al caso anterior)."
            ]
        },
        {
            "cell_type": "markdown",
            "metadata": {},
            "source": [
                "---"
            ]
        },
        {
            "cell_type": "markdown",
            "metadata": {},
            "source": [
                "## 1.4. Pydantic"
            ]
        },
        {
            "cell_type": "markdown",
            "metadata": {},
            "source": [
                "&nbsp;&nbsp;&nbsp;&nbsp; Ahora bien. Como veniamos viendo, type hinting **NO** hace validación de tipos. Si queremos validar tipos tenemos que chequearlo durante runtime. Para esto podemos usar el viejo y querido `assert` como en el ejemplo anterior o bien, si estamos declarando tipos podemos hacerlo con `Pydantic`."
            ]
        },
        {
            "cell_type": "code",
            "execution_count": 13,
            "metadata": {},
            "outputs": [
                {
                    "name": "stdout",
                    "output_type": "stream",
                    "text": [
                        "Requirement already satisfied: pydantic in /Users/agustindye/.pyenv/versions/3.10.2/lib/python3.10/site-packages (1.9.1)\n",
                        "Requirement already satisfied: typing-extensions>=3.7.4.3 in /Users/agustindye/.pyenv/versions/3.10.2/lib/python3.10/site-packages (from pydantic) (4.2.0)\n"
                    ]
                }
            ],
            "source": [
                "!pip install pydantic"
            ]
        },
        {
            "cell_type": "markdown",
            "metadata": {},
            "source": [
                "&nbsp;&nbsp;&nbsp;&nbsp; ¿Cómo funciona? Nada mejor que un buen ejemplo autocontenido:"
            ]
        },
        {
            "cell_type": "code",
            "execution_count": 14,
            "metadata": {},
            "outputs": [
                {
                    "name": "stdout",
                    "output_type": "stream",
                    "text": [
                        "123\n",
                        "datetime.datetime(2019, 6, 1, 12, 22)\n",
                        "[1, 2, 3, 4]\n",
                        "{'id': 123, 'signup_ts': datetime.datetime(2019, 6, 1, 12, 22), 'friends': [1, 2, 3, 4], 'name': 'Natalia Natalia'}\n"
                    ]
                }
            ],
            "source": [
                "from datetime import datetime\n",
                "from typing import List, Optional\n",
                "from pydantic import BaseModel\n",
                "\n",
                "class User(BaseModel):\n",
                "    id: int\n",
                "    name = 'Natalia Natalia'\n",
                "    signup_ts: Optional[datetime] = None\n",
                "    friends: List[int] = []\n",
                "\n",
                "external_data = {'id': '123', 'signup_ts': '2019-06-01 12:22', 'friends': [1, '2', b'3', 4.9]}\n",
                "user = User(**external_data)\n",
                "print(user.id)\n",
                "print(repr(user.signup_ts))\n",
                "print(user.friends)\n",
                "print(user.dict())"
            ]
        },
        {
            "cell_type": "markdown",
            "metadata": {},
            "source": [
                "&nbsp;&nbsp;&nbsp;&nbsp; Como podemos ver, **pydantic** no solo valida que los tipos de los argumentos con los que estamos llamando sino que, en caso de que no sea válido, trata de castearlo hacía el especificado en la declaración. Y digo trata porque no hace magia:"
            ]
        },
        {
            "cell_type": "code",
            "execution_count": 15,
            "metadata": {},
            "outputs": [
                {
                    "name": "stdout",
                    "output_type": "stream",
                    "text": [
                        "[\n",
                        "  {\n",
                        "    \"loc\": [\n",
                        "      \"id\"\n",
                        "    ],\n",
                        "    \"msg\": \"value is not a valid integer\",\n",
                        "    \"type\": \"type_error.integer\"\n",
                        "  },\n",
                        "  {\n",
                        "    \"loc\": [\n",
                        "      \"signup_ts\"\n",
                        "    ],\n",
                        "    \"msg\": \"invalid datetime format\",\n",
                        "    \"type\": \"value_error.datetime\"\n",
                        "  },\n",
                        "  {\n",
                        "    \"loc\": [\n",
                        "      \"friends\",\n",
                        "      0\n",
                        "    ],\n",
                        "    \"msg\": \"value is not a valid integer\",\n",
                        "    \"type\": \"type_error.integer\"\n",
                        "  }\n",
                        "]\n"
                    ]
                }
            ],
            "source": [
                "from pydantic import ValidationError\n",
                "\n",
                "external_data = {'id': 'Carlitos el Corrupto', 'signup_ts': 'ayer', 'friends': [\"asd\"]}\n",
                "try:\n",
                "    user = User(**external_data)\n",
                "except ValidationError as e:\n",
                "    print(e.json())"
            ]
        },
        {
            "cell_type": "markdown",
            "metadata": {},
            "source": [
                "&nbsp;&nbsp;&nbsp;&nbsp; En este caso, no existe una forma sencilla o lógica de obtener un entero a partir de el string `\"Carlitos el Corrupto\"` por lo que falla en la validación al igual que en el resto de los campos. Esto es lo que pasa por ejemplo, si teniendo un endpoint de una API REST construida con [FastAPI](https://fastapi.tiangolo.com/) (que utiliza **pydantic** tras bambalinas) es llamado con un request sin el formato esperado.\n",
                "\n",
                "&nbsp;&nbsp;&nbsp;&nbsp; Esto está genial! ¿Por qué no usarlo siempre? Bueno, por un lado, el concepto que hablamos anteriormente con respecto a cuando deberiamos validar data vs validar llamadas; y por otro, imperceptible al ojo, es menos performante que por ejemplo usar **dataclasses** (que no hace validación de tipos).\n",
                "\n",
                "\n",
                "&nbsp;&nbsp;&nbsp;&nbsp; Algunos de los otros features interesantes de **pydantic** incluyen:\n",
                "* Validators: Podemos validar, además del tipo, cualquier propiedad que se nos ocurran durante la instanciación de una clase."
            ]
        },
        {
            "cell_type": "code",
            "execution_count": 19,
            "metadata": {},
            "outputs": [
                {
                    "name": "stdout",
                    "output_type": "stream",
                    "text": [
                        "name='Carlitos El Incorruptible' username='charlie123'\n",
                        "1 validation error for UserModel\n",
                        "name\n",
                        "  only carlitos allowed! (type=value_error)\n"
                    ]
                }
            ],
            "source": [
                "from pydantic import BaseModel, ValidationError, validator\n",
                "\n",
                "\n",
                "class UserModel(BaseModel):\n",
                "    name: str\n",
                "    username: str\n",
                "\n",
                "    @validator('name')\n",
                "    def name_must_contain_carlitos(cls, v):\n",
                "        if 'carlitos' not in v.lower():\n",
                "            raise ValueError('only carlitos allowed!')\n",
                "        return v.title()\n",
                "\n",
                "\n",
                "user = UserModel(\n",
                "    name='Carlitos el incorruptible',\n",
                "    username='charlie123',\n",
                ")\n",
                "print(user)\n",
                "\n",
                "\n",
                "try:\n",
                "    UserModel(\n",
                "        name='Otro Nombre',\n",
                "        username='humai123',\n",
                "    )\n",
                "except ValidationError as e:\n",
                "    print(e)\n"
            ]
        },
        {
            "cell_type": "markdown",
            "metadata": {},
            "source": [
                "* Agregar restricciones a nivel de clase. Es decir para todos los argumentos."
            ]
        },
        {
            "cell_type": "code",
            "execution_count": 17,
            "metadata": {},
            "outputs": [
                {
                    "name": "stdout",
                    "output_type": "stream",
                    "text": [
                        "1 validation error for Model\n",
                        "b\n",
                        "  max_length:10 (type=value_error.any_str.max_length; limit_value=10)\n"
                    ]
                }
            ],
            "source": [
                "from pydantic import BaseModel, ValidationError\n",
                "\n",
                "\n",
                "class Model(BaseModel):\n",
                "    a: str\n",
                "    b: str\n",
                "\n",
                "\n",
                "    class Config:\n",
                "        max_anystr_length = 10\n",
                "        error_msg_templates = {\n",
                "            'value_error.any_str.max_length': 'max_length:{limit_value}',\n",
                "        }\n",
                "\n",
                "\n",
                "try:\n",
                "    Model(a='x' * 5, b='y' * 15)\n",
                "except ValidationError as e:\n",
                "    print(e)\n"
            ]
        },
        {
            "cell_type": "markdown",
            "metadata": {},
            "source": [
                "* Creación de schemas en formato JSON a partir de los modelos."
            ]
        },
        {
            "cell_type": "code",
            "execution_count": 18,
            "metadata": {},
            "outputs": [
                {
                    "name": "stdout",
                    "output_type": "stream",
                    "text": [
                        "{\n",
                        "  \"title\": \"The universe\",\n",
                        "  \"description\": \"This is the description of the main model\",\n",
                        "  \"type\": \"object\",\n",
                        "  \"properties\": {\n",
                        "    \"gods\": {\n",
                        "      \"$ref\": \"#/definitions/Gods\"\n",
                        "    },\n",
                        "    \"Carlitos\": {\n",
                        "      \"$ref\": \"#/definitions/Carlitos\"\n",
                        "    },\n",
                        "    \"snap\": {\n",
                        "      \"title\": \"The Snap\",\n",
                        "      \"description\": \"this is the value of snap\",\n",
                        "      \"default\": 42,\n",
                        "      \"exclusiveMinimum\": 30,\n",
                        "      \"exclusiveMaximum\": 50,\n",
                        "      \"type\": \"integer\"\n",
                        "    }\n",
                        "  },\n",
                        "  \"required\": [\n",
                        "    \"gods\"\n",
                        "  ],\n",
                        "  \"definitions\": {\n",
                        "    \"Gods\": {\n",
                        "      \"title\": \"Gods\",\n",
                        "      \"type\": \"object\",\n",
                        "      \"properties\": {\n",
                        "        \"strengh_level\": {\n",
                        "          \"title\": \"Strengh Level\",\n",
                        "          \"type\": \"integer\"\n",
                        "        },\n",
                        "        \"size\": {\n",
                        "          \"title\": \"Size\",\n",
                        "          \"type\": \"number\"\n",
                        "        }\n",
                        "      },\n",
                        "      \"required\": [\n",
                        "        \"strengh_level\"\n",
                        "      ]\n",
                        "    },\n",
                        "    \"Carlitos\": {\n",
                        "      \"title\": \"Carlitos\",\n",
                        "      \"type\": \"object\",\n",
                        "      \"properties\": {\n",
                        "        \"strengh_level\": {\n",
                        "          \"title\": \"Strengh Level\",\n",
                        "          \"type\": \"integer\"\n",
                        "        },\n",
                        "        \"size\": {\n",
                        "          \"title\": \"Size\",\n",
                        "          \"type\": \"number\"\n",
                        "        },\n",
                        "        \"name\": {\n",
                        "          \"title\": \"Name\",\n",
                        "          \"default\": \"The one and only\",\n",
                        "          \"type\": \"string\"\n",
                        "        }\n",
                        "      },\n",
                        "      \"required\": [\n",
                        "        \"strengh_level\"\n",
                        "      ]\n",
                        "    }\n",
                        "  }\n",
                        "}\n"
                    ]
                }
            ],
            "source": [
                "from pydantic import BaseModel, Field\n",
                "\n",
                "\n",
                "class Gods(BaseModel):\n",
                "    strengh_level: int\n",
                "    size: float = None\n",
                "\n",
                "class Carlitos(Gods):\n",
                "    name: str = \"The one and only\"\n",
                "\n",
                "\n",
                "class Universe(BaseModel):\n",
                "    \"\"\"\n",
                "    This is the description of the main model\n",
                "    \"\"\"\n",
                "\n",
                "    gods: Gods = Field(...)\n",
                "    carlitos: Carlitos = Field(None, alias='Carlitos')\n",
                "    snap: int = Field(\n",
                "        42,\n",
                "        title='The Snap',\n",
                "        description='this is the value of snap',\n",
                "        gt=30,\n",
                "        lt=50,\n",
                "    )\n",
                "\n",
                "    class Config:\n",
                "        title = 'The universe'\n",
                "\n",
                "\n",
                "print(Universe.schema_json(indent=2))\n"
            ]
        },
        {
            "cell_type": "markdown",
            "metadata": {},
            "source": [
                "### 1.5 Conclusiones"
            ]
        },
        {
            "cell_type": "markdown",
            "metadata": {},
            "source": [
                "\n",
                "&nbsp;&nbsp;&nbsp;&nbsp; Espero que con esta presentación tengas una idea general de que son los types hint, como se manejan los tipos en Python y como usar herramientas como **mypy** o **pydantic** para solidificar nuestro código.\n",
                "\n",
                "&nbsp;&nbsp;&nbsp;&nbsp; Recomiendo mucho ver el [cheat sheet de tipos de mypy](https://mypy.readthedocs.io/en/stable/cheat_sheet_py3.html). Simplemente hermoso y esclarecedor."
            ]
        }
    ],
    "metadata": {
        "kernelspec": {
            "display_name": "Python 3 (ipykernel)",
            "language": "python",
            "name": "python3"
        },
        "language_info": {
            "codemirror_mode": {
                "name": "ipython",
                "version": 3
            },
            "file_extension": ".py",
            "mimetype": "text/x-python",
            "name": "python",
            "nbconvert_exporter": "python",
            "pygments_lexer": "ipython3",
            "version": "3.7.6"
        },
        "vscode": {
            "interpreter": {
                "hash": "d27203dcce1218a35e5dd056f2e1158cfdf3a468b69181284abdce2479607453"
            }
        }
    },
    "nbformat": 4,
    "nbformat_minor": 5
}
