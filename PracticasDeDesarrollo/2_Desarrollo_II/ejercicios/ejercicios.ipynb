{
 "cells": [
  {
   "cell_type": "markdown",
   "metadata": {},
   "source": [
    "<a href=\"https://colab.research.google.com/github/institutohumai/cursos-python/blob/master/PracticasDeDesarrollo/2_Desarrollo_II/ejercicios/ejercicios.ipynb\" target=\"_parent\"><img src=\"https://colab.research.google.com/assets/colab-badge.svg\" alt=\"Open in Colab\"/></a>"
   ]
  },
  {
   "cell_type": "markdown",
   "metadata": {},
   "source": [
    "# Ejercicios\n",
    "\n",
    "Para la tarea de esta clase vamos a crear un ambiente virtual, con CONDA o Poetry y vamos a crear un script que usando click podamos llamar a las funciones en de la Mistery definida en el archivo `wrong.py`.\n",
    "Continuando, vamos a instalar mypy en el mismo ambiente y vamos a corregir wrong.py junto con los archivos que vayamos agregando.\n",
    "¡Suerte! :)"
   ]
  },
  {
   "cell_type": "code",
   "execution_count": null,
   "metadata": {
    "vscode": {
     "languageId": "plaintext"
    }
   },
   "outputs": [],
   "source": [
    "%%writefile wrong.py\n",
    "\n",
    "from typing import Dict\n",
    "\n",
    "def mul(num, alt: bool = False):\n",
    "    if alt:\n",
    "        return num * 5\n",
    "    return num * -2\n",
    "\n",
    "\n",
    "b: Dict = mul(23, \"wrong\")\n",
    "\n",
    "\n",
    "class Mistery:\n",
    "    def __init__(x, y, z):\n",
    "        self.x = x\n",
    "        self.y = y\n",
    "\n",
    "    def funtionX(self) -> int:\n",
    "        ans = 0\n",
    "        roman = {'I': 1, 'V': 5, 'X': 10, 'L': 50, 'C': 100, 'D': 500, 'M': 1000}\n",
    "\n",
    "        for a, b in zip(self.x, self.x[1:]):\n",
    "            if roman[a] < roman[b]:\n",
    "                ans -= roman[a]\n",
    "            else:\n",
    "                ans += roman[a]\n",
    "\n",
    "        return ans + roman[self.x[-1]]\n",
    "\n",
    "    def functionY(self, target) -> List[int]:\n",
    "        numToIndex = {}\n",
    "\n",
    "        for i, num in enumerate(self.y):\n",
    "            if target - num in numToIndex:\n",
    "                return numToIndex[target - num], i\n",
    "        numToIndex[num] = i\n"
   ]
  }
 ],
 "metadata": {
  "kernelspec": {
   "display_name": "Python 3 (ipykernel)",
   "language": "python",
   "name": "python3"
  },
  "language_info": {
   "codemirror_mode": {
    "name": "ipython",
    "version": 3
   },
   "file_extension": ".py",
   "mimetype": "text/x-python",
   "name": "python",
   "nbconvert_exporter": "python",
   "pygments_lexer": "ipython3",
   "version": "3.7.6"
  }
 },
 "nbformat": 4,
 "nbformat_minor": 4
}
