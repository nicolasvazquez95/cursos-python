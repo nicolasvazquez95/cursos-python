{
    "cells": [
        {
            "cell_type": "markdown",
            "id": "35ea051b",
            "metadata": {},
            "source": [
                "<a href=\"https://colab.research.google.com/github/institutohumai/cursos-python/blob/master/PracticasDeDesarrollo/2_Desarrollo_II/2_Poetry/clase_02_poetry.ipynb\" target=\"_parent\"><img src=\"https://colab.research.google.com/assets/colab-badge.svg\" alt=\"Open In Colab\" data-canonical-src=\"https://colab.research.google.com/assets/colab-badge.svg\"></a>"
            ]
        },
        {
            "cell_type": "markdown",
            "id": "4dddb351",
            "metadata": {},
            "source": [
                "# 1. Poetry: Gestor de dependencias y paquetes\n",
                "\n",
                "<a href=\"https://python-poetry.org//\">\n",
                "<img alt=\"Logo de Poetry\" src=\"https://raw.githubusercontent.com/institutohumai/cursos-python/master/PracticasDeDesarrollo/2_Desarrollo_II/2_Poetry/images/logo-origami.svg\" height=\"150px\"/>\n",
                "</a>"
            ]
        },
        {
            "cell_type": "markdown",
            "id": "c1f95d95",
            "metadata": {},
            "source": [
                "## 1.1. Introducción a conceptos básicos"
            ]
        },
        {
            "cell_type": "markdown",
            "id": "7a47a43b",
            "metadata": {},
            "source": [
                "### ¿Qué es Poetry?\n",
                "\n",
                "&nbsp;&nbsp;&nbsp;&nbsp;**Poetry** es un gestor de paquetes que al igual que el querido (?) PIP se encarga de instalar todas las dependencias que necesitemos para nuestros proyectos de desarrollo creando un ambiente virtual para cada proyecto... Esperen. ¿No es lo mismo que lo que ya vimos con CONDA?. Casi; por ahora conozcamos el chico nuevo.\n",
                "\n",
                "### ¿Por qué existe?\n",
                "\n",
                "&nbsp;&nbsp;&nbsp;&nbsp; ¿No es lo qué nos preguntamos todos?... Al menos Poetry lo tiene resuelto: A la hora de crear un nuevo paquete en Python, hacerlo de manera tradicional puede ser un poco intimidante y escabroso si no entendés que hace cada uno de los archivos necesarios (`setup.py`, `requirements.txt`, `setup.cfg`, `MANIFEST.in` y `Pipfile`). Poetry resuelve esto teniendo un archivo de configuración maestro que incluye:\n",
                "* Gestionar las dependencias del proyecto.\n",
                "* El empaquetado del mismo.\n",
                "* Su publicación.\n",
                "\n",
                "&nbsp;&nbsp;&nbsp;&nbsp; Otro aspecto importante de Poetry es que tiene su propio motor de resolución de dependencias. Eso es lo que, cuando queremos instalar un nuevo paquete, verifica que sea compatible con los paquetes que tenemos instalados anteriormente para que no rompa nada. Este punto es clave porque en PIP, cuando queremos instalar una dependencia que rompe con un requerimiento de una anterior nos la instalará pero nos dara un hermoso mensaje en rojo pasión indicando que el paquete está rompiendo una dependencia. En Poetry ese mismo escenario no es posible. Simplemente denegará cualquier instalación que pueda potencialmente romper el ambiente."
            ]
        },
        {
            "cell_type": "markdown",
            "id": "a36eee23",
            "metadata": {},
            "source": [
                "| <img alt=\"Instalando con pip\" src=\"https://raw.githubusercontent.com/institutohumai/cursos-python/master/PracticasDeDesarrollo/2_Desarrollo_II/2_Poetry/images/pip-install.png\" /> |\n",
                "|:--:|\n",
                "|*Ejemplo de instalación de dependencias incompletas en pip*|"
            ]
        },
        {
            "cell_type": "markdown",
            "id": "682a3c83",
            "metadata": {},
            "source": [
                "---"
            ]
        },
        {
            "cell_type": "markdown",
            "id": "b300f815",
            "metadata": {},
            "source": [
                "### 1.2 Instalación"
            ]
        },
        {
            "cell_type": "markdown",
            "id": "98df3314",
            "metadata": {},
            "source": [
                "&nbsp;&nbsp;&nbsp;&nbsp; El proceso de instalación es bastante sencillo. Descargamos el script de instalación que corre con Python (tenés que tener instalado Python 3.5+) y lo corremos. Podemos hacer eso con un solo comando:\n",
                "\n",
                "```bash\n",
                "curl -sSL https://raw.githubusercontent.com/python-poetry/poetry/master/get-poetry.py | python -\n",
                "```\n",
                "\n",
                "Podemos corrobara que todo se instaló correctamente verificando la versión instalada:\n",
                "\n",
                "```console\n",
                "root@340bf95519db:/# poetry -V\n",
                "Poetry version 1.1.13\n",
                "```\n",
                "\n",
                "*Si no podés ver ese resultado, recordá que tenés que actualizar la shell con `source $HOME/.poetry/env` o abrír un nuevo terminal*"
            ]
        },
        {
            "cell_type": "markdown",
            "id": "6b7dbe6e",
            "metadata": {},
            "source": [
                "---"
            ]
        },
        {
            "cell_type": "markdown",
            "id": "567be33a",
            "metadata": {},
            "source": [
                "### 1.3 Iniciando un nuevo proyecto"
            ]
        },
        {
            "cell_type": "markdown",
            "id": "04276b3a",
            "metadata": {},
            "source": [
                "&nbsp;&nbsp;&nbsp;&nbsp; Teniendo Poetry listo, vamos a crear nuestro primer proyecto. Para esto podemos tomar un proyecto que ya esté comenzado, posicionarnos en el directorio del mismo y correr `poetry init` (este escenario es el que vamos a encontrar cuando iniciemos un proyecto con Cookiecutter).\n",
                "\n",
                "&nbsp;&nbsp;&nbsp;&nbsp; La otra opción es arrancar uno desde cero:\n",
                "\n",
                "```console\n",
                "root@340bf95519db:/deployr# poetry new humai_demo\n",
                "Created package humai_demo in humai_demo\n",
                "root@340bf95519db:/deployr# tree humai_demo/\n",
                "humai_demo/\n",
                "├── README.rst\n",
                "├── humai_demo\n",
                "│   └── __init__.py\n",
                "├── pyproject.toml\n",
                "└── tests\n",
                "    ├── __init__.py\n",
                "    └── test_humai_demo.py\n",
                "\n",
                "2 directories, 5 files\n",
                "```\n",
                "*No te preocupes si el segundo comando no corre, es simplemente para ver la estructura de archivos a partir de un path. Seguramente lo podés instalar en su máquina instalando el paquete 'tree' en tu SO. (Ej: apt install tree)*\n",
                "\n",
                "&nbsp;&nbsp;&nbsp;&nbsp; Genial!! Ya pusimos nuestra primera piedra. Hablemos de que es cada cosa:\n",
                "* `README.rst`: El viejo y querido README, contandonos lo más importante de nuestro proyecto\n",
                "* `humai_demo`: Este es el nombre que le pusimos a nuestro proyecto. En este directorio va a estar todo el código fuente de nuesto paquete. Por ahora solo tenemos un siemple `__init__.py` que comienza con una versión 0.1.0 (A la hora de sacar nuevas versiones de nuestro paquete, recordemos modificar esto).\n",
                "* `pyproject.toml`: El archivo de configuración maestro de Poetry. Cómo mencionamos, acá va a ir toda las información y dependencias referidas a nuestro paquete.\n",
                "* `tests`: Carpeta en donde podemos colocar nuestros tests (nada mejor que una librería que nos recuerda la importancia de correr tests en nuestro código).\n",
                "\n",
                "\n",
                "&nbsp;&nbsp;&nbsp;&nbsp; Pasemos pues a explicar de que se compone el archivo **pyproject.toml**:"
            ]
        },
        {
            "cell_type": "markdown",
            "id": "c52e2406",
            "metadata": {},
            "source": [
                "| <img alt=\"Contenido pyproject.toml\" src=\"https://raw.githubusercontent.com/institutohumai/cursos-python/master/PracticasDeDesarrollo/2_Desarrollo_II/2_Poetry/images/pyproject.png\" /> |\n",
                "|:--:|\n",
                "|*Contenido del archivo pyproject.toml*|"
            ]
        },
        {
            "cell_type": "markdown",
            "id": "dde8cec7",
            "metadata": {},
            "source": [
                "\n",
                "---"
            ]
        },
        {
            "cell_type": "markdown",
            "id": "2b8593cf",
            "metadata": {},
            "source": [
                "### 1.4 Agregar  paquetes"
            ]
        },
        {
            "cell_type": "markdown",
            "id": "bc669a6c",
            "metadata": {},
            "source": [
                "&nbsp;&nbsp;&nbsp;&nbsp; Como habrás notado, si venís corriendo los comandos por tu cuenta, hay una dependencia que no existe en tu `pyproject.toml`: **fastapi** (Reemplazo asyncrónico del querido Flask). Pero, ¿Cómo llegó eso ahí?. La forma más sencilla es agregarlo a mano en la configuración. O bien indicandole a poetry, estando posicionados en la carpeta del proyecto, que agregue una nueva dependencia: `poetry add fastapi`.\n",
                "\n",
                "&nbsp;&nbsp;&nbsp;&nbsp; Ahora, si corriste el comando anterior pasarón las siguientes cosas:\n",
                " * Se creó un ambiente virtual para nuestro proyecto. Por defecto toma el nombre del proyecto, un hash (que depende del path en el que estemos), y la versión de python. Cada vez que querramos agregar una nueva dependencia, no se agregará al ambiente del sistema sino que lo mantendrá aislado en nuestro ambiente-proyecto.\n",
                " * Se resolvieron las dependencias. Acá es en donde toma lugar lo que mencionabamos anteriormente en cuanto a que poetry resuelve sus dependencias usando un solver propio.\n",
                " * Si todo funcionó bien, escribió 'la solución' al problema de las dependencias en `poetry.lock`, de modo tal de que si alguien quiere instalar el paquete no tenga que volver a resolver las dependencias.\n",
                " * Finalmente, agregó la dependencia al archivo de configuración.\n",
                "\n",
                "Pero, ¿Qué pasa si quiero agregar una dependencia que es incompatible con lo que ya tengo instalado? Un ejemplo de esto puede ser `pydantic=1.7`, que colisionará con el previamente instalado `fastapi=0.78.0` (última versión al momento de la redacción)\n",
                "\n",
                "```console\n",
                "root@51f3b54f5802:/humai_demo# poetry add pydantic=1.7\n",
                "\n",
                "Updating dependencies\n",
                "Resolving dependencies... (0.2s)\n",
                "\n",
                "  SolverProblemError\n",
                "\n",
                "  Because fastapi (0.78.0) depends on pydantic (>=1.6.2,<1.7 || >1.7,<1.7.1 || >1.7.1,<1.7.2 || >1.7.2,<1.7.3 || >1.7.3,<1.8 || >1.8,<1.8.1 || >1.8.1,<2.0.0)\n",
                "   and no versions of fastapi match >0.78.0,<0.79.0, fastapi (>=0.78.0,<0.79.0) requires pydantic (>=1.6.2,<1.7 || >1.7,<1.7.1 || >1.7.1,<1.7.2 || >1.7.2,<1.7.3 || >1.7.3,<1.8 || >1.8,<1.8.1 || >1.8.1,<2.0.0).\n",
                "  So, because humai_demo depends on both fastapi (^0.78.0) and pydantic (1.7), version solving failed.\n",
                "\n",
                "  at ~/.poetry/lib/poetry/puzzle/solver.py:241 in _solve\n",
                "      237│             packages = result.packages\n",
                "      238│         except OverrideNeeded as e:\n",
                "      239│             return self.solve_in_compatibility_mode(e.overrides, use_latest=use_latest)\n",
                "      240│         except SolveFailure as e:\n",
                "    → 241│             raise SolverProblemError(e)\n",
                "      242│ \n",
                "      243│         results = dict(\n",
                "      244│             depth_first_search(\n",
                "      245│                 PackageNode(self._package, packages), aggregate_package_nodes\n",
                "```\n",
                "\n",
                "Y acá marcamos una gran diferencia con PIP. Cómo vimos anteriormente, PIP nos dejaba instalar el paquete pero nos avisaba que había otras dependencias que se iban a romper. Poetry no nos permite hacer esto, solo nos va a dejar instalar algo si no rompe lo que ya está."
            ]
        },
        {
            "cell_type": "markdown",
            "id": "62a5f438",
            "metadata": {},
            "source": [
                "---"
            ]
        },
        {
            "cell_type": "markdown",
            "id": "ab751b0f",
            "metadata": {},
            "source": [
                "### 1.5 Instalar nuestro paquete"
            ]
        },
        {
            "cell_type": "markdown",
            "id": "2b540d7e",
            "metadata": {},
            "source": [
                "&nbsp;&nbsp;&nbsp;&nbsp; Al igual que con PIP, podemos verficar cuales son los paquetes que tenemos instalados en nuestro ambientes ejecutando `poetry show` (simil `pip list`)\n",
                "\n",
                "```console\n",
                "root@51f3b54f5802:/humai_demo# poetry show\n",
                "anyio             3.6.1  High level compatibility layer for multiple asynchronous event loop implementations\n",
                "attrs             21.4.0 Classes Without Boilerplate\n",
                "fastapi           0.78.0 FastAPI framework, high performance, easy to learn, fast to code, ready for production\n",
                "idna              3.3    Internationalized Domain Names in Applications (IDNA)\n",
                "more-itertools    8.13.0 More routines for operating on iterables, beyond itertools\n",
                "packaging         21.3   Core utilities for Python packages\n",
                "pluggy            0.13.1 plugin and hook calling mechanisms for python\n",
                "py                1.11.0 library with cross-python path, ini-parsing, io, code, log facilities\n",
                "pydantic          1.9.1  Data validation and settings management using python type hints\n",
                "pyparsing         3.0.9  pyparsing module - Classes and methods to define and execute parsing grammars\n",
                "pytest            5.4.3  pytest: simple powerful testing with Python\n",
                "sniffio           1.2.0  Sniff out which async library your code is running under\n",
                "starlette         0.19.1 The little ASGI library that shines.\n",
                "typing-extensions 4.3.0  Backported and Experimental Type Hints for Python 3.7+\n",
                "wcwidth           0.2.5  Measures the displayed width of unicode strings in a terminal\n",
                "```\n",
                "\n",
                "&nbsp;&nbsp;&nbsp;&nbsp; Cómo vemos, nuestro paquete no está listado. En primer lugar porque nunca lo instalamos :), y en segundo porque `poetry show` no muestro el paquete local que estamos trabajando. Para instalarlo, simplemente corremos `poetry install`\n",
                "\n",
                "```console\n",
                "root@51f3b54f5802:/humai_demo# poetry install\n",
                "Installing dependencies from lock file\n",
                "\n",
                "No dependencies to install or update\n",
                "\n",
                "Installing the current project: humai_demo (0.1.0)\n",
                "```\n",
                "&nbsp;&nbsp;&nbsp;&nbsp; Acá es en donde sacamos frutos del lockfile: dado que todas las dependencias están resueltas el solver no tiene que volver a trabajar, por lo que simplemente lee el lock e instala (si no lo había hecho previamente) todo lo necesario. Cabe aclarar que es en este lugar en donde podemos indicarle a Poetry que instale dependencias extras o que no instale las dependencias de desarrollo."
            ]
        },
        {
            "cell_type": "markdown",
            "id": "addba679",
            "metadata": {},
            "source": [
                "---"
            ]
        },
        {
            "cell_type": "markdown",
            "id": "32248051",
            "metadata": {},
            "source": [
                "### 1.6 Actualizar y eliminar paquetes"
            ]
        },
        {
            "cell_type": "markdown",
            "id": "ff5f2815",
            "metadata": {},
            "source": [
                "&nbsp;&nbsp;&nbsp;&nbsp; Actualizar y eliminar paquetes es sencillo al igual que en PIP. A manera de ejemplo:\n",
                "  * Agreguemos una nueva dependencia desactualizada\n",
                "  ```console\n",
                "  root@51f3b54f5802:/humai_demo# poetry add requests=2.27.1\n",
                "\n",
                "  Updating dependencies\n",
                "  Resolving dependencies... (0.9s)\n",
                "\n",
                "  Writing lock file\n",
                "\n",
                "  Package operations: 4 installs, 0 updates, 0 removals\n",
                "\n",
                "    • Installing certifi (2022.6.15)\n",
                "    • Installing charset-normalizer (2.0.12)\n",
                "    • Installing urllib3 (1.26.9)\n",
                "    • Installing requests (2.27.1)\n",
                "  ```\n",
                "\n",
                "  * Actualicemosla con `poetry update`. Para esto tenemos 2 formas, o bien actualizamos todos las dependencias (igual que podemos hacer en CONDA) o actualizamos individualmente la dependencia que necesitemos. Para esto es importante que si instalamos la dependencia cómo hicimos en el comando anterior en donde fijamos la versión (yo quiero solamente la 2.27.1), relajemos la dependencia. Para eso podemos editar el `pyproject.toml` en la linea en donde especificamos la versión de `requests`\n",
                "\n",
                "  | <img alt=\"Actualización de config\" src=\"https://raw.githubusercontent.com/institutohumai/cursos-python/master/PracticasDeDesarrollo/2_Desarrollo_II/2_Poetry/images/dependency-update.png\" /> |\n",
                "  |:--:|\n",
                "  |*Relajando los requisitos de requests. Solo se cambia '^'*|\n",
                "\n",
                "  Ahora solo queda actualizar `requests`\n",
                "  ```console\n",
                "  root@51f3b54f5802:/humai_demo# poetry update requests\n",
                "  Updating dependencies\n",
                "  Resolving dependencies... (0.2s)\n",
                "\n",
                "  Writing lock file\n",
                "\n",
                "  Package operations: 0 installs, 1 update, 0 removals\n",
                "\n",
                "    • Updating requests (2.27.1 -> 2.28.1)\n",
                "  ```\n",
                "\n",
                "  * Y ya que en realidad no necesitamos la dependencia, deberiamos eliminarla de la lista de requerimientos de nuestro paquete. Para eso simplemente corremos:\n",
                "  `poetry remove requests`\n",
                "\n",
                "  ```console\n",
                "  root@51f3b54f5802:/humai_demo# poetry remove requests\n",
                "  Updating dependencies\n",
                "  Resolving dependencies... (0.1s)\n",
                "\n",
                "  Writing lock file\n",
                "\n",
                "  Package operations: 0 installs, 0 updates, 4 removals\n",
                "\n",
                "    • Removing certifi (2022.6.15)\n",
                "    • Removing charset-normalizer (2.0.12)\n",
                "    • Removing requests (2.28.1)\n",
                "    • Removing urllib3 (1.26.9)\n",
                "  ```"
            ]
        },
        {
            "cell_type": "markdown",
            "id": "eff9e5d6",
            "metadata": {},
            "source": [
                "---"
            ]
        },
        {
            "cell_type": "markdown",
            "id": "c46fe9ff",
            "metadata": {},
            "source": [
                "### 1.7 Ambiente virtual"
            ]
        },
        {
            "cell_type": "markdown",
            "id": "65a8c5ac",
            "metadata": {},
            "source": [
                "&nbsp;&nbsp;&nbsp;&nbsp; Cómo vemos hasta ahora, estamos instalando todos los paquetes en el ambiente virtual creado por Poetry para nuestro proyecto. Para poder acceder a dicho ambiente podemos:\n",
                "* Activar el ambiente en nuestro shell\n",
                "\n",
                "```console\n",
                "root@51f3b54f5802:/humai_demo# poetry shell\n",
                "Spawning shell within /root/.cache/pypoetry/virtualenvs/humai_demo-pCYlvB0E-py3.10\n",
                "root@51f3b54f5802:/humai_demo# . /root/.cache/pypoetry/virtualenvs/humai_demo-pCYlvB0E-py3.10/bin/activate\n",
                "(humai-demo-pCYlvB0E-py3.10) root@51f3b54f5802:/humai-demo#\n",
                "```\n",
                "* Pedirle a Poetry que corra un comando bajo ese ambiente\n",
                "\n",
                "```console\n",
                "root@51f3b54f5802:/humai_demo# poetry run pip list\n",
                "Package           Version\n",
                "----------------- -------\n",
                "anyio             3.6.1\n",
                "attrs             21.4.0\n",
                "fastapi           0.78.0\n",
                "humai_demo        0.1.0\n",
                "idna              3.3\n",
                "more-itertools    8.13.0\n",
                "packaging         21.3\n",
                "pip               22.0.3\n",
                "pluggy            0.13.1\n",
                "py                1.11.0\n",
                "pydantic          1.9.1\n",
                "pyparsing         3.0.9\n",
                "pytest            5.4.3\n",
                "setuptools        60.6.0\n",
                "sniffio           1.2.0\n",
                "starlette         0.19.1\n",
                "typing_extensions 4.3.0\n",
                "wcwidth           0.2.5\n",
                "wheel             0.37.1\n",
                "```\n",
                "\n",
                "&nbsp;&nbsp;&nbsp;&nbsp; Y ahora si, vemos nuestro paquete instalado. (Este PIP list es el de nuestro ambiente virtual)"
            ]
        },
        {
            "cell_type": "markdown",
            "id": "1db6d733",
            "metadata": {},
            "source": [
                "---"
            ]
        },
        {
            "cell_type": "markdown",
            "id": "6ef38b3a",
            "metadata": {},
            "source": [
                "### 1.8 Comandos"
            ]
        },
        {
            "cell_type": "markdown",
            "id": "f9a7125a",
            "metadata": {},
            "source": [
                "&nbsp;&nbsp;&nbsp;&nbsp; Teniendo nuestro paquete ya desarrollado... Perooo, si no tenemos nada desarrollado!. Agreguemosle un poco de contenido (no será la revolución de las máquinas, pero nos va a ayudar a ejemplificar):\n",
                "\n",
                "```bash\n",
                "echo \"\"\"def print_hello_world():\n",
                "    print('Hola Demo Humai!')\n",
                "\n",
                "\n",
                "if __name__ == '__main__':\n",
                "    print_hello_world()\n",
                "\"\"\" > humai_demo/main.py\n",
                "```\n",
                "&nbsp;&nbsp;&nbsp;&nbsp; Voilà!! Ahora nuestro paquete tiene una funcionalidad. Y para llamar esa funcionalidad desde nuestro ambiente tenemos mutiples opciones..."
            ]
        },
        {
            "cell_type": "markdown",
            "id": "af4ed088",
            "metadata": {},
            "source": [
                "| <img alt=\"Hay opciones\" src=\"https://raw.githubusercontent.com/institutohumai/cursos-python/master/PracticasDeDesarrollo/2_Desarrollo_II/2_Poetry/images/the-right-path.png\" /> |\n",
                "|:--:|\n",
                "|*source MRLOVENSTEIN.com*|"
            ]
        },
        {
            "cell_type": "markdown",
            "id": "a7053bfc",
            "metadata": {},
            "source": [
                "* Ejecutamos el código como script: `poetry run python humai_demo/main.py`\n",
                "* Llamamos al modulo main de nuestro paquete (recordemos que lo tenemos instalado en nuestro ambiente): `poetry run python -m humai_demo.main`\n",
                "* Agregamos un script a nuestra configuración y le pedimos a Poetry que lo corra. Para quienes tengan experiencia con otros gestores de paquetes, como por ejemplo **npm**, este paso les sonará similar.\n",
                "\n",
                "&nbsp;&nbsp;&nbsp;&nbsp; Para esta última opción deberemos agregar en la configuración (`pyproject.toml`), una nueva sección de scripts agregando lo que necesitamos.\n",
                "\n",
                "\n",
                "| <img alt=\"Nueva configuración\" src=\"https://raw.githubusercontent.com/institutohumai/cursos-python/master/PracticasDeDesarrollo/2_Desarrollo_II/2_Poetry/images/script.png\" /> |\n",
                "|:--:|\n",
                "|*Nueva sección a agregar en pyproject.toml*|\n",
                "\n",
                "&nbsp;&nbsp;&nbsp;&nbsp; Una vez tengamos definido el script a correr, lo podemos llamar con `poetry run hola_humai`. "
            ]
        },
        {
            "cell_type": "markdown",
            "id": "8d748784",
            "metadata": {},
            "source": [
                "---"
            ]
        },
        {
            "cell_type": "markdown",
            "id": "d258d45a",
            "metadata": {},
            "source": [
                "### 1.9 Publicar"
            ]
        },
        {
            "cell_type": "markdown",
            "id": "4a872899",
            "metadata": {},
            "source": [
                "\n",
                "&nbsp;&nbsp;&nbsp;&nbsp; Genial!! Ya no solo tenemos nuestro paquete desarrollado, con sus dependencias aisladas, testeado (si te estoy viendo, testeá todo!) y pudiendo probarlo con un comando sencillo solo queda publicarlo.\n",
                "\n",
                "&nbsp;&nbsp;&nbsp;&nbsp; Cómo habremos visto anteriormente publicar un paquete en [PyPI](https://pypi.org/) no es tan sencillo si seguimos el cámino tradicional. Con Poetry esto se puede hacer de manera mucho más sencilla.(*)\n",
                "\n",
                "*(\\*) A diferencia de CONDA, en donde podemos publicar paquetes que no son puros de Python, Poetry solo soporta paquetes de este tipo (solo python).*\n",
                "\n",
                "&nbsp;&nbsp;&nbsp;&nbsp; Para eso deberemos en primera instancia tener una cuenta en PyPI (se puede registrar gratuitamente). Una vez tengamos nuestra cuenta, deberemos buildear nuestro paquete y subirlo. Podemos hacer ambas cosas con un soló comando.\n",
                "\n",
                "```console\n",
                "poetry publish --dry-run --build\n",
                "Building humai_demo (0.1.0)\n",
                "  - Building sdist\n",
                "  - Built humai_demo-0.1.0.tar.gz\n",
                "  - Building wheel\n",
                "  - Built humai_demo-0.1.0-py3-none-any.whl\n",
                "\n",
                "Username: ramonzaca\n",
                "Password: \n",
                "Publishing humai_demo (0.1.0) to PyPI\n",
                " - Uploading humai_demo-0.1.0-py3-none-any.whl 100%\n",
                " - Uploading humai_demo-0.1.0.tar.gz 100%\n",
                "```\n",
                "&nbsp;&nbsp;&nbsp;&nbsp; En este caso utilizamos el parámetro \"dry-run\" para simular el proceso y no subirlo efectivamente a la plataforma. Aun así, podemos ver que se generó una nueva carpeta **dist** en donde vamos a encontrar los comprimidos. Recordemos que normalmente no vamos a ser nosotros los que publiquemos los paquetes a mano, sino herramientas de CD (Continuous Delivery)."
            ]
        },
        {
            "cell_type": "markdown",
            "id": "75b2a195",
            "metadata": {},
            "source": [
                "---"
            ]
        },
        {
            "cell_type": "markdown",
            "id": "88b31663",
            "metadata": {},
            "source": [
                "### 1.10 Conclusiones"
            ]
        },
        {
            "cell_type": "markdown",
            "id": "0be96680",
            "metadata": {},
            "source": [
                "\n",
                "&nbsp;&nbsp;&nbsp;&nbsp; Y con eso terminamos con Poetry. Vimos cómo gestionar un proyecto desde su creación, hasta su publicación. Como siempre es aconsejable explorar un poco con otra opciones, cómo más scripts o dependencias extras (?). Buena suerte en su nueva faceta como poetas 📜🖋!!"
            ]
        }
    ],
    "metadata": {
        "kernelspec": {
            "display_name": "Python 3 (ipykernel)",
            "language": "python",
            "name": "python3"
        },
        "language_info": {
            "codemirror_mode": {
                "name": "ipython",
                "version": 3
            },
            "file_extension": ".py",
            "mimetype": "text/x-python",
            "name": "python",
            "nbconvert_exporter": "python",
            "pygments_lexer": "ipython3",
            "version": "3.7.6"
        },
        "vscode": {
            "interpreter": {
                "hash": "d27203dcce1218a35e5dd056f2e1158cfdf3a468b69181284abdce2479607453"
            }
        }
    },
    "nbformat": 4,
    "nbformat_minor": 5
}