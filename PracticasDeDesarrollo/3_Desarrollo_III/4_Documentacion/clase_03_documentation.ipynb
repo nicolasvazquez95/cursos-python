{
 "cells": [
  {
   "cell_type": "markdown",
   "metadata": {},
   "source": [
    "<a href=\"https://colab.research.google.com/github/institutohumai/cursos-python/blob/master/PracticasDeDesarrollo/3_Desarrollo_III/4_Documentacion/clase_03_documentation.ipynb\" target=\"_parent\"><img src=\"https://colab.research.google.com/assets/colab-badge.svg\" alt=\"Open In Colab\" data-canonical-src=\"https://colab.research.google.com/assets/colab-badge.svg\"></a>"
   ]
  },
  {
   "cell_type": "markdown",
   "metadata": {},
   "source": [
    "# 4. Documentación en Python\n",
    "\n",
    "<img src=\"./images/doc_portada.jpg\" alt=\"drawing\" width=\"800\"/>\n"
   ]
  },
  {
   "cell_type": "markdown",
   "metadata": {},
   "source": [
    "En esta sección veremos la importancia de documentar tu código, qué metodología usar y qué herramientas tenemos a disposición para asistirnos en esta tarea. Comencemos!\n",
    "\n",
    "__Temario__:\n",
    "* La importancia de documentar tu código.\n",
    "* Documentar versus Comentar.\n",
    "* Docstrings para documentar tus módulos.\n",
    "* Documentando tu proyecto en Python.\n",
    "\n"
   ]
  },
  {
   "cell_type": "markdown",
   "metadata": {},
   "source": [
    "## 4.1 La importancia de documentar tu código"
   ]
  },
  {
   "cell_type": "markdown",
   "metadata": {},
   "source": [
    "<img src=\"./images/document_computer.avif\" alt=\"drawing\" width=\"800\"/>  \n"
   ]
  },
  {
   "cell_type": "markdown",
   "metadata": {},
   "source": [
    "Esperamos que para esta instancia del curso hayan comprobado lo conveniente que resulta hayar un código bien prolijo y documentado. solo para reforzar esta idea, utilizaré una cita proveniente de un *speaker* y desarrollador llamado Guido van Rossum el cuál participó en una *PyCon* (conferencia muy importante de Python)\n",
    "\n",
    "“Code is more often read than written.”\n",
    "\n",
    "— Guido van Rossum\n",
    "\n",
    "(Traducción: El código comunmente es más leido que escrito)\n",
    "\n",
    "Hay que tener en cuenta que por lo general hay 2 tipos de personas que van a leer nuestro código:\n",
    "* Usuarios\n",
    "* Desarrolladores (incluídos nosotros!)\n",
    "\n",
    "Personalmente, me suele ocurrir que leo un código que escribí hace un par de semanas y pienso \"qué quize hacer acá?\". Si esta es mi reacción ante mi propio código, imaginense lo que le puede ocurrir a otra persona intentando interpretarlo. Esto, amigos, es un síntoma de que no hemos documentado correctamente nuestro código.\n",
    "\n",
    "También les puede ocurrir que intenten colaborar con el proyecto de otra persona, pero al no entender cómo funciona el código (debido a la falta de documentación), no sólo les será difícil realizar la contribución sino que también corren el riesgo de estropear el código existente.\n",
    "\n",
    "En las siguientes secciones veremos cómo documentar nuestro código, desde pequeños módulos o scripts hasta un proyecto entero.\n"
   ]
  },
  {
   "cell_type": "markdown",
   "metadata": {},
   "source": [
    "## 4.2 Documentar versus Comentar"
   ]
  },
  {
   "cell_type": "markdown",
   "metadata": {},
   "source": [
    "Antes que nada, vamos a hacer una distinción entre dos conceptos que nos pueden generar confusión: **Documentar** y **Comentar**.\n",
    "\n",
    "* **Documentar**: Consiste en explicarle a los **usuarios** cómo utilizar nuestro código.\n",
    "* **Comentar**: Consiste en describir nuestro código a los **desarrolladores** para facilitar las tareas de desarrollo y mantenimiento.\n",
    "\n",
    "Como vimos, estos conceptos tienen un objetivo y audiencias diferentes. Vamos a profundizar en cada uno.\n"
   ]
  },
  {
   "cell_type": "markdown",
   "metadata": {},
   "source": [
    "### 4.2.1 Comentar"
   ]
  },
  {
   "cell_type": "markdown",
   "metadata": {},
   "source": [
    "Los comentarios en Python se realizan con el caracter \"#\""
   ]
  },
  {
   "cell_type": "code",
   "execution_count": 1,
   "metadata": {},
   "outputs": [],
   "source": [
    "def hola_humai():\n",
    "    # Esto es una línea de comentario\n",
    "    print(\"Hola Humai!\")"
   ]
  },
  {
   "cell_type": "markdown",
   "metadata": {},
   "source": [
    "Según PEP 8, la línea de comentarios no debería superar los 72 caracteres. En caso de tener que elaborar comentarios largos, se sugiere emplear varias líneas."
   ]
  },
  {
   "cell_type": "code",
   "execution_count": null,
   "metadata": {},
   "outputs": [],
   "source": [
    "def hola_humai():\n",
    "    # Este es un ejemplo de un comentario muuuuuuuuuuuuuuuuuuuuuuuuuuuuuuuuuuy largo\n",
    "    # que debería continuar en la línea siguiente.\n",
    "    print(\"Hola Humai!\")"
   ]
  },
  {
   "cell_type": "markdown",
   "metadata": {},
   "source": [
    "Entonces, cuándo debemos **comentar** nuestro código? Como regla general, debemos escribir nuestro código de manera que **no necesitemos comentarios**. \n"
   ]
  },
  {
   "cell_type": "markdown",
   "metadata": {},
   "source": [
    "![image](./images/mas_despacio_cerebrito.jpeg)  \n"
   ]
  },
  {
   "cell_type": "markdown",
   "metadata": {},
   "source": [
    "Oye más despacio cerebrito! No me acababamos de hablar sobre la importancia de documentar nuestro código? \n",
    "\n",
    "Exacto, **documentar**, no **comentar**.\n",
    "\n",
    "La idea es que nuestro código esté lo suficientemente documentado como para no tener que sumar comentarios adicionales. Es decir, nuestro código debería poder ser interpretado sin ayuda de comentarios. Aquí van algunos consejos para que nuestro código sea fácilmente interpretado:\n",
    "\n",
    "* Nombrar **variables** como **sustantivos** que sean representativos del contenido. Ej  ```nombre_usuario = \"Juan\"```  \n",
    "* Nombrar **funciones** como verbos que describan la acción que realiza dicha función. Ej  ```def crear_usuario (nombre, apellido, email):```\n",
    "* Nombrar **clases** como **sustantivos** que sean representativos de los objetos que se instanciarán a partir de ellas. Ej  ```class Usuario```  \n",
    "\n",
    "Más allá del corolario anterior, **SI** está bien usar comentarios para:\n",
    "\n",
    "* Explicar lo que hace una porción del código si la misma realiza una operación muy compleja. Ej  ```# Aquí se implementa un algoritmo para hallar la distancia mínima entre dos vectores. ```  \n",
    "\n",
    "* Trabajos pendientes (TODOs). Ej  ```# TODO: Sumar validación de parámetros ```\n",
    "\n",
    "* Notas para otros desarrolladores. Ej  ```# En caso de cambiar el bucket de s3, recordar actualizar el endpoint en el archivo config.py ```"
   ]
  },
  {
   "cell_type": "markdown",
   "metadata": {},
   "source": [
    "Solo para que quede claro el concepto, veamos algunos ejemplos del tipo de comentarios que NO queremos en nuestro código:\n",
    "*  ~~```# Esta función imprime el resultado ```~~ -> Podría entenderse si la función se llamase  ```imprimir_resultado()``` \n",
    "* ~~```# Este módulo recibe como entrada un entero y devuelve un string. ```~~ -> Podría entenderse si usamos correctamente el tipado (Clase de buenas prácticas II)\n",
    "* ~~```# Aquí subimos el archivo resultante a un bucket de s3 ```~~ Podría entenderse si la función se llamase  ```subir_s3()``` "
   ]
  },
  {
   "cell_type": "markdown",
   "metadata": {},
   "source": [
    "### 4.1.3 Documentar"
   ]
  },
  {
   "cell_type": "markdown",
   "metadata": {},
   "source": [
    "<img src=\"./images/documents.jpg\" alt=\"drawing\" width=\"800\"/>  "
   ]
  },
  {
   "cell_type": "markdown",
   "metadata": {},
   "source": [
    "Como dijimos anteriormente, la documentación tiene como audiencia a los **usuarios** de nuestro código. Veamos un ejemplo de documentación."
   ]
  },
  {
   "cell_type": "code",
   "execution_count": 3,
   "metadata": {},
   "outputs": [
    {
     "name": "stdout",
     "output_type": "stream",
     "text": [
      "Help on built-in function print in module builtins:\n",
      "\n",
      "print(...)\n",
      "    print(value, ..., sep=' ', end='\\n', file=sys.stdout, flush=False)\n",
      "    \n",
      "    Prints the values to a stream, or to sys.stdout by default.\n",
      "    Optional keyword arguments:\n",
      "    file:  a file-like object (stream); defaults to the current sys.stdout.\n",
      "    sep:   string inserted between values, default a space.\n",
      "    end:   string appended after the last value, default a newline.\n",
      "    flush: whether to forcibly flush the stream.\n",
      "\n"
     ]
    }
   ],
   "source": [
    "help(print)"
   ]
  },
  {
   "cell_type": "markdown",
   "metadata": {},
   "source": [
    "Aquí vemos la documentación de la función **print**. La misma nos explica para qué sirve la función, qué parámetros requiere y la explicación de cada parámetro."
   ]
  },
  {
   "cell_type": "markdown",
   "metadata": {},
   "source": [
    "Este texto que aparece cuando ejecutamos la función *help* recibe el nombre **Docstring**. Los docstrings son el mecanismo que emplearemos para documentar nuestros módulos en python. Veremos cómo usarlos en la próxima sección."
   ]
  },
  {
   "cell_type": "markdown",
   "metadata": {},
   "source": [
    "## 4.3 Docstrings para documentar tus módulos\n",
    "### 4.3.1 Cómo usar docstrings"
   ]
  },
  {
   "cell_type": "markdown",
   "metadata": {},
   "source": [
    "Como vimos, los docstrings nos ayudan a documentar funciones en Python. Dado que en Python todo es un objeto, veamos qué ocurre si inspeccionamos el objeto **print**."
   ]
  },
  {
   "cell_type": "code",
   "execution_count": 4,
   "metadata": {},
   "outputs": [
    {
     "data": {
      "text/plain": [
       "['__call__',\n",
       " '__class__',\n",
       " '__delattr__',\n",
       " '__dir__',\n",
       " '__doc__',\n",
       " '__eq__',\n",
       " '__format__',\n",
       " '__ge__',\n",
       " '__getattribute__',\n",
       " '__gt__',\n",
       " '__hash__',\n",
       " '__init__',\n",
       " '__init_subclass__',\n",
       " '__le__',\n",
       " '__lt__',\n",
       " '__module__',\n",
       " '__name__',\n",
       " '__ne__',\n",
       " '__new__',\n",
       " '__qualname__',\n",
       " '__reduce__',\n",
       " '__reduce_ex__',\n",
       " '__repr__',\n",
       " '__self__',\n",
       " '__setattr__',\n",
       " '__sizeof__',\n",
       " '__str__',\n",
       " '__subclasshook__',\n",
       " '__text_signature__']"
      ]
     },
     "execution_count": 4,
     "metadata": {},
     "output_type": "execute_result"
    }
   ],
   "source": [
    "dir(print)"
   ]
  },
  {
   "cell_type": "markdown",
   "metadata": {},
   "source": [
    "Tenemos una propiedad que es  ```__doc__ ```. Veamos qué contiene."
   ]
  },
  {
   "cell_type": "code",
   "execution_count": 5,
   "metadata": {},
   "outputs": [
    {
     "data": {
      "text/plain": [
       "\"print(value, ..., sep=' ', end='\\\\n', file=sys.stdout, flush=False)\\n\\nPrints the values to a stream, or to sys.stdout by default.\\nOptional keyword arguments:\\nfile:  a file-like object (stream); defaults to the current sys.stdout.\\nsep:   string inserted between values, default a space.\\nend:   string appended after the last value, default a newline.\\nflush: whether to forcibly flush the stream.\""
      ]
     },
     "execution_count": 5,
     "metadata": {},
     "output_type": "execute_result"
    }
   ],
   "source": [
    "print.__doc__"
   ]
  },
  {
   "cell_type": "markdown",
   "metadata": {},
   "source": [
    "Les resulta familiar? Exacto, la propiedad  ```__doc__ ``` no es nada más ni nada menos que el docstring. Editando esta propiedad podemos modificar el texto de ayuda que se muestra cuando ejecutamos la función **help**."
   ]
  },
  {
   "cell_type": "code",
   "execution_count": 6,
   "metadata": {},
   "outputs": [
    {
     "ename": "AttributeError",
     "evalue": "attribute '__doc__' of 'builtin_function_or_method' objects is not writable",
     "output_type": "error",
     "traceback": [
      "\u001b[0;31m---------------------------------------------------------------------------\u001b[0m",
      "\u001b[0;31mAttributeError\u001b[0m                            Traceback (most recent call last)",
      "\u001b[1;32m/Users/dabadie/Downloads/humai_03_buenaspracticas-main/clase_03_documentation.ipynb Cell 27\u001b[0m in \u001b[0;36m<cell line: 1>\u001b[0;34m()\u001b[0m\n\u001b[0;32m----> <a href='vscode-notebook-cell:/Users/dabadie/Downloads/humai_03_buenaspracticas-main/clase_03_documentation.ipynb#ch0000036?line=0'>1</a>\u001b[0m \u001b[39mprint\u001b[39m\u001b[39m.\u001b[39m\u001b[39m__doc__\u001b[39m \u001b[39m=\u001b[39m \u001b[39m\"\u001b[39m\u001b[39mMi docstring personalizado\u001b[39m\u001b[39m\"\u001b[39m\n",
      "\u001b[0;31mAttributeError\u001b[0m: attribute '__doc__' of 'builtin_function_or_method' objects is not writable"
     ]
    }
   ],
   "source": [
    "print.__doc__ = \"Mi docstring personalizado\""
   ]
  },
  {
   "cell_type": "markdown",
   "metadata": {},
   "source": [
    "Ups! Esta propiedad no se puede editar en funciones que vienen predefinidas en Python. Sin embargo, sí podemos hacerlo cuando se trata de funciones que hayamos creado nosotros."
   ]
  },
  {
   "cell_type": "code",
   "execution_count": 9,
   "metadata": {},
   "outputs": [],
   "source": [
    "def hola_humai():\n",
    "    print(\"Hola Humai!\")"
   ]
  },
  {
   "cell_type": "code",
   "execution_count": 11,
   "metadata": {},
   "outputs": [
    {
     "name": "stdout",
     "output_type": "stream",
     "text": [
      "Help on function hola_humai in module __main__:\n",
      "\n",
      "hola_humai()\n",
      "    Esto es una función que saluda a los estudiantes de Humai.\n",
      "\n"
     ]
    }
   ],
   "source": [
    "hola_humai.__doc__ = \"Esto es una función que saluda a los estudiantes de Humai.\"\n",
    "\n",
    "help(hola_humai)"
   ]
  },
  {
   "cell_type": "markdown",
   "metadata": {},
   "source": [
    "Adicionalmente, python nos permite ahorrarnos el paso de editar la propiedad ```__doc__``` si directamente escribimos esta descripción dentro de la función, como se muestra a continuación."
   ]
  },
  {
   "cell_type": "code",
   "execution_count": 14,
   "metadata": {},
   "outputs": [
    {
     "name": "stdout",
     "output_type": "stream",
     "text": [
      "Help on function hola_buenas_pracicas in module __main__:\n",
      "\n",
      "hola_buenas_pracicas()\n",
      "    \"Esto es una función que saluda a los estudiantes del curso de Buenas Prácticas de Humai.\n",
      "\n"
     ]
    }
   ],
   "source": [
    "def hola_buenas_pracicas():\n",
    "    '''\"Esto es una función que saluda a los estudiantes del curso de Buenas Prácticas de Humai.'''\n",
    "    print(\"Hola Buenas Prácticas!\")\n",
    "\n",
    "help(hola_buenas_pracicas)"
   ]
  },
  {
   "cell_type": "markdown",
   "metadata": {},
   "source": [
    "### 4.3.2 Docstrings multi línea"
   ]
  },
  {
   "cell_type": "markdown",
   "metadata": {},
   "source": [
    "En muchos casos podemos resumir el funcionamiento de un módulo en una sola línea, como hicimos en el ejemplo anterior. Sin embargo, para módulos más complejos necesitaremos proveer mucha información a los usuarios, como ocurrió cuando inspeccionamos el docstring de la función **print**."
   ]
  },
  {
   "cell_type": "markdown",
   "metadata": {},
   "source": [
    "En estos casos, sería conveniente respetar un formato o convención para que nuestro docstring quede prolijo y fácil de leer. Como norma general, el dosctring debería tener este formato:\n",
    "\n",
    "* Resúmen en 1 línea\n",
    "* 1 línea en blanco\n",
    "* Descripción más detallada del módulo\n",
    "* 1 línea en blanco\n",
    "* Aquí empieza el código\n",
    "\n",
    "Veamos un ejemplo."
   ]
  },
  {
   "cell_type": "code",
   "execution_count": 15,
   "metadata": {},
   "outputs": [],
   "source": [
    "def hola_buenas_pracicas():\n",
    "    '''\"Función para saludar a los estudiantes de Buenas Prácticas.\n",
    "    \n",
    "    Este módulo se ejecuta automáticamente al iniciar la clase y saluda a todos\n",
    "    los estudiantes del curso Buenas Prácticas de Humai. Debe ejecutarse inmediatamente\n",
    "    después del módulo iniciar_clase_humai.\n",
    "    '''\n",
    "    \n",
    "    print(\"Hola Buenas Prácticas!\")\n"
   ]
  },
  {
   "cell_type": "code",
   "execution_count": 16,
   "metadata": {},
   "outputs": [
    {
     "name": "stdout",
     "output_type": "stream",
     "text": [
      "Help on function hola_buenas_pracicas in module __main__:\n",
      "\n",
      "hola_buenas_pracicas()\n",
      "    \"Función para saludar a los estudiantes de Buenas Prácticas.\n",
      "    \n",
      "    Este módulo se ejecuta automáticamente al iniciar la clase y saluda a todos\n",
      "    los estudiantes del curso Buenas Prácticas de Humai. Debe ejecutarse inmediatamente\n",
      "    después del módulo iniciar_clase_humai.\n",
      "\n"
     ]
    }
   ],
   "source": [
    "help(hola_buenas_pracicas)"
   ]
  },
  {
   "cell_type": "markdown",
   "metadata": {},
   "source": [
    "### 4.3.3 Tipos de docstrings"
   ]
  },
  {
   "cell_type": "markdown",
   "metadata": {},
   "source": [
    "Hasta ahora venimos trabajando con ejemplos de docstring para funciones. Se estarán preguntando ¿La estructura del docstring es la misma para todos los tipos de objetos? Como se imaginarán, la respuesta es **no**. "
   ]
  },
  {
   "cell_type": "markdown",
   "metadata": {},
   "source": [
    "Tenemos un docstring adecuado para cada tipo de objeto. Veamos cuáles son!"
   ]
  },
  {
   "cell_type": "markdown",
   "metadata": {},
   "source": [
    "**Clases** \n",
    "\n",
    "Cuando se trata de clases, nuestro docstring debe contener la siguiente información:\n",
    "* Un breve resúmen de la utilidad que tiene esta función.\n",
    "* Listado con los métodos y breve descripción de cada uno. \n",
    "* Listado de las propiedades (atributos) y breve descripción de cada una.\n",
    "\n",
    "Veamos un ejemplo:\n"
   ]
  },
  {
   "cell_type": "code",
   "execution_count": 17,
   "metadata": {},
   "outputs": [],
   "source": [
    "class Animal:\n",
    "    \"\"\"\n",
    "    Esta clase representa a un Animal en la vida real.\n",
    "\n",
    "    Atributos\n",
    "    ----------\n",
    "    nombre : str\n",
    "        nombre del animal\n",
    "    sonido : str\n",
    "        el sonido que hace el animal\n",
    "    num_patas : int\n",
    "        el número de patas que tiene el animal (default 4)\n",
    "\n",
    "    Métodos\n",
    "    -------\n",
    "    presentarse(sonido=None)\n",
    "        Imprime el sonido que hace el animal.\n",
    "    \"\"\"\n"
   ]
  },
  {
   "cell_type": "markdown",
   "metadata": {},
   "source": []
  },
  {
   "cell_type": "markdown",
   "metadata": {},
   "source": [
    "**Métodos** "
   ]
  },
  {
   "cell_type": "markdown",
   "metadata": {},
   "source": [
    "Los docstring de métodos deberían contener la siguiente información:\n",
    "* Breve descripción de lo que hace el método y para qué se usa.\n",
    "* Todos los argumentos que necesita.\n",
    "* Identificar los argumentos que son opcionales.\n",
    "* Valores por defecto que tienen los argumentos.\n",
    "* Excepciones (Raises) cuando ocurre un error.\n",
    "* Cualquier efecto secundario que surga de ejecutar este método.\n",
    "* Cualquier restricción que debamos considerar a la hora de ejecutar el método.\n",
    "\n",
    "Veamos un ejemplo siguiendo con la clase que creamos recién."
   ]
  },
  {
   "cell_type": "code",
   "execution_count": 20,
   "metadata": {},
   "outputs": [],
   "source": [
    "def presentarse(self, sonido=None):\n",
    "        \"\"\"Imprime el sonido que hace el animal.\n",
    "\n",
    "        Si no se recibe el argumento 'sonido' entonces se utilizará el valor \n",
    "        por defecto que tenga este atributo.\n",
    "\n",
    "        Parámetros\n",
    "        ----------\n",
    "        sonido : str, opcional\n",
    "            El sonido que hace el animal (default:  None)\n",
    "\n",
    "        Raises\n",
    "        ------\n",
    "        NotImplementedError\n",
    "            Si el animal no tiene asignado un sonido por defecto y el método \n",
    "            no recibió este atributo como parámetro.\n",
    "        \"\"\"\n",
    "\n",
    "        if self.sonido is None and sonido is None:\n",
    "            raise NotImplementedError(\"Este animal no tiene sonido!\")\n",
    "\n",
    "        sonido_animal = self.sonido if sonido is None else sonido\n",
    "        print(self.presentarse(sonido=sonido_animal))"
   ]
  },
  {
   "cell_type": "markdown",
   "metadata": {},
   "source": [
    "**Paquetes**\n",
    "\n",
    "El docstring se ubica en la parte superior del archivo ```__init__.py ``` (el mismo que vieron en el notebook de creación de paquetes) y debería tener la siguiente información:\n",
    "* Breve descripción del módulo y cómo usarlo.\n",
    "* Una lista de clases, ecepciones, funciones y cualquier otro objeto que contenga el módulo.\n",
    "\n",
    "Veamos un ejemplo con un paquete conocido."
   ]
  },
  {
   "cell_type": "code",
   "execution_count": 24,
   "metadata": {},
   "outputs": [
    {
     "name": "stdout",
     "output_type": "stream",
     "text": [
      "Help on package requests:\n",
      "\n",
      "NAME\n",
      "    requests\n",
      "\n",
      "DESCRIPTION\n",
      "    Requests HTTP Library\n",
      "    ~~~~~~~~~~~~~~~~~~~~~\n",
      "    \n",
      "    Requests is an HTTP library, written in Python, for human beings.\n",
      "    Basic GET usage:\n",
      "    \n",
      "       >>> import requests\n",
      "       >>> r = requests.get('https://www.python.org')\n",
      "       >>> r.status_code\n",
      "       200\n",
      "       >>> b'Python is a programming language' in r.content\n",
      "       True\n",
      "    \n",
      "    ... or POST:\n",
      "    \n",
      "       >>> payload = dict(key1='value1', key2='value2')\n",
      "       >>> r = requests.post('https://httpbin.org/post', data=payload)\n",
      "       >>> print(r.text)\n",
      "       {\n",
      "         ...\n",
      "         \"form\": {\n",
      "           \"key1\": \"value1\",\n",
      "           \"key2\": \"value2\"\n",
      "         },\n",
      "         ...\n",
      "       }\n",
      "    \n",
      "    The other HTTP methods are supported - see `requests.api`. Full documentation\n",
      "    is at <https://requests.readthedocs.io>.\n",
      "    \n",
      "    :copyright: (c) 2017 by Kenneth Reitz.\n",
      "    :license: Apache 2.0, see LICENSE for more details.\n",
      "\n",
      "PACKAGE CONTENTS\n",
      "    __version__\n",
      "    _internal_utils\n",
      "    adapters\n",
      "    api\n",
      "    auth\n",
      "    certs\n",
      "    compat\n",
      "    cookies\n",
      "    exceptions\n",
      "    help\n",
      "    hooks\n",
      "    models\n",
      "    packages\n",
      "    sessions\n",
      "    status_codes\n",
      "    structures\n",
      "    utils\n",
      "\n",
      "FUNCTIONS\n",
      "    check_compatibility(urllib3_version, chardet_version, charset_normalizer_version)\n",
      "\n",
      "DATA\n",
      "    __author_email__ = 'me@kennethreitz.org'\n",
      "    __build__ = 141313\n",
      "    __cake__ = '✨ 🍰 ✨'\n",
      "    __copyright__ = 'Copyright 2022 Kenneth Reitz'\n",
      "    __description__ = 'Python HTTP for Humans.'\n",
      "    __license__ = 'Apache 2.0'\n",
      "    __title__ = 'requests'\n",
      "    __url__ = 'https://requests.readthedocs.io'\n",
      "    chardet_version = None\n",
      "    charset_normalizer_version = '2.1.0'\n",
      "    codes = <lookup 'status_codes'>\n",
      "\n",
      "VERSION\n",
      "    2.28.1\n",
      "\n",
      "AUTHOR\n",
      "    Kenneth Reitz\n",
      "\n",
      "FILE\n",
      "    /Users/dabadie/.pyenv/versions/doggos/lib/python3.9/site-packages/requests/__init__.py\n",
      "\n",
      "\n"
     ]
    }
   ],
   "source": [
    "import requests\n",
    "\n",
    "help(requests)"
   ]
  },
  {
   "cell_type": "markdown",
   "metadata": {},
   "source": [
    "**Scripts**\n",
    "\n",
    "Cuando hablamos de *script* nos referimos a un archivo con código pensado para ser ejecutado directamente desde la consola. Es por ello que el docstring del script debe ser colocado al inicio del archivo y debe contener la información suficiente como para que el usuario pueda ejecutarlo sin problemas.\n",
    "\n",
    "A continuación tenemos un ejemplo de docstring para scripts."
   ]
  },
  {
   "cell_type": "code",
   "execution_count": 32,
   "metadata": {},
   "outputs": [],
   "source": [
    "\"\"\"Inventario de animales del EcoParque\n",
    "\n",
    "Este script permite al usuario imprimir en la consola todas las columnas \n",
    "de la planilla con el detalle de animales que se encuentran en el \n",
    "EcoParque. Asumimos que la primer fila de la planilla contiene el \n",
    "nombre de las columnas.\n",
    "\n",
    "Esta herramienta solo acepta archivos en formato .csv y .xlsx.\n",
    "\n",
    "Se requiere tener instalada la librería 'pandas' en el ambiente en que \n",
    "se ejecute el script.\n",
    "\n",
    "Este archivo también puede ser importado como módulo y contiene las \n",
    "siguientes funciones:\n",
    "    * obtener_columnas - devuelve el listado de columnas del archivo\n",
    "    * imprimir_planilla - imprime el contenido del archivo\n",
    "\"\"\"\n",
    "\n",
    "import argparse\n",
    "\n",
    "import pandas as pd\n",
    "\n",
    "# Aquí continúa el script ....\n"
   ]
  },
  {
   "cell_type": "markdown",
   "metadata": {},
   "source": [
    "### 4.3.4 Formatos de dosctrings"
   ]
  },
  {
   "cell_type": "markdown",
   "metadata": {},
   "source": [
    "Como habrán imaginado, no existe una única forma de redactar estos docstrings. Existen formatos muy específicos sobre cómo definir los métodos, atributos, argumentos y demás. A continuación se muestran algunos de los formatos más frecuentes."
   ]
  },
  {
   "cell_type": "markdown",
   "metadata": {},
   "source": [
    "**Google docstring**\n",
    "\n",
    "Como su nombre lo indica, es el formato recomendado por google. A continuación un ejemplo del docstring para el método *obtener_columnas* que acabamos de inventar en el script anterior.\n",
    "\n",
    "```\n",
    "\"\"\"Devuelve el nombre de las columnas de la planilla.\n",
    "\n",
    "Args:\n",
    "    archivo (str): Ubicación del archivo de la planilla.\n",
    "    imprimir_cols (bool): Flag para imprimir las columnas en la consola\n",
    "        (default es False)\n",
    "\n",
    "Returns:\n",
    "    list: una lista que contiene los nombres de las columnas.\n",
    "\"\"\"\n",
    "```"
   ]
  },
  {
   "cell_type": "markdown",
   "metadata": {},
   "source": [
    "**reStructuredText**\n",
    "\n",
    "Es el formato sugerido por la documentación oficial de Python. Siguiendo el ejemplo anterior...\n",
    "```\n",
    "\"\"\"Devuelve el nombre de las columnas de la planilla\n",
    "\n",
    ":param archivo: Ubicación del archivo de la planilla\n",
    ":type archivo: str\n",
    ":param imprimir_cols:Flag para imprimir las columnas en la consola\n",
    "    (default es False)\n",
    ":type imprimir_cols: bool\n",
    ":returns: una lista que contiene los nombres de las columnas\n",
    ":rtype: list\n",
    "\"\"\"\n",
    "```"
   ]
  },
  {
   "cell_type": "markdown",
   "metadata": {},
   "source": [
    "**NumPy/SciPy**\n",
    "\n",
    "Es un formato sugerido por NumPy y es el resultando de una combinación de los formatos de Google y reStructuredTect.\n",
    "```\n",
    "\"\"\"Devuelve el nombre de las columnas de la planilla\n",
    "\n",
    "Parameters\n",
    "----------\n",
    "archivo : str\n",
    "    Ubicación del archivo de la planilla\n",
    "imprimir_cols : bool, opcional\n",
    "    Flag para imprimir las columnas en la consola (default es False)\n",
    "\n",
    "Returns\n",
    "-------\n",
    "list\n",
    "    una lista que contiene los nombres de las columnas\n",
    "\"\"\"\n",
    "```"
   ]
  },
  {
   "cell_type": "markdown",
   "metadata": {},
   "source": [
    "## 4.4 Documentando tu proyecto en Python"
   ]
  },
  {
   "cell_type": "markdown",
   "metadata": {},
   "source": [
    "<img src=\"./images/proyecto.jpg\" alt=\"drawing\" width=\"800\"/>  "
   ]
  },
  {
   "cell_type": "markdown",
   "metadata": {},
   "source": [
    "Ya casi lo tenemos! Hasta ahora vimos cómo documentar funciones, clases e incluso módulos enteros. Ahora llegó la hora de documentar tu proyecto. Recordemos que si bien se puede tratar de un proyecto personal que solo nosotros leamos, no olvidemos ponernos en la piel del usuario, el cual debe ser capaz de sentarse y entender nuestro proyecto de principio a fin."
   ]
  },
  {
   "cell_type": "markdown",
   "metadata": {},
   "source": [
    "Por lo general, los proyectos en Python se estructuran de la siguiente manera:"
   ]
  },
  {
   "cell_type": "markdown",
   "metadata": {},
   "source": [
    "```\n",
    "\"\"\"\n",
    "project_root/\n",
    "│\n",
    "├── project/  # Código fuente del proyecto\n",
    "├── docs/   # Documentación adicional\n",
    "├── README\n",
    "├── examples.py\n",
    "\"\"\"\n",
    "```\n"
   ]
  },
  {
   "cell_type": "markdown",
   "metadata": {},
   "source": [
    "Veamos qué representa cada elemento:\n",
    "* **project/**: Directorio que contiene todo el código del proyecto.\n",
    "* **docs/:** Directorio que contiene documentación adicional tales como tutoriales, guías paso a paso, explicaciones, etc.\n",
    "* **README:** Un breve resumen del proyecto y su finalidad. Se recomienda incluir cualquier requisito para poder ejecutar el proyecto.\n",
    "* **examples.py:** Un script de python que muestra a modo de ejemplo cómo ejecutar el proyecto.\n",
    "\n",
    "Naturalmente, cada proyecto es un mundo y cada desarrollador lo organiza de acuerdo a sus necesidades. Este simplemente es un resúmen de algunos puntos importantes que debería tener para que sea fácil de interpretar por terceros :)\n"
   ]
  },
  {
   "cell_type": "markdown",
   "metadata": {},
   "source": [
    "Les propongo navegar por github y revisar repositorios de herramientas/librerías que conozcan para ver cómo están organizados y documentados. Ya que hemos estado trabajando con la librería *requests* les comparto el [**README**](https://github.com/psf/requests) para que lo chusmeen!\n"
   ]
  },
  {
   "cell_type": "markdown",
   "metadata": {},
   "source": [
    "## 4.5 Conclusiones"
   ]
  },
  {
   "cell_type": "markdown",
   "metadata": {},
   "source": [
    "Felicitaciones por haber llegado hasta aquí! Esperamos que haber reforzado la importancia de documentar el código a través de estos consejos y buenas prácticas. A continuación un breve resúmen de lo que vimos:\n",
    "* Por qué debemos documentar el código\n",
    "* Diferencias entre comentar y documentar\n",
    "* Cuándo comentar y cuándo no\n",
    "* docstrings como mecanismo de documentación\n",
    "* tipos y formatos de docstrings\n",
    "* Cómo documentar tu proyecto de python\n"
   ]
  },
  {
   "cell_type": "markdown",
   "metadata": {},
   "source": []
  }
 ],
 "metadata": {
  "kernelspec": {
   "display_name": "Python 3.9.13 64-bit ('doggos')",
   "language": "python",
   "name": "python3"
  },
  "language_info": {
   "codemirror_mode": {
    "name": "ipython",
    "version": 3
   },
   "file_extension": ".py",
   "mimetype": "text/x-python",
   "name": "python",
   "nbconvert_exporter": "python",
   "pygments_lexer": "ipython3",
   "version": "3.9.13"
  },
  "orig_nbformat": 4,
  "vscode": {
   "interpreter": {
    "hash": "84befb75f6434ed07161776a93f42f4b01f4707a78128c95c875211f834fcd42"
   }
  }
 },
 "nbformat": 4,
 "nbformat_minor": 2
}
