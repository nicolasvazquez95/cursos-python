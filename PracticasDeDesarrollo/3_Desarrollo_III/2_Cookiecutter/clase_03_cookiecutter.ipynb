{
 "cells": [
  {
   "cell_type": "markdown",
   "id": "041419f0",
   "metadata": {},
   "source": [
    "<a href=\"https://colab.research.google.com/github/institutohumai/cursos-python/blob/master/PracticasDeDesarrollo/3_Desarrollo_III/2_Cookiecutter/clase_03_cookiecutter.ipynb\" target=\"_parent\"><img src=\"https://colab.research.google.com/assets/colab-badge.svg\" alt=\"Open In Colab\" data-canonical-src=\"https://colab.research.google.com/assets/colab-badge.svg\"></a>"
   ]
  },
  {
   "cell_type": "markdown",
   "id": "69797150-6822-4b98-b24b-c56c0a0dda1c",
   "metadata": {},
   "source": [
    "## 2. Cookiecutter: la máquina de hacer proyectos"
   ]
  },
  {
   "cell_type": "markdown",
   "id": "79879403-17e0-4351-9020-ecd60c48c471",
   "metadata": {},
   "source": [
    "### 2.1. Intro a Cookiecutter"
   ]
  },
  {
   "cell_type": "markdown",
   "id": "4ec5f319-f6ac-477b-bb84-9b83d5dee78b",
   "metadata": {},
   "source": [
    "Hasta ahora estuvimos viendo cómo organizar el código de una forma prolija, cómo estructurar ejecutables, cómo configurar entornos robustos y escalables, y un montón de cosas más que van a hacer que tu código pueda correr en cualquier lado y que cualquiera pueda entenderlo.\n",
    "\n",
    "Pero nos falta una parte muy importante: ¿cómo organizo el proyecto?\n",
    "\n",
    "Seguramente te pasó que tenés el código en un lado, los datos en una fractal de carpetas perdidas, los modelos guardados en el root... \n",
    "\n",
    "Gracias a [Cookiecutter](https://cookiecutter.readthedocs.io/en/stable/), ¡eso ya no es más un problema! Esta librería de Python permite crear y automatizar templates de proyectos, partiendo de imágenes que pueden estar en el file system, un archivo zip, o inclusive algún servidor que use git.\n",
    "\n",
    "Lo que hace es tomar ese template, y consultarle a quien lo ejecuta algunos parámetros muy elementales de entrada, como el nombre de la persona, el nombre del proyecto y demás. Estos elementos son totalmente configurables, de forma tal de armarse una plantilla tal cual como sea necesaria.\n",
    "\n",
    "Con esos dos elementos, Cookiecutter genera una estructura de carpetas lista para ser utilizada, en la que le podés agregar toda una serie de cosas, como módulos de código, imágenes de docker, etc: todo lo que vos consideres que valga la pena meterse en una plantilla de uso frecuente.\n",
    "\n",
    "Veamos cómo funciona. Como siempre, instalamos con el clásico pip."
   ]
  },
  {
   "cell_type": "code",
   "execution_count": 2,
   "id": "544e36d9-fc34-4032-98d4-6012c19aa430",
   "metadata": {
    "tags": []
   },
   "outputs": [],
   "source": [
    "# !pip install cookiecutter"
   ]
  },
  {
   "cell_type": "markdown",
   "id": "bc93f574-860f-468f-9177-5f9f47fae618",
   "metadata": {},
   "source": [
    "### 2.2. Uso de templates"
   ]
  },
  {
   "cell_type": "markdown",
   "id": "2836f0a1-50e6-4d75-9fdd-ff5e1b53c0ef",
   "metadata": {},
   "source": [
    "Una vez que tenemos esto listo, desde la consola ejecutamos cookiecutter el-nombre-del-template.\n",
    "\n",
    "Vamos a usar un template que creamos para la ocasión, disponible en [este repo](https://github.com/deployr-ai/workstation), cuya forma vemos aquí abajo."
   ]
  },
  {
   "cell_type": "markdown",
   "id": "c8840e80-554b-46c1-b868-07265cd87606",
   "metadata": {},
   "source": [
    "![image](./images/cookiecutter-0.jpeg)\n",
    "\n",
    "Primero ejecutemos el comando que toma el template, y luego vamos a ver de qué se trata cada componente.\n",
    "\n",
    "![image](./images/cookiecutter-1.jpeg)"
   ]
  },
  {
   "cell_type": "markdown",
   "id": "d7259c43-14ba-49c3-9e5a-4685302c4926",
   "metadata": {},
   "source": [
    "- Lo primero que nos va a pedir es nuestro usuario de Github, hasta acá nada raro.\n",
    "- **project_name** refiere, como su nombre indica, al nombre del proyecto. Tenemos que indicarle... el nombre del proyecto.\n",
    "- **repo_name**, por otro lado, es una carpeta que crea Cookiecutter donde va a estar alojado nuestro proyecto flamantemente creado. Si no ponemos nada, construye un default como el que se ve entre corchetes, pero para simplificarlo (e ilustrar el punto) lo cambiamos a *cookiecutter_humai*.\n",
    "- **author_name** y **description** son exactamente lo que dice.\n",
    "\n",
    "Lo importante acá es que estos parámetros son totalmente configurables, y forman parte de lo que va a ser la estructura general del proyecto. De hecho, podemos ver que esos parámetros son los que están explicitados en el json que está en el root del repo:\n",
    "\n",
    "![image](./images/cookiecutter-2.jpeg)"
   ]
  },
  {
   "cell_type": "markdown",
   "id": "e4b1ad4c-3736-489b-b35d-0571e054cf13",
   "metadata": {},
   "source": [
    "OK, pero ¿qué está haciendo todo esto? Ni más ni menos que construir la estructura de carpetas con su correspondiente metadata, teniendo en cuenta lo que le acabamos de decir. Ahora tenemos nuestra carpeta del repo...\n",
    "\n",
    "![image](./images/cookiecutter-3.jpeg)\n",
    "\n",
    "... con su estructura de carpetas...\n",
    "\n",
    "![image](./images/cookiecutter-4.jpeg)\n",
    "\n",
    "... que toma los parámetros que le pusimos al inicio. Podemos ver el resultado en lugares como la licencia:\n",
    "\n",
    "![image](./images/cookiecutter-5.jpeg)\n",
    "\n",
    "O también en el readme del proyecto.\n",
    "\n",
    "![image](./images/cookiecutter-6.jpeg)\n"
   ]
  },
  {
   "cell_type": "markdown",
   "id": "97ab3a92-1001-437e-9eb4-4d9fa726a574",
   "metadata": {},
   "source": [
    "El concepto clave acá es **reutilizar una estructura** que sabemos que nos funciona. Dicha organización es la que está contenida dentro de esa carpeta con corchetes y algunas llamadas extrañas que se evidencia en el repo, cuyo contenido podemos ver a continuación:\n",
    "\n",
    "![image](./images/cookiecutter-7.jpeg)\n",
    "![image](./images/cookiecutter-8.jpeg)"
   ]
  },
  {
   "cell_type": "markdown",
   "id": "5be8a487-05cb-427a-9bf1-94a6bbf1cb33",
   "metadata": {},
   "source": [
    "Esta estructura busca respetar el flujo natural de trabajo en ciencia de datos. En el readme podemos ver bien explicada cuál es la idea:\n",
    "\n",
    "![image](./images/cookiecutter-9.jpeg)"
   ]
  }
 ],
 "metadata": {
  "kernelspec": {
   "display_name": "Python 3 (ipykernel)",
   "language": "python",
   "name": "python3"
  },
  "language_info": {
   "codemirror_mode": {
    "name": "ipython",
    "version": 3
   },
   "file_extension": ".py",
   "mimetype": "text/x-python",
   "name": "python",
   "nbconvert_exporter": "python",
   "pygments_lexer": "ipython3",
   "version": "3.10.4"
  }
 },
 "nbformat": 4,
 "nbformat_minor": 5
}
