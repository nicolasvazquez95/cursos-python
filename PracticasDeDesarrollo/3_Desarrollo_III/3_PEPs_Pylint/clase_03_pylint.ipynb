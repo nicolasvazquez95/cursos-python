{
 "cells": [
  {
   "cell_type": "markdown",
   "id": "08325291",
   "metadata": {},
   "source": [
    "<a href=\"https://colab.research.google.com/github/institutohumai/cursos-python/blob/master/PracticasDeDesarrollo/3_Desarrollo_III/3_PEPs_Pylint/clase_03_pylint.ipynb\" target=\"_parent\"><img src=\"https://colab.research.google.com/assets/colab-badge.svg\" alt=\"Open In Colab\" data-canonical-src=\"https://colab.research.google.com/assets/colab-badge.svg\"></a>"
   ]
  },
  {
   "cell_type": "markdown",
   "id": "ad66e389-c084-479a-8796-cf26118a9eb1",
   "metadata": {
    "tags": []
   },
   "source": [
    "## 3. PEPs & PyLint: El Clipper de Python"
   ]
  },
  {
   "cell_type": "markdown",
   "id": "9374e76e-21fe-4f3e-86a4-51d4d2449317",
   "metadata": {},
   "source": [
    "### 3.1. Introducción\n",
    "Pero para eso, antes tenemos que tener un set de reglas para saber a qué estándares tenemos que atenernos. Estas son las [Python Enhancement Propositions](https://peps.python.org/), comúnmente conocidas como PEP: una serie de directrices a seguir, consensuadas y consideradas por las mentes más expertas en el tema como **las formas más apropiadas de estrucutrar nuestro código**.\n",
    "\n",
    "Entre las múltiples PEPs que hay existe una, la [PEP8](https://peps.python.org/pep-0008/), que es un **manual de estilo** al que nos adherimos para seguir un código lo más legible y estandarizado posible, en el contexto de un software de código abierto.\n",
    "\n",
    "Entre las cosas que plantea, se encuentran:\n",
    "\n",
    "- Usar una indentación de cuatro espacios en el código.\n",
    "- Usar variables separadas por guión bajo.\n",
    "- Comenzar los métodos privados de una función con doble guión bajo.\n",
    "- Usar un ancho de 80 caracteres\n",
    "- Siempre usar espacios en lugar de tabs\n",
    "\n",
    "... y la lista continúa.\n",
    "\n",
    "Pero al fin y al cabo, somos programadores, ¿no es cierto? ¿Existirá tal vez alguna librería que nos ayude con la tarea de ordenar y limpiar el código, a modo de autocorrector? La respuesta es obvia :)\n",
    "\n",
    "### 3.2. Pylint\n",
    "\n",
    "Capaz seas muy joven para recordar a Clipper, el asistente de Microsoft Word: un clip de metal animado que te sugería cambios en los textos, principalmente en temas de ortografía, semántica y demás.\n",
    "\n",
    "En Python, para adherirnos a estas prácticas que a veces resultan un poco complejas de seguir (¡lo cual es muy entendible, más aún cuando estás recién empezando!), existe [PyLint](https://pylint.pycqa.org/en/latest/): **una librería de Python que nos ayuda a dejar el código prolijo, profesional y por sobre todas las cosas, legible para todo el mundo** (incluído vos en el futuro. Cuando quieras retomar algo que hiciste hace meses y puedas entenderlo, te vas a auto agradecer un montón.\n",
    "\n",
    "Veamos un poco cómo funciona, no sin antes instalar el paquete con el clásico pip."
   ]
  },
  {
   "cell_type": "code",
   "execution_count": 194,
   "id": "aa24ffe6-e328-4e76-9921-d7c1e757ac65",
   "metadata": {
    "tags": []
   },
   "outputs": [],
   "source": [
    "# !pip install pylint"
   ]
  },
  {
   "cell_type": "markdown",
   "id": "daee6444-7071-4d00-a86f-ef82aa2e42ef",
   "metadata": {},
   "source": [
    "**Pylint** es un analizador de código estático, es decir, lo hace **sin ejecutarlo**. Revisa que no haya errores de acuerdo a los estándares de programación, te hace sugerencias de refactoreo, y es tan configurable que te permite incorporarle tus propios chequeos (y hay todo un mundo de plugins para frameworks populares). Además lo podés incorporar a IDEs como VSCode.\n",
    "\n",
    "### 3.3. ¿Cómo usarlo?\n",
    "\n",
    "Veamos un ejemplo: vamos a hacer un randomizer de tiradas de dados de distintos colores, usando un diccionario del cual elegiremos al azar una llave y un valor, devolviéndonos así un string con la acción necesaria."
   ]
  },
  {
   "cell_type": "code",
   "execution_count": 171,
   "id": "50b900a5-5bb0-4a39-a493-ed3516efcdc4",
   "metadata": {},
   "outputs": [
    {
     "name": "stdout",
     "output_type": "stream",
     "text": [
      "Overwriting pylint_ejemplo_01.py\n"
     ]
    }
   ],
   "source": [
    "%%writefile pylint_ejemplo_01.py\n",
    "def dados_locos():\n",
    "    import random\n",
    "    import csv\n",
    "    d = {'blanco':1, 'rojo':2, 'verde':3, 'amarillo':4}\n",
    "    dado = random.choice(list(d.keys()))\n",
    "    veces = random.choice(list(d.values()))\n",
    "    if veces==1:\n",
    "         frase = f'Tira el dado {dado} un total de {veces} vez'\n",
    "    else:\n",
    "        frase = f'Tira el dado {dado} un total de {veces} veces'\n",
    "    print(frase)\n",
    "\n",
    "if __name__ == \"__main__\":\n",
    "    dados_locos()"
   ]
  },
  {
   "cell_type": "code",
   "execution_count": 172,
   "id": "d8b0505b-2d4d-430f-8c32-2acd789e4fa2",
   "metadata": {},
   "outputs": [
    {
     "name": "stdout",
     "output_type": "stream",
     "text": [
      "Tira el dado blanco un total de 2 veces\n"
     ]
    }
   ],
   "source": [
    "!python3 pylint_ejemplo_01.py"
   ]
  },
  {
   "cell_type": "markdown",
   "id": "a747ac86-f6cf-4401-963c-15cb9422ec73",
   "metadata": {},
   "source": [
    "Hasta acá vemos que el código funciona, pero...¿es prolijo? Veamos qué opina Pylint, invocando el comando `pylint` seguido del nombre del archivo."
   ]
  },
  {
   "cell_type": "code",
   "execution_count": 173,
   "id": "cb5e2db2-2a47-4c1f-9e36-d029625d9cf9",
   "metadata": {},
   "outputs": [
    {
     "name": "stdout",
     "output_type": "stream",
     "text": [
      "************* Module pylint_ejemplo_01\n",
      "pylint_ejemplo_01.py:8:0: W0311: Bad indentation. Found 9 spaces, expected 8 (bad-indentation)\n",
      "pylint_ejemplo_01.py:1:0: C0114: Missing module docstring (missing-module-docstring)\n",
      "pylint_ejemplo_01.py:1:0: C0116: Missing function or method docstring (missing-function-docstring)\n",
      "pylint_ejemplo_01.py:2:4: C0415: Import outside toplevel (random) (import-outside-toplevel)\n",
      "pylint_ejemplo_01.py:3:4: C0415: Import outside toplevel (csv) (import-outside-toplevel)\n",
      "pylint_ejemplo_01.py:4:4: C0103: Variable name \"d\" doesn't conform to snake_case naming style (invalid-name)\n",
      "pylint_ejemplo_01.py:3:4: W0611: Unused import csv (unused-import)\n",
      "\n",
      "------------------------------------------------------------------\n",
      "Your code has been rated at 4.17/10 (previous run: 4.00/10, +0.17)\n",
      "\n",
      "\u001b[0m"
     ]
    }
   ],
   "source": [
    "!pylint pylint_ejemplo_01.py"
   ]
  },
  {
   "cell_type": "markdown",
   "id": "972357a6-361b-485b-a632-55caf97e9e54",
   "metadata": {},
   "source": [
    "Vemos que Pylint evalúa nuestro código (durísima la nota) y nos devuelve **una serie de sugerencias para retocar todo** y que quede mucho mejor.\n",
    "\n",
    "- Hay un error de indentación.\n",
    "- Falta la documentación del módulo entero, un docstring que explique qué tiene ese módulo .py que acabamos de crear.\n",
    "- Falta la documentación de la función dados_locos.\n",
    "- Hay un import que está dentro de la función, y no en el nivel superior.\n",
    "- Hay un import innecesario.\n",
    "- El nombre de una variable no está de acuerdo a los estándares de nombres.\n",
    "\n",
    "¡Manos a la obra!"
   ]
  },
  {
   "cell_type": "code",
   "execution_count": 191,
   "id": "b2056236-844d-48a3-94e0-833db755e796",
   "metadata": {},
   "outputs": [
    {
     "name": "stdout",
     "output_type": "stream",
     "text": [
      "Overwriting pylint_ejemplo_02.py\n"
     ]
    }
   ],
   "source": [
    "%%writefile pylint_ejemplo_02.py\n",
    "'''\n",
    "Módulo que contiene la función dados_locos.\n",
    "'''\n",
    "import random\n",
    "def dados_locos():\n",
    "    '''\n",
    "    Devuelve un string con el tipo de dado y cantidad de veces que debe ser arrojado.\n",
    "    '''\n",
    "    tirada_dados = {'blanco':1, 'rojo':2, 'verde':3, 'amarillo':4}\n",
    "    dado = random.choice(list(tirada_dados.keys()))\n",
    "    veces = random.choice(list(tirada_dados.values()))\n",
    "    if veces==1:\n",
    "        frase = f'Tira el dado {dado} un total de {veces} vez'\n",
    "    else:\n",
    "        frase = f'Tira el dado {dado} un total de {veces} veces'\n",
    "    print(frase)\n",
    "\n",
    "if __name__ == \"__main__\":\n",
    "    dados_locos()"
   ]
  },
  {
   "cell_type": "code",
   "execution_count": 192,
   "id": "d682c2c4-e2d4-42d6-892f-8d7f88742860",
   "metadata": {},
   "outputs": [
    {
     "name": "stdout",
     "output_type": "stream",
     "text": [
      "Tira el dado verde un total de 2 veces\n"
     ]
    }
   ],
   "source": [
    "!python3 pylint_ejemplo_02.py"
   ]
  },
  {
   "cell_type": "code",
   "execution_count": 193,
   "id": "1a9e0ab2-9055-4146-a8b5-5dd7e6885e3b",
   "metadata": {},
   "outputs": [
    {
     "name": "stdout",
     "output_type": "stream",
     "text": [
      "\n",
      "--------------------------------------------------------------------\n",
      "Your code has been rated at 10.00/10 (previous run: 10.00/10, +0.00)\n",
      "\n",
      "\u001b[0m"
     ]
    }
   ],
   "source": [
    "!pylint pylint_ejemplo_02.py"
   ]
  },
  {
   "cell_type": "markdown",
   "id": "7d4b4da0-e677-4e83-832c-a64f1b720b1e",
   "metadata": {},
   "source": [
    "¡Impecable! Ahora sí el código está conforme a las buenas prácticas. La lista de elementos que Pylint detecta es imposible de resumir en una notebook, pero es realmente muy completa y está en constante actualización.\n",
    "\n",
    "Incorporar esta librería a tu práctica cotidiana es un pequeño detalle que hace la diferencia y te facilita la tarea (tanto a vos como a quienes quieran leer tu código)."
   ]
  }
 ],
 "metadata": {
  "kernelspec": {
   "display_name": "Python 3 (ipykernel)",
   "language": "python",
   "name": "python3"
  },
  "language_info": {
   "codemirror_mode": {
    "name": "ipython",
    "version": 3
   },
   "file_extension": ".py",
   "mimetype": "text/x-python",
   "name": "python",
   "nbconvert_exporter": "python",
   "pygments_lexer": "ipython3",
   "version": "3.10.4"
  }
 },
 "nbformat": 4,
 "nbformat_minor": 5
}
