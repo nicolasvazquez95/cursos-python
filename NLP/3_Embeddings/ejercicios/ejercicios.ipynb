{
  "nbformat": 4,
  "nbformat_minor": 0,
  "metadata": {
    "kernelspec": {
      "display_name": "Python 3",
      "language": "python",
      "name": "python3"
    },
    "language_info": {
      "codemirror_mode": {
        "name": "ipython",
        "version": 3
      },
      "file_extension": ".py",
      "mimetype": "text/x-python",
      "name": "python",
      "nbconvert_exporter": "python",
      "pygments_lexer": "ipython3",
      "version": "3.8.5"
    },
    "colab": {
      "name": "ejercicios.ipynb",
      "provenance": [],
      "collapsed_sections": [
        "8gc419sbFyhp",
        "wALYs4TxFyhs",
        "H_pZbD8KIEbE",
        "N-LPUGIHIQdz",
        "eJygipMmRkWc",
        "rP1P0JZdggBA",
        "K5-x66lDghoP",
        "uRiYnNxpglif",
        "Ul_5J7R_Fyh-",
        "HSzBc_zfFvaQ",
        "xUae6yInGj9K",
        "F9u69MfxFvbv",
        "Sw7PyzY3Gcup"
      ]
    },
    "accelerator": "GPU"
  },
  "cells": [
    {
      "cell_type": "markdown",
      "source": [
        "<a href=\"https://colab.research.google.com/github/institutohumai/cursos-python/blob/master/NLP/3_Embeddings/ejercicios/ejercicios.ipynb\"> <img src='https://colab.research.google.com/assets/colab-badge.svg' /> </a>"
      ],
      "metadata": {
        "id": "KxYVuQiI_uxO"
      }
    },
    {
      "cell_type": "markdown",
      "source": [
        "# Ejercicios clase 3"
      ],
      "metadata": {
        "id": "JGUGih8T60cr"
      }
    },
    {
      "cell_type": "markdown",
      "source": [
        "En este notebook vamos a utilizar embeddings GloVe preentrenados para mejorar la performance de nuestro modelo de análisis de sentimiento de la clase 2. "
      ],
      "metadata": {
        "id": "2vfB64SAOwJA"
      }
    },
    {
      "cell_type": "markdown",
      "source": [
        "Comenzaremos por descargar los embeddings. Los autores del paper de GloVe han lanzado cuatro archivos de texto con vectores de palabras entrenados en diferentes conjuntos de datos web masivos. Están disponibles para descargar [aquí](https://nlp.stanford.edu/projects/glove/).\n",
        "\n",
        "Usaremos “Wikipedia 2014 + Gigaword 5” que es el archivo más pequeño (“glove.6B.zip”) con 822 MB. Fue entrenado en un corpus de 6 mil millones de tokens y contiene un vocabulario de 400 mil tokens.\n",
        "\n",
        "La siguiente celda descarga y descomprime el archivo."
      ],
      "metadata": {
        "id": "VIRwMd5rPoOm"
      }
    },
    {
      "cell_type": "code",
      "source": [
        "!wget https://nlp.stanford.edu/data/glove.6B.zip\n",
        "!unzip glove.6B.zip"
      ],
      "metadata": {
        "id": "VrvOJHfQG8pD"
      },
      "execution_count": null,
      "outputs": []
    },
    {
      "cell_type": "markdown",
      "source": [
        "Después de descomprimir el archivo descargado, encontramos cuatro archivos txt: glove.6B.50d.txt, glove.6B.100d.txt, glove.6B.200d.txt, glove.6B.300d.txt. Como sugiere su nombre de archivo, tienen vectores con diferentes dimensiones.\n",
        "\n",
        "Si imprimimos las primeras lineas podemos notar que cada linea contiene un embedding en donde el primer elemento es un tensor y los siguientes son las componentes del vector."
      ],
      "metadata": {
        "id": "4RbjM1OXQaLq"
      }
    },
    {
      "cell_type": "code",
      "source": [
        "with open( \"glove.6B.100d.txt\", 'r') as f:\n",
        "  n_lin = 0\n",
        "  for line in f:\n",
        "    print(line)\n",
        "    n_lin += 1\n",
        "    if n_lin>3: break"
      ],
      "metadata": {
        "id": "eIX0QLCyQ6rv"
      },
      "execution_count": null,
      "outputs": []
    },
    {
      "cell_type": "markdown",
      "source": [
        "# Ejercicio 1 "
      ],
      "metadata": {
        "id": "jYJqUwCcRTW9"
      }
    },
    {
      "cell_type": "markdown",
      "source": [
        "Cargue los primeros 400.000 embeddings del archivo de 100 dimensiones en memoria tal como lo hicimos en la clase 3, parte 3.\n",
        "\n",
        "Nota: tener en cuenta que este archivo no tiene una primera linea de encabezados como el archivo de la clase.*texto en cursiva*"
      ],
      "metadata": {
        "id": "VSKRGcklRZF7"
      }
    },
    {
      "cell_type": "code",
      "source": [
        "# inserte su código aquí"
      ],
      "metadata": {
        "id": "rKJRCWAEIZOW"
      },
      "execution_count": 66,
      "outputs": []
    },
    {
      "cell_type": "markdown",
      "source": [
        "# Ejercicio 2\n",
        "\n",
        "Modificar el modelo `model2`, definido en los ejercicios de la clase 2 para análisis de sentimientos, para que la capa de embedding se inicialice con los embeddings GloVe preentrenados que descargamos.\n",
        "\n",
        "Nota: Recuerde que la matriz de embeddings depende del vocabulario a usar en el problema. Por lo tanto, deberá realizar todo el preprocesamiento de los datos, para obtener el vocabulario, antes de modificar el modelo. "
      ],
      "metadata": {
        "id": "qlrAmc7uSZSf"
      }
    },
    {
      "cell_type": "code",
      "source": [
        "# inserte su código a partir de aquí"
      ],
      "metadata": {
        "id": "ek-bMGgnToY1"
      },
      "execution_count": 67,
      "outputs": []
    },
    {
      "cell_type": "markdown",
      "source": [
        "# Ejercicio 3 \n",
        "Entrene este nuevo modelo y compare los resultados obtenidos.\n",
        "\n",
        "Nota: Reutilice todo el código de los ejercicios de la clase 2"
      ],
      "metadata": {
        "id": "oNumMc36Vnlc"
      }
    },
    {
      "cell_type": "code",
      "source": [
        "# inserte su código a partir de aquí"
      ],
      "metadata": {
        "id": "maynQ5U3VmxX"
      },
      "execution_count": 71,
      "outputs": []
    }
  ]
}