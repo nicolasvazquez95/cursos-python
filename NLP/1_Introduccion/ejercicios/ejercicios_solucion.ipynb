{
  "nbformat": 4,
  "nbformat_minor": 0,
  "metadata": {
    "colab": {
      "name": "ejercicios_solucion.ipynb",
      "provenance": [],
      "collapsed_sections": []
    },
    "kernelspec": {
      "name": "python3",
      "display_name": "Python 3"
    },
    "language_info": {
      "name": "python"
    }
  },
  "cells": [
    {
      "cell_type": "markdown",
      "source": [
        "<a href=\"https://colab.research.google.com/github/institutohumai/cursos-python/blob/master/NLP/1_Introduccion/ejercicios/ejercicios_solucion.ipynb\"> <img src='https://colab.research.google.com/assets/colab-badge.svg' /> </a>"
      ],
      "metadata": {
        "id": "j_Ya92_6AzRt"
      }
    },
    {
      "cell_type": "markdown",
      "source": [
        "## LSA\n",
        "\n",
        "El **\"Análisis Semántico Latente\"** es una técnica para cuantificar el contenido y significado de documentos que fue extensamente utilizada desde su origen en la década de 1980. \n",
        "\n",
        "El procedimiento es el siguiente:\n",
        "- Computar dado un corpus de textos una matriz de co-ocurrencias.  \n",
        "- Aplicar una reducción de dimensionalidad sobre esa matriz.\n",
        "- Esto nos otorga ***embeddings***, o vectores de palabras, y de documentos, que resumen su significado. Con los mismos podemos operar en el \"espacio latente\"."
      ],
      "metadata": {
        "id": "CbtNiZRi5sbm"
      }
    },
    {
      "cell_type": "markdown",
      "source": [
        "**Descargar corpus de textos**"
      ],
      "metadata": {
        "id": "gRxw44CyYLaT"
      }
    },
    {
      "cell_type": "code",
      "source": [
        "#@title Preparamos Dataset de Medios de LatAm\n",
        "%%capture\n",
        "!pip install datasets\n",
        "import pandas as pd\n",
        "from datasets import load_dataset\n",
        "\n",
        "data = pd.DataFrame()\n",
        "configs = ['ar', 'bo', 'br', 'cl', 'co', 'cr', 'gt', 'hn', 'mx', 'ni', 'pa', 'pe', 'pr', 'py', 'sv', 'uy', 've'] # 'com', 'es'\n",
        "for c in configs:\n",
        "  data_ = load_dataset(\"LeoCordoba/CC-NEWS-ES\", c)\n",
        "  data = data.append(data_['train'].to_pandas())\n",
        "\n",
        "data = data.drop('id', axis=1).reset_index(drop=True)\n",
        "# Hacemos \"downsampling\" tomando maximo n_min para \n",
        "# los grupos que tienen > n_min, y todos para los que tienen menos\n",
        "n_min = 1000\n",
        "df_grouped = data.groupby(\"country\")\n",
        "df_grouped.groups.values()\n",
        "frames_of_groups = [x.sample(n_min) if x.shape[0] > n_min else x for y, x in df_grouped] \n",
        "data = pd.concat(frames_of_groups)"
      ],
      "metadata": {
        "cellView": "form",
        "id": "aulvif1k5qkW",
        "colab": {
          "base_uri": "https://localhost:8080/",
          "height": 322
        },
        "outputId": "e9943852-a217-4c0d-ce42-04d3ff099613"
      },
      "execution_count": 1,
      "outputs": [
        {
          "output_type": "stream",
          "name": "stderr",
          "text": [
            "WARNING:datasets.builder:Reusing dataset cc-news-es (/root/.cache/huggingface/datasets/LeoCordoba___cc-news-es/ar/0.0.0/d2ddafaf56d946c37fa934954b8f939c4ce1307252ba88ac47e7443ded85bbc7)\n",
            "WARNING:datasets.builder:Reusing dataset cc-news-es (/root/.cache/huggingface/datasets/LeoCordoba___cc-news-es/bo/0.0.0/d2ddafaf56d946c37fa934954b8f939c4ce1307252ba88ac47e7443ded85bbc7)\n",
            "WARNING:datasets.builder:Reusing dataset cc-news-es (/root/.cache/huggingface/datasets/LeoCordoba___cc-news-es/br/0.0.0/d2ddafaf56d946c37fa934954b8f939c4ce1307252ba88ac47e7443ded85bbc7)\n",
            "WARNING:datasets.builder:Reusing dataset cc-news-es (/root/.cache/huggingface/datasets/LeoCordoba___cc-news-es/cl/0.0.0/d2ddafaf56d946c37fa934954b8f939c4ce1307252ba88ac47e7443ded85bbc7)\n",
            "WARNING:datasets.builder:Reusing dataset cc-news-es (/root/.cache/huggingface/datasets/LeoCordoba___cc-news-es/co/0.0.0/d2ddafaf56d946c37fa934954b8f939c4ce1307252ba88ac47e7443ded85bbc7)\n",
            "WARNING:datasets.builder:Reusing dataset cc-news-es (/root/.cache/huggingface/datasets/LeoCordoba___cc-news-es/cr/0.0.0/d2ddafaf56d946c37fa934954b8f939c4ce1307252ba88ac47e7443ded85bbc7)\n",
            "WARNING:datasets.builder:Reusing dataset cc-news-es (/root/.cache/huggingface/datasets/LeoCordoba___cc-news-es/gt/0.0.0/d2ddafaf56d946c37fa934954b8f939c4ce1307252ba88ac47e7443ded85bbc7)\n",
            "WARNING:datasets.builder:Reusing dataset cc-news-es (/root/.cache/huggingface/datasets/LeoCordoba___cc-news-es/hn/0.0.0/d2ddafaf56d946c37fa934954b8f939c4ce1307252ba88ac47e7443ded85bbc7)\n",
            "WARNING:datasets.builder:Reusing dataset cc-news-es (/root/.cache/huggingface/datasets/LeoCordoba___cc-news-es/mx/0.0.0/d2ddafaf56d946c37fa934954b8f939c4ce1307252ba88ac47e7443ded85bbc7)\n",
            "WARNING:datasets.builder:Reusing dataset cc-news-es (/root/.cache/huggingface/datasets/LeoCordoba___cc-news-es/ni/0.0.0/d2ddafaf56d946c37fa934954b8f939c4ce1307252ba88ac47e7443ded85bbc7)\n",
            "WARNING:datasets.builder:Reusing dataset cc-news-es (/root/.cache/huggingface/datasets/LeoCordoba___cc-news-es/pa/0.0.0/d2ddafaf56d946c37fa934954b8f939c4ce1307252ba88ac47e7443ded85bbc7)\n",
            "WARNING:datasets.builder:Reusing dataset cc-news-es (/root/.cache/huggingface/datasets/LeoCordoba___cc-news-es/pe/0.0.0/d2ddafaf56d946c37fa934954b8f939c4ce1307252ba88ac47e7443ded85bbc7)\n",
            "WARNING:datasets.builder:Reusing dataset cc-news-es (/root/.cache/huggingface/datasets/LeoCordoba___cc-news-es/pr/0.0.0/d2ddafaf56d946c37fa934954b8f939c4ce1307252ba88ac47e7443ded85bbc7)\n",
            "WARNING:datasets.builder:Reusing dataset cc-news-es (/root/.cache/huggingface/datasets/LeoCordoba___cc-news-es/py/0.0.0/d2ddafaf56d946c37fa934954b8f939c4ce1307252ba88ac47e7443ded85bbc7)\n",
            "WARNING:datasets.builder:Reusing dataset cc-news-es (/root/.cache/huggingface/datasets/LeoCordoba___cc-news-es/sv/0.0.0/d2ddafaf56d946c37fa934954b8f939c4ce1307252ba88ac47e7443ded85bbc7)\n",
            "WARNING:datasets.builder:Reusing dataset cc-news-es (/root/.cache/huggingface/datasets/LeoCordoba___cc-news-es/uy/0.0.0/d2ddafaf56d946c37fa934954b8f939c4ce1307252ba88ac47e7443ded85bbc7)\n",
            "WARNING:datasets.builder:Reusing dataset cc-news-es (/root/.cache/huggingface/datasets/LeoCordoba___cc-news-es/ve/0.0.0/d2ddafaf56d946c37fa934954b8f939c4ce1307252ba88ac47e7443ded85bbc7)\n"
          ]
        }
      ]
    },
    {
      "cell_type": "code",
      "source": [
        "# Ejecutar la celda de arriba para preparar los datos\n",
        "print(data.shape[0])\n",
        "data.sample(2)"
      ],
      "metadata": {
        "colab": {
          "base_uri": "https://localhost:8080/",
          "height": 127
        },
        "id": "-Jvv5qO15vvu",
        "outputId": "4f2d182f-b259-4601-e231-ffad696f6910"
      },
      "execution_count": 2,
      "outputs": [
        {
          "output_type": "stream",
          "name": "stdout",
          "text": [
            "15561\n"
          ]
        },
        {
          "output_type": "execute_result",
          "data": {
            "text/plain": [
              "        country                                               text\n",
              "776381       gt  \"Con honestidad, responsabilidad y valentía te...\n",
              "1861842      uy  La política del gobierno respecto de la dictad..."
            ],
            "text/html": [
              "\n",
              "  <div id=\"df-4f144885-0f45-48cb-8caf-45e261a33987\">\n",
              "    <div class=\"colab-df-container\">\n",
              "      <div>\n",
              "<style scoped>\n",
              "    .dataframe tbody tr th:only-of-type {\n",
              "        vertical-align: middle;\n",
              "    }\n",
              "\n",
              "    .dataframe tbody tr th {\n",
              "        vertical-align: top;\n",
              "    }\n",
              "\n",
              "    .dataframe thead th {\n",
              "        text-align: right;\n",
              "    }\n",
              "</style>\n",
              "<table border=\"1\" class=\"dataframe\">\n",
              "  <thead>\n",
              "    <tr style=\"text-align: right;\">\n",
              "      <th></th>\n",
              "      <th>country</th>\n",
              "      <th>text</th>\n",
              "    </tr>\n",
              "  </thead>\n",
              "  <tbody>\n",
              "    <tr>\n",
              "      <th>776381</th>\n",
              "      <td>gt</td>\n",
              "      <td>\"Con honestidad, responsabilidad y valentía te...</td>\n",
              "    </tr>\n",
              "    <tr>\n",
              "      <th>1861842</th>\n",
              "      <td>uy</td>\n",
              "      <td>La política del gobierno respecto de la dictad...</td>\n",
              "    </tr>\n",
              "  </tbody>\n",
              "</table>\n",
              "</div>\n",
              "      <button class=\"colab-df-convert\" onclick=\"convertToInteractive('df-4f144885-0f45-48cb-8caf-45e261a33987')\"\n",
              "              title=\"Convert this dataframe to an interactive table.\"\n",
              "              style=\"display:none;\">\n",
              "        \n",
              "  <svg xmlns=\"http://www.w3.org/2000/svg\" height=\"24px\"viewBox=\"0 0 24 24\"\n",
              "       width=\"24px\">\n",
              "    <path d=\"M0 0h24v24H0V0z\" fill=\"none\"/>\n",
              "    <path d=\"M18.56 5.44l.94 2.06.94-2.06 2.06-.94-2.06-.94-.94-2.06-.94 2.06-2.06.94zm-11 1L8.5 8.5l.94-2.06 2.06-.94-2.06-.94L8.5 2.5l-.94 2.06-2.06.94zm10 10l.94 2.06.94-2.06 2.06-.94-2.06-.94-.94-2.06-.94 2.06-2.06.94z\"/><path d=\"M17.41 7.96l-1.37-1.37c-.4-.4-.92-.59-1.43-.59-.52 0-1.04.2-1.43.59L10.3 9.45l-7.72 7.72c-.78.78-.78 2.05 0 2.83L4 21.41c.39.39.9.59 1.41.59.51 0 1.02-.2 1.41-.59l7.78-7.78 2.81-2.81c.8-.78.8-2.07 0-2.86zM5.41 20L4 18.59l7.72-7.72 1.47 1.35L5.41 20z\"/>\n",
              "  </svg>\n",
              "      </button>\n",
              "      \n",
              "  <style>\n",
              "    .colab-df-container {\n",
              "      display:flex;\n",
              "      flex-wrap:wrap;\n",
              "      gap: 12px;\n",
              "    }\n",
              "\n",
              "    .colab-df-convert {\n",
              "      background-color: #E8F0FE;\n",
              "      border: none;\n",
              "      border-radius: 50%;\n",
              "      cursor: pointer;\n",
              "      display: none;\n",
              "      fill: #1967D2;\n",
              "      height: 32px;\n",
              "      padding: 0 0 0 0;\n",
              "      width: 32px;\n",
              "    }\n",
              "\n",
              "    .colab-df-convert:hover {\n",
              "      background-color: #E2EBFA;\n",
              "      box-shadow: 0px 1px 2px rgba(60, 64, 67, 0.3), 0px 1px 3px 1px rgba(60, 64, 67, 0.15);\n",
              "      fill: #174EA6;\n",
              "    }\n",
              "\n",
              "    [theme=dark] .colab-df-convert {\n",
              "      background-color: #3B4455;\n",
              "      fill: #D2E3FC;\n",
              "    }\n",
              "\n",
              "    [theme=dark] .colab-df-convert:hover {\n",
              "      background-color: #434B5C;\n",
              "      box-shadow: 0px 1px 3px 1px rgba(0, 0, 0, 0.15);\n",
              "      filter: drop-shadow(0px 1px 2px rgba(0, 0, 0, 0.3));\n",
              "      fill: #FFFFFF;\n",
              "    }\n",
              "  </style>\n",
              "\n",
              "      <script>\n",
              "        const buttonEl =\n",
              "          document.querySelector('#df-4f144885-0f45-48cb-8caf-45e261a33987 button.colab-df-convert');\n",
              "        buttonEl.style.display =\n",
              "          google.colab.kernel.accessAllowed ? 'block' : 'none';\n",
              "\n",
              "        async function convertToInteractive(key) {\n",
              "          const element = document.querySelector('#df-4f144885-0f45-48cb-8caf-45e261a33987');\n",
              "          const dataTable =\n",
              "            await google.colab.kernel.invokeFunction('convertToInteractive',\n",
              "                                                     [key], {});\n",
              "          if (!dataTable) return;\n",
              "\n",
              "          const docLinkHtml = 'Like what you see? Visit the ' +\n",
              "            '<a target=\"_blank\" href=https://colab.research.google.com/notebooks/data_table.ipynb>data table notebook</a>'\n",
              "            + ' to learn more about interactive tables.';\n",
              "          element.innerHTML = '';\n",
              "          dataTable['output_type'] = 'display_data';\n",
              "          await google.colab.output.renderOutput(dataTable, element);\n",
              "          const docLink = document.createElement('div');\n",
              "          docLink.innerHTML = docLinkHtml;\n",
              "          element.appendChild(docLink);\n",
              "        }\n",
              "      </script>\n",
              "    </div>\n",
              "  </div>\n",
              "  "
            ]
          },
          "metadata": {},
          "execution_count": 2
        }
      ]
    },
    {
      "cell_type": "code",
      "source": [
        "data.country.value_counts()"
      ],
      "metadata": {
        "colab": {
          "base_uri": "https://localhost:8080/"
        },
        "id": "X9BDPvPNv6kU",
        "outputId": "b0fb9dda-6606-4fed-f7d8-a9886ddc0199"
      },
      "execution_count": 3,
      "outputs": [
        {
          "output_type": "execute_result",
          "data": {
            "text/plain": [
              "ar    1000\n",
              "bo    1000\n",
              "uy    1000\n",
              "py    1000\n",
              "pr    1000\n",
              "pe    1000\n",
              "pa    1000\n",
              "ni    1000\n",
              "mx    1000\n",
              "hn    1000\n",
              "gt    1000\n",
              "cr    1000\n",
              "co    1000\n",
              "cl    1000\n",
              "ve    1000\n",
              "sv     454\n",
              "br     107\n",
              "Name: country, dtype: int64"
            ]
          },
          "metadata": {},
          "execution_count": 3
        }
      ]
    },
    {
      "cell_type": "markdown",
      "source": [
        "**Buscar los N términos más frecuentes**\n",
        "\n",
        "(pueden hacerlo con lo que prefieran: Python base, con NLTK, con collections.Counter...)"
      ],
      "metadata": {
        "id": "9mMfUEW2Y0nU"
      }
    },
    {
      "cell_type": "markdown",
      "source": [
        "**Repetir quitando stop words***"
      ],
      "metadata": {
        "id": "Jl8ZhteZyZRf"
      }
    },
    {
      "cell_type": "code",
      "source": [
        "!pip install stop_words\n",
        "import stop_words\n",
        "# Usamos stop words del español\n",
        "stop_words = stop_words.get_stop_words('es')"
      ],
      "metadata": {
        "colab": {
          "base_uri": "https://localhost:8080/"
        },
        "id": "uKskQwD3ygE2",
        "outputId": "45bca0d1-f29a-471f-8799-40b4007fa6d2"
      },
      "execution_count": 4,
      "outputs": [
        {
          "output_type": "stream",
          "name": "stdout",
          "text": [
            "Looking in indexes: https://pypi.org/simple, https://us-python.pkg.dev/colab-wheels/public/simple/\n",
            "Requirement already satisfied: stop_words in /usr/local/lib/python3.7/dist-packages (2018.7.23)\n"
          ]
        }
      ]
    },
    {
      "cell_type": "code",
      "source": [
        "import itertools\n",
        "import re\n",
        "from collections import Counter\n",
        "\n",
        "n = 20\n",
        "# Extraemos todas las palabras con regex\n",
        "words = data.text.str.lower().str.findall(\"[A-zA-ú]+\").tolist()\n",
        "# Unimos listas de palabras\n",
        "words = list(itertools.chain(*words))\n",
        "# Descartamos números\n",
        "words = [w for w in words if not re.match('(\\d+)', w) and w not in stop_words]\n",
        "word_counts = Counter(words)"
      ],
      "metadata": {
        "id": "K9Sc8VebY0sr"
      },
      "execution_count": 5,
      "outputs": []
    },
    {
      "cell_type": "code",
      "source": [
        "word_counts.most_common()[:n]"
      ],
      "metadata": {
        "colab": {
          "base_uri": "https://localhost:8080/"
        },
        "id": "OgQgrr8TyDzR",
        "outputId": "612ceda9-e0b9-439d-e76d-04339289a179"
      },
      "execution_count": 6,
      "outputs": [
        {
          "output_type": "execute_result",
          "data": {
            "text/plain": [
              "[('años', 7970),\n",
              " ('si', 6557),\n",
              " ('país', 6107),\n",
              " ('ser', 6102),\n",
              " ('nacional', 5657),\n",
              " ('dos', 5567),\n",
              " ('parte', 5283),\n",
              " ('año', 5018),\n",
              " ('dijo', 4947),\n",
              " ('gobierno', 4877),\n",
              " ('personas', 4855),\n",
              " ('presidente', 4655),\n",
              " ('según', 4212),\n",
              " ('así', 3974),\n",
              " ('además', 3785),\n",
              " ('millones', 3753),\n",
              " ('vida', 3554),\n",
              " ('hace', 3397),\n",
              " ('después', 3354),\n",
              " ('puede', 3322)]"
            ]
          },
          "metadata": {},
          "execution_count": 6
        }
      ]
    },
    {
      "cell_type": "markdown",
      "source": [
        "**Aplicar TF-IDF**:\n",
        "\n",
        "- Usar la clase de sklearn\n",
        "- Utilizar hasta 2 ngramas\n",
        "- Utilizar los parámetros de TF-IDF para descartar tokens que aparezcan \"poco\" (definirlo con esos parámetros)"
      ],
      "metadata": {
        "id": "2WxTDKOqYNVR"
      }
    },
    {
      "cell_type": "markdown",
      "source": [
        "**Aplicar clustering sobre los documentos, usando la matriz de TF-IDF.** \n",
        "\n",
        "Pueden usar cualquier algorítmo de clustering (KMeans, HDBscan...)"
      ],
      "metadata": {
        "id": "d2pGNYBkYeFr"
      }
    },
    {
      "cell_type": "code",
      "source": [
        ""
      ],
      "metadata": {
        "id": "Xgu0nlrPYeKV"
      },
      "execution_count": 6,
      "outputs": []
    },
    {
      "cell_type": "markdown",
      "source": [
        "**Visualizar los clusters, en 2D o en 3D**\n",
        "\n",
        "Con matplotlib, seaborn o plotly"
      ],
      "metadata": {
        "id": "wBDn8RjXYkWZ"
      }
    },
    {
      "cell_type": "code",
      "execution_count": 7,
      "metadata": {
        "id": "UOHRz2uUsJ7Y",
        "outputId": "c4ecb610-ff41-4880-aebe-9390e132251d",
        "colab": {
          "base_uri": "https://localhost:8080/"
        }
      },
      "outputs": [
        {
          "output_type": "stream",
          "name": "stdout",
          "text": [
            "n_samples: 15561, n_features: 10000\n"
          ]
        }
      ],
      "source": [
        "# Vectorizamos el texto con TfidfVectorizer\n",
        "from sklearn.feature_extraction.text import TfidfVectorizer\n",
        "from sklearn.decomposition import TruncatedSVD\n",
        "from sklearn.preprocessing import Normalizer\n",
        "from sklearn.pipeline import make_pipeline\n",
        "import matplotlib.pyplot as plt\n",
        "\n",
        "vectorizer = TfidfVectorizer(max_df=0.5, max_features=10000,\n",
        "                             min_df=2, stop_words=stop_words)\n",
        "\n",
        "X = vectorizer.fit_transform(data.text)\n",
        "\n",
        "print(\"n_samples: %d, n_features: %d\" % X.shape)"
      ]
    },
    {
      "cell_type": "code",
      "execution_count": 8,
      "metadata": {
        "id": "qHZuV-oGsJ7Y"
      },
      "outputs": [],
      "source": [
        "# Armamos el pipeline porque el TruncatedSVD no devuelve los datos normalizados\n",
        "# (va a ser importante normalizar para la etapa posterior)\n",
        "svd = TruncatedSVD(100,random_state = 1) \n",
        "normalizer = Normalizer(copy=False)\n",
        "lsa = make_pipeline(svd, normalizer)\n",
        "X = lsa.fit_transform(X)"
      ]
    },
    {
      "cell_type": "code",
      "execution_count": 9,
      "metadata": {
        "id": "t5kkp_BYsJ7a",
        "outputId": "70c73219-f288-438a-b86f-2759de88103f",
        "colab": {
          "base_uri": "https://localhost:8080/"
        }
      },
      "outputs": [
        {
          "output_type": "execute_result",
          "data": {
            "text/plain": [
              "KMeans(max_iter=100, n_clusters=10, random_state=1)"
            ]
          },
          "metadata": {},
          "execution_count": 9
        }
      ],
      "source": [
        "# Clusterizamos con KMeans\n",
        "from sklearn.cluster import KMeans\n",
        "k = 10\n",
        "km = KMeans(n_clusters=k, max_iter=100, n_init=10, random_state = 1)\n",
        "km.fit(X)"
      ]
    },
    {
      "cell_type": "code",
      "execution_count": 10,
      "metadata": {
        "id": "6O86XRexsJ7a",
        "outputId": "25645d66-36fc-4a0c-c7f2-d758ee263eff",
        "colab": {
          "base_uri": "https://localhost:8080/"
        }
      },
      "outputs": [
        {
          "output_type": "stream",
          "name": "stdout",
          "text": [
            "Ranking de términos por tópico:\n",
            "Tópico  0: equipo partido final copa dos fútbol club gol liga goles\n",
            "Tópico  1: policía san dos años zona según lugar personas ciudad autoridades\n",
            "Tópico  2: si vida ser siempre bien día años gente cosas puede\n",
            "Tópico  3: venezuela maduro guaidó gobierno presidente nicolás país venezolanos venezolano pueblo\n",
            "Tópico  4: salud personas desarrollo nacional trabajo proyecto educación parte empresa además\n",
            "Tópico  5: partido electoral presidente gobierno elecciones nacional ley política si país\n",
            "Tópico  6: caso fiscalía justicia fiscal tribunal investigación juez años delitos prisión\n",
            "Tópico  7: música años película the historia mundo parte cine mejor gran\n",
            "Tópico  8: millones dólares 000 año us mil ciento mercado según años\n",
            "Tópico  9: gobierno país unidos trump presidente panamá derechos méxico dijo 2019\n"
          ]
        }
      ],
      "source": [
        "# Los centroides están mapeados en el espacio de dimensiones reducidas\n",
        "# Hacemos la transformación inversa para ver el peso de los features originales (10000 dim)\n",
        "original_space_centroids = svd.inverse_transform(km.cluster_centers_)\n",
        "\n",
        "# La función argsort nos da los índices ordenados\n",
        "order_centroids = original_space_centroids.argsort()[:, ::-1]\n",
        "\n",
        "# Imprimimos los términos más \"pesados\" (frecuentes) para cada categoría\n",
        "# Con los índices ordenados, llamamos a la descripción de las palabras que construyó el Vectorizer()\n",
        "terms = vectorizer.get_feature_names_out()\n",
        "\n",
        "print(\"Ranking de términos por tópico:\")\n",
        "\n",
        "for i in range(k):\n",
        "    print(\"Tópico  %d:\" % i, end='')\n",
        "    for ind in order_centroids[i, :10]:\n",
        "        print(' %s' % terms[ind], end='')\n",
        "    print()\n",
        "\n",
        "# Nos quedamos con los 10 índices ordenados más importantes en cada tópico\n",
        "# Los tópicos parecen tener sentido: Tópico 0(religion), Tópico 1(gráficos) y Tópico 2(espacio)"
      ]
    },
    {
      "cell_type": "code",
      "source": [
        "# Visualizamos los clusters en el espacio reducido\n",
        "plt.figure()\n",
        "plt.scatter(X[:, 0], X[:, 1], c=km.labels_)\n",
        "plt.xlabel('Dimensión 1')\n",
        "plt.ylabel('Dimensión 2')\n",
        "plt.show()"
      ],
      "metadata": {
        "colab": {
          "base_uri": "https://localhost:8080/",
          "height": 279
        },
        "id": "WMqvRqvlzc8q",
        "outputId": "293efa04-c445-41f2-ba88-5533f0e7032c"
      },
      "execution_count": 11,
      "outputs": [
        {
          "output_type": "display_data",
          "data": {
            "text/plain": [
              "<Figure size 432x288 with 1 Axes>"
            ],
            "image/png": "[encoded data removed]"
          },
          "metadata": {
            "needs_background": "light"
          }
        }
      ]
    },
    {
      "cell_type": "markdown",
      "source": [
        "## Extra:\n",
        "\n",
        "Ver Social Listening en Twitter en [este Colab](https://github.com/institutohumai/talleres/blob/master/Twitter_Social_Listening_ejemplo.ipynb), que tiene un proceso muy completo de NLP, incluyendo visualización de clusters en 3D y word clouds :) \n"
      ],
      "metadata": {
        "id": "Oj1fRQs13D5u"
      }
    }
  ]
}