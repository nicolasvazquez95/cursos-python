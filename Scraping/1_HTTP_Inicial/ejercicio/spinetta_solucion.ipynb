{
 "cells": [
  {
   "cell_type": "markdown",
   "metadata": {},
   "source": [
    "## Descargar letras de canciones\n",
    "\n",
    "Utilizando beautiful soup descargar todas las canciones de [Spinetta](https://es.wikipedia.org/wiki/Luis_Alberto_Spinetta) que hay en [letras.com](https://www.letras.com/spinetta/)"
   ]
  },
  {
   "cell_type": "code",
   "execution_count": null,
   "metadata": {},
   "outputs": [],
   "source": [
    "from bs4 import BeautifulSoup\n",
    "import requests\n",
    "import os\n",
    "\n",
    "letras_url = \"https://www.letras.com\"\n",
    "\n",
    "def descargar_cancion(url_path, destination_path):\n",
    "    url = f\"{letras_url}{url_path}\"\n",
    "    page = requests.get(url)\n",
    "    soup = BeautifulSoup(page.content, 'html.parser')\n",
    "\n",
    "    letra = \"\"\n",
    "\n",
    "    for div in soup.findAll(\"div\", {\"class\": \"cnt-letra p402_premium\"}):\n",
    "        for p in div.findAll(\"p\"):\n",
    "            text = str(p)\n",
    "            for space in [\"</br>\",\"<br>\",\"<br/>\",\"<p>\",\"</p>\"]:\n",
    "                text = text.replace(space,\"\\n\")\n",
    "            letra += text\n",
    "\n",
    "    with open(destination_path,'w') as f:\n",
    "        f.write(letra)\n",
    "\n",
    "def descargar_letras(artista):\n",
    "\n",
    "    url = f\"{letras_url}/{artista}/mais_tocadas.html\"\n",
    "    page = requests.get(url)\n",
    "\n",
    "    if not os.path.exists(artista):\n",
    "      os.mkdir(artista)\n",
    "\n",
    "    soup = BeautifulSoup(page.content, 'html.parser')\n",
    "\n",
    "    i = 0\n",
    "    for a in soup.findAll(\"a\", {\"class\": \"song-name\"}):\n",
    "        descargar_cancion(a[\"href\"], f\"{artista}/{i:03d}.txt\")\n",
    "        i += 1\n",
    "        \n",
    "artista = \"luis-alberto-spinetta\"\n",
    "descargar_letras(artista)"
   ]
  }
 ],
 "metadata": {
  "instance_type": "ml.t3.medium",
  "kernelspec": {
   "display_name": "Python 3",
   "language": "python",
   "name": "python3"
  },
  "language_info": {
   "codemirror_mode": {
    "name": "ipython",
    "version": 3
   },
   "file_extension": ".py",
   "mimetype": "text/x-python",
   "name": "python",
   "nbconvert_exporter": "python",
   "pygments_lexer": "ipython3",
   "version": "3.8.5"
  }
 },
 "nbformat": 4,
 "nbformat_minor": 4
}
